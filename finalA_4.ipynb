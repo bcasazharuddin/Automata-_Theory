{
  "nbformat": 4,
  "nbformat_minor": 0,
  "metadata": {
    "kernelspec": {
      "display_name": "Python 3",
      "language": "python",
      "name": "python3"
    },
    "language_info": {
      "codemirror_mode": {
        "name": "ipython",
        "version": 3
      },
      "file_extension": ".py",
      "mimetype": "text/x-python",
      "name": "python",
      "nbconvert_exporter": "python",
      "pygments_lexer": "ipython3",
      "version": "3.7.3"
    },
    "toc": {
      "colors": {
        "hover_highlight": "#DAA520",
        "running_highlight": "#FF0000",
        "selected_highlight": "#FFD700"
      },
      "moveMenuLeft": true,
      "nav_menu": {
        "height": "121px",
        "width": "252px"
      },
      "navigate_menu": true,
      "number_sections": true,
      "sideBar": true,
      "threshold": 4,
      "toc_cell": false,
      "toc_section_display": "block",
      "toc_window_display": false,
      "widenNotebook": false
    },
    "colab": {
      "name": "finalA_4.ipynb",
      "provenance": [],
      "collapsed_sections": [],
      "include_colab_link": true
    }
  },
  "cells": [
    {
      "cell_type": "markdown",
      "metadata": {
        "id": "view-in-github",
        "colab_type": "text"
      },
      "source": [
        "<a href=\"https://colab.research.google.com/github/bcasazharuddin/Automata-_Theory/blob/main/finalA_4.ipynb\" target=\"_parent\"><img src=\"https://colab.research.google.com/assets/colab-badge.svg\" alt=\"Open In Colab\"/></a>"
      ]
    },
    {
      "cell_type": "markdown",
      "metadata": {
        "id": "eb5FdhVYC1im"
      },
      "source": [
        "# ******Final Assignment 4****** "
      ]
    },
    {
      "cell_type": "code",
      "metadata": {
        "run_control": {
          "frozen": false,
          "read_only": false
        },
        "scrolled": true,
        "id": "xE3yOcjdveDa",
        "colab": {
          "base_uri": "https://localhost:8080/"
        },
        "outputId": "d8aca94d-6367-4931-ebe0-8eef45ecff56"
      },
      "source": [
        "#~~~~~~~~~~~~~~~~~~~~~~~~~~~~~~~~~~~~~~~~~~~~~~~~~~~~~~~\n",
        "import sys\n",
        "\n",
        "# -- Detect if in Own Install or in Colab\n",
        "try:\n",
        "    import google.colab\n",
        "    OWN_INSTALL = False\n",
        "except:\n",
        "    OWN_INSTALL = True\n",
        "    \n",
        "if OWN_INSTALL:\n",
        "    \n",
        "  #---- Leave these definitions ON if running on laptop\n",
        "  #---- Else turn OFF by putting them between ''' ... '''\n",
        "\n",
        "  sys.path[0:0] = ['../../../../..',  '../../../../../3rdparty',  \n",
        "                   '../../../..',  '../../../../3rdparty',  \n",
        "                   '../../..',     '../../../3rdparty', \n",
        "                   '../..',        '../../3rdparty',\n",
        "                   '..',           '../3rdparty' ]\n",
        "\n",
        "else: # In colab\n",
        "  ! if [ ! -d Jove ]; then git clone https://github.com/ganeshutah/Jove Jove; fi\n",
        "  sys.path.append('./Jove')\n",
        "  sys.path.append('./Jove/jove')\n",
        "\n",
        "# -- common imports --\n",
        "from jove.DotBashers import *\n",
        "from jove.Def_md2mc  import *\n",
        "from jove.AnimatePDA import *\n",
        "from jove.Def_PDA    import *\n",
        "#~~~~~~~~~~~~~~~~~~~~~~~~~~~~~~~~~~~~~~~~~~~~~~~~~~~~~~~"
      ],
      "execution_count": 1,
      "outputs": [
        {
          "output_type": "stream",
          "name": "stdout",
          "text": [
            "Cloning into 'Jove'...\n",
            "remote: Enumerating objects: 5112, done.\u001b[K\n",
            "remote: Counting objects: 100% (478/478), done.\u001b[K\n",
            "remote: Compressing objects: 100% (339/339), done.\u001b[K\n",
            "remote: Total 5112 (delta 272), reused 317 (delta 124), pack-reused 4634\u001b[K\n",
            "Receiving objects: 100% (5112/5112), 7.64 MiB | 20.54 MiB/s, done.\n",
            "Resolving deltas: 100% (3277/3277), done.\n",
            "You may use any of these help commands:\n",
            "help(ResetStNum)\n",
            "help(NxtStateStr)\n",
            "\n",
            "You may use any of these help commands:\n",
            "help(md2mc)\n",
            ".. and if you want to dig more, then ..\n",
            "help(default_line_attr)\n",
            "help(length_ok_input_items)\n",
            "help(union_line_attr_list_fld)\n",
            "help(extend_rsltdict)\n",
            "help(form_delta)\n",
            "help(get_machine_components)\n",
            "\n",
            " \"help(AnimatePDA)\" gives you info on how to use animations with PDA \n"
          ]
        }
      ]
    },
    {
      "cell_type": "markdown",
      "metadata": {
        "id": "9YcHQpRfveDe"
      },
      "source": [
        "\n",
        "## * Write the CFG below in the Jove comments\n",
        "## * Then write the PDA code based on the CFG\n",
        "## * Then test and run the PDA!"
      ]
    },
    {
      "cell_type": "code",
      "metadata": {
        "id": "TjyzKyhHveDg",
        "colab": {
          "base_uri": "https://localhost:8080/",
          "height": 399
        },
        "outputId": "8b07afff-53a6-44d5-8d87-535852ac3072"
      },
      "source": [
        "# Lif = { a^i b^j c^k : if i=2 then j=k}\n",
        "\n",
        "Lif = md2mc('''\n",
        "PDA\n",
        "\n",
        "IF : a,# ; # -> q1\n",
        "IF : b,# ; # -> q4\n",
        "q1 : a,# ; # -> q2\n",
        "q1 : b,# ; # -> q4\n",
        "q1: c,# ; # -> q5\n",
        "q2 : a,# ; # -> q3\n",
        "q2 : '',# ; # -> F\n",
        "q2 : b,# ; b# -> q6\n",
        "q3 : a,# ; # -> q3\n",
        "q3 : b,# ; # -> q4\n",
        "q4 : b,# ; # -> q4\n",
        "q4 : c,# ; # -> q5\n",
        "q4 : '',# ; # -> F\n",
        "q5 : c,#; # -> q5\n",
        "q5 : '',#; # -> F\n",
        "q6 : b,b; bb -> q6\n",
        "q6 : c,b; '' -> q7\n",
        "q7 : c,b; ''->q7\n",
        "q7 : '',#; #-> F\n",
        "''')\n",
        "Dpda = dotObj_pda(Lif, FuseEdges=True)\n",
        "Dpda"
      ],
      "execution_count": 97,
      "outputs": [
        {
          "output_type": "execute_result",
          "data": {
            "text/plain": [
              "<graphviz.dot.Digraph at 0x7f530c6593d0>"
            ],
            "image/svg+xml": "<?xml version=\"1.0\" encoding=\"UTF-8\" standalone=\"no\"?>\n<!DOCTYPE svg PUBLIC \"-//W3C//DTD SVG 1.1//EN\"\n \"http://www.w3.org/Graphics/SVG/1.1/DTD/svg11.dtd\">\n<!-- Generated by graphviz version 2.40.1 (20161225.0304)\n -->\n<!-- Title: %3 Pages: 1 -->\n<svg width=\"865pt\" height=\"284pt\"\n viewBox=\"0.00 0.00 864.68 284.00\" xmlns=\"http://www.w3.org/2000/svg\" xmlns:xlink=\"http://www.w3.org/1999/xlink\">\n<g id=\"graph0\" class=\"graph\" transform=\"scale(1 1) rotate(0) translate(4 280)\">\n<title>%3</title>\n<polygon fill=\"#ffffff\" stroke=\"transparent\" points=\"-4,4 -4,-280 860.6782,-280 860.6782,4 -4,4\"/>\n<!-- EMPTY -->\n<g id=\"node1\" class=\"node\">\n<title>EMPTY</title>\n</g>\n<!-- IF -->\n<g id=\"node10\" class=\"node\">\n<title>IF</title>\n<ellipse fill=\"none\" stroke=\"#000000\" cx=\"113.8483\" cy=\"-237\" rx=\"18.724\" ry=\"18.724\"/>\n<ellipse fill=\"none\" stroke=\"#000000\" cx=\"113.8483\" cy=\"-237\" rx=\"22.6977\" ry=\"22.6977\"/>\n<text text-anchor=\"middle\" x=\"113.8483\" y=\"-233.3\" font-family=\"Times,serif\" font-size=\"14.00\" fill=\"#000000\">IF</text>\n</g>\n<!-- EMPTY&#45;&gt;IF -->\n<g id=\"edge1\" class=\"edge\">\n<title>EMPTY&#45;&gt;IF</title>\n<path fill=\"none\" stroke=\"#000000\" d=\"M54.0033,-237C62.5212,-237 72.0276,-237 80.9112,-237\"/>\n<polygon fill=\"#000000\" stroke=\"#000000\" points=\"80.9572,-240.5001 90.9572,-237 80.9572,-233.5001 80.9572,-240.5001\"/>\n</g>\n<!-- q3 -->\n<g id=\"node2\" class=\"node\">\n<title>q3</title>\n<ellipse fill=\"none\" stroke=\"#000000\" cx=\"478.0911\" cy=\"-87\" rx=\"20.5982\" ry=\"20.5982\"/>\n<text text-anchor=\"middle\" x=\"478.0911\" y=\"-83.3\" font-family=\"Times,serif\" font-size=\"14.00\" fill=\"#000000\">q3</text>\n</g>\n<!-- q3&#45;&gt;q3 -->\n<g id=\"edge10\" class=\"edge\">\n<title>q3&#45;&gt;q3</title>\n<path fill=\"none\" stroke=\"#000000\" d=\"M467.8135,-105.3616C465.716,-115.9455 469.1419,-125.7982 478.0911,-125.7982 483.964,-125.7982 487.4583,-121.555 488.5738,-115.6465\"/>\n<polygon fill=\"#000000\" stroke=\"#000000\" points=\"492.0675,-115.2898 488.3687,-105.3616 485.0688,-115.4294 492.0675,-115.2898\"/>\n<text text-anchor=\"middle\" x=\"478.0911\" y=\"-129.5982\" font-family=\"Times,serif\" font-size=\"14.00\" fill=\"#000000\">a, # ; #</text>\n</g>\n<!-- q4 -->\n<g id=\"node4\" class=\"node\">\n<title>q4</title>\n<ellipse fill=\"none\" stroke=\"#000000\" cx=\"597.6874\" cy=\"-133\" rx=\"20.5982\" ry=\"20.5982\"/>\n<text text-anchor=\"middle\" x=\"597.6874\" y=\"-129.3\" font-family=\"Times,serif\" font-size=\"14.00\" fill=\"#000000\">q4</text>\n</g>\n<!-- q3&#45;&gt;q4 -->\n<g id=\"edge11\" class=\"edge\">\n<title>q3&#45;&gt;q4</title>\n<path fill=\"none\" stroke=\"#000000\" d=\"M496.868,-96.1753C503.1717,-99.1307 510.28,-102.3296 516.8893,-105 533.6006,-111.7521 552.6335,-118.3973 568.0275,-123.5184\"/>\n<polygon fill=\"#000000\" stroke=\"#000000\" points=\"566.9642,-126.8531 577.5571,-126.6494 569.1492,-120.2028 566.9642,-126.8531\"/>\n<text text-anchor=\"middle\" x=\"537.8893\" y=\"-124.8\" font-family=\"Times,serif\" font-size=\"14.00\" fill=\"#000000\">b, # ; #</text>\n</g>\n<!-- q5 -->\n<g id=\"node3\" class=\"node\">\n<title>q5</title>\n<ellipse fill=\"none\" stroke=\"#000000\" cx=\"716.88\" cy=\"-174\" rx=\"20.5982\" ry=\"20.5982\"/>\n<text text-anchor=\"middle\" x=\"716.88\" y=\"-170.3\" font-family=\"Times,serif\" font-size=\"14.00\" fill=\"#000000\">q5</text>\n</g>\n<!-- q5&#45;&gt;q5 -->\n<g id=\"edge15\" class=\"edge\">\n<title>q5&#45;&gt;q5</title>\n<path fill=\"none\" stroke=\"#000000\" d=\"M706.6024,-192.3616C704.505,-202.9455 707.9308,-212.7982 716.88,-212.7982 722.753,-212.7982 726.2472,-208.555 727.3627,-202.6465\"/>\n<polygon fill=\"#000000\" stroke=\"#000000\" points=\"730.8564,-202.2898 727.1577,-192.3616 723.8578,-202.4294 730.8564,-202.2898\"/>\n<text text-anchor=\"middle\" x=\"716.88\" y=\"-216.5982\" font-family=\"Times,serif\" font-size=\"14.00\" fill=\"#000000\">c, # ; #</text>\n</g>\n<!-- F -->\n<g id=\"node9\" class=\"node\">\n<title>F</title>\n<ellipse fill=\"none\" stroke=\"#000000\" cx=\"834.6782\" cy=\"-94\" rx=\"18\" ry=\"18\"/>\n<ellipse fill=\"none\" stroke=\"#000000\" cx=\"834.6782\" cy=\"-94\" rx=\"22\" ry=\"22\"/>\n<text text-anchor=\"middle\" x=\"834.6782\" y=\"-90.3\" font-family=\"Times,serif\" font-size=\"14.00\" fill=\"#000000\">F</text>\n</g>\n<!-- q5&#45;&gt;F -->\n<g id=\"edge16\" class=\"edge\">\n<title>q5&#45;&gt;F</title>\n<path fill=\"none\" stroke=\"#000000\" d=\"M736.3824,-166.0101C752.7262,-158.8497 776.2726,-147.4241 794.6782,-134 801.0061,-129.3847 807.2733,-123.7631 812.9035,-118.2101\"/>\n<polygon fill=\"#000000\" stroke=\"#000000\" points=\"815.6668,-120.3891 820.1322,-110.7812 810.6499,-115.5074 815.6668,-120.3891\"/>\n<text text-anchor=\"middle\" x=\"775.1782\" y=\"-160.8\" font-family=\"Times,serif\" font-size=\"14.00\" fill=\"#000000\">&#39;&#39;, # ; #</text>\n</g>\n<!-- q4&#45;&gt;q5 -->\n<g id=\"edge13\" class=\"edge\">\n<title>q4&#45;&gt;q5</title>\n<path fill=\"none\" stroke=\"#000000\" d=\"M617.3697,-139.7703C636.4348,-146.3284 665.5858,-156.3558 687.4165,-163.8651\"/>\n<polygon fill=\"#000000\" stroke=\"#000000\" points=\"686.5739,-167.2765 697.1686,-167.2196 688.8509,-160.6571 686.5739,-167.2765\"/>\n<text text-anchor=\"middle\" x=\"657.2837\" y=\"-163.8\" font-family=\"Times,serif\" font-size=\"14.00\" fill=\"#000000\">c, # ; #</text>\n</g>\n<!-- q4&#45;&gt;q4 -->\n<g id=\"edge12\" class=\"edge\">\n<title>q4&#45;&gt;q4</title>\n<path fill=\"none\" stroke=\"#000000\" d=\"M587.4098,-151.3616C585.3123,-161.9455 588.7382,-171.7982 597.6874,-171.7982 603.5604,-171.7982 607.0546,-167.555 608.1701,-161.6465\"/>\n<polygon fill=\"#000000\" stroke=\"#000000\" points=\"611.6638,-161.2898 607.965,-151.3616 604.6652,-161.4294 611.6638,-161.2898\"/>\n<text text-anchor=\"middle\" x=\"597.6874\" y=\"-175.5982\" font-family=\"Times,serif\" font-size=\"14.00\" fill=\"#000000\">b, # ; #</text>\n</g>\n<!-- q4&#45;&gt;F -->\n<g id=\"edge14\" class=\"edge\">\n<title>q4&#45;&gt;F</title>\n<path fill=\"none\" stroke=\"#000000\" d=\"M618.3042,-129.6072C659.746,-122.7874 753.3935,-107.3765 802.7927,-99.2472\"/>\n<polygon fill=\"#000000\" stroke=\"#000000\" points=\"803.615,-102.659 812.914,-97.5816 802.4783,-95.7519 803.615,-102.659\"/>\n<text text-anchor=\"middle\" x=\"716.88\" y=\"-120.8\" font-family=\"Times,serif\" font-size=\"14.00\" fill=\"#000000\">&#39;&#39;, # ; #</text>\n</g>\n<!-- q7 -->\n<g id=\"node5\" class=\"node\">\n<title>q7</title>\n<ellipse fill=\"none\" stroke=\"#000000\" cx=\"657.2837\" cy=\"-51\" rx=\"20.5982\" ry=\"20.5982\"/>\n<text text-anchor=\"middle\" x=\"657.2837\" y=\"-47.3\" font-family=\"Times,serif\" font-size=\"14.00\" fill=\"#000000\">q7</text>\n</g>\n<!-- q7&#45;&gt;q7 -->\n<g id=\"edge19\" class=\"edge\">\n<title>q7&#45;&gt;q7</title>\n<path fill=\"none\" stroke=\"#000000\" d=\"M647.0061,-69.3616C644.9086,-79.9455 648.3345,-89.7982 657.2837,-89.7982 663.1567,-89.7982 666.6509,-85.555 667.7664,-79.6465\"/>\n<polygon fill=\"#000000\" stroke=\"#000000\" points=\"671.2601,-79.2898 667.5614,-69.3616 664.2615,-79.4294 671.2601,-79.2898\"/>\n<text text-anchor=\"middle\" x=\"657.2837\" y=\"-93.5982\" font-family=\"Times,serif\" font-size=\"14.00\" fill=\"#000000\">c, b ; &#39;&#39;</text>\n</g>\n<!-- q7&#45;&gt;F -->\n<g id=\"edge20\" class=\"edge\">\n<title>q7&#45;&gt;F</title>\n<path fill=\"none\" stroke=\"#000000\" d=\"M677.6331,-55.9326C708.3634,-63.3816 766.8668,-77.5627 803.144,-86.3562\"/>\n<polygon fill=\"#000000\" stroke=\"#000000\" points=\"802.6461,-89.8368 813.1892,-88.7911 804.2952,-83.0338 802.6461,-89.8368\"/>\n<text text-anchor=\"middle\" x=\"716.88\" y=\"-73.8\" font-family=\"Times,serif\" font-size=\"14.00\" fill=\"#000000\">&#39;&#39;, # ; #</text>\n</g>\n<!-- q6 -->\n<g id=\"node6\" class=\"node\">\n<title>q6</title>\n<ellipse fill=\"none\" stroke=\"#000000\" cx=\"537.8893\" cy=\"-44\" rx=\"20.5982\" ry=\"20.5982\"/>\n<text text-anchor=\"middle\" x=\"537.8893\" y=\"-40.3\" font-family=\"Times,serif\" font-size=\"14.00\" fill=\"#000000\">q6</text>\n</g>\n<!-- q6&#45;&gt;q7 -->\n<g id=\"edge18\" class=\"edge\">\n<title>q6&#45;&gt;q7</title>\n<path fill=\"none\" stroke=\"#000000\" d=\"M558.6862,-45.2193C577.3187,-46.3117 604.9061,-47.9291 626.1651,-49.1755\"/>\n<polygon fill=\"#000000\" stroke=\"#000000\" points=\"626.1368,-52.6798 636.3245,-49.7712 626.5466,-45.6918 626.1368,-52.6798\"/>\n<text text-anchor=\"middle\" x=\"597.6874\" y=\"-52.8\" font-family=\"Times,serif\" font-size=\"14.00\" fill=\"#000000\">c, b ; &#39;&#39;</text>\n</g>\n<!-- q6&#45;&gt;q6 -->\n<g id=\"edge17\" class=\"edge\">\n<title>q6&#45;&gt;q6</title>\n<path fill=\"none\" stroke=\"#000000\" d=\"M527.6117,-62.3616C525.5142,-72.9455 528.9401,-82.7982 537.8893,-82.7982 543.7622,-82.7982 547.2564,-78.555 548.3719,-72.6465\"/>\n<polygon fill=\"#000000\" stroke=\"#000000\" points=\"551.8656,-72.2898 548.1669,-62.3616 544.867,-72.4294 551.8656,-72.2898\"/>\n<text text-anchor=\"middle\" x=\"537.8893\" y=\"-86.5982\" font-family=\"Times,serif\" font-size=\"14.00\" fill=\"#000000\">b, b ; bb</text>\n</g>\n<!-- q1 -->\n<g id=\"node7\" class=\"node\">\n<title>q1</title>\n<ellipse fill=\"none\" stroke=\"#000000\" cx=\"233.4948\" cy=\"-191\" rx=\"20.5982\" ry=\"20.5982\"/>\n<text text-anchor=\"middle\" x=\"233.4948\" y=\"-187.3\" font-family=\"Times,serif\" font-size=\"14.00\" fill=\"#000000\">q1</text>\n</g>\n<!-- q1&#45;&gt;q5 -->\n<g id=\"edge6\" class=\"edge\">\n<title>q1&#45;&gt;q5</title>\n<path fill=\"none\" stroke=\"#000000\" d=\"M253.2539,-197.5581C276.4553,-204.6641 316.2293,-215 351.293,-215 351.293,-215 351.293,-215 597.6874,-215 630.5763,-215 665.9298,-200.8687 689.5184,-189.1986\"/>\n<polygon fill=\"#000000\" stroke=\"#000000\" points=\"691.262,-192.2379 698.5611,-184.5585 688.0662,-186.0099 691.262,-192.2379\"/>\n<text text-anchor=\"middle\" x=\"478.0911\" y=\"-218.8\" font-family=\"Times,serif\" font-size=\"14.00\" fill=\"#000000\">c, # ; #</text>\n</g>\n<!-- q1&#45;&gt;q4 -->\n<g id=\"edge5\" class=\"edge\">\n<title>q1&#45;&gt;q4</title>\n<path fill=\"none\" stroke=\"#000000\" d=\"M254.1551,-187.8936C298.8292,-181.158 407.7452,-164.6351 498.8893,-150 525.5819,-145.7139 532.2529,-144.6224 558.8893,-140 561.5783,-139.5333 564.371,-139.0422 567.1698,-138.5456\"/>\n<polygon fill=\"#000000\" stroke=\"#000000\" points=\"567.9321,-141.9649 577.1584,-136.7567 566.6979,-135.0745 567.9321,-141.9649\"/>\n<text text-anchor=\"middle\" x=\"414.793\" y=\"-170.8\" font-family=\"Times,serif\" font-size=\"14.00\" fill=\"#000000\">b, # ; #</text>\n</g>\n<!-- q2 -->\n<g id=\"node8\" class=\"node\">\n<title>q2</title>\n<ellipse fill=\"none\" stroke=\"#000000\" cx=\"351.293\" cy=\"-60\" rx=\"20.5982\" ry=\"20.5982\"/>\n<text text-anchor=\"middle\" x=\"351.293\" y=\"-56.3\" font-family=\"Times,serif\" font-size=\"14.00\" fill=\"#000000\">q2</text>\n</g>\n<!-- q1&#45;&gt;q2 -->\n<g id=\"edge4\" class=\"edge\">\n<title>q1&#45;&gt;q2</title>\n<path fill=\"none\" stroke=\"#000000\" d=\"M245.5505,-174.036C252.9571,-163.9041 262.814,-150.9232 272.293,-140 290.2136,-119.3489 312.1756,-97.3451 328.3908,-81.6519\"/>\n<polygon fill=\"#000000\" stroke=\"#000000\" points=\"331.0604,-83.9408 335.8465,-74.4886 326.2106,-78.8931 331.0604,-83.9408\"/>\n<text text-anchor=\"middle\" x=\"292.293\" y=\"-143.8\" font-family=\"Times,serif\" font-size=\"14.00\" fill=\"#000000\">a, # ; #</text>\n</g>\n<!-- q2&#45;&gt;q3 -->\n<g id=\"edge7\" class=\"edge\">\n<title>q2&#45;&gt;q3</title>\n<path fill=\"none\" stroke=\"#000000\" d=\"M371.6653,-64.338C392.1551,-68.701 423.9975,-75.4815 447.5172,-80.4897\"/>\n<polygon fill=\"#000000\" stroke=\"#000000\" points=\"446.8384,-83.9235 457.3481,-82.5831 448.2964,-77.077 446.8384,-83.9235\"/>\n<text text-anchor=\"middle\" x=\"414.793\" y=\"-82.8\" font-family=\"Times,serif\" font-size=\"14.00\" fill=\"#000000\">a, # ; #</text>\n</g>\n<!-- q2&#45;&gt;q6 -->\n<g id=\"edge9\" class=\"edge\">\n<title>q2&#45;&gt;q6</title>\n<path fill=\"none\" stroke=\"#000000\" d=\"M371.3703,-53.9919C377.4008,-52.4214 384.0688,-50.9141 390.293,-50 430.0657,-44.159 476.4688,-43.2215 506.4711,-43.3724\"/>\n<polygon fill=\"#000000\" stroke=\"#000000\" points=\"506.707,-46.8747 516.7399,-43.4702 506.7737,-39.8751 506.707,-46.8747\"/>\n<text text-anchor=\"middle\" x=\"414.793\" y=\"-53.8\" font-family=\"Times,serif\" font-size=\"14.00\" fill=\"#000000\">b, # ; b#</text>\n</g>\n<!-- q2&#45;&gt;F -->\n<g id=\"edge8\" class=\"edge\">\n<title>q2&#45;&gt;F</title>\n<path fill=\"none\" stroke=\"#000000\" d=\"M367.3606,-46.6841C390.3732,-29.0076 434.7415,0 478.0911,0 478.0911,0 478.0911,0 716.88,0 760.0348,0 796.4801,-39.02 816.9479,-66.7798\"/>\n<polygon fill=\"#000000\" stroke=\"#000000\" points=\"814.1295,-68.8559 822.7767,-74.9777 819.8345,-64.7996 814.1295,-68.8559\"/>\n<text text-anchor=\"middle\" x=\"597.6874\" y=\"-3.8\" font-family=\"Times,serif\" font-size=\"14.00\" fill=\"#000000\">&#39;&#39;, # ; #</text>\n</g>\n<!-- IF&#45;&gt;q4 -->\n<g id=\"edge3\" class=\"edge\">\n<title>IF&#45;&gt;q4</title>\n<path fill=\"none\" stroke=\"#000000\" d=\"M135.6373,-244.071C159.4192,-251.1504 198.7502,-261 233.4948,-261 233.4948,-261 233.4948,-261 478.0911,-261 531.9729,-261 568.5563,-199.6944 585.9777,-161.9377\"/>\n<polygon fill=\"#000000\" stroke=\"#000000\" points=\"589.3348,-163.0009 590.1877,-152.4404 582.9354,-160.1641 589.3348,-163.0009\"/>\n<text text-anchor=\"middle\" x=\"351.293\" y=\"-264.8\" font-family=\"Times,serif\" font-size=\"14.00\" fill=\"#000000\">b, # ; #</text>\n</g>\n<!-- IF&#45;&gt;q1 -->\n<g id=\"edge2\" class=\"edge\">\n<title>IF&#45;&gt;q1</title>\n<path fill=\"none\" stroke=\"#000000\" d=\"M135.2387,-228.7761C154.5034,-221.3695 182.9893,-210.4176 204.3359,-202.2106\"/>\n<polygon fill=\"#000000\" stroke=\"#000000\" points=\"205.7979,-205.3984 213.8758,-198.5428 203.2858,-198.8646 205.7979,-205.3984\"/>\n<text text-anchor=\"middle\" x=\"174.6967\" y=\"-224.8\" font-family=\"Times,serif\" font-size=\"14.00\" fill=\"#000000\">a, # ; #</text>\n</g>\n</g>\n</svg>\n"
          },
          "metadata": {},
          "execution_count": 97
        }
      ]
    },
    {
      "cell_type": "markdown",
      "metadata": {
        "id": "MiigI5eyveDh"
      },
      "source": [
        "## Your PDA must correctly handle all these tests.\n",
        "\n",
        " aa bbb ccc   (accept)\n",
        " \n",
        " aa bbbb cccc (accept)\n",
        " \n",
        " aa         (accept)\n",
        " \n",
        " a bbb cccc (accept)\n",
        " \n",
        " aaa bb c   (accept)\n",
        " \n",
        " Epsilon    (accept, as there are zero a's)\n",
        "\n",
        " a bb cc    (accept, as there is no constraint to not match b's and c's if two a's)\n",
        "\n",
        " c b        (reject)\n",
        "\n",
        " aa bb cc a (reject)\n",
        "\n",
        " a bb a     (reject)\n",
        "\n",
        " ccac       (reject)\n",
        "\n",
        " \n",
        " baac       (reject)\n",
        "\n",
        " ac         (accept)\n",
        "\n"
      ]
    },
    {
      "cell_type": "markdown",
      "metadata": {
        "id": "MjmdhmEbveDi"
      },
      "source": [
        "## Here are the tests to run, with the outcomes shown above!"
      ]
    },
    {
      "cell_type": "code",
      "metadata": {
        "id": "_SNVj6eCveDj",
        "colab": {
          "base_uri": "https://localhost:8080/"
        },
        "outputId": "c9db806c-c072-4b84-88b2-089e57a81651"
      },
      "source": [
        "explore_pda('aabbbccc', Lif) # (accept)"
      ],
      "execution_count": 98,
      "outputs": [
        {
          "output_type": "stream",
          "name": "stdout",
          "text": [
            "String aabbbccc accepted by your PDA in 1 ways :-) \n",
            "Here are the ways: \n",
            "Final state  ('F', '', '#')\n",
            "Reached as follows:\n",
            "->  ('IF', 'aabbbccc', '#')\n",
            "->  ('q1', 'abbbccc', '#')\n",
            "->  ('q2', 'bbbccc', '#')\n",
            "->  ('q6', 'bbccc', 'b#')\n",
            "->  ('q6', 'bccc', 'bb#')\n",
            "->  ('q6', 'ccc', 'bbb#')\n",
            "->  ('q7', 'cc', 'bb#')\n",
            "->  ('q7', 'c', 'b#')\n",
            "->  ('q7', '', '#')\n",
            "->  ('F', '', '#') .\n"
          ]
        }
      ]
    },
    {
      "cell_type": "code",
      "metadata": {
        "id": "LwwbbYVGveDk",
        "colab": {
          "base_uri": "https://localhost:8080/"
        },
        "outputId": "04590e39-255a-4ec9-a801-16714a28e9b8"
      },
      "source": [
        "explore_pda('aabbbbcccc', Lif) # (accept)"
      ],
      "execution_count": 99,
      "outputs": [
        {
          "output_type": "stream",
          "name": "stdout",
          "text": [
            "String aabbbbcccc accepted by your PDA in 1 ways :-) \n",
            "Here are the ways: \n",
            "Final state  ('F', '', '#')\n",
            "Reached as follows:\n",
            "->  ('IF', 'aabbbbcccc', '#')\n",
            "->  ('q1', 'abbbbcccc', '#')\n",
            "->  ('q2', 'bbbbcccc', '#')\n",
            "->  ('q6', 'bbbcccc', 'b#')\n",
            "->  ('q6', 'bbcccc', 'bb#')\n",
            "->  ('q6', 'bcccc', 'bbb#')\n",
            "->  ('q6', 'cccc', 'bbbb#')\n",
            "->  ('q7', 'ccc', 'bbb#')\n",
            "->  ('q7', 'cc', 'bb#')\n",
            "->  ('q7', 'c', 'b#')\n",
            "->  ('q7', '', '#')\n",
            "->  ('F', '', '#') .\n"
          ]
        }
      ]
    },
    {
      "cell_type": "code",
      "metadata": {
        "id": "-sM0dpm6veDm",
        "colab": {
          "base_uri": "https://localhost:8080/"
        },
        "outputId": "13cffc88-de83-4e59-a606-316982b01912"
      },
      "source": [
        "explore_pda('aa', Lif) # (accept)"
      ],
      "execution_count": 100,
      "outputs": [
        {
          "output_type": "stream",
          "name": "stdout",
          "text": [
            "String aa accepted by your PDA in 1 ways :-) \n",
            "Here are the ways: \n",
            "Final state  ('F', '', '#')\n",
            "Reached as follows:\n",
            "->  ('IF', 'aa', '#')\n",
            "->  ('q1', 'a', '#')\n",
            "->  ('q2', '', '#')\n",
            "->  ('F', '', '#') .\n"
          ]
        }
      ]
    },
    {
      "cell_type": "code",
      "metadata": {
        "id": "14OOQ4dZveDn",
        "colab": {
          "base_uri": "https://localhost:8080/"
        },
        "outputId": "a853cc9a-0095-422d-966c-2e90bdcd8de7"
      },
      "source": [
        "explore_pda('abbbcccc', Lif) # (accept)"
      ],
      "execution_count": 101,
      "outputs": [
        {
          "output_type": "stream",
          "name": "stdout",
          "text": [
            "String abbbcccc accepted by your PDA in 1 ways :-) \n",
            "Here are the ways: \n",
            "Final state  ('F', '', '#')\n",
            "Reached as follows:\n",
            "->  ('IF', 'abbbcccc', '#')\n",
            "->  ('q1', 'bbbcccc', '#')\n",
            "->  ('q4', 'bbcccc', '#')\n",
            "->  ('q4', 'bcccc', '#')\n",
            "->  ('q4', 'cccc', '#')\n",
            "->  ('q5', 'ccc', '#')\n",
            "->  ('q5', 'cc', '#')\n",
            "->  ('q5', 'c', '#')\n",
            "->  ('q5', '', '#')\n",
            "->  ('F', '', '#') .\n"
          ]
        }
      ]
    },
    {
      "cell_type": "code",
      "metadata": {
        "id": "4kpJTzQrveDo",
        "colab": {
          "base_uri": "https://localhost:8080/"
        },
        "outputId": "eb248b7f-8ad0-46ee-8a6c-a2f651e100e9"
      },
      "source": [
        "explore_pda('aaabbc', Lif) # (accept)"
      ],
      "execution_count": 102,
      "outputs": [
        {
          "output_type": "stream",
          "name": "stdout",
          "text": [
            "String aaabbc accepted by your PDA in 1 ways :-) \n",
            "Here are the ways: \n",
            "Final state  ('F', '', '#')\n",
            "Reached as follows:\n",
            "->  ('IF', 'aaabbc', '#')\n",
            "->  ('q1', 'aabbc', '#')\n",
            "->  ('q2', 'abbc', '#')\n",
            "->  ('q3', 'bbc', '#')\n",
            "->  ('q4', 'bc', '#')\n",
            "->  ('q4', 'c', '#')\n",
            "->  ('q5', '', '#')\n",
            "->  ('F', '', '#') .\n"
          ]
        }
      ]
    },
    {
      "cell_type": "code",
      "metadata": {
        "id": "xtSS0u74veDo",
        "colab": {
          "base_uri": "https://localhost:8080/"
        },
        "outputId": "69b819f9-5d5b-4665-89e7-b18ed71074d5"
      },
      "source": [
        "explore_pda('aaabbc', Lif) # (accept)"
      ],
      "execution_count": 103,
      "outputs": [
        {
          "output_type": "stream",
          "name": "stdout",
          "text": [
            "String aaabbc accepted by your PDA in 1 ways :-) \n",
            "Here are the ways: \n",
            "Final state  ('F', '', '#')\n",
            "Reached as follows:\n",
            "->  ('IF', 'aaabbc', '#')\n",
            "->  ('q1', 'aabbc', '#')\n",
            "->  ('q2', 'abbc', '#')\n",
            "->  ('q3', 'bbc', '#')\n",
            "->  ('q4', 'bc', '#')\n",
            "->  ('q4', 'c', '#')\n",
            "->  ('q5', '', '#')\n",
            "->  ('F', '', '#') .\n"
          ]
        }
      ]
    },
    {
      "cell_type": "code",
      "metadata": {
        "id": "bTIocuZeveDp",
        "colab": {
          "base_uri": "https://localhost:8080/"
        },
        "outputId": "d027ff71-48d3-4f2a-84f4-af71c41b2d17"
      },
      "source": [
        "explore_pda('', Lif) # (accept)"
      ],
      "execution_count": 104,
      "outputs": [
        {
          "output_type": "stream",
          "name": "stdout",
          "text": [
            "String  accepted by your PDA in 1 ways :-) \n",
            "Here are the ways: \n",
            "Final state  ('IF', '', '#')\n",
            "Reached as follows:\n",
            "->  ('IF', '', '#') .\n"
          ]
        }
      ]
    },
    {
      "cell_type": "code",
      "metadata": {
        "id": "z2pUZlfKveDq",
        "colab": {
          "base_uri": "https://localhost:8080/"
        },
        "outputId": "8f1e11cb-e528-422b-8472-436b37ef592b"
      },
      "source": [
        "explore_pda('abbcc', Lif) # (* fixed to be accept *)"
      ],
      "execution_count": 105,
      "outputs": [
        {
          "output_type": "stream",
          "name": "stdout",
          "text": [
            "String abbcc accepted by your PDA in 1 ways :-) \n",
            "Here are the ways: \n",
            "Final state  ('F', '', '#')\n",
            "Reached as follows:\n",
            "->  ('IF', 'abbcc', '#')\n",
            "->  ('q1', 'bbcc', '#')\n",
            "->  ('q4', 'bcc', '#')\n",
            "->  ('q4', 'cc', '#')\n",
            "->  ('q5', 'c', '#')\n",
            "->  ('q5', '', '#')\n",
            "->  ('F', '', '#') .\n"
          ]
        }
      ]
    },
    {
      "cell_type": "code",
      "metadata": {
        "id": "IRwdHAIFveDq",
        "colab": {
          "base_uri": "https://localhost:8080/"
        },
        "outputId": "7053ef41-8e91-42c1-f1a4-1498a3602c3f"
      },
      "source": [
        "explore_pda('cb', Lif) # (reject)"
      ],
      "execution_count": 106,
      "outputs": [
        {
          "output_type": "stream",
          "name": "stdout",
          "text": [
            "String cb rejected by your PDA :-(\n",
            "Visited states are:\n",
            "{('IF', 'cb', '#')}\n"
          ]
        }
      ]
    },
    {
      "cell_type": "code",
      "metadata": {
        "id": "Ha0y04l5veDr",
        "colab": {
          "base_uri": "https://localhost:8080/"
        },
        "outputId": "d2e6666b-e687-4f38-bc97-99a56ca6777c"
      },
      "source": [
        "explore_pda('aabbcca', Lif) # (reject)"
      ],
      "execution_count": 107,
      "outputs": [
        {
          "output_type": "stream",
          "name": "stdout",
          "text": [
            "String aabbcca rejected by your PDA :-(\n",
            "Visited states are:\n",
            "{('q6', 'cca', 'bb#'), ('q1', 'abbcca', '#'), ('IF', 'aabbcca', '#'), ('F', 'a', '#'), ('q7', 'ca', 'b#'), ('q7', 'a', '#'), ('q6', 'bcca', 'b#'), ('F', 'bbcca', '#'), ('q2', 'bbcca', '#')}\n"
          ]
        }
      ]
    },
    {
      "cell_type": "code",
      "metadata": {
        "id": "UQ8WE9T1veDs",
        "colab": {
          "base_uri": "https://localhost:8080/"
        },
        "outputId": "e9b39371-d7a3-42d2-df88-aa853b716230"
      },
      "source": [
        "explore_pda('abba', Lif) # (reject)"
      ],
      "execution_count": 108,
      "outputs": [
        {
          "output_type": "stream",
          "name": "stdout",
          "text": [
            "String abba rejected by your PDA :-(\n",
            "Visited states are:\n",
            "{('q1', 'bba', '#'), ('IF', 'abba', '#'), ('F', 'a', '#'), ('q4', 'a', '#'), ('F', 'ba', '#'), ('q4', 'ba', '#')}\n"
          ]
        }
      ]
    },
    {
      "cell_type": "code",
      "metadata": {
        "id": "8p5uXk1zveDt",
        "colab": {
          "base_uri": "https://localhost:8080/"
        },
        "outputId": "c75104ec-25b8-455e-cbdd-5f6bc07e792a"
      },
      "source": [
        "explore_pda('ccac', Lif) # (reject)"
      ],
      "execution_count": 109,
      "outputs": [
        {
          "output_type": "stream",
          "name": "stdout",
          "text": [
            "String ccac rejected by your PDA :-(\n",
            "Visited states are:\n",
            "{('IF', 'ccac', '#')}\n"
          ]
        }
      ]
    },
    {
      "cell_type": "code",
      "metadata": {
        "id": "RU2m2Fq1veDu",
        "colab": {
          "base_uri": "https://localhost:8080/"
        },
        "outputId": "41c8ac2d-7609-415a-a2d2-83c3f3d86b38"
      },
      "source": [
        " explore_pda('baac', Lif) # (reject)"
      ],
      "execution_count": 110,
      "outputs": [
        {
          "output_type": "stream",
          "name": "stdout",
          "text": [
            "String baac rejected by your PDA :-(\n",
            "Visited states are:\n",
            "{('IF', 'baac', '#'), ('q4', 'aac', '#'), ('F', 'aac', '#')}\n"
          ]
        }
      ]
    },
    {
      "cell_type": "code",
      "metadata": {
        "id": "ia30VA-wveDv",
        "colab": {
          "base_uri": "https://localhost:8080/"
        },
        "outputId": "13d3a966-d75d-495a-f8ce-9874b7c8173a"
      },
      "source": [
        "explore_pda('ac', Lif) # (accept)"
      ],
      "execution_count": 111,
      "outputs": [
        {
          "output_type": "stream",
          "name": "stdout",
          "text": [
            "String ac accepted by your PDA in 1 ways :-) \n",
            "Here are the ways: \n",
            "Final state  ('F', '', '#')\n",
            "Reached as follows:\n",
            "->  ('IF', 'ac', '#')\n",
            "->  ('q1', 'c', '#')\n",
            "->  ('q5', '', '#')\n",
            "->  ('F', '', '#') .\n"
          ]
        }
      ]
    }
  ]
}