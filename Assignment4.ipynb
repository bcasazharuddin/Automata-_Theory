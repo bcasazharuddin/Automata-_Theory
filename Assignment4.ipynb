{
  "nbformat": 4,
  "nbformat_minor": 0,
  "metadata": {
    "colab": {
      "name": "assignment4.ipynb",
      "provenance": [],
      "collapsed_sections": [],
      "authorship_tag": "ABX9TyONhZXDs4ZWRN7bVX4tA3kx",
      "include_colab_link": true
    },
    "kernelspec": {
      "name": "python3",
      "display_name": "Python 3"
    },
    "language_info": {
      "name": "python"
    }
  },
  "cells": [
    {
      "cell_type": "markdown",
      "metadata": {
        "id": "view-in-github",
        "colab_type": "text"
      },
      "source": [
        "<a href=\"https://colab.research.google.com/github/bcasazharuddin/Automata-_Theory/blob/main/assignment4.ipynb\" target=\"_parent\"><img src=\"https://colab.research.google.com/assets/colab-badge.svg\" alt=\"Open In Colab\"/></a>"
      ]
    },
    {
      "cell_type": "markdown",
      "metadata": {
        "id": "1FcxZ58pLCio"
      },
      "source": [
        "# **Assignment :** Illustrate the conception of  minimizing FA "
      ]
    },
    {
      "cell_type": "code",
      "metadata": {
        "run_control": {
          "frozen": false,
          "read_only": false
        },
        "colab": {
          "base_uri": "https://localhost:8080/"
        },
        "id": "h4JrVafPXeVN",
        "outputId": "b6eccc4a-9991-42ea-81e7-b26ddb5fabe0"
      },
      "source": [
        "#~~~~~~~~~~~~~~~~~~~~~~~~~~~~~~~~~~~~~~~~~~~~~~~~~~~~~~~\n",
        "import sys\n",
        "\n",
        "# -- Detect if in Own Install or in Colab\n",
        "try:\n",
        "    import google.colab\n",
        "    OWN_INSTALL = False\n",
        "except:\n",
        "    OWN_INSTALL = True\n",
        "    \n",
        "if OWN_INSTALL:\n",
        "    \n",
        "  #---- Leave these definitions ON if running on laptop\n",
        "  #---- Else turn OFF by putting them between ''' ... '''\n",
        "\n",
        "  sys.path[0:0] = ['../../../../..',  '../../../../../3rdparty',  \n",
        "                   '../../../..',  '../../../../3rdparty',  \n",
        "                   '../../..',     '../../../3rdparty', \n",
        "                   '../..',        '../../3rdparty',\n",
        "                   '..',           '../3rdparty' ]\n",
        "\n",
        "else: # In colab\n",
        "  ! if [ ! -d Jove ]; then git clone https://github.com/ganeshutah/Jove Jove; fi\n",
        "  sys.path.append('./Jove')\n",
        "  sys.path.append('./Jove/jove')\n",
        "\n",
        "# -- common imports --\n",
        "from jove.DotBashers import *\n",
        "from jove.Def_md2mc  import *\n",
        "from jove.Def_DFA    import *\n",
        "from jove.Def_NFA    import *\n",
        "from jove.LangDef    import *  # for testing DFA actions\n",
        "#~~~~~~~~~~~~~~~~~~~~~~~~~~~~~~~~~~~~~~~~~~~~~~~~~~~~~~~"
      ],
      "execution_count": null,
      "outputs": [
        {
          "output_type": "stream",
          "name": "stdout",
          "text": [
            "Cloning into 'Jove'...\n",
            "remote: Enumerating objects: 4807, done.\u001b[K\n",
            "remote: Counting objects: 100% (173/173), done.\u001b[K\n",
            "remote: Compressing objects: 100% (118/118), done.\u001b[K\n",
            "remote: Total 4807 (delta 101), reused 117 (delta 50), pack-reused 4634\u001b[K\n",
            "Receiving objects: 100% (4807/4807), 7.53 MiB | 22.76 MiB/s, done.\n",
            "Resolving deltas: 100% (3106/3106), done.\n",
            "You may use any of these help commands:\n",
            "help(ResetStNum)\n",
            "help(NxtStateStr)\n",
            "\n",
            "You may use any of these help commands:\n",
            "help(md2mc)\n",
            ".. and if you want to dig more, then ..\n",
            "help(default_line_attr)\n",
            "help(length_ok_input_items)\n",
            "help(union_line_attr_list_fld)\n",
            "help(extend_rsltdict)\n",
            "help(form_delta)\n",
            "help(get_machine_components)\n",
            "\n",
            "You may use any of these help commands:\n",
            "help(mkp_dfa)\n",
            "help(mk_dfa)\n",
            "help(totalize_dfa)\n",
            "help(addtosigma_delta)\n",
            "help(step_dfa)\n",
            "help(run_dfa)\n",
            "help(accepts_dfa)\n",
            "help(comp_dfa)\n",
            "help(union_dfa)\n",
            "help(intersect_dfa)\n",
            "help(pruneUnreach)\n",
            "help(iso_dfa)\n",
            "help(langeq_dfa)\n",
            "help(same_status)\n",
            "help(h_langeq_dfa)\n",
            "help(fixptDist)\n",
            "help(min_dfa)\n",
            "help(pairFR)\n",
            "help(state_combos)\n",
            "help(sepFinNonFin)\n",
            "help(bash_eql_classes)\n",
            "help(listminus)\n",
            "help(bash_1)\n",
            "help(mk_rep_eqc)\n",
            "help(F_of)\n",
            "help(rep_of_s)\n",
            "help(q0_of)\n",
            "help(Delta_of)\n",
            "help(mk_state_eqc_name)\n",
            "\n",
            "You may use any of these help commands:\n",
            "help(mk_nfa)\n",
            "help(totalize_nfa)\n",
            "help(step_nfa)\n",
            "help(run_nfa)\n",
            "help(ec_step_nfa)\n",
            "help(Eclosure)\n",
            "help(Echelp)\n",
            "help(accepts_nfa)\n",
            "help(nfa2dfa)\n",
            "help(n2d)\n",
            "help(inSets)\n",
            "help(rev_dfa)\n",
            "help(min_dfa_brz)\n",
            "\n",
            "You may use any of these help commands:\n",
            "help(lphi)\n",
            "help(lunit)\n",
            "help(lcat)\n",
            "help(lexp)\n",
            "help(lunion)\n",
            "help(lstar)\n",
            "help(srev)\n",
            "help(lrev)\n",
            "help(shomo)\n",
            "help(lhomo)\n",
            "help(powset)\n",
            "help(lint)\n",
            "help(lsymdiff)\n",
            "help(lminus)\n",
            "help(lissubset)\n",
            "help(lissuperset)\n",
            "help(lcomplem)\n",
            "help(product)\n",
            "help(nthnumeric)\n",
            "\n"
          ]
        }
      ]
    },
    {
      "cell_type": "markdown",
      "metadata": {
        "id": "0g0Arw4ejLyl"
      },
      "source": [
        "# **DFA Minimization**"
      ]
    },
    {
      "cell_type": "markdown",
      "metadata": {
        "id": "C-CtuT_8mz_p"
      },
      "source": [
        "### Example DFA to minimize"
      ]
    },
    {
      "cell_type": "code",
      "metadata": {
        "colab": {
          "base_uri": "https://localhost:8080/"
        },
        "id": "cK3D1EM0jnwJ",
        "outputId": "d60be899-e0ea-42a4-d076-853f4e9e6940"
      },
      "source": [
        "book = md2mc('''DFA\n",
        "\n",
        "Iq0 : a -> q1\n",
        "Iq0 : b -> q2\n",
        "\n",
        "q1 : a -> Fq3\n",
        "q1 : b -> Fq4   \n",
        "\n",
        "q2 : a -> Fq3\n",
        "q2 : b -> Fq5\n",
        "\n",
        "Fq3 : a -> Fq3\n",
        "Fq3 : b -> q1\n",
        "\n",
        "Fq4 : a -> Fq4\n",
        "Fq4 : b -> Fq5\n",
        "\n",
        "Fq5 : a -> Fq5\n",
        "Fq5 : b -> Fq4\n",
        "\n",
        "q6 : a -> q2\n",
        "q6 : b -> q6 \n",
        "\n",
        "\n",
        "''')"
      ],
      "execution_count": null,
      "outputs": [
        {
          "output_type": "stream",
          "name": "stderr",
          "text": [
            "Generating LALR tables\n"
          ]
        }
      ]
    },
    {
      "cell_type": "code",
      "metadata": {
        "id": "eX0Z7x3GoGzk"
      },
      "source": [
        ""
      ],
      "execution_count": null,
      "outputs": []
    },
    {
      "cell_type": "code",
      "metadata": {
        "colab": {
          "base_uri": "https://localhost:8080/"
        },
        "id": "dLn_XRRLXeVP",
        "outputId": "abf2c8a1-1ddf-4624-94c9-4dabdb4b61e3"
      },
      "source": [
        "min_book = min_dfa(book, chatty=True, state_name_mode='verbose')"
      ],
      "execution_count": null,
      "outputs": [
        {
          "output_type": "stream",
          "name": "stdout",
          "text": [
            "Separating final and non-final states (marking 0-distinguishable entries).\n",
            "   The 0-distinguishable entries are:\n",
            "States  Fq5  and  q6  are 0-distinguished.\n",
            "States  Fq5  and  q2  are 0-distinguished.\n",
            "States  Fq5  and  q1  are 0-distinguished.\n",
            "States  Fq5  and  Iq0  are 0-distinguished.\n",
            "States  Fq4  and  q6  are 0-distinguished.\n",
            "States  Fq4  and  q2  are 0-distinguished.\n",
            "States  Fq4  and  q1  are 0-distinguished.\n",
            "States  Fq4  and  Iq0  are 0-distinguished.\n",
            "States  q6  and  Fq3  are 0-distinguished.\n",
            "States  q2  and  Fq3  are 0-distinguished.\n",
            "States  Fq3  and  q1  are 0-distinguished.\n",
            "States  Fq3  and  Iq0  are 0-distinguished.\n",
            " \n",
            "Seeing if states  Fq5  and  Fq4  can now be distinguished by any symbol.\n",
            "   The next states reached via symbol  b  are:  Fq4  and  Fq5\n",
            "   Cannot distinguish yet, via  b\n",
            "   The next states reached via symbol  a  are:  Fq5  and  Fq4\n",
            "   Cannot distinguish yet, via  a\n",
            " \n",
            "Seeing if states  Fq5  and  Fq3  can now be distinguished by any symbol.\n",
            "   The next states reached via symbol  b  are:  Fq4  and  q1\n",
            "   Found a distinguishable pair!\n",
            "      Since  ('Fq4', 'q1')  are  0  distinguishable, marking  ('Fq5', 'Fq3')  as  1  distinguishable.\n",
            "         Hence, must continue through one more sweep of the algorithm.\n",
            " \n",
            "Seeing if states  Fq4  and  Fq3  can now be distinguished by any symbol.\n",
            "   The next states reached via symbol  b  are:  Fq5  and  q1\n",
            "   Found a distinguishable pair!\n",
            "      Since  ('Fq5', 'q1')  are  0  distinguishable, marking  ('Fq4', 'Fq3')  as  1  distinguishable.\n",
            "         Hence, must continue through one more sweep of the algorithm.\n",
            " \n",
            "Seeing if states  q6  and  q2  can now be distinguished by any symbol.\n",
            "   The next states reached via symbol  b  are:  q6  and  Fq5\n",
            "   Found a distinguishable pair!\n",
            "      Since  ('q6', 'Fq5')  are  0  distinguishable, marking  ('q6', 'q2')  as  1  distinguishable.\n",
            "         Hence, must continue through one more sweep of the algorithm.\n",
            " \n",
            "Seeing if states  q6  and  q1  can now be distinguished by any symbol.\n",
            "   The next states reached via symbol  b  are:  q6  and  Fq4\n",
            "   Found a distinguishable pair!\n",
            "      Since  ('q6', 'Fq4')  are  0  distinguishable, marking  ('q6', 'q1')  as  1  distinguishable.\n",
            "         Hence, must continue through one more sweep of the algorithm.\n",
            " \n",
            "Seeing if states  q6  and  Iq0  can now be distinguished by any symbol.\n",
            "   The next states reached via symbol  b  are:  q6  and  q2\n",
            "   Found a distinguishable pair!\n",
            "      Since  ('q6', 'q2')  are  1  distinguishable, marking  ('q6', 'Iq0')  as  2  distinguishable.\n",
            "         Hence, must continue through one more sweep of the algorithm.\n",
            " \n",
            "Seeing if states  q2  and  q1  can now be distinguished by any symbol.\n",
            "   The next states reached via symbol  b  are:  Fq5  and  Fq4\n",
            "   Cannot distinguish yet, via  b\n",
            "   The next states reached via symbol  a  are:  Fq3  and  Fq3\n",
            "      Nope. Symbol  a  could not distinguish (the next states are the same).\n",
            " \n",
            "Seeing if states  q2  and  Iq0  can now be distinguished by any symbol.\n",
            "   The next states reached via symbol  b  are:  Fq5  and  q2\n",
            "   Found a distinguishable pair!\n",
            "      Since  ('Fq5', 'q2')  are  0  distinguishable, marking  ('q2', 'Iq0')  as  1  distinguishable.\n",
            "         Hence, must continue through one more sweep of the algorithm.\n",
            " \n",
            "Seeing if states  q1  and  Iq0  can now be distinguished by any symbol.\n",
            "   The next states reached via symbol  b  are:  Fq4  and  q2\n",
            "   Found a distinguishable pair!\n",
            "      Since  ('Fq4', 'q2')  are  0  distinguishable, marking  ('q1', 'Iq0')  as  1  distinguishable.\n",
            "         Hence, must continue through one more sweep of the algorithm.\n",
            " \n",
            "Seeing if states  Fq5  and  Fq4  can now be distinguished by any symbol.\n",
            "   The next states reached via symbol  b  are:  Fq4  and  Fq5\n",
            "   Cannot distinguish yet, via  b\n",
            "   The next states reached via symbol  a  are:  Fq5  and  Fq4\n",
            "   Cannot distinguish yet, via  a\n",
            " \n",
            "Seeing if states  Fq5  and  Fq3  can now be distinguished by any symbol.\n",
            "   The next states reached via symbol  b  are:  Fq4  and  q1\n",
            "   The next states reached via symbol  a  are:  Fq5  and  Fq3\n",
            " \n",
            "Seeing if states  Fq4  and  Fq3  can now be distinguished by any symbol.\n",
            "   The next states reached via symbol  b  are:  Fq5  and  q1\n",
            "   The next states reached via symbol  a  are:  Fq4  and  Fq3\n",
            " \n",
            "Seeing if states  q6  and  q2  can now be distinguished by any symbol.\n",
            "   The next states reached via symbol  b  are:  q6  and  Fq5\n",
            "   The next states reached via symbol  a  are:  q2  and  Fq3\n",
            " \n",
            "Seeing if states  q6  and  q1  can now be distinguished by any symbol.\n",
            "   The next states reached via symbol  b  are:  q6  and  Fq4\n",
            "   The next states reached via symbol  a  are:  q2  and  Fq3\n",
            " \n",
            "Seeing if states  q6  and  Iq0  can now be distinguished by any symbol.\n",
            "   The next states reached via symbol  b  are:  q6  and  q2\n",
            "   The next states reached via symbol  a  are:  q2  and  q1\n",
            " \n",
            "Seeing if states  q2  and  q1  can now be distinguished by any symbol.\n",
            "   The next states reached via symbol  b  are:  Fq5  and  Fq4\n",
            "   Cannot distinguish yet, via  b\n",
            "   The next states reached via symbol  a  are:  Fq3  and  Fq3\n",
            "      Nope. Symbol  a  could not distinguish (the next states are the same).\n",
            " \n",
            "Seeing if states  q2  and  Iq0  can now be distinguished by any symbol.\n",
            "   The next states reached via symbol  b  are:  Fq5  and  q2\n",
            "   The next states reached via symbol  a  are:  Fq3  and  q1\n",
            " \n",
            "Seeing if states  q1  and  Iq0  can now be distinguished by any symbol.\n",
            "   The next states reached via symbol  b  are:  Fq4  and  q2\n",
            "   The next states reached via symbol  a  are:  Fq3  and  q1\n",
            " \n",
            "Now, collecting equivalence-classes.\n",
            "   The equivalent pairs are:\n",
            "   The merged equivalent classes and representative states are these:\n",
            "State  q2  represents the equivalent states  ['q2', 'q1']\n",
            "State  Fq4  represents the equivalent states  ['Fq4', 'Fq5']\n"
          ]
        }
      ]
    },
    {
      "cell_type": "code",
      "metadata": {
        "colab": {
          "base_uri": "https://localhost:8080/",
          "height": 414
        },
        "id": "6t7CbrtzXeVP",
        "outputId": "cfd1225d-df10-4ab8-89cf-9f8e341e096a"
      },
      "source": [
        "dotObj_dfa(min_book, STATENAME_MAXSIZE=20)"
      ],
      "execution_count": null,
      "outputs": [
        {
          "output_type": "execute_result",
          "data": {
            "text/plain": [
              "<graphviz.dot.Digraph at 0x7febf807e910>"
            ],
            "image/svg+xml": "<?xml version=\"1.0\" encoding=\"UTF-8\" standalone=\"no\"?>\n<!DOCTYPE svg PUBLIC \"-//W3C//DTD SVG 1.1//EN\"\n \"http://www.w3.org/Graphics/SVG/1.1/DTD/svg11.dtd\">\n<!-- Generated by graphviz version 2.40.1 (20161225.0304)\n -->\n<!-- Title: %3 Pages: 1 -->\n<svg width=\"412pt\" height=\"295pt\"\n viewBox=\"0.00 0.00 412.28 294.94\" xmlns=\"http://www.w3.org/2000/svg\" xmlns:xlink=\"http://www.w3.org/1999/xlink\">\n<g id=\"graph0\" class=\"graph\" transform=\"scale(1 1) rotate(0) translate(4 290.9441)\">\n<title>%3</title>\n<polygon fill=\"#ffffff\" stroke=\"transparent\" points=\"-4,4 -4,-290.9441 408.2814,-290.9441 408.2814,4 -4,4\"/>\n<!-- EMPTY -->\n<g id=\"node1\" class=\"node\">\n<title>EMPTY</title>\n</g>\n<!-- Iq0 -->\n<g id=\"node3\" class=\"node\">\n<title>Iq0</title>\n<ellipse fill=\"none\" stroke=\"#000000\" cx=\"114.3979\" cy=\"-115.7982\" rx=\"23.2963\" ry=\"23.2963\"/>\n<text text-anchor=\"middle\" x=\"114.3979\" y=\"-112.0982\" font-family=\"Times,serif\" font-size=\"14.00\" fill=\"#000000\">Iq0</text>\n</g>\n<!-- EMPTY&#45;&gt;Iq0 -->\n<g id=\"edge1\" class=\"edge\">\n<title>EMPTY&#45;&gt;Iq0</title>\n<path fill=\"none\" stroke=\"#000000\" d=\"M54.1742,-115.7982C62.5103,-115.7982 71.7873,-115.7982 80.5137,-115.7982\"/>\n<polygon fill=\"#000000\" stroke=\"#000000\" points=\"80.7846,-119.2983 90.7846,-115.7982 80.7845,-112.2983 80.7846,-119.2983\"/>\n</g>\n<!-- q6 -->\n<g id=\"node2\" class=\"node\">\n<title>q6</title>\n<ellipse fill=\"none\" stroke=\"#000000\" cx=\"114.3979\" cy=\"-20.7982\" rx=\"20.5982\" ry=\"20.5982\"/>\n<text text-anchor=\"middle\" x=\"114.3979\" y=\"-17.0982\" font-family=\"Times,serif\" font-size=\"14.00\" fill=\"#000000\">q6</text>\n</g>\n<!-- q6&#45;&gt;q6 -->\n<g id=\"edge11\" class=\"edge\">\n<title>q6&#45;&gt;q6</title>\n<path fill=\"none\" stroke=\"#000000\" d=\"M107.1616,-40.3618C106.0483,-50.4777 108.4604,-59.5963 114.3979,-59.5963 118.2016,-59.5963 120.5585,-55.854 121.4686,-50.5047\"/>\n<polygon fill=\"#000000\" stroke=\"#000000\" points=\"124.9704,-50.4177 121.6343,-40.3618 117.9713,-50.3033 124.9704,-50.4177\"/>\n<text text-anchor=\"middle\" x=\"114.3979\" y=\"-63.3963\" font-family=\"Times,serif\" font-size=\"14.00\" fill=\"#000000\">b </text>\n</g>\n<!-- q2_q1 -->\n<g id=\"node4\" class=\"node\">\n<title>q2_q1</title>\n<ellipse fill=\"none\" stroke=\"#000000\" cx=\"220.8927\" cy=\"-77.7982\" rx=\"35.194\" ry=\"35.194\"/>\n<text text-anchor=\"middle\" x=\"220.8927\" y=\"-74.0982\" font-family=\"Times,serif\" font-size=\"14.00\" fill=\"#000000\">q2_q1</text>\n</g>\n<!-- q6&#45;&gt;q2_q1 -->\n<g id=\"edge10\" class=\"edge\">\n<title>q6&#45;&gt;q2_q1</title>\n<path fill=\"none\" stroke=\"#000000\" d=\"M132.9479,-30.7268C146.1216,-37.7779 164.3141,-47.5151 180.7357,-56.3046\"/>\n<polygon fill=\"#000000\" stroke=\"#000000\" points=\"179.1652,-59.4338 189.6334,-61.067 182.4685,-53.2622 179.1652,-59.4338\"/>\n<text text-anchor=\"middle\" x=\"161.7958\" y=\"-53.5982\" font-family=\"Times,serif\" font-size=\"14.00\" fill=\"#000000\">a </text>\n</g>\n<!-- Iq0&#45;&gt;q2_q1 -->\n<g id=\"edge2\" class=\"edge\">\n<title>Iq0&#45;&gt;q2_q1</title>\n<path fill=\"none\" stroke=\"#000000\" d=\"M136.4637,-107.9245C148.4429,-103.6501 163.6729,-98.2156 177.8903,-93.1425\"/>\n<polygon fill=\"#000000\" stroke=\"#000000\" points=\"179.2768,-96.364 187.5189,-89.7068 176.9243,-89.7711 179.2768,-96.364\"/>\n<text text-anchor=\"middle\" x=\"161.7958\" y=\"-104.5982\" font-family=\"Times,serif\" font-size=\"14.00\" fill=\"#000000\">a </text>\n</g>\n<!-- Iq0&#45;&gt;q2_q1 -->\n<g id=\"edge3\" class=\"edge\">\n<title>Iq0&#45;&gt;q2_q1</title>\n<path fill=\"none\" stroke=\"#000000\" d=\"M128.9131,-97.4182C136.0891,-89.8105 145.432,-81.8336 155.7958,-77.7982 162.0933,-75.3461 169.0005,-74.0395 175.889,-73.4771\"/>\n<polygon fill=\"#000000\" stroke=\"#000000\" points=\"176.0189,-76.9749 185.8949,-73.1389 175.7824,-69.9788 176.0189,-76.9749\"/>\n<text text-anchor=\"middle\" x=\"161.7958\" y=\"-81.5982\" font-family=\"Times,serif\" font-size=\"14.00\" fill=\"#000000\">b </text>\n</g>\n<!-- Fq4_Fq5 -->\n<g id=\"node5\" class=\"node\">\n<title>Fq4_Fq5</title>\n<ellipse fill=\"none\" stroke=\"#000000\" cx=\"354.1355\" cy=\"-170.7982\" rx=\"46.2806\" ry=\"46.2806\"/>\n<ellipse fill=\"none\" stroke=\"#000000\" cx=\"354.1355\" cy=\"-170.7982\" rx=\"50.2922\" ry=\"50.2922\"/>\n<text text-anchor=\"middle\" x=\"354.1355\" y=\"-167.0982\" font-family=\"Times,serif\" font-size=\"14.00\" fill=\"#000000\">Fq4_Fq5</text>\n</g>\n<!-- q2_q1&#45;&gt;Fq4_Fq5 -->\n<g id=\"edge5\" class=\"edge\">\n<title>q2_q1&#45;&gt;Fq4_Fq5</title>\n<path fill=\"none\" stroke=\"#000000\" d=\"M249.8044,-97.9778C265.8004,-109.1425 286.121,-123.3258 304.5705,-136.2031\"/>\n<polygon fill=\"#000000\" stroke=\"#000000\" points=\"302.6901,-139.1588 312.8934,-142.0122 306.6965,-133.4187 302.6901,-139.1588\"/>\n<text text-anchor=\"middle\" x=\"279.9896\" y=\"-125.5982\" font-family=\"Times,serif\" font-size=\"14.00\" fill=\"#000000\">b </text>\n</g>\n<!-- Fq3 -->\n<g id=\"node6\" class=\"node\">\n<title>Fq3</title>\n<ellipse fill=\"none\" stroke=\"#000000\" cx=\"354.1355\" cy=\"-39.7982\" rx=\"25.9957\" ry=\"25.9957\"/>\n<ellipse fill=\"none\" stroke=\"#000000\" cx=\"354.1355\" cy=\"-39.7982\" rx=\"29.9954\" ry=\"29.9954\"/>\n<text text-anchor=\"middle\" x=\"354.1355\" y=\"-36.0982\" font-family=\"Times,serif\" font-size=\"14.00\" fill=\"#000000\">Fq3</text>\n</g>\n<!-- q2_q1&#45;&gt;Fq3 -->\n<g id=\"edge4\" class=\"edge\">\n<title>q2_q1&#45;&gt;Fq3</title>\n<path fill=\"none\" stroke=\"#000000\" d=\"M254.8603,-68.1108C273.3757,-62.8303 296.3618,-56.2749 315.5516,-50.802\"/>\n<polygon fill=\"#000000\" stroke=\"#000000\" points=\"316.5402,-54.1597 325.1969,-48.0513 314.6204,-47.4281 316.5402,-54.1597\"/>\n<text text-anchor=\"middle\" x=\"279.9896\" y=\"-66.5982\" font-family=\"Times,serif\" font-size=\"14.00\" fill=\"#000000\">a </text>\n</g>\n<!-- Fq4_Fq5&#45;&gt;Fq4_Fq5 -->\n<g id=\"edge8\" class=\"edge\">\n<title>Fq4_Fq5&#45;&gt;Fq4_Fq5</title>\n<path fill=\"none\" stroke=\"#000000\" d=\"M347.422,-220.718C348.1037,-231.3014 350.3416,-238.9441 354.1355,-238.9441 356.566,-238.9441 358.3579,-235.8075 359.5111,-230.7706\"/>\n<polygon fill=\"#000000\" stroke=\"#000000\" points=\"362.9991,-231.0924 360.849,-220.718 356.0603,-230.1688 362.9991,-231.0924\"/>\n<text text-anchor=\"middle\" x=\"354.1355\" y=\"-242.7441\" font-family=\"Times,serif\" font-size=\"14.00\" fill=\"#000000\">a </text>\n</g>\n<!-- Fq4_Fq5&#45;&gt;Fq4_Fq5 -->\n<g id=\"edge9\" class=\"edge\">\n<title>Fq4_Fq5&#45;&gt;Fq4_Fq5</title>\n<path fill=\"none\" stroke=\"#000000\" d=\"M340.4036,-219.0713C339.3688,-239.5219 343.9461,-256.9441 354.1355,-256.9441 362.5737,-256.9441 367.163,-244.9961 367.9036,-229.2747\"/>\n<polygon fill=\"#000000\" stroke=\"#000000\" points=\"371.403,-229.0588 367.8674,-219.0713 364.403,-229.0837 371.403,-229.0588\"/>\n<text text-anchor=\"middle\" x=\"354.1355\" y=\"-260.7441\" font-family=\"Times,serif\" font-size=\"14.00\" fill=\"#000000\">b </text>\n</g>\n<!-- Fq3&#45;&gt;q2_q1 -->\n<g id=\"edge7\" class=\"edge\">\n<title>Fq3&#45;&gt;q2_q1</title>\n<path fill=\"none\" stroke=\"#000000\" d=\"M324.1576,-36.5888C308.8083,-35.9263 290.0263,-36.6544 273.9896,-41.7982 268.0044,-43.7179 262.0775,-46.5409 256.4742,-49.7755\"/>\n<polygon fill=\"#000000\" stroke=\"#000000\" points=\"254.5717,-46.8374 247.9734,-55.1268 258.3008,-52.7614 254.5717,-46.8374\"/>\n<text text-anchor=\"middle\" x=\"279.9896\" y=\"-45.5982\" font-family=\"Times,serif\" font-size=\"14.00\" fill=\"#000000\">b </text>\n</g>\n<!-- Fq3&#45;&gt;Fq3 -->\n<g id=\"edge6\" class=\"edge\">\n<title>Fq3&#45;&gt;Fq3</title>\n<path fill=\"none\" stroke=\"#000000\" d=\"M340.3825,-66.9366C339.434,-78.226 344.0183,-87.7958 354.1355,-87.7958 360.933,-87.7958 365.2329,-83.4759 367.0351,-77.2168\"/>\n<polygon fill=\"#000000\" stroke=\"#000000\" points=\"370.5492,-77.1919 367.8886,-66.9366 363.5732,-76.6127 370.5492,-77.1919\"/>\n<text text-anchor=\"middle\" x=\"354.1355\" y=\"-91.5958\" font-family=\"Times,serif\" font-size=\"14.00\" fill=\"#000000\">a </text>\n</g>\n</g>\n</svg>\n"
          },
          "metadata": {},
          "execution_count": 4
        }
      ]
    }
  ]
}
