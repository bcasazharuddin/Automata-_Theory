{
  "nbformat": 4,
  "nbformat_minor": 0,
  "metadata": {
    "kernelspec": {
      "display_name": "Python 3",
      "language": "python",
      "name": "python3"
    },
    "language_info": {
      "codemirror_mode": {
        "name": "ipython",
        "version": 3
      },
      "file_extension": ".py",
      "mimetype": "text/x-python",
      "name": "python",
      "nbconvert_exporter": "python",
      "pygments_lexer": "ipython3",
      "version": "3.7.3"
    },
    "toc": {
      "colors": {
        "hover_highlight": "#DAA520",
        "running_highlight": "#FF0000",
        "selected_highlight": "#FFD700"
      },
      "moveMenuLeft": true,
      "nav_menu": {
        "height": "121px",
        "width": "252px"
      },
      "navigate_menu": true,
      "number_sections": true,
      "sideBar": true,
      "threshold": 4,
      "toc_cell": false,
      "toc_section_display": "block",
      "toc_window_display": false,
      "widenNotebook": false
    },
    "colab": {
      "name": "Assignment_1.ipynb",
      "provenance": [],
      "collapsed_sections": [],
      "include_colab_link": true
    },
    "widgets": {
      "application/vnd.jupyter.widget-state+json": {
        "257ab5ca7a464e038d492d2f9b6cc3e1": {
          "model_module": "@jupyter-widgets/controls",
          "model_name": "VBoxModel",
          "model_module_version": "1.5.0",
          "state": {
            "_view_name": "VBoxView",
            "_dom_classes": [],
            "_model_name": "VBoxModel",
            "_view_module": "@jupyter-widgets/controls",
            "_model_module_version": "1.5.0",
            "_view_count": null,
            "_view_module_version": "1.5.0",
            "box_style": "",
            "layout": "IPY_MODEL_48ae9b93fe0949468083ac0790a0927a",
            "_model_module": "@jupyter-widgets/controls",
            "children": [
              "IPY_MODEL_9fa32c74f71d48a28d8caf9043334183",
              "IPY_MODEL_b3ad007c0cae451b8c805fa1965405e9",
              "IPY_MODEL_c505cbc1761f40fdae18b8893fe168bb",
              "IPY_MODEL_0401997604664cb2912ee55ca6e4a668"
            ]
          }
        },
        "48ae9b93fe0949468083ac0790a0927a": {
          "model_module": "@jupyter-widgets/base",
          "model_name": "LayoutModel",
          "model_module_version": "1.2.0",
          "state": {
            "_view_name": "LayoutView",
            "grid_template_rows": null,
            "right": null,
            "justify_content": null,
            "_view_module": "@jupyter-widgets/base",
            "overflow": null,
            "_model_module_version": "1.2.0",
            "_view_count": null,
            "flex_flow": null,
            "width": null,
            "min_width": null,
            "border": null,
            "align_items": null,
            "bottom": null,
            "_model_module": "@jupyter-widgets/base",
            "top": null,
            "grid_column": null,
            "overflow_y": null,
            "overflow_x": null,
            "grid_auto_flow": null,
            "grid_area": null,
            "grid_template_columns": null,
            "flex": null,
            "_model_name": "LayoutModel",
            "justify_items": null,
            "grid_row": null,
            "max_height": null,
            "align_content": null,
            "visibility": null,
            "align_self": null,
            "height": null,
            "min_height": null,
            "padding": null,
            "grid_auto_rows": null,
            "grid_gap": null,
            "max_width": null,
            "order": null,
            "_view_module_version": "1.2.0",
            "grid_template_areas": null,
            "object_position": null,
            "object_fit": null,
            "grid_auto_columns": null,
            "margin": null,
            "display": null,
            "left": null
          }
        },
        "9fa32c74f71d48a28d8caf9043334183": {
          "model_module": "@jupyter-widgets/controls",
          "model_name": "HBoxModel",
          "model_module_version": "1.5.0",
          "state": {
            "_view_name": "HBoxView",
            "_dom_classes": [],
            "_model_name": "HBoxModel",
            "_view_module": "@jupyter-widgets/controls",
            "_model_module_version": "1.5.0",
            "_view_count": null,
            "_view_module_version": "1.5.0",
            "box_style": "",
            "layout": "IPY_MODEL_9766e266f681473ba2c556c34f24e427",
            "_model_module": "@jupyter-widgets/controls",
            "children": [
              "IPY_MODEL_6fd7fb0d5fd74301a8355b34ea58cc37",
              "IPY_MODEL_5ce37f111cd848ad98634e7f73f6375d"
            ]
          }
        },
        "b3ad007c0cae451b8c805fa1965405e9": {
          "model_module": "@jupyter-widgets/output",
          "model_name": "OutputModel",
          "model_module_version": "1.0.0",
          "state": {
            "_view_name": "OutputView",
            "msg_id": "",
            "_dom_classes": [],
            "_model_name": "OutputModel",
            "outputs": [
              {
                "output_type": "display_data",
                "data": {
                  "text/plain": "<graphviz.files.Source at 0x7fea6a5ab490>",
                  "image/svg+xml": "<?xml version=\"1.0\" encoding=\"UTF-8\" standalone=\"no\"?>\n<!DOCTYPE svg PUBLIC \"-//W3C//DTD SVG 1.1//EN\"\n \"http://www.w3.org/Graphics/SVG/1.1/DTD/svg11.dtd\">\n<!-- Generated by graphviz version 2.40.1 (20161225.0304)\n -->\n<!-- Title: %3 Pages: 1 -->\n<svg width=\"317pt\" height=\"114pt\"\n viewBox=\"0.00 0.00 316.60 114.00\" xmlns=\"http://www.w3.org/2000/svg\" xmlns:xlink=\"http://www.w3.org/1999/xlink\">\n<g id=\"graph0\" class=\"graph\" transform=\"scale(1 1) rotate(0) translate(4 110)\">\n<title>%3</title>\n<polygon fill=\"#ffffff\" stroke=\"transparent\" points=\"-4,4 -4,-110 312.5963,-110 312.5963,4 -4,4\"/>\n<!-- EMPTY -->\n<g id=\"node1\" class=\"node\">\n<title>EMPTY</title>\n</g>\n<!-- I -->\n<g id=\"node3\" class=\"node\">\n<title>I</title>\n<ellipse fill=\"#66cd00\" stroke=\"#000000\" cx=\"109\" cy=\"-22\" rx=\"18\" ry=\"18\"/>\n<text text-anchor=\"middle\" x=\"109\" y=\"-18.3\" font-family=\"Times,serif\" font-size=\"14.00\" fill=\"#ffffff\">I</text>\n</g>\n<!-- EMPTY&#45;&gt;I -->\n<g id=\"edge1\" class=\"edge\">\n<title>EMPTY&#45;&gt;I</title>\n<path fill=\"none\" stroke=\"#000000\" d=\"M54.3048,-22C62.6909,-22 71.9407,-22 80.4103,-22\"/>\n<polygon fill=\"#000000\" stroke=\"#000000\" points=\"80.5976,-25.5001 90.5976,-22 80.5976,-18.5001 80.5976,-25.5001\"/>\n</g>\n<!-- S0 -->\n<g id=\"node2\" class=\"node\">\n<title>S0</title>\n<ellipse fill=\"none\" stroke=\"#000000\" cx=\"195.7982\" cy=\"-22\" rx=\"20.5982\" ry=\"20.5982\"/>\n<text text-anchor=\"middle\" x=\"195.7982\" y=\"-18.3\" font-family=\"Times,serif\" font-size=\"14.00\" fill=\"#000000\">S0</text>\n</g>\n<!-- F -->\n<g id=\"node4\" class=\"node\">\n<title>F</title>\n<ellipse fill=\"#66cd00\" stroke=\"#000000\" cx=\"286.5963\" cy=\"-22\" rx=\"18\" ry=\"18\"/>\n<ellipse fill=\"none\" stroke=\"#000000\" cx=\"286.5963\" cy=\"-22\" rx=\"22\" ry=\"22\"/>\n<text text-anchor=\"middle\" x=\"286.5963\" y=\"-18.3\" font-family=\"Times,serif\" font-size=\"14.00\" fill=\"#ffffff\">F</text>\n</g>\n<!-- S0&#45;&gt;F -->\n<g id=\"edge5\" class=\"edge\">\n<title>S0&#45;&gt;F</title>\n<path fill=\"none\" stroke=\"#000000\" d=\"M216.8573,-22C227.9898,-22 241.8945,-22 254.3526,-22\"/>\n<polygon fill=\"#000000\" stroke=\"#000000\" points=\"254.3846,-25.5001 264.3846,-22 254.3845,-18.5001 254.3846,-25.5001\"/>\n<text text-anchor=\"start\" x=\"234.5963\" y=\"-25.8\" font-family=\"Times,serif\" font-size=\"14.00\" fill=\"#000000\"> 0</text>\n</g>\n<!-- I&#45;&gt;S0 -->\n<g id=\"edge3\" class=\"edge\">\n<title>I&#45;&gt;S0</title>\n<path fill=\"none\" stroke=\"#000000\" d=\"M127.4077,-22C138.2934,-22 152.3613,-22 164.9052,-22\"/>\n<polygon fill=\"#000000\" stroke=\"#000000\" points=\"164.9803,-25.5001 174.9802,-22 164.9802,-18.5001 164.9803,-25.5001\"/>\n<text text-anchor=\"start\" x=\"145\" y=\"-25.8\" font-family=\"Times,serif\" font-size=\"14.00\" fill=\"#000000\"> 1</text>\n</g>\n<!-- I&#45;&gt;I -->\n<g id=\"edge2\" class=\"edge\">\n<title>I&#45;&gt;I</title>\n<path fill=\"none\" stroke=\"#000000\" d=\"M105.7643,-39.7817C105.2144,-49.3149 106.293,-58 109,-58 110.6496,-58 111.6945,-54.7749 112.1347,-50.0981\"/>\n<polygon fill=\"#000000\" stroke=\"#000000\" points=\"115.6375,-49.8156 112.2357,-39.7817 108.6379,-49.7469 115.6375,-49.8156\"/>\n<text text-anchor=\"start\" x=\"103\" y=\"-61.8\" font-family=\"Times,serif\" font-size=\"14.00\" fill=\"#000000\"> 0</text>\n</g>\n<!-- I&#45;&gt;I -->\n<g id=\"edge4\" class=\"edge\">\n<title>I&#45;&gt;I</title>\n<path fill=\"none\" stroke=\"#000000\" d=\"M103.6841,-39.4203C100.6538,-56.791 102.4258,-76 109,-76 114.2902,-76 116.4708,-63.5617 115.5419,-49.652\"/>\n<polygon fill=\"#000000\" stroke=\"#000000\" points=\"118.9808,-48.9328 114.3159,-39.4203 112.0305,-49.7657 118.9808,-48.9328\"/>\n<text text-anchor=\"start\" x=\"103\" y=\"-79.8\" font-family=\"Times,serif\" font-size=\"14.00\" fill=\"#000000\"> 1</text>\n</g>\n</g>\n</svg>\n"
                },
                "metadata": {}
              }
            ],
            "_view_module": "@jupyter-widgets/output",
            "_model_module_version": "1.0.0",
            "_view_count": null,
            "_view_module_version": "1.0.0",
            "layout": "IPY_MODEL_96aa8a2e0a4641e28d82e2a9196af03e",
            "_model_module": "@jupyter-widgets/output"
          }
        },
        "c505cbc1761f40fdae18b8893fe168bb": {
          "model_module": "@jupyter-widgets/output",
          "model_name": "OutputModel",
          "model_module_version": "1.0.0",
          "state": {
            "_view_name": "OutputView",
            "msg_id": "",
            "_dom_classes": [],
            "_model_name": "OutputModel",
            "outputs": [
              {
                "output_type": "display_data",
                "data": {
                  "text/plain": "<graphviz.files.Source at 0x7fea6a5ab390>",
                  "image/svg+xml": "<?xml version=\"1.0\" encoding=\"UTF-8\" standalone=\"no\"?>\n<!DOCTYPE svg PUBLIC \"-//W3C//DTD SVG 1.1//EN\"\n \"http://www.w3.org/Graphics/SVG/1.1/DTD/svg11.dtd\">\n<!-- Generated by graphviz version 2.40.1 (20161225.0304)\n -->\n<!-- Title: %3 Pages: 1 -->\n<svg width=\"116pt\" height=\"47pt\"\n viewBox=\"0.00 0.00 116.00 47.00\" xmlns=\"http://www.w3.org/2000/svg\" xmlns:xlink=\"http://www.w3.org/1999/xlink\">\n<g id=\"graph0\" class=\"graph\" transform=\"scale(1 1) rotate(0) translate(4 43)\">\n<title>%3</title>\n<polygon fill=\"#ffffff\" stroke=\"transparent\" points=\"-4,4 -4,-43 112,-43 112,4 -4,4\"/>\n<!-- feed -->\n<g id=\"node1\" class=\"node\">\n<title>feed</title>\n<polygon fill=\"none\" stroke=\"#000000\" points=\"8,-3.5 8,-34.5 57,-34.5 57,-3.5 8,-3.5\"/>\n<text text-anchor=\"start\" x=\"17\" y=\"-15.9\" font-family=\"Times,serif\" font-size=\"12.00\" fill=\"#000000\">10010</text>\n<polygon fill=\"none\" stroke=\"#000000\" points=\"57,-3.5 57,-34.5 82,-34.5 82,-3.5 57,-3.5\"/>\n<text text-anchor=\"start\" x=\"66\" y=\"-15.9\" font-family=\"Times,serif\" font-size=\"12.00\" fill=\"#000000\"> &#160;</text>\n<polygon fill=\"none\" stroke=\"#000000\" points=\"82,-3.5 82,-34.5 100,-34.5 100,-3.5 82,-3.5\"/>\n</g>\n</g>\n</svg>\n"
                },
                "metadata": {}
              }
            ],
            "_view_module": "@jupyter-widgets/output",
            "_model_module_version": "1.0.0",
            "_view_count": null,
            "_view_module_version": "1.0.0",
            "layout": "IPY_MODEL_e7cb22f8ab814234ae17126fc483b83d",
            "_model_module": "@jupyter-widgets/output"
          }
        },
        "0401997604664cb2912ee55ca6e4a668": {
          "model_module": "@jupyter-widgets/controls",
          "model_name": "HBoxModel",
          "model_module_version": "1.5.0",
          "state": {
            "_view_name": "HBoxView",
            "_dom_classes": [],
            "_model_name": "HBoxModel",
            "_view_module": "@jupyter-widgets/controls",
            "_model_module_version": "1.5.0",
            "_view_count": null,
            "_view_module_version": "1.5.0",
            "box_style": "",
            "layout": "IPY_MODEL_5be370463843472898320a6afe384e29",
            "_model_module": "@jupyter-widgets/controls",
            "children": [
              "IPY_MODEL_cee1e7c0d56347edae40ae6c940bce2e",
              "IPY_MODEL_d99e184b095d40b0b44f0dfda15c21d2",
              "IPY_MODEL_704d3f3838184973a5b4d9a47dcd61bf",
              "IPY_MODEL_cb860d52f159422db8be7d3ee396c9d7"
            ]
          }
        },
        "9766e266f681473ba2c556c34f24e427": {
          "model_module": "@jupyter-widgets/base",
          "model_name": "LayoutModel",
          "model_module_version": "1.2.0",
          "state": {
            "_view_name": "LayoutView",
            "grid_template_rows": null,
            "right": null,
            "justify_content": null,
            "_view_module": "@jupyter-widgets/base",
            "overflow": null,
            "_model_module_version": "1.2.0",
            "_view_count": null,
            "flex_flow": null,
            "width": null,
            "min_width": null,
            "border": null,
            "align_items": null,
            "bottom": null,
            "_model_module": "@jupyter-widgets/base",
            "top": null,
            "grid_column": null,
            "overflow_y": null,
            "overflow_x": null,
            "grid_auto_flow": null,
            "grid_area": null,
            "grid_template_columns": null,
            "flex": null,
            "_model_name": "LayoutModel",
            "justify_items": null,
            "grid_row": null,
            "max_height": null,
            "align_content": null,
            "visibility": null,
            "align_self": null,
            "height": null,
            "min_height": null,
            "padding": null,
            "grid_auto_rows": null,
            "grid_gap": null,
            "max_width": null,
            "order": null,
            "_view_module_version": "1.2.0",
            "grid_template_areas": null,
            "object_position": null,
            "object_fit": null,
            "grid_auto_columns": null,
            "margin": null,
            "display": null,
            "left": null
          }
        },
        "6fd7fb0d5fd74301a8355b34ea58cc37": {
          "model_module": "@jupyter-widgets/controls",
          "model_name": "TextModel",
          "model_module_version": "1.5.0",
          "state": {
            "_view_name": "TextView",
            "style": "IPY_MODEL_308b5fb3f64341faa294aef6c8c9bdfd",
            "_dom_classes": [],
            "description": "Input:",
            "_model_name": "TextModel",
            "placeholder": "Sigma: {0,1}",
            "_view_module": "@jupyter-widgets/controls",
            "_model_module_version": "1.5.0",
            "value": "10010",
            "_view_count": null,
            "disabled": true,
            "_view_module_version": "1.5.0",
            "continuous_update": true,
            "description_tooltip": null,
            "_model_module": "@jupyter-widgets/controls",
            "layout": "IPY_MODEL_77f8108ce4a8422ab03551892ae81066"
          }
        },
        "5ce37f111cd848ad98634e7f73f6375d": {
          "model_module": "@jupyter-widgets/controls",
          "model_name": "ButtonModel",
          "model_module_version": "1.5.0",
          "state": {
            "_view_name": "ButtonView",
            "style": "IPY_MODEL_53d2daf28b684b479f3a066112711946",
            "_dom_classes": [],
            "description": "Change Input",
            "_model_name": "ButtonModel",
            "button_style": "primary",
            "_view_module": "@jupyter-widgets/controls",
            "_model_module_version": "1.5.0",
            "tooltip": "",
            "_view_count": null,
            "disabled": false,
            "_view_module_version": "1.5.0",
            "layout": "IPY_MODEL_9edb1800678a434da5e22917d485fa61",
            "_model_module": "@jupyter-widgets/controls",
            "icon": ""
          }
        },
        "5be370463843472898320a6afe384e29": {
          "model_module": "@jupyter-widgets/base",
          "model_name": "LayoutModel",
          "model_module_version": "1.2.0",
          "state": {
            "_view_name": "LayoutView",
            "grid_template_rows": null,
            "right": null,
            "justify_content": null,
            "_view_module": "@jupyter-widgets/base",
            "overflow": null,
            "_model_module_version": "1.2.0",
            "_view_count": null,
            "flex_flow": null,
            "width": null,
            "min_width": null,
            "border": null,
            "align_items": null,
            "bottom": null,
            "_model_module": "@jupyter-widgets/base",
            "top": null,
            "grid_column": null,
            "overflow_y": null,
            "overflow_x": null,
            "grid_auto_flow": null,
            "grid_area": null,
            "grid_template_columns": null,
            "flex": null,
            "_model_name": "LayoutModel",
            "justify_items": null,
            "grid_row": null,
            "max_height": null,
            "align_content": null,
            "visibility": null,
            "align_self": null,
            "height": null,
            "min_height": null,
            "padding": null,
            "grid_auto_rows": null,
            "grid_gap": null,
            "max_width": null,
            "order": null,
            "_view_module_version": "1.2.0",
            "grid_template_areas": null,
            "object_position": null,
            "object_fit": null,
            "grid_auto_columns": null,
            "margin": null,
            "display": null,
            "left": null
          }
        },
        "cee1e7c0d56347edae40ae6c940bce2e": {
          "model_module": "@jupyter-widgets/controls",
          "model_name": "PlayModel",
          "model_module_version": "1.5.0",
          "state": {
            "_view_name": "PlayView",
            "style": "IPY_MODEL_cd10bf920ac74c0da5bcb1755197849f",
            "interval": 950,
            "_dom_classes": [],
            "description": "Press play",
            "_model_name": "PlayModel",
            "max": 15,
            "_view_module": "@jupyter-widgets/controls",
            "_model_module_version": "1.5.0",
            "value": 15,
            "_view_count": null,
            "disabled": false,
            "_repeat": false,
            "_view_module_version": "1.5.0",
            "show_repeat": true,
            "min": 0,
            "_playing": false,
            "step": 1,
            "description_tooltip": null,
            "_model_module": "@jupyter-widgets/controls",
            "layout": "IPY_MODEL_ca45396429f442358583f82e0b084434"
          }
        },
        "d99e184b095d40b0b44f0dfda15c21d2": {
          "model_module": "@jupyter-widgets/controls",
          "model_name": "ButtonModel",
          "model_module_version": "1.5.0",
          "state": {
            "_view_name": "ButtonView",
            "style": "IPY_MODEL_466ce93b79bf4979a34c21acad44d190",
            "_dom_classes": [],
            "description": "",
            "_model_name": "ButtonModel",
            "button_style": "",
            "_view_module": "@jupyter-widgets/controls",
            "_model_module_version": "1.5.0",
            "tooltip": "",
            "_view_count": null,
            "disabled": false,
            "_view_module_version": "1.5.0",
            "layout": "IPY_MODEL_bad4009cc7844c68aaec01d525400157",
            "_model_module": "@jupyter-widgets/controls",
            "icon": "step-backward"
          }
        },
        "704d3f3838184973a5b4d9a47dcd61bf": {
          "model_module": "@jupyter-widgets/controls",
          "model_name": "ButtonModel",
          "model_module_version": "1.5.0",
          "state": {
            "_view_name": "ButtonView",
            "style": "IPY_MODEL_249ba544d9654e9982cf9b8831761cbe",
            "_dom_classes": [],
            "description": "",
            "_model_name": "ButtonModel",
            "button_style": "",
            "_view_module": "@jupyter-widgets/controls",
            "_model_module_version": "1.5.0",
            "tooltip": "",
            "_view_count": null,
            "disabled": true,
            "_view_module_version": "1.5.0",
            "layout": "IPY_MODEL_d3b14be0e9a54a2297366379a4f223a8",
            "_model_module": "@jupyter-widgets/controls",
            "icon": "step-forward"
          }
        },
        "cb860d52f159422db8be7d3ee396c9d7": {
          "model_module": "@jupyter-widgets/controls",
          "model_name": "IntSliderModel",
          "model_module_version": "1.5.0",
          "state": {
            "_view_name": "IntSliderView",
            "style": "IPY_MODEL_37bef2d191444807ac89c3bcca3da556",
            "_dom_classes": [],
            "description": "Speed:",
            "step": 1,
            "_model_name": "IntSliderModel",
            "orientation": "horizontal",
            "max": 10,
            "_view_module": "@jupyter-widgets/controls",
            "_model_module_version": "1.5.0",
            "value": 1,
            "_view_count": null,
            "disabled": false,
            "_view_module_version": "1.5.0",
            "min": 1,
            "continuous_update": false,
            "readout_format": "d",
            "description_tooltip": null,
            "readout": true,
            "_model_module": "@jupyter-widgets/controls",
            "layout": "IPY_MODEL_7df465fbc2a847e4b64b36ee937bd5d3"
          }
        },
        "308b5fb3f64341faa294aef6c8c9bdfd": {
          "model_module": "@jupyter-widgets/controls",
          "model_name": "DescriptionStyleModel",
          "model_module_version": "1.5.0",
          "state": {
            "_view_name": "StyleView",
            "_model_name": "DescriptionStyleModel",
            "description_width": "",
            "_view_module": "@jupyter-widgets/base",
            "_model_module_version": "1.5.0",
            "_view_count": null,
            "_view_module_version": "1.2.0",
            "_model_module": "@jupyter-widgets/controls"
          }
        },
        "77f8108ce4a8422ab03551892ae81066": {
          "model_module": "@jupyter-widgets/base",
          "model_name": "LayoutModel",
          "model_module_version": "1.2.0",
          "state": {
            "_view_name": "LayoutView",
            "grid_template_rows": null,
            "right": null,
            "justify_content": null,
            "_view_module": "@jupyter-widgets/base",
            "overflow": null,
            "_model_module_version": "1.2.0",
            "_view_count": null,
            "flex_flow": null,
            "width": "500px",
            "min_width": null,
            "border": null,
            "align_items": null,
            "bottom": null,
            "_model_module": "@jupyter-widgets/base",
            "top": null,
            "grid_column": null,
            "overflow_y": null,
            "overflow_x": null,
            "grid_auto_flow": null,
            "grid_area": null,
            "grid_template_columns": null,
            "flex": null,
            "_model_name": "LayoutModel",
            "justify_items": null,
            "grid_row": null,
            "max_height": null,
            "align_content": null,
            "visibility": null,
            "align_self": null,
            "height": null,
            "min_height": null,
            "padding": null,
            "grid_auto_rows": null,
            "grid_gap": null,
            "max_width": null,
            "order": null,
            "_view_module_version": "1.2.0",
            "grid_template_areas": null,
            "object_position": null,
            "object_fit": null,
            "grid_auto_columns": null,
            "margin": null,
            "display": null,
            "left": null
          }
        },
        "53d2daf28b684b479f3a066112711946": {
          "model_module": "@jupyter-widgets/controls",
          "model_name": "ButtonStyleModel",
          "model_module_version": "1.5.0",
          "state": {
            "_view_name": "StyleView",
            "_model_name": "ButtonStyleModel",
            "_view_module": "@jupyter-widgets/base",
            "_model_module_version": "1.5.0",
            "_view_count": null,
            "button_color": null,
            "font_weight": "",
            "_view_module_version": "1.2.0",
            "_model_module": "@jupyter-widgets/controls"
          }
        },
        "9edb1800678a434da5e22917d485fa61": {
          "model_module": "@jupyter-widgets/base",
          "model_name": "LayoutModel",
          "model_module_version": "1.2.0",
          "state": {
            "_view_name": "LayoutView",
            "grid_template_rows": null,
            "right": null,
            "justify_content": null,
            "_view_module": "@jupyter-widgets/base",
            "overflow": null,
            "_model_module_version": "1.2.0",
            "_view_count": null,
            "flex_flow": null,
            "width": null,
            "min_width": null,
            "border": null,
            "align_items": null,
            "bottom": null,
            "_model_module": "@jupyter-widgets/base",
            "top": null,
            "grid_column": null,
            "overflow_y": null,
            "overflow_x": null,
            "grid_auto_flow": null,
            "grid_area": null,
            "grid_template_columns": null,
            "flex": null,
            "_model_name": "LayoutModel",
            "justify_items": null,
            "grid_row": null,
            "max_height": null,
            "align_content": null,
            "visibility": null,
            "align_self": null,
            "height": null,
            "min_height": null,
            "padding": null,
            "grid_auto_rows": null,
            "grid_gap": null,
            "max_width": null,
            "order": null,
            "_view_module_version": "1.2.0",
            "grid_template_areas": null,
            "object_position": null,
            "object_fit": null,
            "grid_auto_columns": null,
            "margin": null,
            "display": null,
            "left": null
          }
        },
        "cd10bf920ac74c0da5bcb1755197849f": {
          "model_module": "@jupyter-widgets/controls",
          "model_name": "DescriptionStyleModel",
          "model_module_version": "1.5.0",
          "state": {
            "_view_name": "StyleView",
            "_model_name": "DescriptionStyleModel",
            "description_width": "",
            "_view_module": "@jupyter-widgets/base",
            "_model_module_version": "1.5.0",
            "_view_count": null,
            "_view_module_version": "1.2.0",
            "_model_module": "@jupyter-widgets/controls"
          }
        },
        "ca45396429f442358583f82e0b084434": {
          "model_module": "@jupyter-widgets/base",
          "model_name": "LayoutModel",
          "model_module_version": "1.2.0",
          "state": {
            "_view_name": "LayoutView",
            "grid_template_rows": null,
            "right": null,
            "justify_content": null,
            "_view_module": "@jupyter-widgets/base",
            "overflow": null,
            "_model_module_version": "1.2.0",
            "_view_count": null,
            "flex_flow": null,
            "width": null,
            "min_width": null,
            "border": null,
            "align_items": null,
            "bottom": null,
            "_model_module": "@jupyter-widgets/base",
            "top": null,
            "grid_column": null,
            "overflow_y": null,
            "overflow_x": null,
            "grid_auto_flow": null,
            "grid_area": null,
            "grid_template_columns": null,
            "flex": null,
            "_model_name": "LayoutModel",
            "justify_items": null,
            "grid_row": null,
            "max_height": null,
            "align_content": null,
            "visibility": null,
            "align_self": null,
            "height": null,
            "min_height": null,
            "padding": null,
            "grid_auto_rows": null,
            "grid_gap": null,
            "max_width": null,
            "order": null,
            "_view_module_version": "1.2.0",
            "grid_template_areas": null,
            "object_position": null,
            "object_fit": null,
            "grid_auto_columns": null,
            "margin": null,
            "display": null,
            "left": null
          }
        },
        "466ce93b79bf4979a34c21acad44d190": {
          "model_module": "@jupyter-widgets/controls",
          "model_name": "ButtonStyleModel",
          "model_module_version": "1.5.0",
          "state": {
            "_view_name": "StyleView",
            "_model_name": "ButtonStyleModel",
            "_view_module": "@jupyter-widgets/base",
            "_model_module_version": "1.5.0",
            "_view_count": null,
            "button_color": null,
            "font_weight": "",
            "_view_module_version": "1.2.0",
            "_model_module": "@jupyter-widgets/controls"
          }
        },
        "bad4009cc7844c68aaec01d525400157": {
          "model_module": "@jupyter-widgets/base",
          "model_name": "LayoutModel",
          "model_module_version": "1.2.0",
          "state": {
            "_view_name": "LayoutView",
            "grid_template_rows": null,
            "right": null,
            "justify_content": null,
            "_view_module": "@jupyter-widgets/base",
            "overflow": null,
            "_model_module_version": "1.2.0",
            "_view_count": null,
            "flex_flow": null,
            "width": "40px",
            "min_width": null,
            "border": null,
            "align_items": null,
            "bottom": null,
            "_model_module": "@jupyter-widgets/base",
            "top": null,
            "grid_column": null,
            "overflow_y": null,
            "overflow_x": null,
            "grid_auto_flow": null,
            "grid_area": null,
            "grid_template_columns": null,
            "flex": null,
            "_model_name": "LayoutModel",
            "justify_items": null,
            "grid_row": null,
            "max_height": null,
            "align_content": null,
            "visibility": null,
            "align_self": null,
            "height": null,
            "min_height": null,
            "padding": null,
            "grid_auto_rows": null,
            "grid_gap": null,
            "max_width": null,
            "order": null,
            "_view_module_version": "1.2.0",
            "grid_template_areas": null,
            "object_position": null,
            "object_fit": null,
            "grid_auto_columns": null,
            "margin": null,
            "display": null,
            "left": null
          }
        },
        "249ba544d9654e9982cf9b8831761cbe": {
          "model_module": "@jupyter-widgets/controls",
          "model_name": "ButtonStyleModel",
          "model_module_version": "1.5.0",
          "state": {
            "_view_name": "StyleView",
            "_model_name": "ButtonStyleModel",
            "_view_module": "@jupyter-widgets/base",
            "_model_module_version": "1.5.0",
            "_view_count": null,
            "button_color": null,
            "font_weight": "",
            "_view_module_version": "1.2.0",
            "_model_module": "@jupyter-widgets/controls"
          }
        },
        "d3b14be0e9a54a2297366379a4f223a8": {
          "model_module": "@jupyter-widgets/base",
          "model_name": "LayoutModel",
          "model_module_version": "1.2.0",
          "state": {
            "_view_name": "LayoutView",
            "grid_template_rows": null,
            "right": null,
            "justify_content": null,
            "_view_module": "@jupyter-widgets/base",
            "overflow": null,
            "_model_module_version": "1.2.0",
            "_view_count": null,
            "flex_flow": null,
            "width": "40px",
            "min_width": null,
            "border": null,
            "align_items": null,
            "bottom": null,
            "_model_module": "@jupyter-widgets/base",
            "top": null,
            "grid_column": null,
            "overflow_y": null,
            "overflow_x": null,
            "grid_auto_flow": null,
            "grid_area": null,
            "grid_template_columns": null,
            "flex": null,
            "_model_name": "LayoutModel",
            "justify_items": null,
            "grid_row": null,
            "max_height": null,
            "align_content": null,
            "visibility": null,
            "align_self": null,
            "height": null,
            "min_height": null,
            "padding": null,
            "grid_auto_rows": null,
            "grid_gap": null,
            "max_width": null,
            "order": null,
            "_view_module_version": "1.2.0",
            "grid_template_areas": null,
            "object_position": null,
            "object_fit": null,
            "grid_auto_columns": null,
            "margin": null,
            "display": null,
            "left": null
          }
        },
        "37bef2d191444807ac89c3bcca3da556": {
          "model_module": "@jupyter-widgets/controls",
          "model_name": "SliderStyleModel",
          "model_module_version": "1.5.0",
          "state": {
            "_view_name": "StyleView",
            "handle_color": null,
            "_model_name": "SliderStyleModel",
            "description_width": "",
            "_view_module": "@jupyter-widgets/base",
            "_model_module_version": "1.5.0",
            "_view_count": null,
            "_view_module_version": "1.2.0",
            "_model_module": "@jupyter-widgets/controls"
          }
        },
        "7df465fbc2a847e4b64b36ee937bd5d3": {
          "model_module": "@jupyter-widgets/base",
          "model_name": "LayoutModel",
          "model_module_version": "1.2.0",
          "state": {
            "_view_name": "LayoutView",
            "grid_template_rows": null,
            "right": null,
            "justify_content": null,
            "_view_module": "@jupyter-widgets/base",
            "overflow": null,
            "_model_module_version": "1.2.0",
            "_view_count": null,
            "flex_flow": null,
            "width": null,
            "min_width": null,
            "border": null,
            "align_items": null,
            "bottom": null,
            "_model_module": "@jupyter-widgets/base",
            "top": null,
            "grid_column": null,
            "overflow_y": null,
            "overflow_x": null,
            "grid_auto_flow": null,
            "grid_area": null,
            "grid_template_columns": null,
            "flex": null,
            "_model_name": "LayoutModel",
            "justify_items": null,
            "grid_row": null,
            "max_height": null,
            "align_content": null,
            "visibility": null,
            "align_self": null,
            "height": null,
            "min_height": null,
            "padding": null,
            "grid_auto_rows": null,
            "grid_gap": null,
            "max_width": null,
            "order": null,
            "_view_module_version": "1.2.0",
            "grid_template_areas": null,
            "object_position": null,
            "object_fit": null,
            "grid_auto_columns": null,
            "margin": null,
            "display": null,
            "left": null
          }
        },
        "96aa8a2e0a4641e28d82e2a9196af03e": {
          "model_module": "@jupyter-widgets/base",
          "model_name": "LayoutModel",
          "model_module_version": "1.2.0",
          "state": {
            "_view_name": "LayoutView",
            "grid_template_rows": null,
            "right": null,
            "justify_content": null,
            "_view_module": "@jupyter-widgets/base",
            "overflow": null,
            "_model_module_version": "1.2.0",
            "_view_count": null,
            "flex_flow": null,
            "width": null,
            "min_width": null,
            "border": null,
            "align_items": null,
            "bottom": null,
            "_model_module": "@jupyter-widgets/base",
            "top": null,
            "grid_column": null,
            "overflow_y": null,
            "overflow_x": null,
            "grid_auto_flow": null,
            "grid_area": null,
            "grid_template_columns": null,
            "flex": null,
            "_model_name": "LayoutModel",
            "justify_items": null,
            "grid_row": null,
            "max_height": null,
            "align_content": null,
            "visibility": null,
            "align_self": null,
            "height": null,
            "min_height": null,
            "padding": null,
            "grid_auto_rows": null,
            "grid_gap": null,
            "max_width": null,
            "order": null,
            "_view_module_version": "1.2.0",
            "grid_template_areas": null,
            "object_position": null,
            "object_fit": null,
            "grid_auto_columns": null,
            "margin": null,
            "display": null,
            "left": null
          }
        },
        "e7cb22f8ab814234ae17126fc483b83d": {
          "model_module": "@jupyter-widgets/base",
          "model_name": "LayoutModel",
          "model_module_version": "1.2.0",
          "state": {
            "_view_name": "LayoutView",
            "grid_template_rows": null,
            "right": null,
            "justify_content": null,
            "_view_module": "@jupyter-widgets/base",
            "overflow": null,
            "_model_module_version": "1.2.0",
            "_view_count": null,
            "flex_flow": null,
            "width": null,
            "min_width": null,
            "border": null,
            "align_items": null,
            "bottom": null,
            "_model_module": "@jupyter-widgets/base",
            "top": null,
            "grid_column": null,
            "overflow_y": null,
            "overflow_x": null,
            "grid_auto_flow": null,
            "grid_area": null,
            "grid_template_columns": null,
            "flex": null,
            "_model_name": "LayoutModel",
            "justify_items": null,
            "grid_row": null,
            "max_height": null,
            "align_content": null,
            "visibility": null,
            "align_self": null,
            "height": null,
            "min_height": null,
            "padding": null,
            "grid_auto_rows": null,
            "grid_gap": null,
            "max_width": null,
            "order": null,
            "_view_module_version": "1.2.0",
            "grid_template_areas": null,
            "object_position": null,
            "object_fit": null,
            "grid_auto_columns": null,
            "margin": null,
            "display": null,
            "left": null
          }
        }
      }
    }
  },
  "cells": [
    {
      "cell_type": "markdown",
      "metadata": {
        "id": "view-in-github",
        "colab_type": "text"
      },
      "source": [
        "<a href=\"https://colab.research.google.com/github/bcasazharuddin/Automata-_Theory/blob/main/Assignment_1.ipynb\" target=\"_parent\"><img src=\"https://colab.research.google.com/assets/colab-badge.svg\" alt=\"Open In Colab\"/></a>"
      ]
    },
    {
      "cell_type": "code",
      "metadata": {
        "run_control": {
          "frozen": false,
          "read_only": false
        },
        "scrolled": true,
        "id": "vwcAwEFM72Xs",
        "colab": {
          "base_uri": "https://localhost:8080/"
        },
        "outputId": "5f010409-c5aa-4c16-cd34-ee5c3200e997"
      },
      "source": [
        "#~~~~~~~~~~~~~~~~~~~~~~~~~~~~~~~~~~~~~~~~~~~~~~~~~~~~~~~\n",
        "import sys\n",
        "\n",
        "# -- Detect if in Own Install or in Colab\n",
        "try:\n",
        "    import google.colab\n",
        "    OWN_INSTALL = False\n",
        "except:\n",
        "    OWN_INSTALL = True\n",
        "    \n",
        "if OWN_INSTALL:\n",
        "    \n",
        "  #---- Leave these definitions ON if running on laptop\n",
        "  #---- Else turn OFF by putting them between ''' ... '''\n",
        "\n",
        "  sys.path[0:0] = ['../../../../..',  '../../../../../3rdparty',  \n",
        "                   '../../../..',  '../../../../3rdparty',  \n",
        "                   '../../..',     '../../../3rdparty', \n",
        "                   '../..',        '../../3rdparty',\n",
        "                   '..',           '../3rdparty' ]\n",
        "\n",
        "else: # In colab\n",
        "  ! if [ ! -d Jove ]; then git clone https://github.com/ganeshutah/Jove Jove; fi\n",
        "  sys.path.append('./Jove')\n",
        "  sys.path.append('./Jove/jove')\n",
        "\n",
        "# -- common imports --\n",
        "from jove.DotBashers import *\n",
        "from jove.Def_md2mc  import *\n",
        "from jove.Def_NFA    import *\n",
        "from jove.Def_DFA    import *\n",
        "from jove.AnimateNFA import *\n",
        "#~~~~~~~~~~~~~~~~~~~~~~~~~~~~~~~~~~~~~~~~~~~~~~~~~~~~~~~"
      ],
      "execution_count": 1,
      "outputs": [
        {
          "output_type": "stream",
          "name": "stdout",
          "text": [
            "Cloning into 'Jove'...\n",
            "remote: Enumerating objects: 5094, done.\u001b[K\n",
            "remote: Counting objects: 100% (460/460), done.\u001b[K\n",
            "remote: Compressing objects: 100% (321/321), done.\u001b[K\n",
            "remote: Total 5094 (delta 265), reused 308 (delta 124), pack-reused 4634\u001b[K\n",
            "Receiving objects: 100% (5094/5094), 7.64 MiB | 7.10 MiB/s, done.\n",
            "Resolving deltas: 100% (3270/3270), done.\n",
            "You may use any of these help commands:\n",
            "help(ResetStNum)\n",
            "help(NxtStateStr)\n",
            "\n",
            "You may use any of these help commands:\n",
            "help(md2mc)\n",
            ".. and if you want to dig more, then ..\n",
            "help(default_line_attr)\n",
            "help(length_ok_input_items)\n",
            "help(union_line_attr_list_fld)\n",
            "help(extend_rsltdict)\n",
            "help(form_delta)\n",
            "help(get_machine_components)\n",
            "\n",
            "You may use any of these help commands:\n",
            "help(mkp_dfa)\n",
            "help(mk_dfa)\n",
            "help(totalize_dfa)\n",
            "help(addtosigma_delta)\n",
            "help(step_dfa)\n",
            "help(run_dfa)\n",
            "help(accepts_dfa)\n",
            "help(comp_dfa)\n",
            "help(union_dfa)\n",
            "help(intersect_dfa)\n",
            "help(pruneUnreach)\n",
            "help(iso_dfa)\n",
            "help(langeq_dfa)\n",
            "help(same_status)\n",
            "help(h_langeq_dfa)\n",
            "help(fixptDist)\n",
            "help(min_dfa)\n",
            "help(pairFR)\n",
            "help(state_combos)\n",
            "help(sepFinNonFin)\n",
            "help(bash_eql_classes)\n",
            "help(listminus)\n",
            "help(bash_1)\n",
            "help(mk_rep_eqc)\n",
            "help(F_of)\n",
            "help(rep_of_s)\n",
            "help(q0_of)\n",
            "help(Delta_of)\n",
            "help(mk_state_eqc_name)\n",
            "\n",
            "You may use any of these help commands:\n",
            "help(mk_nfa)\n",
            "help(totalize_nfa)\n",
            "help(step_nfa)\n",
            "help(run_nfa)\n",
            "help(ec_step_nfa)\n",
            "help(Eclosure)\n",
            "help(Echelp)\n",
            "help(accepts_nfa)\n",
            "help(nfa2dfa)\n",
            "help(n2d)\n",
            "help(inSets)\n",
            "help(rev_dfa)\n",
            "help(min_dfa_brz)\n",
            "\n",
            " \"help(AnimateNFA)\" gives you info on how to use animations with NFA \n"
          ]
        }
      ]
    },
    {
      "cell_type": "markdown",
      "metadata": {
        "id": "X4GvlAbJ72Xu"
      },
      "source": [
        "# Problem 1: Design an NFA for $\\{0,1\\}^* 1 0$ (\"Ends 10\")\n",
        "\n",
        "## It will be a 3-state NFA, and name the states as I, S0, and F\n",
        "\n",
        "### Document each line of your code with a short comment\n"
      ]
    },
    {
      "cell_type": "code",
      "metadata": {
        "id": "YsXPfYCG72Xv"
      },
      "source": [
        "# SOLUTION\n",
        "\n",
        "nfaEnds10 = md2mc('''\n",
        "NFA \n",
        " I : 0 -> I\n",
        " I : 1 -> I\n",
        " I : 1 -> S0\n",
        " S0 : 0 -> F\n",
        " \n",
        "''')"
      ],
      "execution_count": 11,
      "outputs": []
    },
    {
      "cell_type": "markdown",
      "metadata": {
        "id": "TXD_r3Fx72Xy"
      },
      "source": [
        "# Problem 2: Execute the cell below and follow the bulleted instructions\n",
        "\n",
        "* When the animation pane comes up, type in 10010 and Use Animate to illustate.\n"
      ]
    },
    {
      "cell_type": "code",
      "metadata": {
        "scrolled": false,
        "id": "uylFlj3H72Xz",
        "colab": {
          "base_uri": "https://localhost:8080/",
          "height": 304,
          "referenced_widgets": [
            "257ab5ca7a464e038d492d2f9b6cc3e1",
            "48ae9b93fe0949468083ac0790a0927a",
            "9fa32c74f71d48a28d8caf9043334183",
            "b3ad007c0cae451b8c805fa1965405e9",
            "c505cbc1761f40fdae18b8893fe168bb",
            "0401997604664cb2912ee55ca6e4a668",
            "9766e266f681473ba2c556c34f24e427",
            "6fd7fb0d5fd74301a8355b34ea58cc37",
            "5ce37f111cd848ad98634e7f73f6375d",
            "5be370463843472898320a6afe384e29",
            "cee1e7c0d56347edae40ae6c940bce2e",
            "d99e184b095d40b0b44f0dfda15c21d2",
            "704d3f3838184973a5b4d9a47dcd61bf",
            "cb860d52f159422db8be7d3ee396c9d7",
            "308b5fb3f64341faa294aef6c8c9bdfd",
            "77f8108ce4a8422ab03551892ae81066",
            "53d2daf28b684b479f3a066112711946",
            "9edb1800678a434da5e22917d485fa61",
            "cd10bf920ac74c0da5bcb1755197849f",
            "ca45396429f442358583f82e0b084434",
            "466ce93b79bf4979a34c21acad44d190",
            "bad4009cc7844c68aaec01d525400157",
            "249ba544d9654e9982cf9b8831761cbe",
            "d3b14be0e9a54a2297366379a4f223a8",
            "37bef2d191444807ac89c3bcca3da556",
            "7df465fbc2a847e4b64b36ee937bd5d3",
            "96aa8a2e0a4641e28d82e2a9196af03e",
            "e7cb22f8ab814234ae17126fc483b83d"
          ]
        },
        "outputId": "643f1999-6aaf-4428-89d6-853793ddb015"
      },
      "source": [
        "AnimateNFA(nfaEnds10, FuseEdges=False)\n",
        "display(HTML('<link rel=\\\"stylesheet\\\" href=\\\"//stackpath.bootstrapcdn.com/font-awesome/4.7.0/css/font-awesome.min.css\\\"/>'))"
      ],
      "execution_count": 12,
      "outputs": [
        {
          "output_type": "display_data",
          "data": {
            "application/vnd.jupyter.widget-view+json": {
              "model_id": "257ab5ca7a464e038d492d2f9b6cc3e1",
              "version_minor": 0,
              "version_major": 2
            },
            "text/plain": [
              "VBox(children=(HBox(children=(Text(value='', description='Input:', layout=Layout(width='500px'), placeholder='…"
            ]
          },
          "metadata": {}
        },
        {
          "output_type": "display_data",
          "data": {
            "text/html": [
              "<link rel=\"stylesheet\" href=\"//stackpath.bootstrapcdn.com/font-awesome/4.7.0/css/font-awesome.min.css\"/>"
            ],
            "text/plain": [
              "<IPython.core.display.HTML object>"
            ]
          },
          "metadata": {}
        }
      ]
    },
    {
      "cell_type": "markdown",
      "metadata": {
        "id": "-FzyWvdp72X1"
      },
      "source": [
        "# Problem 3: Convert the NFA to a DFA (using an appropriate Jove Statement)"
      ]
    },
    {
      "cell_type": "code",
      "metadata": {
        "id": "4MYDq0EfmcEG"
      },
      "source": [
        "dfa = nfa2dfa(nfaEnds10, STATENAME_MAXSIZE = 40)"
      ],
      "execution_count": 13,
      "outputs": []
    },
    {
      "cell_type": "code",
      "metadata": {
        "colab": {
          "base_uri": "https://localhost:8080/",
          "height": 199
        },
        "id": "ZwviLQ0Qmpfw",
        "outputId": "40c6918d-542d-420f-b30a-64faccddf5e1"
      },
      "source": [
        "dotObj_dfa(dfa, STATENAME_MAXSIZE = 40)"
      ],
      "execution_count": 14,
      "outputs": [
        {
          "output_type": "execute_result",
          "data": {
            "text/plain": [
              "<graphviz.dot.Digraph at 0x7fea6a70fb90>"
            ],
            "image/svg+xml": "<?xml version=\"1.0\" encoding=\"UTF-8\" standalone=\"no\"?>\n<!DOCTYPE svg PUBLIC \"-//W3C//DTD SVG 1.1//EN\"\n \"http://www.w3.org/Graphics/SVG/1.1/DTD/svg11.dtd\">\n<!-- Generated by graphviz version 2.40.1 (20161225.0304)\n -->\n<!-- Title: %3 Pages: 1 -->\n<svg width=\"344pt\" height=\"134pt\"\n viewBox=\"0.00 0.00 344.29 133.60\" xmlns=\"http://www.w3.org/2000/svg\" xmlns:xlink=\"http://www.w3.org/1999/xlink\">\n<g id=\"graph0\" class=\"graph\" transform=\"scale(1 1) rotate(0) translate(4 129.5975)\">\n<title>%3</title>\n<polygon fill=\"#ffffff\" stroke=\"transparent\" points=\"-4,4 -4,-129.5975 340.2907,-129.5975 340.2907,4 -4,4\"/>\n<!-- EMPTY -->\n<g id=\"node1\" class=\"node\">\n<title>EMPTY</title>\n</g>\n<!-- I -->\n<g id=\"node3\" class=\"node\">\n<title>I</title>\n<ellipse fill=\"none\" stroke=\"#000000\" cx=\"109\" cy=\"-18\" rx=\"18\" ry=\"18\"/>\n<text text-anchor=\"middle\" x=\"109\" y=\"-14.3\" font-family=\"Times,serif\" font-size=\"14.00\" fill=\"#000000\">I</text>\n</g>\n<!-- EMPTY&#45;&gt;I -->\n<g id=\"edge1\" class=\"edge\">\n<title>EMPTY&#45;&gt;I</title>\n<path fill=\"none\" stroke=\"#000000\" d=\"M54.3048,-18C62.6909,-18 71.9407,-18 80.4103,-18\"/>\n<polygon fill=\"#000000\" stroke=\"#000000\" points=\"80.5976,-21.5001 90.5976,-18 80.5976,-14.5001 80.5976,-21.5001\"/>\n</g>\n<!-- I_S0 -->\n<g id=\"node2\" class=\"node\">\n<title>I_S0</title>\n<ellipse fill=\"none\" stroke=\"#000000\" cx=\"203.5975\" cy=\"-64\" rx=\"28.6953\" ry=\"28.6953\"/>\n<text text-anchor=\"middle\" x=\"203.5975\" y=\"-60.3\" font-family=\"Times,serif\" font-size=\"14.00\" fill=\"#000000\">I_S0</text>\n</g>\n<!-- I_S0&#45;&gt;I_S0 -->\n<g id=\"edge4\" class=\"edge\">\n<title>I_S0&#45;&gt;I_S0</title>\n<path fill=\"none\" stroke=\"#000000\" d=\"M193.8855,-91.2819C193.4539,-101.8301 196.6912,-110.5975 203.5975,-110.5975 208.0218,-110.5975 210.9404,-106.9993 212.3532,-101.6399\"/>\n<polygon fill=\"#000000\" stroke=\"#000000\" points=\"215.8753,-101.5613 213.3094,-91.2819 208.9049,-100.9178 215.8753,-101.5613\"/>\n<text text-anchor=\"middle\" x=\"203.5975\" y=\"-114.3975\" font-family=\"Times,serif\" font-size=\"14.00\" fill=\"#000000\">1 </text>\n</g>\n<!-- F_I -->\n<g id=\"node4\" class=\"node\">\n<title>F_I</title>\n<ellipse fill=\"none\" stroke=\"#000000\" cx=\"308.2428\" cy=\"-35\" rx=\"24.089\" ry=\"24.089\"/>\n<ellipse fill=\"none\" stroke=\"#000000\" cx=\"308.2428\" cy=\"-35\" rx=\"28.0958\" ry=\"28.0958\"/>\n<text text-anchor=\"middle\" x=\"308.2428\" y=\"-31.3\" font-family=\"Times,serif\" font-size=\"14.00\" fill=\"#000000\">F_I</text>\n</g>\n<!-- I_S0&#45;&gt;F_I -->\n<g id=\"edge5\" class=\"edge\">\n<title>I_S0&#45;&gt;F_I</title>\n<path fill=\"none\" stroke=\"#000000\" d=\"M231.7808,-58.441C241.4805,-56.3447 252.3703,-53.7865 262.1949,-51 265.3703,-50.0994 268.647,-49.1018 271.9203,-48.0578\"/>\n<polygon fill=\"#000000\" stroke=\"#000000\" points=\"273.2372,-51.3085 281.6256,-44.8366 271.0321,-44.6649 273.2372,-51.3085\"/>\n<text text-anchor=\"middle\" x=\"256.1949\" y=\"-56.8\" font-family=\"Times,serif\" font-size=\"14.00\" fill=\"#000000\">0 </text>\n</g>\n<!-- I&#45;&gt;I_S0 -->\n<g id=\"edge2\" class=\"edge\">\n<title>I&#45;&gt;I_S0</title>\n<path fill=\"none\" stroke=\"#000000\" d=\"M125.4776,-26.0126C137.2888,-31.756 153.6416,-39.7079 168.3345,-46.8526\"/>\n<polygon fill=\"#000000\" stroke=\"#000000\" points=\"167.162,-50.1743 177.6857,-51.3999 170.2232,-43.8791 167.162,-50.1743\"/>\n<text text-anchor=\"middle\" x=\"151\" y=\"-44.8\" font-family=\"Times,serif\" font-size=\"14.00\" fill=\"#000000\">1 </text>\n</g>\n<!-- I&#45;&gt;I -->\n<g id=\"edge3\" class=\"edge\">\n<title>I&#45;&gt;I</title>\n<path fill=\"none\" stroke=\"#000000\" d=\"M102.6208,-35.0373C101.3189,-44.8579 103.4453,-54 109,-54 112.4717,-54 114.6042,-50.4289 115.3975,-45.3529\"/>\n<polygon fill=\"#000000\" stroke=\"#000000\" points=\"118.8971,-45.031 115.3792,-35.0373 111.8971,-45.0435 118.8971,-45.031\"/>\n<text text-anchor=\"middle\" x=\"109\" y=\"-57.8\" font-family=\"Times,serif\" font-size=\"14.00\" fill=\"#000000\">0 </text>\n</g>\n<!-- F_I&#45;&gt;I_S0 -->\n<g id=\"edge6\" class=\"edge\">\n<title>F_I&#45;&gt;I_S0</title>\n<path fill=\"none\" stroke=\"#000000\" d=\"M280.584,-29.684C270.7985,-28.8129 259.8328,-29.0093 250.1949,-32 244.5507,-33.7514 238.9835,-36.4495 233.7693,-39.552\"/>\n<polygon fill=\"#000000\" stroke=\"#000000\" points=\"231.817,-36.6469 225.3764,-45.0594 235.6573,-42.4994 231.817,-36.6469\"/>\n<text text-anchor=\"middle\" x=\"256.1949\" y=\"-35.8\" font-family=\"Times,serif\" font-size=\"14.00\" fill=\"#000000\">1 </text>\n</g>\n<!-- F_I&#45;&gt;I -->\n<g id=\"edge7\" class=\"edge\">\n<title>F_I&#45;&gt;I</title>\n<path fill=\"none\" stroke=\"#000000\" d=\"M281.9702,-24.5225C267.5346,-19.3263 249.1621,-13.6138 232.1949,-11 199.7742,-6.0056 162.0617,-9.4904 136.9873,-13.0977\"/>\n<polygon fill=\"#000000\" stroke=\"#000000\" points=\"136.4173,-9.6441 127.0672,-14.6268 137.4837,-16.5624 136.4173,-9.6441\"/>\n<text text-anchor=\"middle\" x=\"203.5975\" y=\"-14.8\" font-family=\"Times,serif\" font-size=\"14.00\" fill=\"#000000\">0 </text>\n</g>\n</g>\n</svg>\n"
          },
          "metadata": {},
          "execution_count": 14
        }
      ]
    },
    {
      "cell_type": "code",
      "metadata": {
        "colab": {
          "base_uri": "https://localhost:8080/",
          "height": 199
        },
        "id": "zzHjqDZ4m0a-",
        "outputId": "023ceab7-117e-48a7-e10a-1c2d006c82b2"
      },
      "source": [
        "dotObj_dfa_w_bh(dfa, STATENAME_MAXSIZE = 40)"
      ],
      "execution_count": 15,
      "outputs": [
        {
          "output_type": "execute_result",
          "data": {
            "text/plain": [
              "<graphviz.dot.Digraph at 0x7fea6a6d9990>"
            ],
            "image/svg+xml": "<?xml version=\"1.0\" encoding=\"UTF-8\" standalone=\"no\"?>\n<!DOCTYPE svg PUBLIC \"-//W3C//DTD SVG 1.1//EN\"\n \"http://www.w3.org/Graphics/SVG/1.1/DTD/svg11.dtd\">\n<!-- Generated by graphviz version 2.40.1 (20161225.0304)\n -->\n<!-- Title: %3 Pages: 1 -->\n<svg width=\"344pt\" height=\"134pt\"\n viewBox=\"0.00 0.00 344.29 133.60\" xmlns=\"http://www.w3.org/2000/svg\" xmlns:xlink=\"http://www.w3.org/1999/xlink\">\n<g id=\"graph0\" class=\"graph\" transform=\"scale(1 1) rotate(0) translate(4 129.5975)\">\n<title>%3</title>\n<polygon fill=\"#ffffff\" stroke=\"transparent\" points=\"-4,4 -4,-129.5975 340.2907,-129.5975 340.2907,4 -4,4\"/>\n<!-- EMPTY -->\n<g id=\"node1\" class=\"node\">\n<title>EMPTY</title>\n</g>\n<!-- I -->\n<g id=\"node3\" class=\"node\">\n<title>I</title>\n<ellipse fill=\"none\" stroke=\"#000000\" cx=\"109\" cy=\"-18\" rx=\"18\" ry=\"18\"/>\n<text text-anchor=\"middle\" x=\"109\" y=\"-14.3\" font-family=\"Times,serif\" font-size=\"14.00\" fill=\"#000000\">I</text>\n</g>\n<!-- EMPTY&#45;&gt;I -->\n<g id=\"edge1\" class=\"edge\">\n<title>EMPTY&#45;&gt;I</title>\n<path fill=\"none\" stroke=\"#000000\" d=\"M54.3048,-18C62.6909,-18 71.9407,-18 80.4103,-18\"/>\n<polygon fill=\"#000000\" stroke=\"#000000\" points=\"80.5976,-21.5001 90.5976,-18 80.5976,-14.5001 80.5976,-21.5001\"/>\n</g>\n<!-- I_S0 -->\n<g id=\"node2\" class=\"node\">\n<title>I_S0</title>\n<ellipse fill=\"none\" stroke=\"#000000\" cx=\"203.5975\" cy=\"-64\" rx=\"28.6953\" ry=\"28.6953\"/>\n<text text-anchor=\"middle\" x=\"203.5975\" y=\"-60.3\" font-family=\"Times,serif\" font-size=\"14.00\" fill=\"#000000\">I_S0</text>\n</g>\n<!-- I_S0&#45;&gt;I_S0 -->\n<g id=\"edge4\" class=\"edge\">\n<title>I_S0&#45;&gt;I_S0</title>\n<path fill=\"none\" stroke=\"#000000\" d=\"M193.8855,-91.2819C193.4539,-101.8301 196.6912,-110.5975 203.5975,-110.5975 208.0218,-110.5975 210.9404,-106.9993 212.3532,-101.6399\"/>\n<polygon fill=\"#000000\" stroke=\"#000000\" points=\"215.8753,-101.5613 213.3094,-91.2819 208.9049,-100.9178 215.8753,-101.5613\"/>\n<text text-anchor=\"middle\" x=\"203.5975\" y=\"-114.3975\" font-family=\"Times,serif\" font-size=\"14.00\" fill=\"#000000\">1 </text>\n</g>\n<!-- F_I -->\n<g id=\"node4\" class=\"node\">\n<title>F_I</title>\n<ellipse fill=\"none\" stroke=\"#000000\" cx=\"308.2428\" cy=\"-35\" rx=\"24.089\" ry=\"24.089\"/>\n<ellipse fill=\"none\" stroke=\"#000000\" cx=\"308.2428\" cy=\"-35\" rx=\"28.0958\" ry=\"28.0958\"/>\n<text text-anchor=\"middle\" x=\"308.2428\" y=\"-31.3\" font-family=\"Times,serif\" font-size=\"14.00\" fill=\"#000000\">F_I</text>\n</g>\n<!-- I_S0&#45;&gt;F_I -->\n<g id=\"edge5\" class=\"edge\">\n<title>I_S0&#45;&gt;F_I</title>\n<path fill=\"none\" stroke=\"#000000\" d=\"M231.7808,-58.441C241.4805,-56.3447 252.3703,-53.7865 262.1949,-51 265.3703,-50.0994 268.647,-49.1018 271.9203,-48.0578\"/>\n<polygon fill=\"#000000\" stroke=\"#000000\" points=\"273.2372,-51.3085 281.6256,-44.8366 271.0321,-44.6649 273.2372,-51.3085\"/>\n<text text-anchor=\"middle\" x=\"256.1949\" y=\"-56.8\" font-family=\"Times,serif\" font-size=\"14.00\" fill=\"#000000\">0 </text>\n</g>\n<!-- I&#45;&gt;I_S0 -->\n<g id=\"edge2\" class=\"edge\">\n<title>I&#45;&gt;I_S0</title>\n<path fill=\"none\" stroke=\"#000000\" d=\"M125.4776,-26.0126C137.2888,-31.756 153.6416,-39.7079 168.3345,-46.8526\"/>\n<polygon fill=\"#000000\" stroke=\"#000000\" points=\"167.162,-50.1743 177.6857,-51.3999 170.2232,-43.8791 167.162,-50.1743\"/>\n<text text-anchor=\"middle\" x=\"151\" y=\"-44.8\" font-family=\"Times,serif\" font-size=\"14.00\" fill=\"#000000\">1 </text>\n</g>\n<!-- I&#45;&gt;I -->\n<g id=\"edge3\" class=\"edge\">\n<title>I&#45;&gt;I</title>\n<path fill=\"none\" stroke=\"#000000\" d=\"M102.6208,-35.0373C101.3189,-44.8579 103.4453,-54 109,-54 112.4717,-54 114.6042,-50.4289 115.3975,-45.3529\"/>\n<polygon fill=\"#000000\" stroke=\"#000000\" points=\"118.8971,-45.031 115.3792,-35.0373 111.8971,-45.0435 118.8971,-45.031\"/>\n<text text-anchor=\"middle\" x=\"109\" y=\"-57.8\" font-family=\"Times,serif\" font-size=\"14.00\" fill=\"#000000\">0 </text>\n</g>\n<!-- F_I&#45;&gt;I_S0 -->\n<g id=\"edge6\" class=\"edge\">\n<title>F_I&#45;&gt;I_S0</title>\n<path fill=\"none\" stroke=\"#000000\" d=\"M280.584,-29.684C270.7985,-28.8129 259.8328,-29.0093 250.1949,-32 244.5507,-33.7514 238.9835,-36.4495 233.7693,-39.552\"/>\n<polygon fill=\"#000000\" stroke=\"#000000\" points=\"231.817,-36.6469 225.3764,-45.0594 235.6573,-42.4994 231.817,-36.6469\"/>\n<text text-anchor=\"middle\" x=\"256.1949\" y=\"-35.8\" font-family=\"Times,serif\" font-size=\"14.00\" fill=\"#000000\">1 </text>\n</g>\n<!-- F_I&#45;&gt;I -->\n<g id=\"edge7\" class=\"edge\">\n<title>F_I&#45;&gt;I</title>\n<path fill=\"none\" stroke=\"#000000\" d=\"M281.9702,-24.5225C267.5346,-19.3263 249.1621,-13.6138 232.1949,-11 199.7742,-6.0056 162.0617,-9.4904 136.9873,-13.0977\"/>\n<polygon fill=\"#000000\" stroke=\"#000000\" points=\"136.4173,-9.6441 127.0672,-14.6268 137.4837,-16.5624 136.4173,-9.6441\"/>\n<text text-anchor=\"middle\" x=\"203.5975\" y=\"-14.8\" font-family=\"Times,serif\" font-size=\"14.00\" fill=\"#000000\">0 </text>\n</g>\n</g>\n</svg>\n"
          },
          "metadata": {},
          "execution_count": 15
        }
      ]
    },
    {
      "cell_type": "code",
      "metadata": {
        "colab": {
          "base_uri": "https://localhost:8080/",
          "height": 191
        },
        "id": "81TDvaZfnKck",
        "outputId": "5c5f3744-db14-4942-ddcc-8fdcbf0755f6"
      },
      "source": [
        "dotObj_dfa(dfa, STATENAME_MAXSIZE = 10)"
      ],
      "execution_count": 16,
      "outputs": [
        {
          "output_type": "execute_result",
          "data": {
            "text/plain": [
              "<graphviz.dot.Digraph at 0x7fea6a5b0c50>"
            ],
            "image/svg+xml": "<?xml version=\"1.0\" encoding=\"UTF-8\" standalone=\"no\"?>\n<!DOCTYPE svg PUBLIC \"-//W3C//DTD SVG 1.1//EN\"\n \"http://www.w3.org/Graphics/SVG/1.1/DTD/svg11.dtd\">\n<!-- Generated by graphviz version 2.40.1 (20161225.0304)\n -->\n<!-- Title: %3 Pages: 1 -->\n<svg width=\"343pt\" height=\"128pt\"\n viewBox=\"0.00 0.00 343.39 127.80\" xmlns=\"http://www.w3.org/2000/svg\" xmlns:xlink=\"http://www.w3.org/1999/xlink\">\n<g id=\"graph0\" class=\"graph\" transform=\"scale(1 1) rotate(0) translate(4 123.7958)\">\n<title>%3</title>\n<polygon fill=\"#ffffff\" stroke=\"transparent\" points=\"-4,4 -4,-123.7958 339.3875,-123.7958 339.3875,4 -4,4\"/>\n<!-- EMPTY -->\n<g id=\"node1\" class=\"node\">\n<title>EMPTY</title>\n</g>\n<!-- St2 -->\n<g id=\"node2\" class=\"node\">\n<title>St2</title>\n<ellipse fill=\"none\" stroke=\"#000000\" cx=\"114.3979\" cy=\"-23.3979\" rx=\"23.2963\" ry=\"23.2963\"/>\n<text text-anchor=\"middle\" x=\"114.3979\" y=\"-19.6979\" font-family=\"Times,serif\" font-size=\"14.00\" fill=\"#000000\">St2</text>\n</g>\n<!-- EMPTY&#45;&gt;St2 -->\n<g id=\"edge1\" class=\"edge\">\n<title>EMPTY&#45;&gt;St2</title>\n<path fill=\"none\" stroke=\"#000000\" d=\"M54.1742,-23.3979C62.5103,-23.3979 71.7873,-23.3979 80.5137,-23.3979\"/>\n<polygon fill=\"#000000\" stroke=\"#000000\" points=\"80.7846,-26.898 90.7846,-23.3979 80.7845,-19.898 80.7846,-26.898\"/>\n</g>\n<!-- St2&#45;&gt;St2 -->\n<g id=\"edge3\" class=\"edge\">\n<title>St2&#45;&gt;St2</title>\n<path fill=\"none\" stroke=\"#000000\" d=\"M107.0151,-45.9667C106.312,-56.0635 108.7729,-64.7958 114.3979,-64.7958 118.0014,-64.7958 120.3064,-61.2121 121.3129,-55.9817\"/>\n<polygon fill=\"#000000\" stroke=\"#000000\" points=\"124.8102,-56.1191 121.7807,-45.9667 117.8178,-55.7924 124.8102,-56.1191\"/>\n<text text-anchor=\"middle\" x=\"114.3979\" y=\"-68.5958\" font-family=\"Times,serif\" font-size=\"14.00\" fill=\"#000000\">0 </text>\n</g>\n<!-- St1 -->\n<g id=\"node3\" class=\"node\">\n<title>St1</title>\n<ellipse fill=\"none\" stroke=\"#000000\" cx=\"209.1938\" cy=\"-63.3979\" rx=\"23.2963\" ry=\"23.2963\"/>\n<text text-anchor=\"middle\" x=\"209.1938\" y=\"-59.6979\" font-family=\"Times,serif\" font-size=\"14.00\" fill=\"#000000\">St1</text>\n</g>\n<!-- St2&#45;&gt;St1 -->\n<g id=\"edge2\" class=\"edge\">\n<title>St2&#45;&gt;St1</title>\n<path fill=\"none\" stroke=\"#000000\" d=\"M136.3843,-32.6753C148.7077,-37.8752 164.2849,-44.4482 177.8657,-50.1787\"/>\n<polygon fill=\"#000000\" stroke=\"#000000\" points=\"176.7526,-53.5078 187.3267,-54.1709 179.474,-47.0585 176.7526,-53.5078\"/>\n<text text-anchor=\"middle\" x=\"161.7958\" y=\"-49.1979\" font-family=\"Times,serif\" font-size=\"14.00\" fill=\"#000000\">1 </text>\n</g>\n<!-- St1&#45;&gt;St1 -->\n<g id=\"edge4\" class=\"edge\">\n<title>St1&#45;&gt;St1</title>\n<path fill=\"none\" stroke=\"#000000\" d=\"M200.7393,-85.5452C199.817,-95.8192 202.6352,-104.7958 209.1938,-104.7958 213.3954,-104.7958 216.0619,-101.1118 217.1933,-95.7628\"/>\n<polygon fill=\"#000000\" stroke=\"#000000\" points=\"220.6999,-95.691 217.6482,-85.5452 213.7068,-95.3796 220.6999,-95.691\"/>\n<text text-anchor=\"middle\" x=\"209.1938\" y=\"-108.5958\" font-family=\"Times,serif\" font-size=\"14.00\" fill=\"#000000\">1 </text>\n</g>\n<!-- St0 -->\n<g id=\"node4\" class=\"node\">\n<title>St0</title>\n<ellipse fill=\"none\" stroke=\"#000000\" cx=\"307.9896\" cy=\"-40.3979\" rx=\"23.3111\" ry=\"23.3111\"/>\n<ellipse fill=\"none\" stroke=\"#000000\" cx=\"307.9896\" cy=\"-40.3979\" rx=\"27.2962\" ry=\"27.2962\"/>\n<text text-anchor=\"middle\" x=\"307.9896\" y=\"-36.6979\" font-family=\"Times,serif\" font-size=\"14.00\" fill=\"#000000\">St0</text>\n</g>\n<!-- St1&#45;&gt;St0 -->\n<g id=\"edge5\" class=\"edge\">\n<title>St1&#45;&gt;St0</title>\n<path fill=\"none\" stroke=\"#000000\" d=\"M232.5156,-61.4077C241.9366,-60.3278 252.8615,-58.7234 262.5917,-56.3979 265.9444,-55.5966 269.3954,-54.6381 272.8259,-53.5939\"/>\n<polygon fill=\"#000000\" stroke=\"#000000\" points=\"273.9236,-56.9174 282.341,-50.4834 271.7485,-50.2639 273.9236,-56.9174\"/>\n<text text-anchor=\"middle\" x=\"256.5917\" y=\"-62.1979\" font-family=\"Times,serif\" font-size=\"14.00\" fill=\"#000000\">0 </text>\n</g>\n<!-- St0&#45;&gt;St2 -->\n<g id=\"edge7\" class=\"edge\">\n<title>St0&#45;&gt;St2</title>\n<path fill=\"none\" stroke=\"#000000\" d=\"M282.295,-30.0464C267.9335,-24.8171 249.5596,-19.0333 232.5917,-16.3979 204.1047,-11.9734 171.3572,-14.4976 147.5671,-17.6849\"/>\n<polygon fill=\"#000000\" stroke=\"#000000\" points=\"147.0319,-14.2258 137.6368,-19.1231 148.0352,-21.1535 147.0319,-14.2258\"/>\n<text text-anchor=\"middle\" x=\"209.1938\" y=\"-20.1979\" font-family=\"Times,serif\" font-size=\"14.00\" fill=\"#000000\">0 </text>\n</g>\n<!-- St0&#45;&gt;St1 -->\n<g id=\"edge6\" class=\"edge\">\n<title>St0&#45;&gt;St1</title>\n<path fill=\"none\" stroke=\"#000000\" d=\"M280.9958,-35.363C271.2535,-34.4876 260.2764,-34.6089 250.5917,-37.3979 245.8462,-38.7646 241.1191,-40.8532 236.6474,-43.265\"/>\n<polygon fill=\"#000000\" stroke=\"#000000\" points=\"234.6566,-40.3783 227.903,-48.5416 238.2732,-46.3717 234.6566,-40.3783\"/>\n<text text-anchor=\"middle\" x=\"256.5917\" y=\"-41.1979\" font-family=\"Times,serif\" font-size=\"14.00\" fill=\"#000000\">1 </text>\n</g>\n</g>\n</svg>\n"
          },
          "metadata": {},
          "execution_count": 16
        }
      ]
    }
  ]
}