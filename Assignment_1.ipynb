{
  "nbformat": 4,
  "nbformat_minor": 0,
  "metadata": {
    "kernelspec": {
      "display_name": "Python 3",
      "language": "python",
      "name": "python3"
    },
    "language_info": {
      "codemirror_mode": {
        "name": "ipython",
        "version": 3
      },
      "file_extension": ".py",
      "mimetype": "text/x-python",
      "name": "python",
      "nbconvert_exporter": "python",
      "pygments_lexer": "ipython3",
      "version": "3.7.3"
    },
    "toc": {
      "colors": {
        "hover_highlight": "#DAA520",
        "running_highlight": "#FF0000",
        "selected_highlight": "#FFD700"
      },
      "moveMenuLeft": true,
      "nav_menu": {
        "height": "121px",
        "width": "252px"
      },
      "navigate_menu": true,
      "number_sections": true,
      "sideBar": true,
      "threshold": 4,
      "toc_cell": false,
      "toc_section_display": "block",
      "toc_window_display": false,
      "widenNotebook": false
    },
    "colab": {
      "name": "Assignment_1.ipynb",
      "provenance": [],
      "collapsed_sections": [],
      "include_colab_link": true
    },
    "widgets": {
      "application/vnd.jupyter.widget-state+json": {
        "32ddab5e091a4dd0955fc7e95f094a8b": {
          "model_module": "@jupyter-widgets/controls",
          "model_name": "VBoxModel",
          "model_module_version": "1.5.0",
          "state": {
            "_view_name": "VBoxView",
            "_dom_classes": [],
            "_model_name": "VBoxModel",
            "_view_module": "@jupyter-widgets/controls",
            "_model_module_version": "1.5.0",
            "_view_count": null,
            "_view_module_version": "1.5.0",
            "box_style": "",
            "layout": "IPY_MODEL_d48a9762efad47b4b7a1ef1c90bc3fc2",
            "_model_module": "@jupyter-widgets/controls",
            "children": [
              "IPY_MODEL_ccb2678e734642c4a5d585a8274446f8",
              "IPY_MODEL_1d0c1da4abd04e01a1ab35d712766e21",
              "IPY_MODEL_5382605b40e04c45a9855becc33e3fda",
              "IPY_MODEL_bd4cc13d12a046ae9bdb991e28d489c8"
            ]
          }
        },
        "d48a9762efad47b4b7a1ef1c90bc3fc2": {
          "model_module": "@jupyter-widgets/base",
          "model_name": "LayoutModel",
          "model_module_version": "1.2.0",
          "state": {
            "_view_name": "LayoutView",
            "grid_template_rows": null,
            "right": null,
            "justify_content": null,
            "_view_module": "@jupyter-widgets/base",
            "overflow": null,
            "_model_module_version": "1.2.0",
            "_view_count": null,
            "flex_flow": null,
            "width": null,
            "min_width": null,
            "border": null,
            "align_items": null,
            "bottom": null,
            "_model_module": "@jupyter-widgets/base",
            "top": null,
            "grid_column": null,
            "overflow_y": null,
            "overflow_x": null,
            "grid_auto_flow": null,
            "grid_area": null,
            "grid_template_columns": null,
            "flex": null,
            "_model_name": "LayoutModel",
            "justify_items": null,
            "grid_row": null,
            "max_height": null,
            "align_content": null,
            "visibility": null,
            "align_self": null,
            "height": null,
            "min_height": null,
            "padding": null,
            "grid_auto_rows": null,
            "grid_gap": null,
            "max_width": null,
            "order": null,
            "_view_module_version": "1.2.0",
            "grid_template_areas": null,
            "object_position": null,
            "object_fit": null,
            "grid_auto_columns": null,
            "margin": null,
            "display": null,
            "left": null
          }
        },
        "ccb2678e734642c4a5d585a8274446f8": {
          "model_module": "@jupyter-widgets/controls",
          "model_name": "HBoxModel",
          "model_module_version": "1.5.0",
          "state": {
            "_view_name": "HBoxView",
            "_dom_classes": [],
            "_model_name": "HBoxModel",
            "_view_module": "@jupyter-widgets/controls",
            "_model_module_version": "1.5.0",
            "_view_count": null,
            "_view_module_version": "1.5.0",
            "box_style": "",
            "layout": "IPY_MODEL_7083b2edf44449489162cf5988179dc8",
            "_model_module": "@jupyter-widgets/controls",
            "children": [
              "IPY_MODEL_35b0f0d6d7644ee2abb8605c2870198f",
              "IPY_MODEL_33623deea32d4891a3da70195a159bc2"
            ]
          }
        },
        "1d0c1da4abd04e01a1ab35d712766e21": {
          "model_module": "@jupyter-widgets/output",
          "model_name": "OutputModel",
          "model_module_version": "1.0.0",
          "state": {
            "_view_name": "OutputView",
            "msg_id": "",
            "_dom_classes": [],
            "_model_name": "OutputModel",
            "outputs": [
              {
                "output_type": "display_data",
                "data": {
                  "text/plain": "<graphviz.files.Source at 0x7fea6a71c790>",
                  "image/svg+xml": "<?xml version=\"1.0\" encoding=\"UTF-8\" standalone=\"no\"?>\n<!DOCTYPE svg PUBLIC \"-//W3C//DTD SVG 1.1//EN\"\n \"http://www.w3.org/Graphics/SVG/1.1/DTD/svg11.dtd\">\n<!-- Generated by graphviz version 2.40.1 (20161225.0304)\n -->\n<!-- Title: %3 Pages: 1 -->\n<svg width=\"343pt\" height=\"127pt\"\n viewBox=\"0.00 0.00 343.39 127.40\" xmlns=\"http://www.w3.org/2000/svg\" xmlns:xlink=\"http://www.w3.org/1999/xlink\">\n<g id=\"graph0\" class=\"graph\" transform=\"scale(1 1) rotate(0) translate(4 123.3956)\">\n<title>%3</title>\n<polygon fill=\"#ffffff\" stroke=\"transparent\" points=\"-4,4 -4,-123.3956 339.3875,-123.3956 339.3875,4 -4,4\"/>\n<!-- EMPTY -->\n<g id=\"node1\" class=\"node\">\n<title>EMPTY</title>\n</g>\n<!-- Iq0 -->\n<g id=\"node3\" class=\"node\">\n<title>Iq0</title>\n<ellipse fill=\"#66cd00\" stroke=\"#000000\" cx=\"114.3979\" cy=\"-29.9977\" rx=\"23.2963\" ry=\"23.2963\"/>\n<text text-anchor=\"middle\" x=\"114.3979\" y=\"-26.2977\" font-family=\"Times,serif\" font-size=\"14.00\" fill=\"#ffffff\">Iq0</text>\n</g>\n<!-- EMPTY&#45;&gt;Iq0 -->\n<g id=\"edge1\" class=\"edge\">\n<title>EMPTY&#45;&gt;Iq0</title>\n<path fill=\"none\" stroke=\"#000000\" d=\"M54.1742,-29.9977C62.5103,-29.9977 71.7873,-29.9977 80.5137,-29.9977\"/>\n<polygon fill=\"#000000\" stroke=\"#000000\" points=\"80.7846,-33.4978 90.7846,-29.9977 80.7845,-26.4978 80.7846,-33.4978\"/>\n</g>\n<!-- q1 -->\n<g id=\"node2\" class=\"node\">\n<title>q1</title>\n<ellipse fill=\"none\" stroke=\"#000000\" cx=\"206.594\" cy=\"-29.9977\" rx=\"20.5982\" ry=\"20.5982\"/>\n<text text-anchor=\"middle\" x=\"206.594\" y=\"-26.2977\" font-family=\"Times,serif\" font-size=\"14.00\" fill=\"#000000\">q1</text>\n</g>\n<!-- Fq2 -->\n<g id=\"node4\" class=\"node\">\n<title>Fq2</title>\n<ellipse fill=\"#66cd00\" stroke=\"#000000\" cx=\"305.3899\" cy=\"-29.9977\" rx=\"25.9957\" ry=\"25.9957\"/>\n<ellipse fill=\"none\" stroke=\"#000000\" cx=\"305.3899\" cy=\"-29.9977\" rx=\"29.9954\" ry=\"29.9954\"/>\n<text text-anchor=\"middle\" x=\"305.3899\" y=\"-26.2977\" font-family=\"Times,serif\" font-size=\"14.00\" fill=\"#ffffff\">Fq2</text>\n</g>\n<!-- q1&#45;&gt;Fq2 -->\n<g id=\"edge5\" class=\"edge\">\n<title>q1&#45;&gt;Fq2</title>\n<path fill=\"none\" stroke=\"#000000\" d=\"M227.5461,-29.9977C238.4514,-29.9977 252.1625,-29.9977 265.0273,-29.9977\"/>\n<polygon fill=\"#000000\" stroke=\"#000000\" points=\"265.0933,-33.4978 275.0933,-29.9977 265.0932,-26.4978 265.0933,-33.4978\"/>\n<text text-anchor=\"start\" x=\"245.3922\" y=\"-33.7977\" font-family=\"Times,serif\" font-size=\"14.00\" fill=\"#000000\"> 0</text>\n</g>\n<!-- Iq0&#45;&gt;q1 -->\n<g id=\"edge3\" class=\"edge\">\n<title>Iq0&#45;&gt;q1</title>\n<path fill=\"none\" stroke=\"#000000\" d=\"M138.1407,-29.9977C149.53,-29.9977 163.3216,-29.9977 175.5324,-29.9977\"/>\n<polygon fill=\"#000000\" stroke=\"#000000\" points=\"175.7561,-33.4978 185.7561,-29.9977 175.756,-26.4978 175.7561,-33.4978\"/>\n<text text-anchor=\"start\" x=\"155.7958\" y=\"-33.7977\" font-family=\"Times,serif\" font-size=\"14.00\" fill=\"#000000\"> 1</text>\n</g>\n<!-- Iq0&#45;&gt;Iq0 -->\n<g id=\"edge2\" class=\"edge\">\n<title>Iq0&#45;&gt;Iq0</title>\n<path fill=\"none\" stroke=\"#000000\" d=\"M110.6809,-53.4045C110.4245,-63.1416 111.6635,-71.3956 114.3979,-71.3956 116.0642,-71.3956 117.1752,-68.3306 117.7309,-63.7327\"/>\n<polygon fill=\"#000000\" stroke=\"#000000\" points=\"121.2408,-63.5277 118.115,-53.4045 114.2456,-63.2675 121.2408,-63.5277\"/>\n<text text-anchor=\"start\" x=\"108.3979\" y=\"-75.1956\" font-family=\"Times,serif\" font-size=\"14.00\" fill=\"#000000\"> 0</text>\n</g>\n<!-- Iq0&#45;&gt;Iq0 -->\n<g id=\"edge4\" class=\"edge\">\n<title>Iq0&#45;&gt;Iq0</title>\n<path fill=\"none\" stroke=\"#000000\" d=\"M107.9526,-52.5474C105.3745,-70.6791 107.5229,-89.3956 114.3979,-89.3956 119.9839,-89.3956 122.4495,-77.0398 121.7949,-62.6809\"/>\n<polygon fill=\"#000000\" stroke=\"#000000\" points=\"125.263,-62.1763 120.8432,-52.5474 118.2937,-62.8309 125.263,-62.1763\"/>\n<text text-anchor=\"start\" x=\"108.3979\" y=\"-93.1956\" font-family=\"Times,serif\" font-size=\"14.00\" fill=\"#000000\"> 1</text>\n</g>\n</g>\n</svg>\n"
                },
                "metadata": {}
              }
            ],
            "_view_module": "@jupyter-widgets/output",
            "_model_module_version": "1.0.0",
            "_view_count": null,
            "_view_module_version": "1.0.0",
            "layout": "IPY_MODEL_6e89d01d63c7454b8d0a8d9964543a11",
            "_model_module": "@jupyter-widgets/output"
          }
        },
        "5382605b40e04c45a9855becc33e3fda": {
          "model_module": "@jupyter-widgets/output",
          "model_name": "OutputModel",
          "model_module_version": "1.0.0",
          "state": {
            "_view_name": "OutputView",
            "msg_id": "",
            "_dom_classes": [],
            "_model_name": "OutputModel",
            "outputs": [
              {
                "output_type": "display_data",
                "data": {
                  "text/plain": "<graphviz.files.Source at 0x7fea6a71cb50>",
                  "image/svg+xml": "<?xml version=\"1.0\" encoding=\"UTF-8\" standalone=\"no\"?>\n<!DOCTYPE svg PUBLIC \"-//W3C//DTD SVG 1.1//EN\"\n \"http://www.w3.org/Graphics/SVG/1.1/DTD/svg11.dtd\">\n<!-- Generated by graphviz version 2.40.1 (20161225.0304)\n -->\n<!-- Title: %3 Pages: 1 -->\n<svg width=\"116pt\" height=\"47pt\"\n viewBox=\"0.00 0.00 116.00 47.00\" xmlns=\"http://www.w3.org/2000/svg\" xmlns:xlink=\"http://www.w3.org/1999/xlink\">\n<g id=\"graph0\" class=\"graph\" transform=\"scale(1 1) rotate(0) translate(4 43)\">\n<title>%3</title>\n<polygon fill=\"#ffffff\" stroke=\"transparent\" points=\"-4,4 -4,-43 112,-43 112,4 -4,4\"/>\n<!-- feed -->\n<g id=\"node1\" class=\"node\">\n<title>feed</title>\n<polygon fill=\"none\" stroke=\"#000000\" points=\"8,-3.5 8,-34.5 57,-34.5 57,-3.5 8,-3.5\"/>\n<text text-anchor=\"start\" x=\"17\" y=\"-15.9\" font-family=\"Times,serif\" font-size=\"12.00\" fill=\"#000000\">10010</text>\n<polygon fill=\"none\" stroke=\"#000000\" points=\"57,-3.5 57,-34.5 82,-34.5 82,-3.5 57,-3.5\"/>\n<text text-anchor=\"start\" x=\"66\" y=\"-15.9\" font-family=\"Times,serif\" font-size=\"12.00\" fill=\"#000000\"> &#160;</text>\n<polygon fill=\"none\" stroke=\"#000000\" points=\"82,-3.5 82,-34.5 100,-34.5 100,-3.5 82,-3.5\"/>\n</g>\n</g>\n</svg>\n"
                },
                "metadata": {}
              }
            ],
            "_view_module": "@jupyter-widgets/output",
            "_model_module_version": "1.0.0",
            "_view_count": null,
            "_view_module_version": "1.0.0",
            "layout": "IPY_MODEL_f46829e441e24135915eb936837e05ca",
            "_model_module": "@jupyter-widgets/output"
          }
        },
        "bd4cc13d12a046ae9bdb991e28d489c8": {
          "model_module": "@jupyter-widgets/controls",
          "model_name": "HBoxModel",
          "model_module_version": "1.5.0",
          "state": {
            "_view_name": "HBoxView",
            "_dom_classes": [],
            "_model_name": "HBoxModel",
            "_view_module": "@jupyter-widgets/controls",
            "_model_module_version": "1.5.0",
            "_view_count": null,
            "_view_module_version": "1.5.0",
            "box_style": "",
            "layout": "IPY_MODEL_658d58d37a434039b1421efbc69b680b",
            "_model_module": "@jupyter-widgets/controls",
            "children": [
              "IPY_MODEL_15dee3f87f804f998ab95b0d5cea8ba7",
              "IPY_MODEL_2c40eb11401941cbbdc4217ce2855176",
              "IPY_MODEL_db91af4d55ce42dfa1fa8b68577ce345",
              "IPY_MODEL_0e72fd12f6e642988b7aa7603b8bae9c"
            ]
          }
        },
        "7083b2edf44449489162cf5988179dc8": {
          "model_module": "@jupyter-widgets/base",
          "model_name": "LayoutModel",
          "model_module_version": "1.2.0",
          "state": {
            "_view_name": "LayoutView",
            "grid_template_rows": null,
            "right": null,
            "justify_content": null,
            "_view_module": "@jupyter-widgets/base",
            "overflow": null,
            "_model_module_version": "1.2.0",
            "_view_count": null,
            "flex_flow": null,
            "width": null,
            "min_width": null,
            "border": null,
            "align_items": null,
            "bottom": null,
            "_model_module": "@jupyter-widgets/base",
            "top": null,
            "grid_column": null,
            "overflow_y": null,
            "overflow_x": null,
            "grid_auto_flow": null,
            "grid_area": null,
            "grid_template_columns": null,
            "flex": null,
            "_model_name": "LayoutModel",
            "justify_items": null,
            "grid_row": null,
            "max_height": null,
            "align_content": null,
            "visibility": null,
            "align_self": null,
            "height": null,
            "min_height": null,
            "padding": null,
            "grid_auto_rows": null,
            "grid_gap": null,
            "max_width": null,
            "order": null,
            "_view_module_version": "1.2.0",
            "grid_template_areas": null,
            "object_position": null,
            "object_fit": null,
            "grid_auto_columns": null,
            "margin": null,
            "display": null,
            "left": null
          }
        },
        "35b0f0d6d7644ee2abb8605c2870198f": {
          "model_module": "@jupyter-widgets/controls",
          "model_name": "TextModel",
          "model_module_version": "1.5.0",
          "state": {
            "_view_name": "TextView",
            "style": "IPY_MODEL_93a3842e3c56485e8e0a1bdfbce2d5d8",
            "_dom_classes": [],
            "description": "Input:",
            "_model_name": "TextModel",
            "placeholder": "Sigma: {0,1}",
            "_view_module": "@jupyter-widgets/controls",
            "_model_module_version": "1.5.0",
            "value": "10010",
            "_view_count": null,
            "disabled": true,
            "_view_module_version": "1.5.0",
            "continuous_update": true,
            "description_tooltip": null,
            "_model_module": "@jupyter-widgets/controls",
            "layout": "IPY_MODEL_8aa99a8c52fe4d879c11b1c8e17cdf2b"
          }
        },
        "33623deea32d4891a3da70195a159bc2": {
          "model_module": "@jupyter-widgets/controls",
          "model_name": "ButtonModel",
          "model_module_version": "1.5.0",
          "state": {
            "_view_name": "ButtonView",
            "style": "IPY_MODEL_659e9613f92a4f438d06a12b70ecbdcf",
            "_dom_classes": [],
            "description": "Change Input",
            "_model_name": "ButtonModel",
            "button_style": "primary",
            "_view_module": "@jupyter-widgets/controls",
            "_model_module_version": "1.5.0",
            "tooltip": "",
            "_view_count": null,
            "disabled": false,
            "_view_module_version": "1.5.0",
            "layout": "IPY_MODEL_6e92ea5e62284eb8b85abfff17511e1b",
            "_model_module": "@jupyter-widgets/controls",
            "icon": ""
          }
        },
        "658d58d37a434039b1421efbc69b680b": {
          "model_module": "@jupyter-widgets/base",
          "model_name": "LayoutModel",
          "model_module_version": "1.2.0",
          "state": {
            "_view_name": "LayoutView",
            "grid_template_rows": null,
            "right": null,
            "justify_content": null,
            "_view_module": "@jupyter-widgets/base",
            "overflow": null,
            "_model_module_version": "1.2.0",
            "_view_count": null,
            "flex_flow": null,
            "width": null,
            "min_width": null,
            "border": null,
            "align_items": null,
            "bottom": null,
            "_model_module": "@jupyter-widgets/base",
            "top": null,
            "grid_column": null,
            "overflow_y": null,
            "overflow_x": null,
            "grid_auto_flow": null,
            "grid_area": null,
            "grid_template_columns": null,
            "flex": null,
            "_model_name": "LayoutModel",
            "justify_items": null,
            "grid_row": null,
            "max_height": null,
            "align_content": null,
            "visibility": null,
            "align_self": null,
            "height": null,
            "min_height": null,
            "padding": null,
            "grid_auto_rows": null,
            "grid_gap": null,
            "max_width": null,
            "order": null,
            "_view_module_version": "1.2.0",
            "grid_template_areas": null,
            "object_position": null,
            "object_fit": null,
            "grid_auto_columns": null,
            "margin": null,
            "display": null,
            "left": null
          }
        },
        "15dee3f87f804f998ab95b0d5cea8ba7": {
          "model_module": "@jupyter-widgets/controls",
          "model_name": "PlayModel",
          "model_module_version": "1.5.0",
          "state": {
            "_view_name": "PlayView",
            "style": "IPY_MODEL_506d72b5a22f4a3a86ec36edbf64cd75",
            "interval": 950,
            "_dom_classes": [],
            "description": "Press play",
            "_model_name": "PlayModel",
            "max": 15,
            "_view_module": "@jupyter-widgets/controls",
            "_model_module_version": "1.5.0",
            "value": 15,
            "_view_count": null,
            "disabled": false,
            "_repeat": false,
            "_view_module_version": "1.5.0",
            "show_repeat": true,
            "min": 0,
            "_playing": false,
            "step": 1,
            "description_tooltip": null,
            "_model_module": "@jupyter-widgets/controls",
            "layout": "IPY_MODEL_a8cff531498e46ee8caadeab8cbea604"
          }
        },
        "2c40eb11401941cbbdc4217ce2855176": {
          "model_module": "@jupyter-widgets/controls",
          "model_name": "ButtonModel",
          "model_module_version": "1.5.0",
          "state": {
            "_view_name": "ButtonView",
            "style": "IPY_MODEL_e8cbdd08222f4e1b94cb857001f8c0b6",
            "_dom_classes": [],
            "description": "",
            "_model_name": "ButtonModel",
            "button_style": "",
            "_view_module": "@jupyter-widgets/controls",
            "_model_module_version": "1.5.0",
            "tooltip": "",
            "_view_count": null,
            "disabled": false,
            "_view_module_version": "1.5.0",
            "layout": "IPY_MODEL_8d9bbd2bb7164f60bc1e076cac0c96b7",
            "_model_module": "@jupyter-widgets/controls",
            "icon": "step-backward"
          }
        },
        "db91af4d55ce42dfa1fa8b68577ce345": {
          "model_module": "@jupyter-widgets/controls",
          "model_name": "ButtonModel",
          "model_module_version": "1.5.0",
          "state": {
            "_view_name": "ButtonView",
            "style": "IPY_MODEL_9831f849ea89498fa4da996c6c1cfe35",
            "_dom_classes": [],
            "description": "",
            "_model_name": "ButtonModel",
            "button_style": "",
            "_view_module": "@jupyter-widgets/controls",
            "_model_module_version": "1.5.0",
            "tooltip": "",
            "_view_count": null,
            "disabled": true,
            "_view_module_version": "1.5.0",
            "layout": "IPY_MODEL_c727184e34d14e9ead4aaefdd43259c0",
            "_model_module": "@jupyter-widgets/controls",
            "icon": "step-forward"
          }
        },
        "0e72fd12f6e642988b7aa7603b8bae9c": {
          "model_module": "@jupyter-widgets/controls",
          "model_name": "IntSliderModel",
          "model_module_version": "1.5.0",
          "state": {
            "_view_name": "IntSliderView",
            "style": "IPY_MODEL_a72f14dfa58d4c5d908fce60c0b4c6be",
            "_dom_classes": [],
            "description": "Speed:",
            "step": 1,
            "_model_name": "IntSliderModel",
            "orientation": "horizontal",
            "max": 10,
            "_view_module": "@jupyter-widgets/controls",
            "_model_module_version": "1.5.0",
            "value": 1,
            "_view_count": null,
            "disabled": false,
            "_view_module_version": "1.5.0",
            "min": 1,
            "continuous_update": false,
            "readout_format": "d",
            "description_tooltip": null,
            "readout": true,
            "_model_module": "@jupyter-widgets/controls",
            "layout": "IPY_MODEL_071e9612c1414116bdbc9813f7723d7d"
          }
        },
        "93a3842e3c56485e8e0a1bdfbce2d5d8": {
          "model_module": "@jupyter-widgets/controls",
          "model_name": "DescriptionStyleModel",
          "model_module_version": "1.5.0",
          "state": {
            "_view_name": "StyleView",
            "_model_name": "DescriptionStyleModel",
            "description_width": "",
            "_view_module": "@jupyter-widgets/base",
            "_model_module_version": "1.5.0",
            "_view_count": null,
            "_view_module_version": "1.2.0",
            "_model_module": "@jupyter-widgets/controls"
          }
        },
        "8aa99a8c52fe4d879c11b1c8e17cdf2b": {
          "model_module": "@jupyter-widgets/base",
          "model_name": "LayoutModel",
          "model_module_version": "1.2.0",
          "state": {
            "_view_name": "LayoutView",
            "grid_template_rows": null,
            "right": null,
            "justify_content": null,
            "_view_module": "@jupyter-widgets/base",
            "overflow": null,
            "_model_module_version": "1.2.0",
            "_view_count": null,
            "flex_flow": null,
            "width": "500px",
            "min_width": null,
            "border": null,
            "align_items": null,
            "bottom": null,
            "_model_module": "@jupyter-widgets/base",
            "top": null,
            "grid_column": null,
            "overflow_y": null,
            "overflow_x": null,
            "grid_auto_flow": null,
            "grid_area": null,
            "grid_template_columns": null,
            "flex": null,
            "_model_name": "LayoutModel",
            "justify_items": null,
            "grid_row": null,
            "max_height": null,
            "align_content": null,
            "visibility": null,
            "align_self": null,
            "height": null,
            "min_height": null,
            "padding": null,
            "grid_auto_rows": null,
            "grid_gap": null,
            "max_width": null,
            "order": null,
            "_view_module_version": "1.2.0",
            "grid_template_areas": null,
            "object_position": null,
            "object_fit": null,
            "grid_auto_columns": null,
            "margin": null,
            "display": null,
            "left": null
          }
        },
        "659e9613f92a4f438d06a12b70ecbdcf": {
          "model_module": "@jupyter-widgets/controls",
          "model_name": "ButtonStyleModel",
          "model_module_version": "1.5.0",
          "state": {
            "_view_name": "StyleView",
            "_model_name": "ButtonStyleModel",
            "_view_module": "@jupyter-widgets/base",
            "_model_module_version": "1.5.0",
            "_view_count": null,
            "button_color": null,
            "font_weight": "",
            "_view_module_version": "1.2.0",
            "_model_module": "@jupyter-widgets/controls"
          }
        },
        "6e92ea5e62284eb8b85abfff17511e1b": {
          "model_module": "@jupyter-widgets/base",
          "model_name": "LayoutModel",
          "model_module_version": "1.2.0",
          "state": {
            "_view_name": "LayoutView",
            "grid_template_rows": null,
            "right": null,
            "justify_content": null,
            "_view_module": "@jupyter-widgets/base",
            "overflow": null,
            "_model_module_version": "1.2.0",
            "_view_count": null,
            "flex_flow": null,
            "width": null,
            "min_width": null,
            "border": null,
            "align_items": null,
            "bottom": null,
            "_model_module": "@jupyter-widgets/base",
            "top": null,
            "grid_column": null,
            "overflow_y": null,
            "overflow_x": null,
            "grid_auto_flow": null,
            "grid_area": null,
            "grid_template_columns": null,
            "flex": null,
            "_model_name": "LayoutModel",
            "justify_items": null,
            "grid_row": null,
            "max_height": null,
            "align_content": null,
            "visibility": null,
            "align_self": null,
            "height": null,
            "min_height": null,
            "padding": null,
            "grid_auto_rows": null,
            "grid_gap": null,
            "max_width": null,
            "order": null,
            "_view_module_version": "1.2.0",
            "grid_template_areas": null,
            "object_position": null,
            "object_fit": null,
            "grid_auto_columns": null,
            "margin": null,
            "display": null,
            "left": null
          }
        },
        "506d72b5a22f4a3a86ec36edbf64cd75": {
          "model_module": "@jupyter-widgets/controls",
          "model_name": "DescriptionStyleModel",
          "model_module_version": "1.5.0",
          "state": {
            "_view_name": "StyleView",
            "_model_name": "DescriptionStyleModel",
            "description_width": "",
            "_view_module": "@jupyter-widgets/base",
            "_model_module_version": "1.5.0",
            "_view_count": null,
            "_view_module_version": "1.2.0",
            "_model_module": "@jupyter-widgets/controls"
          }
        },
        "a8cff531498e46ee8caadeab8cbea604": {
          "model_module": "@jupyter-widgets/base",
          "model_name": "LayoutModel",
          "model_module_version": "1.2.0",
          "state": {
            "_view_name": "LayoutView",
            "grid_template_rows": null,
            "right": null,
            "justify_content": null,
            "_view_module": "@jupyter-widgets/base",
            "overflow": null,
            "_model_module_version": "1.2.0",
            "_view_count": null,
            "flex_flow": null,
            "width": null,
            "min_width": null,
            "border": null,
            "align_items": null,
            "bottom": null,
            "_model_module": "@jupyter-widgets/base",
            "top": null,
            "grid_column": null,
            "overflow_y": null,
            "overflow_x": null,
            "grid_auto_flow": null,
            "grid_area": null,
            "grid_template_columns": null,
            "flex": null,
            "_model_name": "LayoutModel",
            "justify_items": null,
            "grid_row": null,
            "max_height": null,
            "align_content": null,
            "visibility": null,
            "align_self": null,
            "height": null,
            "min_height": null,
            "padding": null,
            "grid_auto_rows": null,
            "grid_gap": null,
            "max_width": null,
            "order": null,
            "_view_module_version": "1.2.0",
            "grid_template_areas": null,
            "object_position": null,
            "object_fit": null,
            "grid_auto_columns": null,
            "margin": null,
            "display": null,
            "left": null
          }
        },
        "e8cbdd08222f4e1b94cb857001f8c0b6": {
          "model_module": "@jupyter-widgets/controls",
          "model_name": "ButtonStyleModel",
          "model_module_version": "1.5.0",
          "state": {
            "_view_name": "StyleView",
            "_model_name": "ButtonStyleModel",
            "_view_module": "@jupyter-widgets/base",
            "_model_module_version": "1.5.0",
            "_view_count": null,
            "button_color": null,
            "font_weight": "",
            "_view_module_version": "1.2.0",
            "_model_module": "@jupyter-widgets/controls"
          }
        },
        "8d9bbd2bb7164f60bc1e076cac0c96b7": {
          "model_module": "@jupyter-widgets/base",
          "model_name": "LayoutModel",
          "model_module_version": "1.2.0",
          "state": {
            "_view_name": "LayoutView",
            "grid_template_rows": null,
            "right": null,
            "justify_content": null,
            "_view_module": "@jupyter-widgets/base",
            "overflow": null,
            "_model_module_version": "1.2.0",
            "_view_count": null,
            "flex_flow": null,
            "width": "40px",
            "min_width": null,
            "border": null,
            "align_items": null,
            "bottom": null,
            "_model_module": "@jupyter-widgets/base",
            "top": null,
            "grid_column": null,
            "overflow_y": null,
            "overflow_x": null,
            "grid_auto_flow": null,
            "grid_area": null,
            "grid_template_columns": null,
            "flex": null,
            "_model_name": "LayoutModel",
            "justify_items": null,
            "grid_row": null,
            "max_height": null,
            "align_content": null,
            "visibility": null,
            "align_self": null,
            "height": null,
            "min_height": null,
            "padding": null,
            "grid_auto_rows": null,
            "grid_gap": null,
            "max_width": null,
            "order": null,
            "_view_module_version": "1.2.0",
            "grid_template_areas": null,
            "object_position": null,
            "object_fit": null,
            "grid_auto_columns": null,
            "margin": null,
            "display": null,
            "left": null
          }
        },
        "9831f849ea89498fa4da996c6c1cfe35": {
          "model_module": "@jupyter-widgets/controls",
          "model_name": "ButtonStyleModel",
          "model_module_version": "1.5.0",
          "state": {
            "_view_name": "StyleView",
            "_model_name": "ButtonStyleModel",
            "_view_module": "@jupyter-widgets/base",
            "_model_module_version": "1.5.0",
            "_view_count": null,
            "button_color": null,
            "font_weight": "",
            "_view_module_version": "1.2.0",
            "_model_module": "@jupyter-widgets/controls"
          }
        },
        "c727184e34d14e9ead4aaefdd43259c0": {
          "model_module": "@jupyter-widgets/base",
          "model_name": "LayoutModel",
          "model_module_version": "1.2.0",
          "state": {
            "_view_name": "LayoutView",
            "grid_template_rows": null,
            "right": null,
            "justify_content": null,
            "_view_module": "@jupyter-widgets/base",
            "overflow": null,
            "_model_module_version": "1.2.0",
            "_view_count": null,
            "flex_flow": null,
            "width": "40px",
            "min_width": null,
            "border": null,
            "align_items": null,
            "bottom": null,
            "_model_module": "@jupyter-widgets/base",
            "top": null,
            "grid_column": null,
            "overflow_y": null,
            "overflow_x": null,
            "grid_auto_flow": null,
            "grid_area": null,
            "grid_template_columns": null,
            "flex": null,
            "_model_name": "LayoutModel",
            "justify_items": null,
            "grid_row": null,
            "max_height": null,
            "align_content": null,
            "visibility": null,
            "align_self": null,
            "height": null,
            "min_height": null,
            "padding": null,
            "grid_auto_rows": null,
            "grid_gap": null,
            "max_width": null,
            "order": null,
            "_view_module_version": "1.2.0",
            "grid_template_areas": null,
            "object_position": null,
            "object_fit": null,
            "grid_auto_columns": null,
            "margin": null,
            "display": null,
            "left": null
          }
        },
        "a72f14dfa58d4c5d908fce60c0b4c6be": {
          "model_module": "@jupyter-widgets/controls",
          "model_name": "SliderStyleModel",
          "model_module_version": "1.5.0",
          "state": {
            "_view_name": "StyleView",
            "handle_color": null,
            "_model_name": "SliderStyleModel",
            "description_width": "",
            "_view_module": "@jupyter-widgets/base",
            "_model_module_version": "1.5.0",
            "_view_count": null,
            "_view_module_version": "1.2.0",
            "_model_module": "@jupyter-widgets/controls"
          }
        },
        "071e9612c1414116bdbc9813f7723d7d": {
          "model_module": "@jupyter-widgets/base",
          "model_name": "LayoutModel",
          "model_module_version": "1.2.0",
          "state": {
            "_view_name": "LayoutView",
            "grid_template_rows": null,
            "right": null,
            "justify_content": null,
            "_view_module": "@jupyter-widgets/base",
            "overflow": null,
            "_model_module_version": "1.2.0",
            "_view_count": null,
            "flex_flow": null,
            "width": null,
            "min_width": null,
            "border": null,
            "align_items": null,
            "bottom": null,
            "_model_module": "@jupyter-widgets/base",
            "top": null,
            "grid_column": null,
            "overflow_y": null,
            "overflow_x": null,
            "grid_auto_flow": null,
            "grid_area": null,
            "grid_template_columns": null,
            "flex": null,
            "_model_name": "LayoutModel",
            "justify_items": null,
            "grid_row": null,
            "max_height": null,
            "align_content": null,
            "visibility": null,
            "align_self": null,
            "height": null,
            "min_height": null,
            "padding": null,
            "grid_auto_rows": null,
            "grid_gap": null,
            "max_width": null,
            "order": null,
            "_view_module_version": "1.2.0",
            "grid_template_areas": null,
            "object_position": null,
            "object_fit": null,
            "grid_auto_columns": null,
            "margin": null,
            "display": null,
            "left": null
          }
        },
        "6e89d01d63c7454b8d0a8d9964543a11": {
          "model_module": "@jupyter-widgets/base",
          "model_name": "LayoutModel",
          "model_module_version": "1.2.0",
          "state": {
            "_view_name": "LayoutView",
            "grid_template_rows": null,
            "right": null,
            "justify_content": null,
            "_view_module": "@jupyter-widgets/base",
            "overflow": null,
            "_model_module_version": "1.2.0",
            "_view_count": null,
            "flex_flow": null,
            "width": null,
            "min_width": null,
            "border": null,
            "align_items": null,
            "bottom": null,
            "_model_module": "@jupyter-widgets/base",
            "top": null,
            "grid_column": null,
            "overflow_y": null,
            "overflow_x": null,
            "grid_auto_flow": null,
            "grid_area": null,
            "grid_template_columns": null,
            "flex": null,
            "_model_name": "LayoutModel",
            "justify_items": null,
            "grid_row": null,
            "max_height": null,
            "align_content": null,
            "visibility": null,
            "align_self": null,
            "height": null,
            "min_height": null,
            "padding": null,
            "grid_auto_rows": null,
            "grid_gap": null,
            "max_width": null,
            "order": null,
            "_view_module_version": "1.2.0",
            "grid_template_areas": null,
            "object_position": null,
            "object_fit": null,
            "grid_auto_columns": null,
            "margin": null,
            "display": null,
            "left": null
          }
        },
        "f46829e441e24135915eb936837e05ca": {
          "model_module": "@jupyter-widgets/base",
          "model_name": "LayoutModel",
          "model_module_version": "1.2.0",
          "state": {
            "_view_name": "LayoutView",
            "grid_template_rows": null,
            "right": null,
            "justify_content": null,
            "_view_module": "@jupyter-widgets/base",
            "overflow": null,
            "_model_module_version": "1.2.0",
            "_view_count": null,
            "flex_flow": null,
            "width": null,
            "min_width": null,
            "border": null,
            "align_items": null,
            "bottom": null,
            "_model_module": "@jupyter-widgets/base",
            "top": null,
            "grid_column": null,
            "overflow_y": null,
            "overflow_x": null,
            "grid_auto_flow": null,
            "grid_area": null,
            "grid_template_columns": null,
            "flex": null,
            "_model_name": "LayoutModel",
            "justify_items": null,
            "grid_row": null,
            "max_height": null,
            "align_content": null,
            "visibility": null,
            "align_self": null,
            "height": null,
            "min_height": null,
            "padding": null,
            "grid_auto_rows": null,
            "grid_gap": null,
            "max_width": null,
            "order": null,
            "_view_module_version": "1.2.0",
            "grid_template_areas": null,
            "object_position": null,
            "object_fit": null,
            "grid_auto_columns": null,
            "margin": null,
            "display": null,
            "left": null
          }
        }
      }
    }
  },
  "cells": [
    {
      "cell_type": "markdown",
      "metadata": {
        "id": "view-in-github",
        "colab_type": "text"
      },
      "source": [
        "<a href=\"https://colab.research.google.com/github/bcasazharuddin/Automata-_Theory/blob/main/Assignment_1.ipynb\" target=\"_parent\"><img src=\"https://colab.research.google.com/assets/colab-badge.svg\" alt=\"Open In Colab\"/></a>"
      ]
    },
    {
      "cell_type": "code",
      "metadata": {
        "run_control": {
          "frozen": false,
          "read_only": false
        },
        "scrolled": true,
        "id": "vwcAwEFM72Xs",
        "colab": {
          "base_uri": "https://localhost:8080/"
        },
        "outputId": "5f010409-c5aa-4c16-cd34-ee5c3200e997"
      },
      "source": [
        "#~~~~~~~~~~~~~~~~~~~~~~~~~~~~~~~~~~~~~~~~~~~~~~~~~~~~~~~\n",
        "import sys\n",
        "\n",
        "# -- Detect if in Own Install or in Colab\n",
        "try:\n",
        "    import google.colab\n",
        "    OWN_INSTALL = False\n",
        "except:\n",
        "    OWN_INSTALL = True\n",
        "    \n",
        "if OWN_INSTALL:\n",
        "    \n",
        "  #---- Leave these definitions ON if running on laptop\n",
        "  #---- Else turn OFF by putting them between ''' ... '''\n",
        "\n",
        "  sys.path[0:0] = ['../../../../..',  '../../../../../3rdparty',  \n",
        "                   '../../../..',  '../../../../3rdparty',  \n",
        "                   '../../..',     '../../../3rdparty', \n",
        "                   '../..',        '../../3rdparty',\n",
        "                   '..',           '../3rdparty' ]\n",
        "\n",
        "else: # In colab\n",
        "  ! if [ ! -d Jove ]; then git clone https://github.com/ganeshutah/Jove Jove; fi\n",
        "  sys.path.append('./Jove')\n",
        "  sys.path.append('./Jove/jove')\n",
        "\n",
        "# -- common imports --\n",
        "from jove.DotBashers import *\n",
        "from jove.Def_md2mc  import *\n",
        "from jove.Def_NFA    import *\n",
        "from jove.Def_DFA    import *\n",
        "from jove.AnimateNFA import *\n",
        "#~~~~~~~~~~~~~~~~~~~~~~~~~~~~~~~~~~~~~~~~~~~~~~~~~~~~~~~"
      ],
      "execution_count": 1,
      "outputs": [
        {
          "output_type": "stream",
          "name": "stdout",
          "text": [
            "Cloning into 'Jove'...\n",
            "remote: Enumerating objects: 5094, done.\u001b[K\n",
            "remote: Counting objects: 100% (460/460), done.\u001b[K\n",
            "remote: Compressing objects: 100% (321/321), done.\u001b[K\n",
            "remote: Total 5094 (delta 265), reused 308 (delta 124), pack-reused 4634\u001b[K\n",
            "Receiving objects: 100% (5094/5094), 7.64 MiB | 7.10 MiB/s, done.\n",
            "Resolving deltas: 100% (3270/3270), done.\n",
            "You may use any of these help commands:\n",
            "help(ResetStNum)\n",
            "help(NxtStateStr)\n",
            "\n",
            "You may use any of these help commands:\n",
            "help(md2mc)\n",
            ".. and if you want to dig more, then ..\n",
            "help(default_line_attr)\n",
            "help(length_ok_input_items)\n",
            "help(union_line_attr_list_fld)\n",
            "help(extend_rsltdict)\n",
            "help(form_delta)\n",
            "help(get_machine_components)\n",
            "\n",
            "You may use any of these help commands:\n",
            "help(mkp_dfa)\n",
            "help(mk_dfa)\n",
            "help(totalize_dfa)\n",
            "help(addtosigma_delta)\n",
            "help(step_dfa)\n",
            "help(run_dfa)\n",
            "help(accepts_dfa)\n",
            "help(comp_dfa)\n",
            "help(union_dfa)\n",
            "help(intersect_dfa)\n",
            "help(pruneUnreach)\n",
            "help(iso_dfa)\n",
            "help(langeq_dfa)\n",
            "help(same_status)\n",
            "help(h_langeq_dfa)\n",
            "help(fixptDist)\n",
            "help(min_dfa)\n",
            "help(pairFR)\n",
            "help(state_combos)\n",
            "help(sepFinNonFin)\n",
            "help(bash_eql_classes)\n",
            "help(listminus)\n",
            "help(bash_1)\n",
            "help(mk_rep_eqc)\n",
            "help(F_of)\n",
            "help(rep_of_s)\n",
            "help(q0_of)\n",
            "help(Delta_of)\n",
            "help(mk_state_eqc_name)\n",
            "\n",
            "You may use any of these help commands:\n",
            "help(mk_nfa)\n",
            "help(totalize_nfa)\n",
            "help(step_nfa)\n",
            "help(run_nfa)\n",
            "help(ec_step_nfa)\n",
            "help(Eclosure)\n",
            "help(Echelp)\n",
            "help(accepts_nfa)\n",
            "help(nfa2dfa)\n",
            "help(n2d)\n",
            "help(inSets)\n",
            "help(rev_dfa)\n",
            "help(min_dfa_brz)\n",
            "\n",
            " \"help(AnimateNFA)\" gives you info on how to use animations with NFA \n"
          ]
        }
      ]
    },
    {
      "cell_type": "markdown",
      "metadata": {
        "id": "X4GvlAbJ72Xu"
      },
      "source": [
        "# Problem 1: Design an NFA for $\\{0,1\\}^* 1 0$ (\"Ends 10\")\n",
        "\n",
        "## It will be a 3-state NFA, and name the states as I, S0, and F\n",
        "\n",
        "### Document each line of your code with a short comment\n"
      ]
    },
    {
      "cell_type": "code",
      "metadata": {
        "id": "YsXPfYCG72Xv"
      },
      "source": [
        "# SOLUTION\n",
        "\n",
        "nfaEnds10 = md2mc('''\n",
        "NFA \n",
        " Iq0 : 0 -> Iq0\n",
        " Iq0 : 1 -> Iq0\n",
        " Iq0 : 1 -> q1\n",
        " q1 : 0 -> Fq2\n",
        " \n",
        "''')"
      ],
      "execution_count": 4,
      "outputs": []
    },
    {
      "cell_type": "markdown",
      "metadata": {
        "id": "TXD_r3Fx72Xy"
      },
      "source": [
        "# Problem 2: Execute the cell below and follow the bulleted instructions\n",
        "\n",
        "* When the animation pane comes up, type in 10010 and Use Animate to illustate.\n"
      ]
    },
    {
      "cell_type": "code",
      "metadata": {
        "scrolled": false,
        "id": "uylFlj3H72Xz",
        "colab": {
          "base_uri": "https://localhost:8080/",
          "height": 321,
          "referenced_widgets": [
            "32ddab5e091a4dd0955fc7e95f094a8b",
            "d48a9762efad47b4b7a1ef1c90bc3fc2",
            "ccb2678e734642c4a5d585a8274446f8",
            "1d0c1da4abd04e01a1ab35d712766e21",
            "5382605b40e04c45a9855becc33e3fda",
            "bd4cc13d12a046ae9bdb991e28d489c8",
            "7083b2edf44449489162cf5988179dc8",
            "35b0f0d6d7644ee2abb8605c2870198f",
            "33623deea32d4891a3da70195a159bc2",
            "658d58d37a434039b1421efbc69b680b",
            "15dee3f87f804f998ab95b0d5cea8ba7",
            "2c40eb11401941cbbdc4217ce2855176",
            "db91af4d55ce42dfa1fa8b68577ce345",
            "0e72fd12f6e642988b7aa7603b8bae9c",
            "93a3842e3c56485e8e0a1bdfbce2d5d8",
            "8aa99a8c52fe4d879c11b1c8e17cdf2b",
            "659e9613f92a4f438d06a12b70ecbdcf",
            "6e92ea5e62284eb8b85abfff17511e1b",
            "506d72b5a22f4a3a86ec36edbf64cd75",
            "a8cff531498e46ee8caadeab8cbea604",
            "e8cbdd08222f4e1b94cb857001f8c0b6",
            "8d9bbd2bb7164f60bc1e076cac0c96b7",
            "9831f849ea89498fa4da996c6c1cfe35",
            "c727184e34d14e9ead4aaefdd43259c0",
            "a72f14dfa58d4c5d908fce60c0b4c6be",
            "071e9612c1414116bdbc9813f7723d7d",
            "6e89d01d63c7454b8d0a8d9964543a11",
            "f46829e441e24135915eb936837e05ca"
          ]
        },
        "outputId": "da16b877-4357-496e-a3e9-8d59ae670a8b"
      },
      "source": [
        "AnimateNFA(nfaEnds10, FuseEdges=False)\n",
        "display(HTML('<link rel=\\\"stylesheet\\\" href=\\\"//stackpath.bootstrapcdn.com/font-awesome/4.7.0/css/font-awesome.min.css\\\"/>'))"
      ],
      "execution_count": 5,
      "outputs": [
        {
          "output_type": "display_data",
          "data": {
            "application/vnd.jupyter.widget-view+json": {
              "model_id": "32ddab5e091a4dd0955fc7e95f094a8b",
              "version_minor": 0,
              "version_major": 2
            },
            "text/plain": [
              "VBox(children=(HBox(children=(Text(value='', description='Input:', layout=Layout(width='500px'), placeholder='…"
            ]
          },
          "metadata": {}
        },
        {
          "output_type": "display_data",
          "data": {
            "text/html": [
              "<link rel=\"stylesheet\" href=\"//stackpath.bootstrapcdn.com/font-awesome/4.7.0/css/font-awesome.min.css\"/>"
            ],
            "text/plain": [
              "<IPython.core.display.HTML object>"
            ]
          },
          "metadata": {}
        }
      ]
    },
    {
      "cell_type": "markdown",
      "metadata": {
        "id": "-FzyWvdp72X1"
      },
      "source": [
        "# Problem 3: Convert the NFA to a DFA (using an appropriate Jove Statement)"
      ]
    },
    {
      "cell_type": "code",
      "metadata": {
        "id": "4MYDq0EfmcEG"
      },
      "source": [
        "dfa = nfa2dfa(nfaEnds10, STATENAME_MAXSIZE = 40)"
      ],
      "execution_count": 6,
      "outputs": []
    },
    {
      "cell_type": "code",
      "metadata": {
        "colab": {
          "base_uri": "https://localhost:8080/",
          "height": 241
        },
        "id": "ZwviLQ0Qmpfw",
        "outputId": "f5264e30-2f8e-44f3-eac3-6a6332a8ca96"
      },
      "source": [
        "dotObj_dfa(dfa, STATENAME_MAXSIZE = 40)"
      ],
      "execution_count": 7,
      "outputs": [
        {
          "output_type": "execute_result",
          "data": {
            "text/plain": [
              "<graphviz.dot.Digraph at 0x7fea6a5ab410>"
            ],
            "image/svg+xml": "<?xml version=\"1.0\" encoding=\"UTF-8\" standalone=\"no\"?>\n<!DOCTYPE svg PUBLIC \"-//W3C//DTD SVG 1.1//EN\"\n \"http://www.w3.org/Graphics/SVG/1.1/DTD/svg11.dtd\">\n<!-- Generated by graphviz version 2.40.1 (20161225.0304)\n -->\n<!-- Title: %3 Pages: 1 -->\n<svg width=\"414pt\" height=\"165pt\"\n viewBox=\"0.00 0.00 413.58 164.89\" xmlns=\"http://www.w3.org/2000/svg\" xmlns:xlink=\"http://www.w3.org/1999/xlink\">\n<g id=\"graph0\" class=\"graph\" transform=\"scale(1 1) rotate(0) translate(4 160.8927)\">\n<title>%3</title>\n<polygon fill=\"#ffffff\" stroke=\"transparent\" points=\"-4,4 -4,-160.8927 409.5813,-160.8927 409.5813,4 -4,4\"/>\n<!-- EMPTY -->\n<g id=\"node1\" class=\"node\">\n<title>EMPTY</title>\n</g>\n<!-- Iq0 -->\n<g id=\"node2\" class=\"node\">\n<title>Iq0</title>\n<ellipse fill=\"none\" stroke=\"#000000\" cx=\"114.3979\" cy=\"-30.5461\" rx=\"23.2963\" ry=\"23.2963\"/>\n<text text-anchor=\"middle\" x=\"114.3979\" y=\"-26.8461\" font-family=\"Times,serif\" font-size=\"14.00\" fill=\"#000000\">Iq0</text>\n</g>\n<!-- EMPTY&#45;&gt;Iq0 -->\n<g id=\"edge1\" class=\"edge\">\n<title>EMPTY&#45;&gt;Iq0</title>\n<path fill=\"none\" stroke=\"#000000\" d=\"M54.1742,-30.5461C62.5103,-30.5461 71.7873,-30.5461 80.5137,-30.5461\"/>\n<polygon fill=\"#000000\" stroke=\"#000000\" points=\"80.7846,-34.0462 90.7846,-30.5461 80.7845,-27.0462 80.7846,-34.0462\"/>\n</g>\n<!-- Iq0&#45;&gt;Iq0 -->\n<g id=\"edge3\" class=\"edge\">\n<title>Iq0&#45;&gt;Iq0</title>\n<path fill=\"none\" stroke=\"#000000\" d=\"M107.0151,-53.1149C106.312,-63.2117 108.7729,-71.9441 114.3979,-71.9441 118.0014,-71.9441 120.3064,-68.3603 121.3129,-63.1299\"/>\n<polygon fill=\"#000000\" stroke=\"#000000\" points=\"124.8102,-63.2673 121.7807,-53.1149 117.8178,-62.9406 124.8102,-63.2673\"/>\n<text text-anchor=\"middle\" x=\"114.3979\" y=\"-75.7441\" font-family=\"Times,serif\" font-size=\"14.00\" fill=\"#000000\">0 </text>\n</g>\n<!-- Iq0_q1 -->\n<g id=\"node3\" class=\"node\">\n<title>Iq0_q1</title>\n<ellipse fill=\"none\" stroke=\"#000000\" cx=\"224.1424\" cy=\"-85.5461\" rx=\"38.1938\" ry=\"38.1938\"/>\n<text text-anchor=\"middle\" x=\"224.1424\" y=\"-81.8461\" font-family=\"Times,serif\" font-size=\"14.00\" fill=\"#000000\">Iq0_q1</text>\n</g>\n<!-- Iq0&#45;&gt;Iq0_q1 -->\n<g id=\"edge2\" class=\"edge\">\n<title>Iq0&#45;&gt;Iq0_q1</title>\n<path fill=\"none\" stroke=\"#000000\" d=\"M135.5578,-41.1507C148.3663,-47.5699 165.1761,-55.9943 180.7068,-63.7778\"/>\n<polygon fill=\"#000000\" stroke=\"#000000\" points=\"179.155,-66.915 189.6633,-68.2664 182.2914,-60.6569 179.155,-66.915\"/>\n<text text-anchor=\"middle\" x=\"161.7958\" y=\"-59.3461\" font-family=\"Times,serif\" font-size=\"14.00\" fill=\"#000000\">1 </text>\n</g>\n<!-- Iq0_q1&#45;&gt;Iq0_q1 -->\n<g id=\"edge4\" class=\"edge\">\n<title>Iq0_q1&#45;&gt;Iq0_q1</title>\n<path fill=\"none\" stroke=\"#000000\" d=\"M212.5352,-122.1272C212.8261,-133.221 216.6952,-141.8927 224.1424,-141.8927 229.1461,-141.8927 232.5345,-137.9782 234.3076,-132.0446\"/>\n<polygon fill=\"#000000\" stroke=\"#000000\" points=\"237.7742,-132.5268 235.7497,-122.1272 230.8471,-131.5195 237.7742,-132.5268\"/>\n<text text-anchor=\"middle\" x=\"224.1424\" y=\"-145.6927\" font-family=\"Times,serif\" font-size=\"14.00\" fill=\"#000000\">1 </text>\n</g>\n<!-- Fq2_Iq0 -->\n<g id=\"node4\" class=\"node\">\n<title>Fq2_Iq0</title>\n<ellipse fill=\"none\" stroke=\"#000000\" cx=\"358.0352\" cy=\"-47.5461\" rx=\"43.5884\" ry=\"43.5884\"/>\n<ellipse fill=\"none\" stroke=\"#000000\" cx=\"358.0352\" cy=\"-47.5461\" rx=\"47.5923\" ry=\"47.5923\"/>\n<text text-anchor=\"middle\" x=\"358.0352\" y=\"-43.8461\" font-family=\"Times,serif\" font-size=\"14.00\" fill=\"#000000\">Fq2_Iq0</text>\n</g>\n<!-- Iq0_q1&#45;&gt;Fq2_Iq0 -->\n<g id=\"edge5\" class=\"edge\">\n<title>Iq0_q1&#45;&gt;Fq2_Iq0</title>\n<path fill=\"none\" stroke=\"#000000\" d=\"M261.0837,-75.0619C273.7902,-71.4556 288.3151,-67.3334 302.1861,-63.3966\"/>\n<polygon fill=\"#000000\" stroke=\"#000000\" points=\"303.471,-66.6703 312.1354,-60.5729 301.5598,-59.9362 303.471,-66.6703\"/>\n<text text-anchor=\"middle\" x=\"286.489\" y=\"-72.3461\" font-family=\"Times,serif\" font-size=\"14.00\" fill=\"#000000\">0 </text>\n</g>\n<!-- Fq2_Iq0&#45;&gt;Iq0 -->\n<g id=\"edge7\" class=\"edge\">\n<title>Fq2_Iq0&#45;&gt;Iq0</title>\n<path fill=\"none\" stroke=\"#000000\" d=\"M312.3004,-33.6285C296.6588,-29.5212 278.9537,-25.5824 262.489,-23.5461 228.6609,-19.3625 219.841,-21.8812 185.7958,-23.5461 173.384,-24.1531 159.8018,-25.3503 147.8468,-26.5853\"/>\n<polygon fill=\"#000000\" stroke=\"#000000\" points=\"147.3967,-23.1135 137.8301,-27.6666 148.148,-30.0731 147.3967,-23.1135\"/>\n<text text-anchor=\"middle\" x=\"224.1424\" y=\"-27.3461\" font-family=\"Times,serif\" font-size=\"14.00\" fill=\"#000000\">0 </text>\n</g>\n<!-- Fq2_Iq0&#45;&gt;Iq0_q1 -->\n<g id=\"edge6\" class=\"edge\">\n<title>Fq2_Iq0&#45;&gt;Iq0_q1</title>\n<path fill=\"none\" stroke=\"#000000\" d=\"M310.6279,-43.1301C300.5152,-43.4051 290.0164,-44.6337 280.489,-47.5461 274.343,-49.4249 268.2614,-52.2245 262.4952,-55.468\"/>\n<polygon fill=\"#000000\" stroke=\"#000000\" points=\"260.4122,-52.6401 253.7296,-60.8617 264.0807,-58.6019 260.4122,-52.6401\"/>\n<text text-anchor=\"middle\" x=\"286.489\" y=\"-51.3461\" font-family=\"Times,serif\" font-size=\"14.00\" fill=\"#000000\">1 </text>\n</g>\n</g>\n</svg>\n"
          },
          "metadata": {},
          "execution_count": 7
        }
      ]
    },
    {
      "cell_type": "code",
      "metadata": {
        "colab": {
          "base_uri": "https://localhost:8080/",
          "height": 241
        },
        "id": "zzHjqDZ4m0a-",
        "outputId": "c64e77b8-6d94-4822-a2f5-1cb55fb61950"
      },
      "source": [
        "dotObj_dfa_w_bh(dfa, STATENAME_MAXSIZE = 40)"
      ],
      "execution_count": 9,
      "outputs": [
        {
          "output_type": "execute_result",
          "data": {
            "text/plain": [
              "<graphviz.dot.Digraph at 0x7fea6a5ab610>"
            ],
            "image/svg+xml": "<?xml version=\"1.0\" encoding=\"UTF-8\" standalone=\"no\"?>\n<!DOCTYPE svg PUBLIC \"-//W3C//DTD SVG 1.1//EN\"\n \"http://www.w3.org/Graphics/SVG/1.1/DTD/svg11.dtd\">\n<!-- Generated by graphviz version 2.40.1 (20161225.0304)\n -->\n<!-- Title: %3 Pages: 1 -->\n<svg width=\"414pt\" height=\"165pt\"\n viewBox=\"0.00 0.00 413.58 164.89\" xmlns=\"http://www.w3.org/2000/svg\" xmlns:xlink=\"http://www.w3.org/1999/xlink\">\n<g id=\"graph0\" class=\"graph\" transform=\"scale(1 1) rotate(0) translate(4 160.8927)\">\n<title>%3</title>\n<polygon fill=\"#ffffff\" stroke=\"transparent\" points=\"-4,4 -4,-160.8927 409.5813,-160.8927 409.5813,4 -4,4\"/>\n<!-- EMPTY -->\n<g id=\"node1\" class=\"node\">\n<title>EMPTY</title>\n</g>\n<!-- Iq0 -->\n<g id=\"node2\" class=\"node\">\n<title>Iq0</title>\n<ellipse fill=\"none\" stroke=\"#000000\" cx=\"114.3979\" cy=\"-30.5461\" rx=\"23.2963\" ry=\"23.2963\"/>\n<text text-anchor=\"middle\" x=\"114.3979\" y=\"-26.8461\" font-family=\"Times,serif\" font-size=\"14.00\" fill=\"#000000\">Iq0</text>\n</g>\n<!-- EMPTY&#45;&gt;Iq0 -->\n<g id=\"edge1\" class=\"edge\">\n<title>EMPTY&#45;&gt;Iq0</title>\n<path fill=\"none\" stroke=\"#000000\" d=\"M54.1742,-30.5461C62.5103,-30.5461 71.7873,-30.5461 80.5137,-30.5461\"/>\n<polygon fill=\"#000000\" stroke=\"#000000\" points=\"80.7846,-34.0462 90.7846,-30.5461 80.7845,-27.0462 80.7846,-34.0462\"/>\n</g>\n<!-- Iq0&#45;&gt;Iq0 -->\n<g id=\"edge3\" class=\"edge\">\n<title>Iq0&#45;&gt;Iq0</title>\n<path fill=\"none\" stroke=\"#000000\" d=\"M107.0151,-53.1149C106.312,-63.2117 108.7729,-71.9441 114.3979,-71.9441 118.0014,-71.9441 120.3064,-68.3603 121.3129,-63.1299\"/>\n<polygon fill=\"#000000\" stroke=\"#000000\" points=\"124.8102,-63.2673 121.7807,-53.1149 117.8178,-62.9406 124.8102,-63.2673\"/>\n<text text-anchor=\"middle\" x=\"114.3979\" y=\"-75.7441\" font-family=\"Times,serif\" font-size=\"14.00\" fill=\"#000000\">0 </text>\n</g>\n<!-- Iq0_q1 -->\n<g id=\"node3\" class=\"node\">\n<title>Iq0_q1</title>\n<ellipse fill=\"none\" stroke=\"#000000\" cx=\"224.1424\" cy=\"-85.5461\" rx=\"38.1938\" ry=\"38.1938\"/>\n<text text-anchor=\"middle\" x=\"224.1424\" y=\"-81.8461\" font-family=\"Times,serif\" font-size=\"14.00\" fill=\"#000000\">Iq0_q1</text>\n</g>\n<!-- Iq0&#45;&gt;Iq0_q1 -->\n<g id=\"edge2\" class=\"edge\">\n<title>Iq0&#45;&gt;Iq0_q1</title>\n<path fill=\"none\" stroke=\"#000000\" d=\"M135.5578,-41.1507C148.3663,-47.5699 165.1761,-55.9943 180.7068,-63.7778\"/>\n<polygon fill=\"#000000\" stroke=\"#000000\" points=\"179.155,-66.915 189.6633,-68.2664 182.2914,-60.6569 179.155,-66.915\"/>\n<text text-anchor=\"middle\" x=\"161.7958\" y=\"-59.3461\" font-family=\"Times,serif\" font-size=\"14.00\" fill=\"#000000\">1 </text>\n</g>\n<!-- Iq0_q1&#45;&gt;Iq0_q1 -->\n<g id=\"edge4\" class=\"edge\">\n<title>Iq0_q1&#45;&gt;Iq0_q1</title>\n<path fill=\"none\" stroke=\"#000000\" d=\"M212.5352,-122.1272C212.8261,-133.221 216.6952,-141.8927 224.1424,-141.8927 229.1461,-141.8927 232.5345,-137.9782 234.3076,-132.0446\"/>\n<polygon fill=\"#000000\" stroke=\"#000000\" points=\"237.7742,-132.5268 235.7497,-122.1272 230.8471,-131.5195 237.7742,-132.5268\"/>\n<text text-anchor=\"middle\" x=\"224.1424\" y=\"-145.6927\" font-family=\"Times,serif\" font-size=\"14.00\" fill=\"#000000\">1 </text>\n</g>\n<!-- Fq2_Iq0 -->\n<g id=\"node4\" class=\"node\">\n<title>Fq2_Iq0</title>\n<ellipse fill=\"none\" stroke=\"#000000\" cx=\"358.0352\" cy=\"-47.5461\" rx=\"43.5884\" ry=\"43.5884\"/>\n<ellipse fill=\"none\" stroke=\"#000000\" cx=\"358.0352\" cy=\"-47.5461\" rx=\"47.5923\" ry=\"47.5923\"/>\n<text text-anchor=\"middle\" x=\"358.0352\" y=\"-43.8461\" font-family=\"Times,serif\" font-size=\"14.00\" fill=\"#000000\">Fq2_Iq0</text>\n</g>\n<!-- Iq0_q1&#45;&gt;Fq2_Iq0 -->\n<g id=\"edge5\" class=\"edge\">\n<title>Iq0_q1&#45;&gt;Fq2_Iq0</title>\n<path fill=\"none\" stroke=\"#000000\" d=\"M261.0837,-75.0619C273.7902,-71.4556 288.3151,-67.3334 302.1861,-63.3966\"/>\n<polygon fill=\"#000000\" stroke=\"#000000\" points=\"303.471,-66.6703 312.1354,-60.5729 301.5598,-59.9362 303.471,-66.6703\"/>\n<text text-anchor=\"middle\" x=\"286.489\" y=\"-72.3461\" font-family=\"Times,serif\" font-size=\"14.00\" fill=\"#000000\">0 </text>\n</g>\n<!-- Fq2_Iq0&#45;&gt;Iq0 -->\n<g id=\"edge7\" class=\"edge\">\n<title>Fq2_Iq0&#45;&gt;Iq0</title>\n<path fill=\"none\" stroke=\"#000000\" d=\"M312.3004,-33.6285C296.6588,-29.5212 278.9537,-25.5824 262.489,-23.5461 228.6609,-19.3625 219.841,-21.8812 185.7958,-23.5461 173.384,-24.1531 159.8018,-25.3503 147.8468,-26.5853\"/>\n<polygon fill=\"#000000\" stroke=\"#000000\" points=\"147.3967,-23.1135 137.8301,-27.6666 148.148,-30.0731 147.3967,-23.1135\"/>\n<text text-anchor=\"middle\" x=\"224.1424\" y=\"-27.3461\" font-family=\"Times,serif\" font-size=\"14.00\" fill=\"#000000\">0 </text>\n</g>\n<!-- Fq2_Iq0&#45;&gt;Iq0_q1 -->\n<g id=\"edge6\" class=\"edge\">\n<title>Fq2_Iq0&#45;&gt;Iq0_q1</title>\n<path fill=\"none\" stroke=\"#000000\" d=\"M310.6279,-43.1301C300.5152,-43.4051 290.0164,-44.6337 280.489,-47.5461 274.343,-49.4249 268.2614,-52.2245 262.4952,-55.468\"/>\n<polygon fill=\"#000000\" stroke=\"#000000\" points=\"260.4122,-52.6401 253.7296,-60.8617 264.0807,-58.6019 260.4122,-52.6401\"/>\n<text text-anchor=\"middle\" x=\"286.489\" y=\"-51.3461\" font-family=\"Times,serif\" font-size=\"14.00\" fill=\"#000000\">1 </text>\n</g>\n</g>\n</svg>\n"
          },
          "metadata": {},
          "execution_count": 9
        }
      ]
    },
    {
      "cell_type": "code",
      "metadata": {
        "colab": {
          "base_uri": "https://localhost:8080/",
          "height": 191
        },
        "id": "81TDvaZfnKck",
        "outputId": "e76a9dd3-f525-46f5-c8ae-54aa251614de"
      },
      "source": [
        "dotObj_dfa(dfa, STATENAME_MAXSIZE = 10)"
      ],
      "execution_count": 10,
      "outputs": [
        {
          "output_type": "execute_result",
          "data": {
            "text/plain": [
              "<graphviz.dot.Digraph at 0x7fea6a7010d0>"
            ],
            "image/svg+xml": "<?xml version=\"1.0\" encoding=\"UTF-8\" standalone=\"no\"?>\n<!DOCTYPE svg PUBLIC \"-//W3C//DTD SVG 1.1//EN\"\n \"http://www.w3.org/Graphics/SVG/1.1/DTD/svg11.dtd\">\n<!-- Generated by graphviz version 2.40.1 (20161225.0304)\n -->\n<!-- Title: %3 Pages: 1 -->\n<svg width=\"343pt\" height=\"128pt\"\n viewBox=\"0.00 0.00 343.39 127.80\" xmlns=\"http://www.w3.org/2000/svg\" xmlns:xlink=\"http://www.w3.org/1999/xlink\">\n<g id=\"graph0\" class=\"graph\" transform=\"scale(1 1) rotate(0) translate(4 123.7958)\">\n<title>%3</title>\n<polygon fill=\"#ffffff\" stroke=\"transparent\" points=\"-4,4 -4,-123.7958 339.3875,-123.7958 339.3875,4 -4,4\"/>\n<!-- EMPTY -->\n<g id=\"node1\" class=\"node\">\n<title>EMPTY</title>\n</g>\n<!-- St2 -->\n<g id=\"node2\" class=\"node\">\n<title>St2</title>\n<ellipse fill=\"none\" stroke=\"#000000\" cx=\"114.3979\" cy=\"-23.3979\" rx=\"23.2963\" ry=\"23.2963\"/>\n<text text-anchor=\"middle\" x=\"114.3979\" y=\"-19.6979\" font-family=\"Times,serif\" font-size=\"14.00\" fill=\"#000000\">St2</text>\n</g>\n<!-- EMPTY&#45;&gt;St2 -->\n<g id=\"edge1\" class=\"edge\">\n<title>EMPTY&#45;&gt;St2</title>\n<path fill=\"none\" stroke=\"#000000\" d=\"M54.1742,-23.3979C62.5103,-23.3979 71.7873,-23.3979 80.5137,-23.3979\"/>\n<polygon fill=\"#000000\" stroke=\"#000000\" points=\"80.7846,-26.898 90.7846,-23.3979 80.7845,-19.898 80.7846,-26.898\"/>\n</g>\n<!-- St2&#45;&gt;St2 -->\n<g id=\"edge3\" class=\"edge\">\n<title>St2&#45;&gt;St2</title>\n<path fill=\"none\" stroke=\"#000000\" d=\"M107.0151,-45.9667C106.312,-56.0635 108.7729,-64.7958 114.3979,-64.7958 118.0014,-64.7958 120.3064,-61.2121 121.3129,-55.9817\"/>\n<polygon fill=\"#000000\" stroke=\"#000000\" points=\"124.8102,-56.1191 121.7807,-45.9667 117.8178,-55.7924 124.8102,-56.1191\"/>\n<text text-anchor=\"middle\" x=\"114.3979\" y=\"-68.5958\" font-family=\"Times,serif\" font-size=\"14.00\" fill=\"#000000\">0 </text>\n</g>\n<!-- St1 -->\n<g id=\"node3\" class=\"node\">\n<title>St1</title>\n<ellipse fill=\"none\" stroke=\"#000000\" cx=\"209.1938\" cy=\"-63.3979\" rx=\"23.2963\" ry=\"23.2963\"/>\n<text text-anchor=\"middle\" x=\"209.1938\" y=\"-59.6979\" font-family=\"Times,serif\" font-size=\"14.00\" fill=\"#000000\">St1</text>\n</g>\n<!-- St2&#45;&gt;St1 -->\n<g id=\"edge2\" class=\"edge\">\n<title>St2&#45;&gt;St1</title>\n<path fill=\"none\" stroke=\"#000000\" d=\"M136.3843,-32.6753C148.7077,-37.8752 164.2849,-44.4482 177.8657,-50.1787\"/>\n<polygon fill=\"#000000\" stroke=\"#000000\" points=\"176.7526,-53.5078 187.3267,-54.1709 179.474,-47.0585 176.7526,-53.5078\"/>\n<text text-anchor=\"middle\" x=\"161.7958\" y=\"-49.1979\" font-family=\"Times,serif\" font-size=\"14.00\" fill=\"#000000\">1 </text>\n</g>\n<!-- St1&#45;&gt;St1 -->\n<g id=\"edge4\" class=\"edge\">\n<title>St1&#45;&gt;St1</title>\n<path fill=\"none\" stroke=\"#000000\" d=\"M200.7393,-85.5452C199.817,-95.8192 202.6352,-104.7958 209.1938,-104.7958 213.3954,-104.7958 216.0619,-101.1118 217.1933,-95.7628\"/>\n<polygon fill=\"#000000\" stroke=\"#000000\" points=\"220.6999,-95.691 217.6482,-85.5452 213.7068,-95.3796 220.6999,-95.691\"/>\n<text text-anchor=\"middle\" x=\"209.1938\" y=\"-108.5958\" font-family=\"Times,serif\" font-size=\"14.00\" fill=\"#000000\">1 </text>\n</g>\n<!-- St0 -->\n<g id=\"node4\" class=\"node\">\n<title>St0</title>\n<ellipse fill=\"none\" stroke=\"#000000\" cx=\"307.9896\" cy=\"-40.3979\" rx=\"23.3111\" ry=\"23.3111\"/>\n<ellipse fill=\"none\" stroke=\"#000000\" cx=\"307.9896\" cy=\"-40.3979\" rx=\"27.2962\" ry=\"27.2962\"/>\n<text text-anchor=\"middle\" x=\"307.9896\" y=\"-36.6979\" font-family=\"Times,serif\" font-size=\"14.00\" fill=\"#000000\">St0</text>\n</g>\n<!-- St1&#45;&gt;St0 -->\n<g id=\"edge5\" class=\"edge\">\n<title>St1&#45;&gt;St0</title>\n<path fill=\"none\" stroke=\"#000000\" d=\"M232.5156,-61.4077C241.9366,-60.3278 252.8615,-58.7234 262.5917,-56.3979 265.9444,-55.5966 269.3954,-54.6381 272.8259,-53.5939\"/>\n<polygon fill=\"#000000\" stroke=\"#000000\" points=\"273.9236,-56.9174 282.341,-50.4834 271.7485,-50.2639 273.9236,-56.9174\"/>\n<text text-anchor=\"middle\" x=\"256.5917\" y=\"-62.1979\" font-family=\"Times,serif\" font-size=\"14.00\" fill=\"#000000\">0 </text>\n</g>\n<!-- St0&#45;&gt;St2 -->\n<g id=\"edge7\" class=\"edge\">\n<title>St0&#45;&gt;St2</title>\n<path fill=\"none\" stroke=\"#000000\" d=\"M282.295,-30.0464C267.9335,-24.8171 249.5596,-19.0333 232.5917,-16.3979 204.1047,-11.9734 171.3572,-14.4976 147.5671,-17.6849\"/>\n<polygon fill=\"#000000\" stroke=\"#000000\" points=\"147.0319,-14.2258 137.6368,-19.1231 148.0352,-21.1535 147.0319,-14.2258\"/>\n<text text-anchor=\"middle\" x=\"209.1938\" y=\"-20.1979\" font-family=\"Times,serif\" font-size=\"14.00\" fill=\"#000000\">0 </text>\n</g>\n<!-- St0&#45;&gt;St1 -->\n<g id=\"edge6\" class=\"edge\">\n<title>St0&#45;&gt;St1</title>\n<path fill=\"none\" stroke=\"#000000\" d=\"M280.9958,-35.363C271.2535,-34.4876 260.2764,-34.6089 250.5917,-37.3979 245.8462,-38.7646 241.1191,-40.8532 236.6474,-43.265\"/>\n<polygon fill=\"#000000\" stroke=\"#000000\" points=\"234.6566,-40.3783 227.903,-48.5416 238.2732,-46.3717 234.6566,-40.3783\"/>\n<text text-anchor=\"middle\" x=\"256.5917\" y=\"-41.1979\" font-family=\"Times,serif\" font-size=\"14.00\" fill=\"#000000\">1 </text>\n</g>\n</g>\n</svg>\n"
          },
          "metadata": {},
          "execution_count": 10
        }
      ]
    }
  ]
}