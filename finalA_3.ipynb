{
  "nbformat": 4,
  "nbformat_minor": 0,
  "metadata": {
    "kernelspec": {
      "display_name": "Python 3",
      "language": "python",
      "name": "python3"
    },
    "language_info": {
      "codemirror_mode": {
        "name": "ipython",
        "version": 3
      },
      "file_extension": ".py",
      "mimetype": "text/x-python",
      "name": "python",
      "nbconvert_exporter": "python",
      "pygments_lexer": "ipython3",
      "version": "3.7.3"
    },
    "toc": {
      "colors": {
        "hover_highlight": "#DAA520",
        "running_highlight": "#FF0000",
        "selected_highlight": "#FFD700"
      },
      "moveMenuLeft": true,
      "nav_menu": {
        "height": "121px",
        "width": "252px"
      },
      "navigate_menu": true,
      "number_sections": true,
      "sideBar": true,
      "threshold": 4,
      "toc_cell": false,
      "toc_section_display": "block",
      "toc_window_display": false,
      "widenNotebook": false
    },
    "colab": {
      "name": "finalA_3.ipynb",
      "provenance": [],
      "collapsed_sections": [],
      "include_colab_link": true
    }
  },
  "cells": [
    {
      "cell_type": "markdown",
      "metadata": {
        "id": "view-in-github",
        "colab_type": "text"
      },
      "source": [
        "<a href=\"https://colab.research.google.com/github/bcasazharuddin/Automata-_Theory/blob/main/finalA_3.ipynb\" target=\"_parent\"><img src=\"https://colab.research.google.com/assets/colab-badge.svg\" alt=\"Open In Colab\"/></a>"
      ]
    },
    {
      "cell_type": "markdown",
      "metadata": {
        "id": "eSnuM98Q5FDn"
      },
      "source": [
        "# ******Final Assignment 3 ******"
      ]
    },
    {
      "cell_type": "code",
      "metadata": {
        "run_control": {
          "frozen": false,
          "read_only": false
        },
        "scrolled": true,
        "id": "o8skGUURsQ8W",
        "colab": {
          "base_uri": "https://localhost:8080/"
        },
        "outputId": "45bda62d-c910-4f2f-98d2-7eacf6c7c986"
      },
      "source": [
        "#~~~~~~~~~~~~~~~~~~~~~~~~~~~~~~~~~~~~~~~~~~~~~~~~~~~~~~~\n",
        "import sys\n",
        "\n",
        "# -- Detect if in Own Install or in Colab\n",
        "try:\n",
        "    import google.colab\n",
        "    OWN_INSTALL = False\n",
        "except:\n",
        "    OWN_INSTALL = True\n",
        "    \n",
        "if OWN_INSTALL:\n",
        "    \n",
        "  #---- Leave these definitions ON if running on laptop\n",
        "  #---- Else turn OFF by putting them between ''' ... '''\n",
        "\n",
        "  sys.path[0:0] = ['../../../../..',  '../../../../../3rdparty',  \n",
        "                   '../../../..',  '../../../../3rdparty',  \n",
        "                   '../../..',     '../../../3rdparty', \n",
        "                   '../..',        '../../3rdparty',\n",
        "                   '..',           '../3rdparty' ]\n",
        "\n",
        "else: # In colab\n",
        "  ! if [ ! -d Jove ]; then git clone https://github.com/ganeshutah/Jove Jove; fi\n",
        "  sys.path.append('./Jove')\n",
        "  sys.path.append('./Jove/jove')\n",
        "\n",
        "# -- common imports --\n",
        "from jove.DotBashers import *\n",
        "from jove.Def_md2mc  import *\n",
        "from jove.Def_NFA    import *\n",
        "from jove.Def_DFA    import *\n",
        "from jove.Def_NFA2RE import *\n",
        "from jove.Def_RE2NFA import *\n",
        "from jove.AnimateNFA import *\n",
        "#~~~~~~~~~~~~~~~~~~~~~~~~~~~~~~~~~~~~~~~~~~~~~~~~~~~~~~~"
      ],
      "execution_count": 2,
      "outputs": [
        {
          "output_type": "stream",
          "name": "stdout",
          "text": [
            "Cloning into 'Jove'...\n",
            "remote: Enumerating objects: 5112, done.\u001b[K\n",
            "remote: Counting objects: 100% (478/478), done.\u001b[K\n",
            "remote: Compressing objects: 100% (339/339), done.\u001b[K\n",
            "remote: Total 5112 (delta 272), reused 317 (delta 124), pack-reused 4634\u001b[K\n",
            "Receiving objects: 100% (5112/5112), 7.64 MiB | 24.30 MiB/s, done.\n",
            "Resolving deltas: 100% (3277/3277), done.\n",
            "You may use any of these help commands:\n",
            "help(ResetStNum)\n",
            "help(NxtStateStr)\n",
            "\n",
            "You may use any of these help commands:\n",
            "help(md2mc)\n",
            ".. and if you want to dig more, then ..\n",
            "help(default_line_attr)\n",
            "help(length_ok_input_items)\n",
            "help(union_line_attr_list_fld)\n",
            "help(extend_rsltdict)\n",
            "help(form_delta)\n",
            "help(get_machine_components)\n",
            "\n",
            "You may use any of these help commands:\n",
            "help(mkp_dfa)\n",
            "help(mk_dfa)\n",
            "help(totalize_dfa)\n",
            "help(addtosigma_delta)\n",
            "help(step_dfa)\n",
            "help(run_dfa)\n",
            "help(accepts_dfa)\n",
            "help(comp_dfa)\n",
            "help(union_dfa)\n",
            "help(intersect_dfa)\n",
            "help(pruneUnreach)\n",
            "help(iso_dfa)\n",
            "help(langeq_dfa)\n",
            "help(same_status)\n",
            "help(h_langeq_dfa)\n",
            "help(fixptDist)\n",
            "help(min_dfa)\n",
            "help(pairFR)\n",
            "help(state_combos)\n",
            "help(sepFinNonFin)\n",
            "help(bash_eql_classes)\n",
            "help(listminus)\n",
            "help(bash_1)\n",
            "help(mk_rep_eqc)\n",
            "help(F_of)\n",
            "help(rep_of_s)\n",
            "help(q0_of)\n",
            "help(Delta_of)\n",
            "help(mk_state_eqc_name)\n",
            "\n",
            "You may use any of these help commands:\n",
            "help(mk_nfa)\n",
            "help(totalize_nfa)\n",
            "help(step_nfa)\n",
            "help(run_nfa)\n",
            "help(ec_step_nfa)\n",
            "help(Eclosure)\n",
            "help(Echelp)\n",
            "help(accepts_nfa)\n",
            "help(nfa2dfa)\n",
            "help(n2d)\n",
            "help(inSets)\n",
            "help(rev_dfa)\n",
            "help(min_dfa_brz)\n",
            "\n",
            "You may use any of these help commands:\n",
            "help(RE2Str)\n",
            "help(mk_gnfa)\n",
            "help(mk_gnfa_from_D)\n",
            "help(dfa2nfa)\n",
            "help(del_gnfa_states)\n",
            "help(gnfa_w_REStr)\n",
            "help(del_one_gnfa_state)\n",
            "help(Edges_Exist_Via)\n",
            "help(choose_state_to_del)\n",
            "help(form_alt_RE)\n",
            "help(form_concat_RE)\n",
            "help(form_kleene_RE)\n",
            "\n",
            "You may use any of these help commands:\n",
            "help(re2nfa)\n",
            "\n",
            " \"help(AnimateNFA)\" gives you info on how to use animations with NFA \n"
          ]
        }
      ]
    },
    {
      "cell_type": "markdown",
      "metadata": {
        "id": "NItgka5vsQ8Y"
      },
      "source": [
        "# NFA to DFA by hand\n",
        "\n",
        "You are given this NFA below\n",
        "\n",
        "## 1(a). nfa1 is given below\n"
      ]
    },
    {
      "cell_type": "code",
      "metadata": {
        "id": "-mZHeOAtsQ8Z"
      },
      "source": [
        "# Given NFA\n",
        "\n",
        "nfa1 = md2mc('''NFA\n",
        "I1 : '' -> B\n",
        "I1 : a  -> I2\n",
        "\n",
        "I2 : c  -> F3\n",
        "I2 : b  -> B\n",
        "\n",
        "B : s  -> B\n",
        "B : d  -> F4\n",
        "B : f  -> F3\n",
        "\n",
        "\n",
        "''')\n"
      ],
      "execution_count": null,
      "outputs": []
    },
    {
      "cell_type": "code",
      "metadata": {
        "id": "rY-EIBRgsQ8Z"
      },
      "source": [
        "dotObj_nfa(nfa1)"
      ],
      "execution_count": null,
      "outputs": []
    },
    {
      "cell_type": "markdown",
      "metadata": {
        "id": "kn0amwD5sQ8a"
      },
      "source": [
        "## 1(b). Obtain the DFA of the above NFA by hand. I've given you a start.\n",
        "\n",
        "1. Obtain the Eclosure of the initial NFA state. That is the DFA's initial state.\n",
        "\n",
        "2. When we go from I1_I2_B (set of states corresponding to the Eclosure) and give that state 'a', it goes to \"wasI2\". This is no longer the initial state of the DFA, and hence called \"wasI2\".\n",
        "\n",
        "3. Finish the remaining steps below.\n",
        "\n",
        "Show your work by typing in the Eclosure details of each step wherever there is a $\\varepsilon$ involved in a given DFA state\n",
        "\n",
        "For DFA states where there is no $\\varepsilon$ involved, just show the final Eclosed result.\n",
        "\n",
        "Use as many bullets as necessary to clearly show your work:\n",
        "\n",
        "* Initial states : I1 and I2\n",
        "* E-closure (I1,I2) = I1, I2, B\n",
        "* so initial state of DFA : I1_I2_B\n",
        "* from I1_I2_B, for 'a' we get to 'wasI2' state, for 'b,s' we get to 'B' state, for 'c,f' we get to 'F3' state, and for 'd' we get to 'F4' state.\n",
        "* Similarly, next we check for 'wasI2' state.\n",
        "* from 'wasI2' state, we don't go to any state for 'a,s,d,f'. Therefore, we take it to a dead state 'D'.and from wasI2, for 'b' we get to 'B' state, for 'c' we get to 'F3' state \n",
        "* from B, for 's' we get to 'B' state, for 'd' we get to 'F4' state, for 'f' we get to 'F3' state, and from 'B' state, we don't go to any state for 'a,b,c'. Therefore, we take it to a dead state 'D'.\n",
        "* from 'F3,F4' state, we don't go to any state for 'a,b,c,s,d,f'. Therefore, we take it to a dead state 'D'.\n",
        "* from 'D' state, we don't go to any state for 'a,b,c,s,d,f'. Therefore, we take it to a dead state 'D'.\n"
      ]
    },
    {
      "cell_type": "code",
      "metadata": {
        "id": "cSNR3OHfsQ8b",
        "colab": {
          "base_uri": "https://localhost:8080/"
        },
        "outputId": "0871e08e-9d70-426c-a19e-b084944f712f"
      },
      "source": [
        "# DFA of nfa1\n",
        "\n",
        "dfa1 = md2mc('''DFA\n",
        "\n",
        "I1_I2_B : a -> wasI2\n",
        "I1_I2_B : b|s -> B\n",
        "I1_I2_B : c|f -> F3\n",
        "I1_I2_B : d -> F4\n",
        "\n",
        "wasI2 : a|s|d|f -> D\n",
        "wasI2 : b -> B\n",
        "wasI2 : c -> F3\n",
        "\n",
        "B : a|b|c -> D\n",
        "B : s -> B\n",
        "B : d -> F4\n",
        "B : f -> F3\n",
        "\n",
        "F3 : a|b|c|s|d|f -> D\n",
        "F4 : a|b|c|s|d|f -> D\n",
        "D : a|b|c|s|d|f -> D\n",
        "\n",
        "\n",
        "\n",
        "''')"
      ],
      "execution_count": 3,
      "outputs": [
        {
          "output_type": "stream",
          "name": "stderr",
          "text": [
            "Generating LALR tables\n"
          ]
        }
      ]
    },
    {
      "cell_type": "code",
      "metadata": {
        "id": "9Cz0aiLhsQ8c",
        "colab": {
          "base_uri": "https://localhost:8080/",
          "height": 831
        },
        "outputId": "dd21a181-7245-4ab2-8d5c-8deb34331301"
      },
      "source": [
        "dotObj_dfa(dfa1)"
      ],
      "execution_count": 4,
      "outputs": [
        {
          "output_type": "execute_result",
          "data": {
            "text/plain": [
              "<graphviz.dot.Digraph at 0x7fe293655c90>"
            ],
            "image/svg+xml": "<?xml version=\"1.0\" encoding=\"UTF-8\" standalone=\"no\"?>\n<!DOCTYPE svg PUBLIC \"-//W3C//DTD SVG 1.1//EN\"\n \"http://www.w3.org/Graphics/SVG/1.1/DTD/svg11.dtd\">\n<!-- Generated by graphviz version 2.40.1 (20161225.0304)\n -->\n<!-- Title: %3 Pages: 1 -->\n<svg width=\"560pt\" height=\"608pt\"\n viewBox=\"0.00 0.00 560.08 608.34\" xmlns=\"http://www.w3.org/2000/svg\" xmlns:xlink=\"http://www.w3.org/1999/xlink\">\n<g id=\"graph0\" class=\"graph\" transform=\"scale(1 1) rotate(0) translate(4 604.3428)\">\n<title>%3</title>\n<polygon fill=\"#ffffff\" stroke=\"transparent\" points=\"-4,4 -4,-604.3428 556.083,-604.3428 556.083,4 -4,4\"/>\n<!-- EMPTY -->\n<g id=\"node1\" class=\"node\">\n<title>EMPTY</title>\n</g>\n<!-- I1_I2_B -->\n<g id=\"node2\" class=\"node\">\n<title>I1_I2_B</title>\n<ellipse fill=\"none\" stroke=\"#000000\" cx=\"133.2463\" cy=\"-365.3428\" rx=\"42.4939\" ry=\"42.4939\"/>\n<text text-anchor=\"middle\" x=\"133.2463\" y=\"-361.6428\" font-family=\"Times,serif\" font-size=\"14.00\" fill=\"#000000\">I1_I2_B</text>\n</g>\n<!-- EMPTY&#45;&gt;I1_I2_B -->\n<g id=\"edge1\" class=\"edge\">\n<title>EMPTY&#45;&gt;I1_I2_B</title>\n<path fill=\"none\" stroke=\"#000000\" d=\"M54.0853,-365.3428C62.3026,-365.3428 71.6242,-365.3428 80.9135,-365.3428\"/>\n<polygon fill=\"#000000\" stroke=\"#000000\" points=\"80.927,-368.8429 90.927,-365.3428 80.9269,-361.8429 80.927,-368.8429\"/>\n</g>\n<!-- B -->\n<g id=\"node3\" class=\"node\">\n<title>B</title>\n<ellipse fill=\"none\" stroke=\"#000000\" cx=\"352.4867\" cy=\"-400.3428\" rx=\"18\" ry=\"18\"/>\n<text text-anchor=\"middle\" x=\"352.4867\" y=\"-396.6428\" font-family=\"Times,serif\" font-size=\"14.00\" fill=\"#000000\">B</text>\n</g>\n<!-- I1_I2_B&#45;&gt;B -->\n<g id=\"edge3\" class=\"edge\">\n<title>I1_I2_B&#45;&gt;B</title>\n<path fill=\"none\" stroke=\"#000000\" d=\"M166.9393,-391.1786C175.2601,-396.5603 184.4034,-401.6976 193.4925,-405.3428 236.9753,-422.7815 292.6466,-414.9128 325.2587,-407.6194\"/>\n<polygon fill=\"#000000\" stroke=\"#000000\" points=\"326.0734,-411.0234 334.9921,-405.3044 324.4537,-404.2133 326.0734,-411.0234\"/>\n<text text-anchor=\"middle\" x=\"253.9896\" y=\"-420.1428\" font-family=\"Times,serif\" font-size=\"14.00\" fill=\"#000000\">b </text>\n</g>\n<!-- I1_I2_B&#45;&gt;B -->\n<g id=\"edge4\" class=\"edge\">\n<title>I1_I2_B&#45;&gt;B</title>\n<path fill=\"none\" stroke=\"#000000\" d=\"M174.9998,-372.0084C218.7607,-378.9945 286.3112,-389.7784 324.2082,-395.8283\"/>\n<polygon fill=\"#000000\" stroke=\"#000000\" points=\"324.0859,-399.353 334.5126,-397.4733 325.1895,-392.4406 324.0859,-399.353\"/>\n<text text-anchor=\"middle\" x=\"253.9896\" y=\"-394.1428\" font-family=\"Times,serif\" font-size=\"14.00\" fill=\"#000000\">s </text>\n</g>\n<!-- wasI2 -->\n<g id=\"node4\" class=\"node\">\n<title>wasI2</title>\n<ellipse fill=\"none\" stroke=\"#000000\" cx=\"253.9896\" cy=\"-290.3428\" rx=\"32.4942\" ry=\"32.4942\"/>\n<text text-anchor=\"middle\" x=\"253.9896\" y=\"-286.6428\" font-family=\"Times,serif\" font-size=\"14.00\" fill=\"#000000\">wasI2</text>\n</g>\n<!-- I1_I2_B&#45;&gt;wasI2 -->\n<g id=\"edge2\" class=\"edge\">\n<title>I1_I2_B&#45;&gt;wasI2</title>\n<path fill=\"none\" stroke=\"#000000\" d=\"M169.1463,-343.0433C184.3713,-333.5863 202.0957,-322.5768 217.3953,-313.0734\"/>\n<polygon fill=\"#000000\" stroke=\"#000000\" points=\"219.4382,-315.9248 226.0861,-307.6751 215.7446,-309.9785 219.4382,-315.9248\"/>\n<text text-anchor=\"middle\" x=\"198.4925\" y=\"-332.1428\" font-family=\"Times,serif\" font-size=\"14.00\" fill=\"#000000\">a </text>\n</g>\n<!-- F4 -->\n<g id=\"node6\" class=\"node\">\n<title>F4</title>\n<ellipse fill=\"none\" stroke=\"#000000\" cx=\"443.2849\" cy=\"-484.3428\" rx=\"20.6302\" ry=\"20.6302\"/>\n<ellipse fill=\"none\" stroke=\"#000000\" cx=\"443.2849\" cy=\"-484.3428\" rx=\"24.5979\" ry=\"24.5979\"/>\n<text text-anchor=\"middle\" x=\"443.2849\" y=\"-480.6428\" font-family=\"Times,serif\" font-size=\"14.00\" fill=\"#000000\">F4</text>\n</g>\n<!-- I1_I2_B&#45;&gt;F4 -->\n<g id=\"edge7\" class=\"edge\">\n<title>I1_I2_B&#45;&gt;F4</title>\n<path fill=\"none\" stroke=\"#000000\" d=\"M162.758,-395.9173C172.1141,-404.7218 182.8136,-413.9382 193.4925,-421.3428 259.7171,-467.2613 356.4639,-479.7509 407.9601,-483.1211\"/>\n<polygon fill=\"#000000\" stroke=\"#000000\" points=\"408.0506,-486.632 418.2347,-483.7106 408.4517,-479.6435 408.0506,-486.632\"/>\n<text text-anchor=\"middle\" x=\"310.4867\" y=\"-473.1428\" font-family=\"Times,serif\" font-size=\"14.00\" fill=\"#000000\">d </text>\n</g>\n<!-- F3 -->\n<g id=\"node7\" class=\"node\">\n<title>F3</title>\n<ellipse fill=\"none\" stroke=\"#000000\" cx=\"443.2849\" cy=\"-93.3428\" rx=\"20.6302\" ry=\"20.6302\"/>\n<ellipse fill=\"none\" stroke=\"#000000\" cx=\"443.2849\" cy=\"-93.3428\" rx=\"24.5979\" ry=\"24.5979\"/>\n<text text-anchor=\"middle\" x=\"443.2849\" y=\"-89.6428\" font-family=\"Times,serif\" font-size=\"14.00\" fill=\"#000000\">F3</text>\n</g>\n<!-- I1_I2_B&#45;&gt;F3 -->\n<g id=\"edge5\" class=\"edge\">\n<title>I1_I2_B&#45;&gt;F3</title>\n<path fill=\"none\" stroke=\"#000000\" d=\"M154.072,-328.3123C183.0426,-279.1553 239.3491,-191.6656 304.4867,-132.3428 332.8766,-106.4872 377.0855,-97.6147 407.9584,-94.6557\"/>\n<polygon fill=\"#000000\" stroke=\"#000000\" points=\"408.5826,-98.1173 418.2746,-93.8376 408.0291,-91.1392 408.5826,-98.1173\"/>\n<text text-anchor=\"middle\" x=\"310.4867\" y=\"-136.1428\" font-family=\"Times,serif\" font-size=\"14.00\" fill=\"#000000\">c </text>\n</g>\n<!-- I1_I2_B&#45;&gt;F3 -->\n<g id=\"edge6\" class=\"edge\">\n<title>I1_I2_B&#45;&gt;F3</title>\n<path fill=\"none\" stroke=\"#000000\" d=\"M140.9869,-323.7515C151.7343,-276.0944 175.3053,-198.0582 221.4925,-147.3428 269.2241,-94.9315 358.5371,-89.3988 408.0194,-90.8222\"/>\n<polygon fill=\"#000000\" stroke=\"#000000\" points=\"408.1039,-94.3283 418.2362,-91.2321 408.3846,-87.3339 408.1039,-94.3283\"/>\n<text text-anchor=\"middle\" x=\"310.4867\" y=\"-105.1428\" font-family=\"Times,serif\" font-size=\"14.00\" fill=\"#000000\">f </text>\n</g>\n<!-- B&#45;&gt;B -->\n<g id=\"edge17\" class=\"edge\">\n<title>B&#45;&gt;B</title>\n<path fill=\"none\" stroke=\"#000000\" d=\"M345.1039,-417.0068C343.4633,-426.9678 345.9242,-436.3428 352.4867,-436.3428 356.6908,-436.3428 359.2117,-432.4953 360.0492,-427.111\"/>\n<polygon fill=\"#000000\" stroke=\"#000000\" points=\"363.5469,-426.943 359.8695,-417.0068 356.548,-427.0675 363.5469,-426.943\"/>\n<text text-anchor=\"middle\" x=\"352.4867\" y=\"-440.1428\" font-family=\"Times,serif\" font-size=\"14.00\" fill=\"#000000\">s </text>\n</g>\n<!-- D -->\n<g id=\"node5\" class=\"node\">\n<title>D</title>\n<ellipse fill=\"none\" stroke=\"#000000\" cx=\"534.083\" cy=\"-300.3428\" rx=\"18\" ry=\"18\"/>\n<text text-anchor=\"middle\" x=\"534.083\" y=\"-296.6428\" font-family=\"Times,serif\" font-size=\"14.00\" fill=\"#000000\">D</text>\n</g>\n<!-- B&#45;&gt;D -->\n<g id=\"edge14\" class=\"edge\">\n<title>B&#45;&gt;D</title>\n<path fill=\"none\" stroke=\"#000000\" d=\"M368.2845,-391.6433C399.9454,-374.2086 471.3725,-334.8757 509.3127,-313.9831\"/>\n<polygon fill=\"#000000\" stroke=\"#000000\" points=\"511.1211,-316.9829 518.1924,-309.0933 507.7444,-310.8511 511.1211,-316.9829\"/>\n<text text-anchor=\"middle\" x=\"443.2849\" y=\"-368.1428\" font-family=\"Times,serif\" font-size=\"14.00\" fill=\"#000000\">a </text>\n</g>\n<!-- B&#45;&gt;D -->\n<g id=\"edge15\" class=\"edge\">\n<title>B&#45;&gt;D</title>\n<path fill=\"none\" stroke=\"#000000\" d=\"M357.9656,-417.7227C375.8258,-471.7337 434.8643,-629.7987 498.083,-574.3428 516.3618,-558.3085 528.2655,-395.8605 532.429,-328.9297\"/>\n<polygon fill=\"#000000\" stroke=\"#000000\" points=\"535.9387,-328.8753 533.0522,-318.6813 528.9516,-328.4504 535.9387,-328.8753\"/>\n<text text-anchor=\"middle\" x=\"443.2849\" y=\"-589.1428\" font-family=\"Times,serif\" font-size=\"14.00\" fill=\"#000000\">b </text>\n</g>\n<!-- B&#45;&gt;D -->\n<g id=\"edge16\" class=\"edge\">\n<title>B&#45;&gt;D</title>\n<path fill=\"none\" stroke=\"#000000\" d=\"M370.6375,-401.4163C394.5879,-402.0039 437.3046,-400.1202 468.083,-382.3428 474.5377,-378.6146 499.5733,-346.3311 516.8837,-323.4049\"/>\n<polygon fill=\"#000000\" stroke=\"#000000\" points=\"519.8739,-325.252 523.085,-315.1554 514.2785,-321.0458 519.8739,-325.252\"/>\n<text text-anchor=\"middle\" x=\"443.2849\" y=\"-402.1428\" font-family=\"Times,serif\" font-size=\"14.00\" fill=\"#000000\">c </text>\n</g>\n<!-- B&#45;&gt;F4 -->\n<g id=\"edge18\" class=\"edge\">\n<title>B&#45;&gt;F4</title>\n<path fill=\"none\" stroke=\"#000000\" d=\"M365.8843,-412.7372C379.4023,-425.2431 400.6222,-444.8742 417.4272,-460.4211\"/>\n<polygon fill=\"#000000\" stroke=\"#000000\" points=\"415.0769,-463.0147 424.7942,-467.2365 419.8305,-457.8764 415.0769,-463.0147\"/>\n<text text-anchor=\"middle\" x=\"394.4867\" y=\"-446.1428\" font-family=\"Times,serif\" font-size=\"14.00\" fill=\"#000000\">d </text>\n</g>\n<!-- B&#45;&gt;F3 -->\n<g id=\"edge19\" class=\"edge\">\n<title>B&#45;&gt;F3</title>\n<path fill=\"none\" stroke=\"#000000\" d=\"M355.4614,-382.2757C360.4169,-354.1195 371.5244,-298.3347 388.4867,-253.3428 392.5541,-242.5541 396.0836,-240.9988 400.4867,-230.3428 414.6403,-196.0897 426.7943,-155.3934 434.4946,-127.3031\"/>\n<polygon fill=\"#000000\" stroke=\"#000000\" points=\"437.8976,-128.1263 437.1255,-117.5596 431.1396,-126.3015 437.8976,-128.1263\"/>\n<text text-anchor=\"middle\" x=\"394.4867\" y=\"-257.1428\" font-family=\"Times,serif\" font-size=\"14.00\" fill=\"#000000\">f </text>\n</g>\n<!-- wasI2&#45;&gt;B -->\n<g id=\"edge12\" class=\"edge\">\n<title>wasI2&#45;&gt;B</title>\n<path fill=\"none\" stroke=\"#000000\" d=\"M275.8493,-314.7553C293.0513,-333.9663 316.7902,-360.4774 333.2706,-378.8825\"/>\n<polygon fill=\"#000000\" stroke=\"#000000\" points=\"331.0041,-381.5981 340.2824,-386.7132 336.219,-376.9285 331.0041,-381.5981\"/>\n<text text-anchor=\"middle\" x=\"310.4867\" y=\"-363.1428\" font-family=\"Times,serif\" font-size=\"14.00\" fill=\"#000000\">b </text>\n</g>\n<!-- wasI2&#45;&gt;D -->\n<g id=\"edge8\" class=\"edge\">\n<title>wasI2&#45;&gt;D</title>\n<path fill=\"none\" stroke=\"#000000\" d=\"M284.9782,-300.2259C291.3677,-301.8973 298.0973,-303.3958 304.4867,-304.3428 376.4694,-315.0105 462.5268,-308.4322 505.9929,-303.7778\"/>\n<polygon fill=\"#000000\" stroke=\"#000000\" points=\"506.5428,-307.2382 516.0915,-302.6476 505.7642,-300.2817 506.5428,-307.2382\"/>\n<text text-anchor=\"middle\" x=\"394.4867\" y=\"-314.1428\" font-family=\"Times,serif\" font-size=\"14.00\" fill=\"#000000\">a </text>\n</g>\n<!-- wasI2&#45;&gt;D -->\n<g id=\"edge9\" class=\"edge\">\n<title>wasI2&#45;&gt;D</title>\n<path fill=\"none\" stroke=\"#000000\" d=\"M286.5857,-290.0016C316.2817,-289.8249 361.3451,-289.8921 400.4867,-291.3428 436.8296,-292.6897 478.6462,-295.7515 505.6737,-297.9292\"/>\n<polygon fill=\"#000000\" stroke=\"#000000\" points=\"505.6972,-301.4428 515.9499,-298.7722 506.2695,-294.4662 505.6972,-301.4428\"/>\n<text text-anchor=\"middle\" x=\"394.4867\" y=\"-295.1428\" font-family=\"Times,serif\" font-size=\"14.00\" fill=\"#000000\">s </text>\n</g>\n<!-- wasI2&#45;&gt;D -->\n<g id=\"edge10\" class=\"edge\">\n<title>wasI2&#45;&gt;D</title>\n<path fill=\"none\" stroke=\"#000000\" d=\"M275.5918,-265.7583C303.1373,-237.5581 352.916,-196.9481 400.4867,-211.3428 445.3025,-224.9037 488.8353,-258.9978 513.4668,-280.8332\"/>\n<polygon fill=\"#000000\" stroke=\"#000000\" points=\"511.309,-283.6011 521.07,-287.7209 516.0087,-278.4132 511.309,-283.6011\"/>\n<text text-anchor=\"middle\" x=\"394.4867\" y=\"-215.1428\" font-family=\"Times,serif\" font-size=\"14.00\" fill=\"#000000\">d </text>\n</g>\n<!-- wasI2&#45;&gt;D -->\n<g id=\"edge11\" class=\"edge\">\n<title>wasI2&#45;&gt;D</title>\n<path fill=\"none\" stroke=\"#000000\" d=\"M273.3593,-263.8418C282.2722,-252.3952 293.332,-239.1741 304.4867,-228.3428 337.408,-196.376 355.2651,-182.553 400.4867,-190.3428 431.9042,-195.7546 442.2985,-195.5943 468.083,-214.3428 490.3215,-230.5127 508.6724,-256.235 520.3304,-275.3408\"/>\n<polygon fill=\"#000000\" stroke=\"#000000\" points=\"517.4105,-277.2799 525.5034,-284.1176 523.441,-273.7255 517.4105,-277.2799\"/>\n<text text-anchor=\"middle\" x=\"394.4867\" y=\"-194.1428\" font-family=\"Times,serif\" font-size=\"14.00\" fill=\"#000000\">f </text>\n</g>\n<!-- wasI2&#45;&gt;F3 -->\n<g id=\"edge13\" class=\"edge\">\n<title>wasI2&#45;&gt;F3</title>\n<path fill=\"none\" stroke=\"#000000\" d=\"M259.8824,-258.2209C266.4999,-230.0186 279.7214,-189.3861 304.4867,-162.3428 332.8164,-131.4071 378.1071,-112.5625 409.2001,-102.5541\"/>\n<polygon fill=\"#000000\" stroke=\"#000000\" points=\"410.6251,-105.7778 419.1554,-99.494 408.5684,-99.0867 410.6251,-105.7778\"/>\n<text text-anchor=\"middle\" x=\"352.4867\" y=\"-141.1428\" font-family=\"Times,serif\" font-size=\"14.00\" fill=\"#000000\">c </text>\n</g>\n<!-- D&#45;&gt;D -->\n<g id=\"edge32\" class=\"edge\">\n<title>D&#45;&gt;D</title>\n<path fill=\"none\" stroke=\"#000000\" d=\"M532.6358,-318.4955C532.4131,-327.8818 532.8955,-336.3428 534.083,-336.3428 534.8067,-336.3428 535.2685,-333.2009 535.4685,-328.6223\"/>\n<polygon fill=\"#000000\" stroke=\"#000000\" points=\"538.9691,-328.5167 535.5303,-318.4955 531.9692,-328.4739 538.9691,-328.5167\"/>\n<text text-anchor=\"middle\" x=\"534.083\" y=\"-340.1428\" font-family=\"Times,serif\" font-size=\"14.00\" fill=\"#000000\">a </text>\n</g>\n<!-- D&#45;&gt;D -->\n<g id=\"edge33\" class=\"edge\">\n<title>D&#45;&gt;D</title>\n<path fill=\"none\" stroke=\"#000000\" d=\"M531.678,-318.321C530.3907,-335.5424 531.1924,-354.3428 534.083,-354.3428 536.4091,-354.3428 537.3825,-342.1691 537.0033,-328.4405\"/>\n<polygon fill=\"#000000\" stroke=\"#000000\" points=\"540.4921,-328.1301 536.4881,-318.321 533.5012,-328.486 540.4921,-328.1301\"/>\n<text text-anchor=\"middle\" x=\"534.083\" y=\"-358.1428\" font-family=\"Times,serif\" font-size=\"14.00\" fill=\"#000000\">b </text>\n</g>\n<!-- D&#45;&gt;D -->\n<g id=\"edge34\" class=\"edge\">\n<title>D&#45;&gt;D</title>\n<path fill=\"none\" stroke=\"#000000\" d=\"M531.0467,-318.4209C528.36,-342.7522 529.3721,-372.3428 534.083,-372.3428 538.1499,-372.3428 539.4602,-350.2902 538.0139,-328.6064\"/>\n<polygon fill=\"#000000\" stroke=\"#000000\" points=\"541.481,-328.0763 537.1194,-318.4209 534.5078,-328.6888 541.481,-328.0763\"/>\n<text text-anchor=\"middle\" x=\"534.083\" y=\"-376.1428\" font-family=\"Times,serif\" font-size=\"14.00\" fill=\"#000000\">c </text>\n</g>\n<!-- D&#45;&gt;D -->\n<g id=\"edge35\" class=\"edge\">\n<title>D&#45;&gt;D</title>\n<path fill=\"none\" stroke=\"#000000\" d=\"M530.6059,-318.4551C526.3302,-349.5826 527.4893,-390.3428 534.083,-390.3428 539.9814,-390.3428 541.5309,-357.727 538.7317,-328.5664\"/>\n<polygon fill=\"#000000\" stroke=\"#000000\" points=\"542.1879,-327.9859 537.5602,-318.4551 535.2345,-328.7915 542.1879,-327.9859\"/>\n<text text-anchor=\"middle\" x=\"534.083\" y=\"-394.1428\" font-family=\"Times,serif\" font-size=\"14.00\" fill=\"#000000\">s </text>\n</g>\n<!-- D&#45;&gt;D -->\n<g id=\"edge36\" class=\"edge\">\n<title>D&#45;&gt;D</title>\n<path fill=\"none\" stroke=\"#000000\" d=\"M530.3322,-318.141C524.2976,-355.8916 525.5479,-408.3428 534.083,-408.3428 541.8847,-408.3428 543.5998,-364.5192 539.2282,-328.1567\"/>\n<polygon fill=\"#000000\" stroke=\"#000000\" points=\"542.6794,-327.5629 537.8338,-318.141 535.7463,-328.5282 542.6794,-327.5629\"/>\n<text text-anchor=\"middle\" x=\"534.083\" y=\"-412.1428\" font-family=\"Times,serif\" font-size=\"14.00\" fill=\"#000000\">d </text>\n</g>\n<!-- D&#45;&gt;D -->\n<g id=\"edge37\" class=\"edge\">\n<title>D&#45;&gt;D</title>\n<path fill=\"none\" stroke=\"#000000\" d=\"M530.0929,-318.1118C522.2765,-362.317 523.6065,-426.3428 534.083,-426.3428 543.7821,-426.3428 545.6418,-371.4682 539.6624,-328.2476\"/>\n<polygon fill=\"#000000\" stroke=\"#000000\" points=\"543.08,-327.4489 538.0731,-318.1118 536.1645,-328.5333 543.08,-327.4489\"/>\n<text text-anchor=\"middle\" x=\"534.083\" y=\"-430.1428\" font-family=\"Times,serif\" font-size=\"14.00\" fill=\"#000000\">f </text>\n</g>\n<!-- F4&#45;&gt;D -->\n<g id=\"edge26\" class=\"edge\">\n<title>F4&#45;&gt;D</title>\n<path fill=\"none\" stroke=\"#000000\" d=\"M468.124,-486.1204C478.6292,-485.5283 490.2267,-482.8902 498.083,-475.3428 518.7993,-455.441 528.3839,-372.7233 532.1,-328.5089\"/>\n<polygon fill=\"#000000\" stroke=\"#000000\" points=\"535.599,-328.6602 532.9025,-318.4143 528.621,-328.1054 535.599,-328.6602\"/>\n<text text-anchor=\"middle\" x=\"492.083\" y=\"-485.1428\" font-family=\"Times,serif\" font-size=\"14.00\" fill=\"#000000\">a </text>\n</g>\n<!-- F4&#45;&gt;D -->\n<g id=\"edge27\" class=\"edge\">\n<title>F4&#45;&gt;D</title>\n<path fill=\"none\" stroke=\"#000000\" d=\"M464.2987,-471.0409C475.8698,-462.6902 489.5693,-450.9402 498.083,-437.3428 519.1446,-403.7048 527.9583,-358.033 531.5963,-328.8677\"/>\n<polygon fill=\"#000000\" stroke=\"#000000\" points=\"535.1162,-328.8851 532.7519,-318.5575 528.1597,-328.1053 535.1162,-328.8851\"/>\n<text text-anchor=\"middle\" x=\"492.083\" y=\"-455.1428\" font-family=\"Times,serif\" font-size=\"14.00\" fill=\"#000000\">b </text>\n</g>\n<!-- F4&#45;&gt;D -->\n<g id=\"edge28\" class=\"edge\">\n<title>F4&#45;&gt;D</title>\n<path fill=\"none\" stroke=\"#000000\" d=\"M456.8417,-463.4398C472.7956,-438.8226 497.2439,-401.0334 498.083,-399.3428 509.715,-375.9065 519.589,-347.7467 526.0372,-327.4619\"/>\n<polygon fill=\"#000000\" stroke=\"#000000\" points=\"529.4644,-328.2269 529.0881,-317.6388 522.7794,-326.1506 529.4644,-328.2269\"/>\n<text text-anchor=\"middle\" x=\"492.083\" y=\"-421.1428\" font-family=\"Times,serif\" font-size=\"14.00\" fill=\"#000000\">c </text>\n</g>\n<!-- F4&#45;&gt;D -->\n<g id=\"edge29\" class=\"edge\">\n<title>F4&#45;&gt;D</title>\n<path fill=\"none\" stroke=\"#000000\" d=\"M452.6336,-461.3397C464.622,-431.8841 484.1115,-384.159 486.083,-380.3428 490.6673,-371.4693 492.8777,-369.8667 498.083,-361.3428 505.3933,-349.3721 513.336,-335.9589 519.8964,-324.765\"/>\n<polygon fill=\"#000000\" stroke=\"#000000\" points=\"523.0154,-326.3646 525.0377,-315.9646 516.9712,-322.8335 523.0154,-326.3646\"/>\n<text text-anchor=\"middle\" x=\"492.083\" y=\"-384.1428\" font-family=\"Times,serif\" font-size=\"14.00\" fill=\"#000000\">s </text>\n</g>\n<!-- F4&#45;&gt;D -->\n<g id=\"edge30\" class=\"edge\">\n<title>F4&#45;&gt;D</title>\n<path fill=\"none\" stroke=\"#000000\" d=\"M451.3209,-508.0609C461.1586,-533.4496 478.8932,-567.9766 498.083,-551.3428 514.7493,-536.8964 527.3836,-391.2471 532.0851,-328.6691\"/>\n<polygon fill=\"#000000\" stroke=\"#000000\" points=\"535.5764,-328.9141 532.8206,-318.684 528.5954,-328.3998 535.5764,-328.9141\"/>\n<text text-anchor=\"middle\" x=\"492.083\" y=\"-559.1428\" font-family=\"Times,serif\" font-size=\"14.00\" fill=\"#000000\">d </text>\n</g>\n<!-- F4&#45;&gt;D -->\n<g id=\"edge31\" class=\"edge\">\n<title>F4&#45;&gt;D</title>\n<path fill=\"none\" stroke=\"#000000\" d=\"M463.6492,-498.5865C474.8649,-504.5415 488.4267,-508.4162 498.083,-500.3428 523.8667,-478.7858 531.212,-378.5422 533.2827,-328.6721\"/>\n<polygon fill=\"#000000\" stroke=\"#000000\" points=\"536.7847,-328.6821 533.6586,-318.559 529.7895,-328.4221 536.7847,-328.6821\"/>\n<text text-anchor=\"middle\" x=\"492.083\" y=\"-508.1428\" font-family=\"Times,serif\" font-size=\"14.00\" fill=\"#000000\">f </text>\n</g>\n<!-- F3&#45;&gt;D -->\n<g id=\"edge20\" class=\"edge\">\n<title>F3&#45;&gt;D</title>\n<path fill=\"none\" stroke=\"#000000\" d=\"M451.6479,-69.7877C461.6625,-45.1001 479.4344,-11.9997 498.083,-28.3428 516.2382,-44.2533 528.2141,-205.5194 532.413,-271.9637\"/>\n<polygon fill=\"#000000\" stroke=\"#000000\" points=\"528.9315,-272.3724 533.0416,-282.1375 535.9181,-271.9406 528.9315,-272.3724\"/>\n<text text-anchor=\"middle\" x=\"492.083\" y=\"-32.1428\" font-family=\"Times,serif\" font-size=\"14.00\" fill=\"#000000\">a </text>\n</g>\n<!-- F3&#45;&gt;D -->\n<g id=\"edge21\" class=\"edge\">\n<title>F3&#45;&gt;D</title>\n<path fill=\"none\" stroke=\"#000000\" d=\"M448.493,-69.0021C456.5902,-36.0977 473.8279,16.1324 498.083,-5.3428 517.8839,-22.8741 529.0597,-201.5502 532.7249,-272.0029\"/>\n<polygon fill=\"#000000\" stroke=\"#000000\" points=\"529.247,-272.5297 533.2488,-282.3397 536.238,-272.1753 529.247,-272.5297\"/>\n<text text-anchor=\"middle\" x=\"492.083\" y=\"-9.1428\" font-family=\"Times,serif\" font-size=\"14.00\" fill=\"#000000\">b </text>\n</g>\n<!-- F3&#45;&gt;D -->\n<g id=\"edge22\" class=\"edge\">\n<title>F3&#45;&gt;D</title>\n<path fill=\"none\" stroke=\"#000000\" d=\"M457.3419,-114.2023C471.4919,-135.4499 492.061,-167.0994 498.083,-180.3428 511.9482,-210.8344 522.1594,-248.066 528.0954,-272.8944\"/>\n<polygon fill=\"#000000\" stroke=\"#000000\" points=\"524.7055,-273.7702 530.3758,-282.72 531.5243,-272.1876 524.7055,-273.7702\"/>\n<text text-anchor=\"middle\" x=\"492.083\" y=\"-184.1428\" font-family=\"Times,serif\" font-size=\"14.00\" fill=\"#000000\">c </text>\n</g>\n<!-- F3&#45;&gt;D -->\n<g id=\"edge23\" class=\"edge\">\n<title>F3&#45;&gt;D</title>\n<path fill=\"none\" stroke=\"#000000\" d=\"M464.4815,-106.5325C476.1135,-114.8457 489.813,-126.5957 498.083,-140.3428 511.2924,-162.3003 523.7236,-232.4795 529.9407,-272.2147\"/>\n<polygon fill=\"#000000\" stroke=\"#000000\" points=\"526.5143,-272.9618 531.4898,-282.3156 533.4334,-271.9006 526.5143,-272.9618\"/>\n<text text-anchor=\"middle\" x=\"492.083\" y=\"-144.1428\" font-family=\"Times,serif\" font-size=\"14.00\" fill=\"#000000\">s </text>\n</g>\n<!-- F3&#45;&gt;D -->\n<g id=\"edge24\" class=\"edge\">\n<title>F3&#45;&gt;D</title>\n<path fill=\"none\" stroke=\"#000000\" d=\"M468.0992,-93.9445C478.7287,-95.5018 490.4321,-99.1717 498.083,-107.3428 520.0204,-130.7715 529.164,-224.1809 532.4651,-271.9267\"/>\n<polygon fill=\"#000000\" stroke=\"#000000\" points=\"528.9914,-272.4466 533.1334,-282.1982 535.9766,-271.992 528.9914,-272.4466\"/>\n<text text-anchor=\"middle\" x=\"492.083\" y=\"-111.1428\" font-family=\"Times,serif\" font-size=\"14.00\" fill=\"#000000\">d </text>\n</g>\n<!-- F3&#45;&gt;D -->\n<g id=\"edge25\" class=\"edge\">\n<title>F3&#45;&gt;D</title>\n<path fill=\"none\" stroke=\"#000000\" d=\"M464.8944,-80.7134C475.9446,-76.057 488.9515,-73.5897 498.083,-81.3428 512.5009,-93.584 525.9795,-215.8748 531.4783,-272.2036\"/>\n<polygon fill=\"#000000\" stroke=\"#000000\" points=\"528.0007,-272.6057 532.4402,-282.2256 534.9687,-271.9369 528.0007,-272.6057\"/>\n<text text-anchor=\"middle\" x=\"492.083\" y=\"-85.1428\" font-family=\"Times,serif\" font-size=\"14.00\" fill=\"#000000\">f </text>\n</g>\n</g>\n</svg>\n"
          },
          "metadata": {},
          "execution_count": 4
        }
      ]
    },
    {
      "cell_type": "code",
      "metadata": {
        "colab": {
          "base_uri": "https://localhost:8080/",
          "height": 418
        },
        "id": "kl3OcvG-Ihn5",
        "outputId": "921ed25c-fc9a-4a3d-d0b4-991ee81d8a4d"
      },
      "source": [
        "dotObj_dfa(dfa1 ,FuseEdges='True')"
      ],
      "execution_count": 5,
      "outputs": [
        {
          "output_type": "execute_result",
          "data": {
            "text/plain": [
              "<graphviz.dot.Digraph at 0x7fe29373a790>"
            ],
            "image/svg+xml": "<?xml version=\"1.0\" encoding=\"UTF-8\" standalone=\"no\"?>\n<!DOCTYPE svg PUBLIC \"-//W3C//DTD SVG 1.1//EN\"\n \"http://www.w3.org/Graphics/SVG/1.1/DTD/svg11.dtd\">\n<!-- Generated by graphviz version 2.40.1 (20161225.0304)\n -->\n<!-- Title: %3 Pages: 1 -->\n<svg width=\"623pt\" height=\"298pt\"\n viewBox=\"0.00 0.00 623.08 298.28\" xmlns=\"http://www.w3.org/2000/svg\" xmlns:xlink=\"http://www.w3.org/1999/xlink\">\n<g id=\"graph0\" class=\"graph\" transform=\"scale(1 1) rotate(0) translate(4 294.2775)\">\n<title>%3</title>\n<polygon fill=\"#ffffff\" stroke=\"transparent\" points=\"-4,4 -4,-294.2775 619.083,-294.2775 619.083,4 -4,4\"/>\n<!-- EMPTY -->\n<g id=\"node1\" class=\"node\">\n<title>EMPTY</title>\n</g>\n<!-- I1_I2_B -->\n<g id=\"node2\" class=\"node\">\n<title>I1_I2_B</title>\n<ellipse fill=\"none\" stroke=\"#000000\" cx=\"133.2463\" cy=\"-140.2775\" rx=\"42.4939\" ry=\"42.4939\"/>\n<text text-anchor=\"middle\" x=\"133.2463\" y=\"-136.5775\" font-family=\"Times,serif\" font-size=\"14.00\" fill=\"#000000\">I1_I2_B</text>\n</g>\n<!-- EMPTY&#45;&gt;I1_I2_B -->\n<g id=\"edge1\" class=\"edge\">\n<title>EMPTY&#45;&gt;I1_I2_B</title>\n<path fill=\"none\" stroke=\"#000000\" d=\"M54.0853,-140.2775C62.3026,-140.2775 71.6242,-140.2775 80.9135,-140.2775\"/>\n<polygon fill=\"#000000\" stroke=\"#000000\" points=\"80.927,-143.7776 90.927,-140.2775 80.9269,-136.7776 80.927,-143.7776\"/>\n</g>\n<!-- B -->\n<g id=\"node3\" class=\"node\">\n<title>B</title>\n<ellipse fill=\"none\" stroke=\"#000000\" cx=\"353.4867\" cy=\"-162.2775\" rx=\"18\" ry=\"18\"/>\n<text text-anchor=\"middle\" x=\"353.4867\" y=\"-158.5775\" font-family=\"Times,serif\" font-size=\"14.00\" fill=\"#000000\">B</text>\n</g>\n<!-- I1_I2_B&#45;&gt;B -->\n<g id=\"edge3\" class=\"edge\">\n<title>I1_I2_B&#45;&gt;B</title>\n<path fill=\"none\" stroke=\"#000000\" d=\"M175.4126,-145.5429C210.0385,-149.7253 260.3804,-155.4827 304.4867,-159.2775 311.1738,-159.8528 318.3835,-160.3581 325.1616,-160.7819\"/>\n<polygon fill=\"#000000\" stroke=\"#000000\" points=\"325.1321,-164.2862 335.3204,-161.3793 325.5431,-157.2982 325.1321,-164.2862\"/>\n<text text-anchor=\"middle\" x=\"253.9896\" y=\"-176.0775\" font-family=\"Times,serif\" font-size=\"14.00\" fill=\"#000000\">b </text>\n<text text-anchor=\"middle\" x=\"253.9896\" y=\"-161.0775\" font-family=\"Times,serif\" font-size=\"14.00\" fill=\"#000000\"> s </text>\n</g>\n<!-- wasI2 -->\n<g id=\"node4\" class=\"node\">\n<title>wasI2</title>\n<ellipse fill=\"none\" stroke=\"#000000\" cx=\"253.9896\" cy=\"-39.2775\" rx=\"32.4942\" ry=\"32.4942\"/>\n<text text-anchor=\"middle\" x=\"253.9896\" y=\"-35.5775\" font-family=\"Times,serif\" font-size=\"14.00\" fill=\"#000000\">wasI2</text>\n</g>\n<!-- I1_I2_B&#45;&gt;wasI2 -->\n<g id=\"edge2\" class=\"edge\">\n<title>I1_I2_B&#45;&gt;wasI2</title>\n<path fill=\"none\" stroke=\"#000000\" d=\"M158.1762,-106.0998C168.228,-93.8188 180.5153,-80.4922 193.4925,-70.2775 199.9477,-65.1965 207.3653,-60.5866 214.7447,-56.5673\"/>\n<polygon fill=\"#000000\" stroke=\"#000000\" points=\"216.7095,-59.4924 223.9962,-51.8011 213.5036,-53.2696 216.7095,-59.4924\"/>\n<text text-anchor=\"middle\" x=\"198.4925\" y=\"-74.0775\" font-family=\"Times,serif\" font-size=\"14.00\" fill=\"#000000\">a </text>\n</g>\n<!-- F4 -->\n<g id=\"node6\" class=\"node\">\n<title>F4</title>\n<ellipse fill=\"none\" stroke=\"#000000\" cx=\"448.2849\" cy=\"-250.2775\" rx=\"20.6302\" ry=\"20.6302\"/>\n<ellipse fill=\"none\" stroke=\"#000000\" cx=\"448.2849\" cy=\"-250.2775\" rx=\"24.5979\" ry=\"24.5979\"/>\n<text text-anchor=\"middle\" x=\"448.2849\" y=\"-246.5775\" font-family=\"Times,serif\" font-size=\"14.00\" fill=\"#000000\">F4</text>\n</g>\n<!-- I1_I2_B&#45;&gt;F4 -->\n<g id=\"edge5\" class=\"edge\">\n<title>I1_I2_B&#45;&gt;F4</title>\n<path fill=\"none\" stroke=\"#000000\" d=\"M168.658,-163.5572C184.3632,-173.1319 203.3618,-183.7233 221.4925,-191.2775 286.9935,-218.5685 368.5139,-236.0589 413.8214,-244.4353\"/>\n<polygon fill=\"#000000\" stroke=\"#000000\" points=\"413.2619,-247.8908 423.7252,-246.2272 414.5082,-241.0026 413.2619,-247.8908\"/>\n<text text-anchor=\"middle\" x=\"310.9867\" y=\"-226.0775\" font-family=\"Times,serif\" font-size=\"14.00\" fill=\"#000000\">d </text>\n</g>\n<!-- F3 -->\n<g id=\"node7\" class=\"node\">\n<title>F3</title>\n<ellipse fill=\"none\" stroke=\"#000000\" cx=\"448.2849\" cy=\"-78.2775\" rx=\"20.6302\" ry=\"20.6302\"/>\n<ellipse fill=\"none\" stroke=\"#000000\" cx=\"448.2849\" cy=\"-78.2775\" rx=\"24.5979\" ry=\"24.5979\"/>\n<text text-anchor=\"middle\" x=\"448.2849\" y=\"-74.5775\" font-family=\"Times,serif\" font-size=\"14.00\" fill=\"#000000\">F3</text>\n</g>\n<!-- I1_I2_B&#45;&gt;F3 -->\n<g id=\"edge4\" class=\"edge\">\n<title>I1_I2_B&#45;&gt;F3</title>\n<path fill=\"none\" stroke=\"#000000\" d=\"M174.0911,-128.2217C208.5791,-118.4197 259.4065,-104.8547 304.4867,-96.2775 324.6767,-92.4361 377.6616,-86.1668 413.3609,-82.133\"/>\n<polygon fill=\"#000000\" stroke=\"#000000\" points=\"413.8322,-85.6022 423.3793,-81.0083 413.0512,-78.6459 413.8322,-85.6022\"/>\n<text text-anchor=\"middle\" x=\"310.9867\" y=\"-115.0775\" font-family=\"Times,serif\" font-size=\"14.00\" fill=\"#000000\">c </text>\n<text text-anchor=\"middle\" x=\"310.9867\" y=\"-100.0775\" font-family=\"Times,serif\" font-size=\"14.00\" fill=\"#000000\"> f </text>\n</g>\n<!-- B&#45;&gt;B -->\n<g id=\"edge10\" class=\"edge\">\n<title>B&#45;&gt;B</title>\n<path fill=\"none\" stroke=\"#000000\" d=\"M346.1039,-178.9416C344.4633,-188.9025 346.9242,-198.2775 353.4867,-198.2775 357.6908,-198.2775 360.2117,-194.43 361.0492,-189.0458\"/>\n<polygon fill=\"#000000\" stroke=\"#000000\" points=\"364.5469,-188.8777 360.8695,-178.9416 357.548,-189.0022 364.5469,-188.8777\"/>\n<text text-anchor=\"middle\" x=\"353.4867\" y=\"-202.0775\" font-family=\"Times,serif\" font-size=\"14.00\" fill=\"#000000\">s </text>\n</g>\n<!-- D -->\n<g id=\"node5\" class=\"node\">\n<title>D</title>\n<ellipse fill=\"none\" stroke=\"#000000\" cx=\"570.083\" cy=\"-109.2775\" rx=\"18\" ry=\"18\"/>\n<text text-anchor=\"middle\" x=\"570.083\" y=\"-105.5775\" font-family=\"Times,serif\" font-size=\"14.00\" fill=\"#000000\">D</text>\n</g>\n<!-- B&#45;&gt;D -->\n<g id=\"edge9\" class=\"edge\">\n<title>B&#45;&gt;D</title>\n<path fill=\"none\" stroke=\"#000000\" d=\"M371.5357,-163.2682C400.8102,-164.3001 460.1018,-163.9824 507.083,-148.2775 521.6659,-143.4027 536.3656,-134.5777 547.8937,-126.5541\"/>\n<polygon fill=\"#000000\" stroke=\"#000000\" points=\"549.993,-129.3552 556.0367,-120.6533 545.8855,-123.687 549.993,-129.3552\"/>\n<text text-anchor=\"middle\" x=\"448.2849\" y=\"-196.0775\" font-family=\"Times,serif\" font-size=\"14.00\" fill=\"#000000\">a </text>\n<text text-anchor=\"middle\" x=\"448.2849\" y=\"-181.0775\" font-family=\"Times,serif\" font-size=\"14.00\" fill=\"#000000\"> c </text>\n<text text-anchor=\"middle\" x=\"448.2849\" y=\"-166.0775\" font-family=\"Times,serif\" font-size=\"14.00\" fill=\"#000000\"> b </text>\n</g>\n<!-- B&#45;&gt;F4 -->\n<g id=\"edge11\" class=\"edge\">\n<title>B&#45;&gt;F4</title>\n<path fill=\"none\" stroke=\"#000000\" d=\"M367.069,-174.8858C381.3648,-188.1564 404.2241,-209.3764 422.054,-225.9277\"/>\n<polygon fill=\"#000000\" stroke=\"#000000\" points=\"420.1332,-228.9202 429.8434,-233.1585 424.8956,-223.79 420.1332,-228.9202\"/>\n<text text-anchor=\"middle\" x=\"397.4867\" y=\"-212.0775\" font-family=\"Times,serif\" font-size=\"14.00\" fill=\"#000000\">d </text>\n</g>\n<!-- B&#45;&gt;F3 -->\n<g id=\"edge12\" class=\"edge\">\n<title>B&#45;&gt;F3</title>\n<path fill=\"none\" stroke=\"#000000\" d=\"M367.069,-150.2424C381.276,-137.6536 403.9404,-117.5708 421.7212,-101.8154\"/>\n<polygon fill=\"#000000\" stroke=\"#000000\" points=\"424.3359,-104.1749 429.4992,-94.9234 419.6935,-98.9358 424.3359,-104.1749\"/>\n<text text-anchor=\"middle\" x=\"397.4867\" y=\"-133.0775\" font-family=\"Times,serif\" font-size=\"14.00\" fill=\"#000000\">f </text>\n</g>\n<!-- wasI2&#45;&gt;B -->\n<g id=\"edge7\" class=\"edge\">\n<title>wasI2&#45;&gt;B</title>\n<path fill=\"none\" stroke=\"#000000\" d=\"M266.2267,-69.5044C274.931,-88.4512 287.9934,-112.5532 304.4867,-130.2775 311.2979,-137.597 320.1131,-144.0177 328.3851,-149.1491\"/>\n<polygon fill=\"#000000\" stroke=\"#000000\" points=\"326.6264,-152.1751 337.0274,-154.1926 330.1547,-146.1293 326.6264,-152.1751\"/>\n<text text-anchor=\"middle\" x=\"310.9867\" y=\"-144.0775\" font-family=\"Times,serif\" font-size=\"14.00\" fill=\"#000000\">b </text>\n</g>\n<!-- wasI2&#45;&gt;D -->\n<g id=\"edge6\" class=\"edge\">\n<title>wasI2&#45;&gt;D</title>\n<path fill=\"none\" stroke=\"#000000\" d=\"M283.0138,-24.2652C313.4947,-10.4032 362.8318,6.6501 405.4867,-3.2775 454.5026,-14.6856 465.321,-25.1948 507.083,-53.2775 522.6231,-63.7274 538.3692,-77.7231 550.2322,-89.1085\"/>\n<polygon fill=\"#000000\" stroke=\"#000000\" points=\"547.8314,-91.6561 557.426,-96.1498 552.7279,-86.6536 547.8314,-91.6561\"/>\n<text text-anchor=\"middle\" x=\"397.4867\" y=\"-52.0775\" font-family=\"Times,serif\" font-size=\"14.00\" fill=\"#000000\">a </text>\n<text text-anchor=\"middle\" x=\"397.4867\" y=\"-37.0775\" font-family=\"Times,serif\" font-size=\"14.00\" fill=\"#000000\"> s </text>\n<text text-anchor=\"middle\" x=\"397.4867\" y=\"-22.0775\" font-family=\"Times,serif\" font-size=\"14.00\" fill=\"#000000\"> d </text>\n<text text-anchor=\"middle\" x=\"397.4867\" y=\"-7.0775\" font-family=\"Times,serif\" font-size=\"14.00\" fill=\"#000000\"> f </text>\n</g>\n<!-- wasI2&#45;&gt;F3 -->\n<g id=\"edge8\" class=\"edge\">\n<title>wasI2&#45;&gt;F3</title>\n<path fill=\"none\" stroke=\"#000000\" d=\"M286.0735,-45.7176C321.2915,-52.7867 377.6225,-64.0938 413.7757,-71.3506\"/>\n<polygon fill=\"#000000\" stroke=\"#000000\" points=\"413.3592,-74.8368 423.8525,-73.3733 414.7369,-67.9737 413.3592,-74.8368\"/>\n<text text-anchor=\"middle\" x=\"353.4867\" y=\"-67.0775\" font-family=\"Times,serif\" font-size=\"14.00\" fill=\"#000000\">c </text>\n</g>\n<!-- D&#45;&gt;D -->\n<g id=\"edge15\" class=\"edge\">\n<title>D&#45;&gt;D</title>\n<path fill=\"none\" stroke=\"#000000\" d=\"M558.6531,-123.3193C554.3785,-134.1901 558.1885,-145.2775 570.083,-145.2775 578.2605,-145.2775 582.6168,-140.037 583.1519,-133.2291\"/>\n<polygon fill=\"#000000\" stroke=\"#000000\" points=\"586.5978,-132.6141 581.5129,-123.3193 579.6916,-133.7563 586.5978,-132.6141\"/>\n<text text-anchor=\"middle\" x=\"570.083\" y=\"-224.0775\" font-family=\"Times,serif\" font-size=\"14.00\" fill=\"#000000\">a </text>\n<text text-anchor=\"middle\" x=\"570.083\" y=\"-209.0775\" font-family=\"Times,serif\" font-size=\"14.00\" fill=\"#000000\"> d </text>\n<text text-anchor=\"middle\" x=\"570.083\" y=\"-194.0775\" font-family=\"Times,serif\" font-size=\"14.00\" fill=\"#000000\"> s </text>\n<text text-anchor=\"middle\" x=\"570.083\" y=\"-179.0775\" font-family=\"Times,serif\" font-size=\"14.00\" fill=\"#000000\"> b </text>\n<text text-anchor=\"middle\" x=\"570.083\" y=\"-164.0775\" font-family=\"Times,serif\" font-size=\"14.00\" fill=\"#000000\"> c </text>\n<text text-anchor=\"middle\" x=\"570.083\" y=\"-149.0775\" font-family=\"Times,serif\" font-size=\"14.00\" fill=\"#000000\"> f </text>\n</g>\n<!-- F4&#45;&gt;D -->\n<g id=\"edge14\" class=\"edge\">\n<title>F4&#45;&gt;D</title>\n<path fill=\"none\" stroke=\"#000000\" d=\"M464.7111,-231.2616C487.3078,-205.1025 527.8663,-158.1498 551.5307,-130.7547\"/>\n<polygon fill=\"#000000\" stroke=\"#000000\" points=\"554.4055,-132.7808 558.2939,-122.9253 549.1082,-128.2049 554.4055,-132.7808\"/>\n<text text-anchor=\"middle\" x=\"499.083\" y=\"-279.0775\" font-family=\"Times,serif\" font-size=\"14.00\" fill=\"#000000\">a </text>\n<text text-anchor=\"middle\" x=\"499.083\" y=\"-264.0775\" font-family=\"Times,serif\" font-size=\"14.00\" fill=\"#000000\"> d </text>\n<text text-anchor=\"middle\" x=\"499.083\" y=\"-249.0775\" font-family=\"Times,serif\" font-size=\"14.00\" fill=\"#000000\"> s </text>\n<text text-anchor=\"middle\" x=\"499.083\" y=\"-234.0775\" font-family=\"Times,serif\" font-size=\"14.00\" fill=\"#000000\"> b </text>\n<text text-anchor=\"middle\" x=\"499.083\" y=\"-219.0775\" font-family=\"Times,serif\" font-size=\"14.00\" fill=\"#000000\"> c </text>\n<text text-anchor=\"middle\" x=\"499.083\" y=\"-204.0775\" font-family=\"Times,serif\" font-size=\"14.00\" fill=\"#000000\"> f </text>\n</g>\n<!-- F3&#45;&gt;D -->\n<g id=\"edge13\" class=\"edge\">\n<title>F3&#45;&gt;D</title>\n<path fill=\"none\" stroke=\"#000000\" d=\"M469.0089,-64.2499C480.2904,-58.3684 494.4794,-53.8154 507.083,-58.2775 523.8969,-64.2301 539.505,-76.7904 550.9795,-87.9561\"/>\n<polygon fill=\"#000000\" stroke=\"#000000\" points=\"548.7322,-90.6639 558.2271,-95.3649 553.7362,-85.7689 548.7322,-90.6639\"/>\n<text text-anchor=\"middle\" x=\"499.083\" y=\"-137.0775\" font-family=\"Times,serif\" font-size=\"14.00\" fill=\"#000000\">a </text>\n<text text-anchor=\"middle\" x=\"499.083\" y=\"-122.0775\" font-family=\"Times,serif\" font-size=\"14.00\" fill=\"#000000\"> d </text>\n<text text-anchor=\"middle\" x=\"499.083\" y=\"-107.0775\" font-family=\"Times,serif\" font-size=\"14.00\" fill=\"#000000\"> s </text>\n<text text-anchor=\"middle\" x=\"499.083\" y=\"-92.0775\" font-family=\"Times,serif\" font-size=\"14.00\" fill=\"#000000\"> b </text>\n<text text-anchor=\"middle\" x=\"499.083\" y=\"-77.0775\" font-family=\"Times,serif\" font-size=\"14.00\" fill=\"#000000\"> c </text>\n<text text-anchor=\"middle\" x=\"499.083\" y=\"-62.0775\" font-family=\"Times,serif\" font-size=\"14.00\" fill=\"#000000\"> f </text>\n</g>\n</g>\n</svg>\n"
          },
          "metadata": {},
          "execution_count": 5
        }
      ]
    }
  ]
}