{
  "nbformat": 4,
  "nbformat_minor": 0,
  "metadata": {
    "colab": {
      "name": "AssignmentUnion.ipynb",
      "provenance": [],
      "authorship_tag": "ABX9TyNMlxXCrtYtFB/iL999bL/h",
      "include_colab_link": true
    },
    "kernelspec": {
      "name": "python3",
      "display_name": "Python 3"
    },
    "language_info": {
      "name": "python"
    }
  },
  "cells": [
    {
      "cell_type": "markdown",
      "metadata": {
        "id": "view-in-github",
        "colab_type": "text"
      },
      "source": [
        "<a href=\"https://colab.research.google.com/github/bcasazharuddin/Automata-_Theory/blob/main/AssignmentUnion.ipynb\" target=\"_parent\"><img src=\"https://colab.research.google.com/assets/colab-badge.svg\" alt=\"Open In Colab\"/></a>"
      ]
    },
    {
      "cell_type": "markdown",
      "metadata": {
        "id": "8U5IlgCRz4yE"
      },
      "source": [
        "## Assignment : To perform the union of two FA's"
      ]
    },
    {
      "cell_type": "code",
      "metadata": {
        "run_control": {
          "frozen": false,
          "read_only": false
        },
        "colab": {
          "base_uri": "https://localhost:8080/"
        },
        "id": "nqQRYB6MLZi0",
        "outputId": "8daf1cd0-2b10-4014-abed-3b769d6568bc"
      },
      "source": [
        "#~~~~~~~~~~~~~~~~~~~~~~~~~~~~~~~~~~~~~~~~~~~~~~~~~~~~~~~\n",
        "import sys\n",
        "\n",
        "# -- Detect if in Own Install or in Colab\n",
        "try:\n",
        "    import google.colab\n",
        "    OWN_INSTALL = False\n",
        "except:\n",
        "    OWN_INSTALL = True\n",
        "    \n",
        "if OWN_INSTALL:\n",
        "    \n",
        "  #---- Leave these definitions ON if running on laptop\n",
        "  #---- Else turn OFF by putting them between ''' ... '''\n",
        "\n",
        "  sys.path[0:0] = ['../../../../..',  '../../../../../3rdparty',  \n",
        "                   '../../../..',  '../../../../3rdparty',  \n",
        "                   '../../..',     '../../../3rdparty', \n",
        "                   '../..',        '../../3rdparty',\n",
        "                   '..',           '../3rdparty' ]\n",
        "\n",
        "else: # In colab\n",
        "  ! if [ ! -d Jove ]; then git clone https://github.com/ganeshutah/Jove Jove; fi\n",
        "  sys.path.append('./Jove')\n",
        "  sys.path.append('./Jove/jove')\n",
        "\n",
        "# -- common imports --\n",
        "from jove.LangDef   import *  #-- mainly for nthnumeric\n",
        "from jove.Def_md2mc import *  #-- for md2mc\n",
        "from jove.Def_DFA   import *  #-- for all DFA functions\n",
        "from jove.DotBashers import * #-- for dotObj_dfa\n",
        "#~~~~~~~~~~~~~~~~~~~~~~~~~~~~~~~~~~~~~~~~~~~~~~~~~~~~~~~\n",
        "\n",
        "\n"
      ],
      "execution_count": 1,
      "outputs": [
        {
          "output_type": "stream",
          "name": "stdout",
          "text": [
            "Cloning into 'Jove'...\n",
            "remote: Enumerating objects: 4908, done.\u001b[K\n",
            "remote: Counting objects: 100% (274/274), done.\u001b[K\n",
            "remote: Compressing objects: 100% (193/193), done.\u001b[K\n",
            "remote: Total 4908 (delta 161), reused 178 (delta 74), pack-reused 4634\u001b[K\n",
            "Receiving objects: 100% (4908/4908), 7.57 MiB | 20.67 MiB/s, done.\n",
            "Resolving deltas: 100% (3166/3166), done.\n",
            "You may use any of these help commands:\n",
            "help(lphi)\n",
            "help(lunit)\n",
            "help(lcat)\n",
            "help(lexp)\n",
            "help(lunion)\n",
            "help(lstar)\n",
            "help(srev)\n",
            "help(lrev)\n",
            "help(shomo)\n",
            "help(lhomo)\n",
            "help(powset)\n",
            "help(lint)\n",
            "help(lsymdiff)\n",
            "help(lminus)\n",
            "help(lissubset)\n",
            "help(lissuperset)\n",
            "help(lcomplem)\n",
            "help(product)\n",
            "help(nthnumeric)\n",
            "\n",
            "You may use any of these help commands:\n",
            "help(md2mc)\n",
            ".. and if you want to dig more, then ..\n",
            "help(default_line_attr)\n",
            "help(length_ok_input_items)\n",
            "help(union_line_attr_list_fld)\n",
            "help(extend_rsltdict)\n",
            "help(form_delta)\n",
            "help(get_machine_components)\n",
            "\n",
            "You may use any of these help commands:\n",
            "help(ResetStNum)\n",
            "help(NxtStateStr)\n",
            "\n",
            "You may use any of these help commands:\n",
            "help(mkp_dfa)\n",
            "help(mk_dfa)\n",
            "help(totalize_dfa)\n",
            "help(addtosigma_delta)\n",
            "help(step_dfa)\n",
            "help(run_dfa)\n",
            "help(accepts_dfa)\n",
            "help(comp_dfa)\n",
            "help(union_dfa)\n",
            "help(intersect_dfa)\n",
            "help(pruneUnreach)\n",
            "help(iso_dfa)\n",
            "help(langeq_dfa)\n",
            "help(same_status)\n",
            "help(h_langeq_dfa)\n",
            "help(fixptDist)\n",
            "help(min_dfa)\n",
            "help(pairFR)\n",
            "help(state_combos)\n",
            "help(sepFinNonFin)\n",
            "help(bash_eql_classes)\n",
            "help(listminus)\n",
            "help(bash_1)\n",
            "help(mk_rep_eqc)\n",
            "help(F_of)\n",
            "help(rep_of_s)\n",
            "help(q0_of)\n",
            "help(Delta_of)\n",
            "help(mk_state_eqc_name)\n",
            "\n"
          ]
        }
      ]
    },
    {
      "cell_type": "markdown",
      "metadata": {
        "id": "d8Q1iEah7EvR"
      },
      "source": [
        "Alphabets Σ = {a,b}"
      ]
    },
    {
      "cell_type": "markdown",
      "metadata": {
        "id": "zV_giLok0zi2"
      },
      "source": [
        "# DFA 1 : DFA which accepts set of all strings containing aa"
      ]
    },
    {
      "cell_type": "code",
      "metadata": {
        "colab": {
          "base_uri": "https://localhost:8080/"
        },
        "id": "VIh5RyTX07QT",
        "outputId": "e326ebe2-15f2-4eb4-9b0e-c12a32357b33"
      },
      "source": [
        "DFA1 = md2mc('''\n",
        "DFA\n",
        "Iq0 : a -> q1\n",
        "\n",
        "Iq0 : b -> Iq0\n",
        "\n",
        "q1 : a -> Fq2\n",
        "\n",
        "q1 : b -> Iq0\n",
        "\n",
        "Fq2 : a -> Fq2\n",
        "\n",
        "Fq2 : b -> Fq2\n",
        "\n",
        "'''    \n",
        ")"
      ],
      "execution_count": 2,
      "outputs": [
        {
          "output_type": "stream",
          "name": "stderr",
          "text": [
            "Generating LALR tables\n"
          ]
        }
      ]
    },
    {
      "cell_type": "code",
      "metadata": {
        "colab": {
          "base_uri": "https://localhost:8080/"
        },
        "id": "QegpG-pp9USu",
        "outputId": "238eb838-08d9-4db7-818e-2a32caa64076"
      },
      "source": [
        "print(DFA1)"
      ],
      "execution_count": 3,
      "outputs": [
        {
          "output_type": "stream",
          "name": "stdout",
          "text": [
            "{'Q': {'q1', 'Iq0', 'Fq2'}, 'Sigma': {'b', 'a'}, 'Delta': {('Iq0', 'a'): 'q1', ('Iq0', 'b'): 'Iq0', ('q1', 'a'): 'Fq2', ('q1', 'b'): 'Iq0', ('Fq2', 'a'): 'Fq2', ('Fq2', 'b'): 'Fq2'}, 'q0': 'Iq0', 'F': {'Fq2'}}\n"
          ]
        }
      ]
    },
    {
      "cell_type": "code",
      "metadata": {
        "colab": {
          "base_uri": "https://localhost:8080/",
          "height": 199
        },
        "id": "ogc_uENz9gd_",
        "outputId": "337a56f5-0c86-4f9f-df53-f42abda07ae5"
      },
      "source": [
        "dotObj_dfa(DFA1)"
      ],
      "execution_count": 4,
      "outputs": [
        {
          "output_type": "execute_result",
          "data": {
            "text/plain": [
              "<graphviz.dot.Digraph at 0x7f6d2f5b0c50>"
            ],
            "image/svg+xml": "<?xml version=\"1.0\" encoding=\"UTF-8\" standalone=\"no\"?>\n<!DOCTYPE svg PUBLIC \"-//W3C//DTD SVG 1.1//EN\"\n \"http://www.w3.org/Graphics/SVG/1.1/DTD/svg11.dtd\">\n<!-- Generated by graphviz version 2.40.1 (20161225.0304)\n -->\n<!-- Title: %3 Pages: 1 -->\n<svg width=\"341pt\" height=\"134pt\"\n viewBox=\"0.00 0.00 341.39 134.00\" xmlns=\"http://www.w3.org/2000/svg\" xmlns:xlink=\"http://www.w3.org/1999/xlink\">\n<g id=\"graph0\" class=\"graph\" transform=\"scale(1 1) rotate(0) translate(4 129.9954)\">\n<title>%3</title>\n<polygon fill=\"#ffffff\" stroke=\"transparent\" points=\"-4,4 -4,-129.9954 337.3875,-129.9954 337.3875,4 -4,4\"/>\n<!-- EMPTY -->\n<g id=\"node1\" class=\"node\">\n<title>EMPTY</title>\n</g>\n<!-- Iq0 -->\n<g id=\"node3\" class=\"node\">\n<title>Iq0</title>\n<ellipse fill=\"none\" stroke=\"#000000\" cx=\"114.3979\" cy=\"-29.9977\" rx=\"23.2963\" ry=\"23.2963\"/>\n<text text-anchor=\"middle\" x=\"114.3979\" y=\"-26.2977\" font-family=\"Times,serif\" font-size=\"14.00\" fill=\"#000000\">Iq0</text>\n</g>\n<!-- EMPTY&#45;&gt;Iq0 -->\n<g id=\"edge1\" class=\"edge\">\n<title>EMPTY&#45;&gt;Iq0</title>\n<path fill=\"none\" stroke=\"#000000\" d=\"M54.1742,-29.9977C62.5103,-29.9977 71.7873,-29.9977 80.5137,-29.9977\"/>\n<polygon fill=\"#000000\" stroke=\"#000000\" points=\"80.7846,-33.4978 90.7846,-29.9977 80.7845,-26.4978 80.7846,-33.4978\"/>\n</g>\n<!-- q1 -->\n<g id=\"node2\" class=\"node\">\n<title>q1</title>\n<ellipse fill=\"none\" stroke=\"#000000\" cx=\"206.594\" cy=\"-29.9977\" rx=\"20.5982\" ry=\"20.5982\"/>\n<text text-anchor=\"middle\" x=\"206.594\" y=\"-26.2977\" font-family=\"Times,serif\" font-size=\"14.00\" fill=\"#000000\">q1</text>\n</g>\n<!-- q1&#45;&gt;Iq0 -->\n<g id=\"edge5\" class=\"edge\">\n<title>q1&#45;&gt;Iq0</title>\n<path fill=\"none\" stroke=\"#000000\" d=\"M188.6824,-19.115C182.3202,-15.8301 174.9563,-12.6568 167.7958,-10.9977 159.7752,-9.1392 151.2932,-10.5253 143.5083,-13.2336\"/>\n<polygon fill=\"#000000\" stroke=\"#000000\" points=\"141.9433,-10.0956 134.1074,-17.2264 144.6798,-16.5385 141.9433,-10.0956\"/>\n<text text-anchor=\"middle\" x=\"161.7958\" y=\"-14.7977\" font-family=\"Times,serif\" font-size=\"14.00\" fill=\"#000000\">b </text>\n</g>\n<!-- Fq2 -->\n<g id=\"node4\" class=\"node\">\n<title>Fq2</title>\n<ellipse fill=\"none\" stroke=\"#000000\" cx=\"303.3899\" cy=\"-29.9977\" rx=\"25.9957\" ry=\"25.9957\"/>\n<ellipse fill=\"none\" stroke=\"#000000\" cx=\"303.3899\" cy=\"-29.9977\" rx=\"29.9954\" ry=\"29.9954\"/>\n<text text-anchor=\"middle\" x=\"303.3899\" y=\"-26.2977\" font-family=\"Times,serif\" font-size=\"14.00\" fill=\"#000000\">Fq2</text>\n</g>\n<!-- q1&#45;&gt;Fq2 -->\n<g id=\"edge4\" class=\"edge\">\n<title>q1&#45;&gt;Fq2</title>\n<path fill=\"none\" stroke=\"#000000\" d=\"M227.5973,-29.9977C238.0227,-29.9977 250.9769,-29.9977 263.2096,-29.9977\"/>\n<polygon fill=\"#000000\" stroke=\"#000000\" points=\"263.244,-33.4978 273.244,-29.9977 263.244,-26.4978 263.244,-33.4978\"/>\n<text text-anchor=\"middle\" x=\"250.3922\" y=\"-33.7977\" font-family=\"Times,serif\" font-size=\"14.00\" fill=\"#000000\">a </text>\n</g>\n<!-- Iq0&#45;&gt;q1 -->\n<g id=\"edge2\" class=\"edge\">\n<title>Iq0&#45;&gt;q1</title>\n<path fill=\"none\" stroke=\"#000000\" d=\"M138.1407,-29.9977C149.53,-29.9977 163.3216,-29.9977 175.5324,-29.9977\"/>\n<polygon fill=\"#000000\" stroke=\"#000000\" points=\"175.7561,-33.4978 185.7561,-29.9977 175.756,-26.4978 175.7561,-33.4978\"/>\n<text text-anchor=\"middle\" x=\"161.7958\" y=\"-33.7977\" font-family=\"Times,serif\" font-size=\"14.00\" fill=\"#000000\">a </text>\n</g>\n<!-- Iq0&#45;&gt;Iq0 -->\n<g id=\"edge3\" class=\"edge\">\n<title>Iq0&#45;&gt;Iq0</title>\n<path fill=\"none\" stroke=\"#000000\" d=\"M107.0151,-52.5664C106.312,-62.6632 108.7729,-71.3956 114.3979,-71.3956 118.0014,-71.3956 120.3064,-67.8118 121.3129,-62.5814\"/>\n<polygon fill=\"#000000\" stroke=\"#000000\" points=\"124.8102,-62.7189 121.7807,-52.5664 117.8178,-62.3922 124.8102,-62.7189\"/>\n<text text-anchor=\"middle\" x=\"114.3979\" y=\"-75.1956\" font-family=\"Times,serif\" font-size=\"14.00\" fill=\"#000000\">b </text>\n</g>\n<!-- Fq2&#45;&gt;Fq2 -->\n<g id=\"edge6\" class=\"edge\">\n<title>Fq2&#45;&gt;Fq2</title>\n<path fill=\"none\" stroke=\"#000000\" d=\"M298.5149,-59.9963C298.5149,-69.9958 300.1399,-77.9954 303.3899,-77.9954 305.4211,-77.9954 306.8176,-74.8705 307.5793,-70.0856\"/>\n<polygon fill=\"#000000\" stroke=\"#000000\" points=\"311.0788,-70.2105 308.2649,-59.9963 304.0949,-69.7359 311.0788,-70.2105\"/>\n<text text-anchor=\"middle\" x=\"303.3899\" y=\"-81.7954\" font-family=\"Times,serif\" font-size=\"14.00\" fill=\"#000000\">a </text>\n</g>\n<!-- Fq2&#45;&gt;Fq2 -->\n<g id=\"edge7\" class=\"edge\">\n<title>Fq2&#45;&gt;Fq2</title>\n<path fill=\"none\" stroke=\"#000000\" d=\"M294.4545,-58.8328C292.0325,-77.7175 295.0109,-95.9954 303.3899,-95.9954 310.2632,-95.9954 313.5025,-83.696 313.1077,-68.8515\"/>\n<polygon fill=\"#000000\" stroke=\"#000000\" points=\"316.5933,-68.5298 312.3252,-58.8328 309.6146,-69.075 316.5933,-68.5298\"/>\n<text text-anchor=\"middle\" x=\"303.3899\" y=\"-99.7954\" font-family=\"Times,serif\" font-size=\"14.00\" fill=\"#000000\">b </text>\n</g>\n</g>\n</svg>\n"
          },
          "metadata": {},
          "execution_count": 4
        }
      ]
    },
    {
      "cell_type": "markdown",
      "metadata": {
        "id": "18BpBGE3_z7R"
      },
      "source": [
        "# DFA 2 : DFA which accepts set of all strings ending with ab"
      ]
    },
    {
      "cell_type": "code",
      "metadata": {
        "id": "4XvY2ENyATKq"
      },
      "source": [
        "DFA2 = md2mc('''\n",
        "DFA\n",
        "Iq0 : a -> q1\n",
        "\n",
        "Iq0 : b -> Iq0\n",
        "\n",
        "q1 : a -> q1\n",
        "\n",
        "q1 : b -> Fq2\n",
        "\n",
        "Fq2 : a -> q1\n",
        "\n",
        "Fq2 : b -> Iq0\n",
        "\n",
        "'''    \n",
        ")"
      ],
      "execution_count": 5,
      "outputs": []
    },
    {
      "cell_type": "code",
      "metadata": {
        "colab": {
          "base_uri": "https://localhost:8080/"
        },
        "id": "zWTvpt2MBfxX",
        "outputId": "2605f0f3-4f49-48d8-9ca7-bfb90dc66087"
      },
      "source": [
        "print(DFA2)"
      ],
      "execution_count": 6,
      "outputs": [
        {
          "output_type": "stream",
          "name": "stdout",
          "text": [
            "{'Q': {'q1', 'Iq0', 'Fq2'}, 'Sigma': {'b', 'a'}, 'Delta': {('Iq0', 'a'): 'q1', ('Iq0', 'b'): 'Iq0', ('q1', 'a'): 'q1', ('q1', 'b'): 'Fq2', ('Fq2', 'a'): 'q1', ('Fq2', 'b'): 'Iq0'}, 'q0': 'Iq0', 'F': {'Fq2'}}\n"
          ]
        }
      ]
    },
    {
      "cell_type": "code",
      "metadata": {
        "colab": {
          "base_uri": "https://localhost:8080/",
          "height": 185
        },
        "id": "_0s4sK9nBr69",
        "outputId": "3a222a47-0825-4564-bd86-6ad5266ee3dd"
      },
      "source": [
        "dotObj_dfa(DFA2)"
      ],
      "execution_count": 7,
      "outputs": [
        {
          "output_type": "execute_result",
          "data": {
            "text/plain": [
              "<graphviz.dot.Digraph at 0x7f6d2f5bfcd0>"
            ],
            "image/svg+xml": "<?xml version=\"1.0\" encoding=\"UTF-8\" standalone=\"no\"?>\n<!DOCTYPE svg PUBLIC \"-//W3C//DTD SVG 1.1//EN\"\n \"http://www.w3.org/Graphics/SVG/1.1/DTD/svg11.dtd\">\n<!-- Generated by graphviz version 2.40.1 (20161225.0304)\n -->\n<!-- Title: %3 Pages: 1 -->\n<svg width=\"341pt\" height=\"123pt\"\n viewBox=\"0.00 0.00 341.39 123.20\" xmlns=\"http://www.w3.org/2000/svg\" xmlns:xlink=\"http://www.w3.org/1999/xlink\">\n<g id=\"graph0\" class=\"graph\" transform=\"scale(1 1) rotate(0) translate(4 119.1961)\">\n<title>%3</title>\n<polygon fill=\"#ffffff\" stroke=\"transparent\" points=\"-4,4 -4,-119.1961 337.3875,-119.1961 337.3875,4 -4,4\"/>\n<!-- EMPTY -->\n<g id=\"node1\" class=\"node\">\n<title>EMPTY</title>\n</g>\n<!-- Iq0 -->\n<g id=\"node3\" class=\"node\">\n<title>Iq0</title>\n<ellipse fill=\"none\" stroke=\"#000000\" cx=\"114.3979\" cy=\"-23.3979\" rx=\"23.2963\" ry=\"23.2963\"/>\n<text text-anchor=\"middle\" x=\"114.3979\" y=\"-19.6979\" font-family=\"Times,serif\" font-size=\"14.00\" fill=\"#000000\">Iq0</text>\n</g>\n<!-- EMPTY&#45;&gt;Iq0 -->\n<g id=\"edge1\" class=\"edge\">\n<title>EMPTY&#45;&gt;Iq0</title>\n<path fill=\"none\" stroke=\"#000000\" d=\"M54.1742,-23.3979C62.5103,-23.3979 71.7873,-23.3979 80.5137,-23.3979\"/>\n<polygon fill=\"#000000\" stroke=\"#000000\" points=\"80.7846,-26.898 90.7846,-23.3979 80.7845,-19.898 80.7846,-26.898\"/>\n</g>\n<!-- q1 -->\n<g id=\"node2\" class=\"node\">\n<title>q1</title>\n<ellipse fill=\"none\" stroke=\"#000000\" cx=\"204.594\" cy=\"-61.3979\" rx=\"20.5982\" ry=\"20.5982\"/>\n<text text-anchor=\"middle\" x=\"204.594\" y=\"-57.6979\" font-family=\"Times,serif\" font-size=\"14.00\" fill=\"#000000\">q1</text>\n</g>\n<!-- q1&#45;&gt;q1 -->\n<g id=\"edge4\" class=\"edge\">\n<title>q1&#45;&gt;q1</title>\n<path fill=\"none\" stroke=\"#000000\" d=\"M196.9959,-80.9616C195.8269,-91.0775 198.3596,-100.1961 204.594,-100.1961 208.5879,-100.1961 211.0626,-96.4538 212.0182,-91.1045\"/>\n<polygon fill=\"#000000\" stroke=\"#000000\" points=\"215.5201,-91.0202 212.1921,-80.9616 208.5211,-90.9001 215.5201,-91.0202\"/>\n<text text-anchor=\"middle\" x=\"204.594\" y=\"-103.9961\" font-family=\"Times,serif\" font-size=\"14.00\" fill=\"#000000\">a </text>\n</g>\n<!-- Fq2 -->\n<g id=\"node4\" class=\"node\">\n<title>Fq2</title>\n<ellipse fill=\"none\" stroke=\"#000000\" cx=\"303.3899\" cy=\"-40.3979\" rx=\"25.9957\" ry=\"25.9957\"/>\n<ellipse fill=\"none\" stroke=\"#000000\" cx=\"303.3899\" cy=\"-40.3979\" rx=\"29.9954\" ry=\"29.9954\"/>\n<text text-anchor=\"middle\" x=\"303.3899\" y=\"-36.6979\" font-family=\"Times,serif\" font-size=\"14.00\" fill=\"#000000\">Fq2</text>\n</g>\n<!-- q1&#45;&gt;Fq2 -->\n<g id=\"edge5\" class=\"edge\">\n<title>q1&#45;&gt;Fq2</title>\n<path fill=\"none\" stroke=\"#000000\" d=\"M225.5163,-60.395C234.7484,-59.6819 245.6849,-58.4663 255.3922,-56.3979 258.7587,-55.6806 262.2193,-54.8079 265.6662,-53.8444\"/>\n<polygon fill=\"#000000\" stroke=\"#000000\" points=\"266.698,-57.1889 275.2548,-50.9414 264.6696,-50.4892 266.698,-57.1889\"/>\n<text text-anchor=\"middle\" x=\"249.3922\" y=\"-61.1979\" font-family=\"Times,serif\" font-size=\"14.00\" fill=\"#000000\">b </text>\n</g>\n<!-- Iq0&#45;&gt;q1 -->\n<g id=\"edge2\" class=\"edge\">\n<title>Iq0&#45;&gt;q1</title>\n<path fill=\"none\" stroke=\"#000000\" d=\"M136.2319,-32.5967C148.1972,-37.6377 163.1711,-43.9463 176.0525,-49.3733\"/>\n<polygon fill=\"#000000\" stroke=\"#000000\" points=\"174.8361,-52.6587 185.4105,-53.3159 177.5539,-46.2078 174.8361,-52.6587\"/>\n<text text-anchor=\"middle\" x=\"160.7958\" y=\"-48.1979\" font-family=\"Times,serif\" font-size=\"14.00\" fill=\"#000000\">a </text>\n</g>\n<!-- Iq0&#45;&gt;Iq0 -->\n<g id=\"edge3\" class=\"edge\">\n<title>Iq0&#45;&gt;Iq0</title>\n<path fill=\"none\" stroke=\"#000000\" d=\"M107.0151,-45.9667C106.312,-56.0635 108.7729,-64.7958 114.3979,-64.7958 118.0014,-64.7958 120.3064,-61.2121 121.3129,-55.9817\"/>\n<polygon fill=\"#000000\" stroke=\"#000000\" points=\"124.8102,-56.1191 121.7807,-45.9667 117.8178,-55.7924 124.8102,-56.1191\"/>\n<text text-anchor=\"middle\" x=\"114.3979\" y=\"-68.5958\" font-family=\"Times,serif\" font-size=\"14.00\" fill=\"#000000\">b </text>\n</g>\n<!-- Fq2&#45;&gt;q1 -->\n<g id=\"edge6\" class=\"edge\">\n<title>Fq2&#45;&gt;q1</title>\n<path fill=\"none\" stroke=\"#000000\" d=\"M273.6615,-35.1387C263.8674,-34.3974 253.0226,-34.66 243.3922,-37.3979 238.6878,-38.7354 233.9955,-40.824 229.5832,-43.2236\"/>\n<polygon fill=\"#000000\" stroke=\"#000000\" points=\"227.7276,-40.2556 221.0054,-48.4448 231.3673,-46.235 227.7276,-40.2556\"/>\n<text text-anchor=\"middle\" x=\"249.3922\" y=\"-41.1979\" font-family=\"Times,serif\" font-size=\"14.00\" fill=\"#000000\">a </text>\n</g>\n<!-- Fq2&#45;&gt;Iq0 -->\n<g id=\"edge7\" class=\"edge\">\n<title>Fq2&#45;&gt;Iq0</title>\n<path fill=\"none\" stroke=\"#000000\" d=\"M275.3381,-29.5412C260.6967,-24.4482 242.3446,-18.9471 225.3922,-16.3979 199.349,-12.4818 169.5484,-14.7259 147.3876,-17.6776\"/>\n<polygon fill=\"#000000\" stroke=\"#000000\" points=\"146.8744,-14.2153 137.4788,-19.1115 147.877,-21.1431 146.8744,-14.2153\"/>\n<text text-anchor=\"middle\" x=\"204.594\" y=\"-20.1979\" font-family=\"Times,serif\" font-size=\"14.00\" fill=\"#000000\">b </text>\n</g>\n</g>\n</svg>\n"
          },
          "metadata": {},
          "execution_count": 7
        }
      ]
    },
    {
      "cell_type": "markdown",
      "metadata": {
        "id": "rh_pAn_7CCq_"
      },
      "source": [
        "#  Union :  DFA which accepts set of all strings either containing aa or ending with ab ."
      ]
    },
    {
      "cell_type": "code",
      "metadata": {
        "id": "gIirSv8DCKGH"
      },
      "source": [
        "DFA1UDFA2 = union_dfa(DFA1,DFA2)"
      ],
      "execution_count": 8,
      "outputs": []
    },
    {
      "cell_type": "code",
      "metadata": {
        "colab": {
          "base_uri": "https://localhost:8080/",
          "height": 391
        },
        "id": "L59ZXLkAChUS",
        "outputId": "0a288a24-1db2-4b23-a97a-d685c8a598e3"
      },
      "source": [
        "dotObj_dfa(DFA1UDFA2)"
      ],
      "execution_count": 9,
      "outputs": [
        {
          "output_type": "execute_result",
          "data": {
            "text/plain": [
              "<graphviz.dot.Digraph at 0x7f6d2f608490>"
            ],
            "image/svg+xml": "<?xml version=\"1.0\" encoding=\"UTF-8\" standalone=\"no\"?>\n<!DOCTYPE svg PUBLIC \"-//W3C//DTD SVG 1.1//EN\"\n \"http://www.w3.org/Graphics/SVG/1.1/DTD/svg11.dtd\">\n<!-- Generated by graphviz version 2.40.1 (20161225.0304)\n -->\n<!-- Title: %3 Pages: 1 -->\n<svg width=\"790pt\" height=\"278pt\"\n viewBox=\"0.00 0.00 790.06 277.79\" xmlns=\"http://www.w3.org/2000/svg\" xmlns:xlink=\"http://www.w3.org/1999/xlink\">\n<g id=\"graph0\" class=\"graph\" transform=\"scale(1 1) rotate(0) translate(4 273.7912)\">\n<title>%3</title>\n<polygon fill=\"#ffffff\" stroke=\"transparent\" points=\"-4,4 -4,-273.7912 786.0577,-273.7912 786.0577,4 -4,4\"/>\n<!-- EMPTY -->\n<g id=\"node1\" class=\"node\">\n<title>EMPTY</title>\n</g>\n<!-- \\(Iq0_Iq0\\) -->\n<g id=\"node3\" class=\"node\">\n<title>\\(Iq0_Iq0\\)</title>\n<ellipse fill=\"none\" stroke=\"#000000\" cx=\"137.7958\" cy=\"-53.3956\" rx=\"46.5926\" ry=\"46.5926\"/>\n<text text-anchor=\"middle\" x=\"137.7958\" y=\"-49.6956\" font-family=\"Times,serif\" font-size=\"14.00\" fill=\"#000000\">(Iq0_Iq0)</text>\n</g>\n<!-- EMPTY&#45;&gt;\\(Iq0_Iq0\\) -->\n<g id=\"edge1\" class=\"edge\">\n<title>EMPTY&#45;&gt;\\(Iq0_Iq0\\)</title>\n<path fill=\"none\" stroke=\"#000000\" d=\"M54.1037,-53.3956C62.1958,-53.3956 71.389,-53.3956 80.6474,-53.3956\"/>\n<polygon fill=\"#000000\" stroke=\"#000000\" points=\"80.6704,-56.8957 90.6704,-53.3956 80.6703,-49.8957 80.6704,-56.8957\"/>\n</g>\n<!-- \\(q1_q1\\) -->\n<g id=\"node2\" class=\"node\">\n<title>\\(q1_q1\\)</title>\n<ellipse fill=\"none\" stroke=\"#000000\" cx=\"271.5381\" cy=\"-111.3956\" rx=\"40.8928\" ry=\"40.8928\"/>\n<text text-anchor=\"middle\" x=\"271.5381\" y=\"-107.6956\" font-family=\"Times,serif\" font-size=\"14.00\" fill=\"#000000\">(q1_q1)</text>\n</g>\n<!-- \\(Iq0_Fq2\\) -->\n<g id=\"node5\" class=\"node\">\n<title>\\(Iq0_Fq2\\)</title>\n<ellipse fill=\"none\" stroke=\"#000000\" cx=\"413.88\" cy=\"-53.3956\" rx=\"49.2992\" ry=\"49.2992\"/>\n<ellipse fill=\"none\" stroke=\"#000000\" cx=\"413.88\" cy=\"-53.3956\" rx=\"53.2914\" ry=\"53.2914\"/>\n<text text-anchor=\"middle\" x=\"413.88\" y=\"-49.6956\" font-family=\"Times,serif\" font-size=\"14.00\" fill=\"#000000\">(Iq0_Fq2)</text>\n</g>\n<!-- \\(q1_q1\\)&#45;&gt;\\(Iq0_Fq2\\) -->\n<g id=\"edge11\" class=\"edge\">\n<title>\\(q1_q1\\)&#45;&gt;\\(Iq0_Fq2\\)</title>\n<path fill=\"none\" stroke=\"#000000\" d=\"M310.9285,-99.7264C321.2986,-96.3561 332.4027,-92.4768 342.4844,-88.3956 347.2408,-86.4702 352.1212,-84.366 356.9893,-82.1755\"/>\n<polygon fill=\"#000000\" stroke=\"#000000\" points=\"358.6853,-85.2476 366.3001,-77.881 355.7535,-78.8912 358.6853,-85.2476\"/>\n<text text-anchor=\"middle\" x=\"336.4844\" y=\"-97.1956\" font-family=\"Times,serif\" font-size=\"14.00\" fill=\"#000000\">b </text>\n</g>\n<!-- \\(Fq2_q1\\) -->\n<g id=\"node6\" class=\"node\">\n<title>\\(Fq2_q1\\)</title>\n<ellipse fill=\"none\" stroke=\"#000000\" cx=\"413.88\" cy=\"-175.3956\" rx=\"46.2806\" ry=\"46.2806\"/>\n<ellipse fill=\"none\" stroke=\"#000000\" cx=\"413.88\" cy=\"-175.3956\" rx=\"50.2922\" ry=\"50.2922\"/>\n<text text-anchor=\"middle\" x=\"413.88\" y=\"-171.6956\" font-family=\"Times,serif\" font-size=\"14.00\" fill=\"#000000\">(Fq2_q1)</text>\n</g>\n<!-- \\(q1_q1\\)&#45;&gt;\\(Fq2_q1\\) -->\n<g id=\"edge12\" class=\"edge\">\n<title>\\(q1_q1\\)&#45;&gt;\\(Fq2_q1\\)</title>\n<path fill=\"none\" stroke=\"#000000\" d=\"M308.9367,-128.2109C324.2267,-135.0855 342.2239,-143.1775 358.9555,-150.7004\"/>\n<polygon fill=\"#000000\" stroke=\"#000000\" points=\"357.5396,-153.9012 368.0954,-154.8099 360.4102,-147.5169 357.5396,-153.9012\"/>\n<text text-anchor=\"middle\" x=\"336.4844\" y=\"-146.1956\" font-family=\"Times,serif\" font-size=\"14.00\" fill=\"#000000\">a </text>\n</g>\n<!-- \\(Iq0_Iq0\\)&#45;&gt;\\(q1_q1\\) -->\n<g id=\"edge10\" class=\"edge\">\n<title>\\(Iq0_Iq0\\)&#45;&gt;\\(q1_q1\\)</title>\n<path fill=\"none\" stroke=\"#000000\" d=\"M180.8489,-72.0664C194.7467,-78.0935 210.2233,-84.8053 224.4003,-90.9534\"/>\n<polygon fill=\"#000000\" stroke=\"#000000\" points=\"223.405,-94.3367 233.972,-95.1044 226.1901,-87.9146 223.405,-94.3367\"/>\n<text text-anchor=\"middle\" x=\"207.5917\" y=\"-88.1956\" font-family=\"Times,serif\" font-size=\"14.00\" fill=\"#000000\">a </text>\n</g>\n<!-- \\(Iq0_Iq0\\)&#45;&gt;\\(Iq0_Iq0\\) -->\n<g id=\"edge9\" class=\"edge\">\n<title>\\(Iq0_Iq0\\)&#45;&gt;\\(Iq0_Iq0\\)</title>\n<path fill=\"none\" stroke=\"#000000\" d=\"M125.9833,-98.8128C126.8583,-109.9232 130.7958,-118.1915 137.7958,-118.1915 142.3896,-118.1915 145.6644,-114.6306 147.6204,-109.0425\"/>\n<polygon fill=\"#000000\" stroke=\"#000000\" points=\"151.1363,-109.2969 149.6083,-98.8128 144.2649,-107.9615 151.1363,-109.2969\"/>\n<text text-anchor=\"middle\" x=\"137.7958\" y=\"-121.9915\" font-family=\"Times,serif\" font-size=\"14.00\" fill=\"#000000\">b </text>\n</g>\n<!-- \\(Fq2_Iq0\\) -->\n<g id=\"node4\" class=\"node\">\n<title>\\(Fq2_Iq0\\)</title>\n<ellipse fill=\"none\" stroke=\"#000000\" cx=\"728.6621\" cy=\"-183.3956\" rx=\"49.2992\" ry=\"49.2992\"/>\n<ellipse fill=\"none\" stroke=\"#000000\" cx=\"728.6621\" cy=\"-183.3956\" rx=\"53.2914\" ry=\"53.2914\"/>\n<text text-anchor=\"middle\" x=\"728.6621\" y=\"-179.6956\" font-family=\"Times,serif\" font-size=\"14.00\" fill=\"#000000\">(Fq2_Iq0)</text>\n</g>\n<!-- \\(Fq2_Iq0\\)&#45;&gt;\\(Fq2_Iq0\\) -->\n<g id=\"edge5\" class=\"edge\">\n<title>\\(Fq2_Iq0\\)&#45;&gt;\\(Fq2_Iq0\\)</title>\n<path fill=\"none\" stroke=\"#000000\" d=\"M714.7956,-235.0591C716.0985,-246.4761 720.7206,-254.7912 728.6621,-254.7912 733.9977,-254.7912 737.835,-251.0377 740.1738,-245.1116\"/>\n<polygon fill=\"#000000\" stroke=\"#000000\" points=\"743.6556,-245.5938 742.5285,-235.0591 736.84,-243.9973 743.6556,-245.5938\"/>\n<text text-anchor=\"middle\" x=\"728.6621\" y=\"-258.5912\" font-family=\"Times,serif\" font-size=\"14.00\" fill=\"#000000\">b </text>\n</g>\n<!-- \\(Fq2_Iq0\\)&#45;&gt;\\(Fq2_q1\\) -->\n<g id=\"edge6\" class=\"edge\">\n<title>\\(Fq2_Iq0\\)&#45;&gt;\\(Fq2_q1\\)</title>\n<path fill=\"none\" stroke=\"#000000\" d=\"M676.5577,-195.0714C660.8053,-198.0829 643.4053,-200.8966 627.2664,-202.3956 577.7061,-206.999 564.6286,-208.854 515.2757,-202.3956 500.8198,-200.5039 485.4927,-197.1562 471.2519,-193.4477\"/>\n<polygon fill=\"#000000\" stroke=\"#000000\" points=\"472.1574,-190.0669 461.5906,-190.8361 470.3308,-196.8244 472.1574,-190.0669\"/>\n<text text-anchor=\"middle\" x=\"571.271\" y=\"-210.1956\" font-family=\"Times,serif\" font-size=\"14.00\" fill=\"#000000\">a </text>\n</g>\n<!-- \\(Iq0_Fq2\\)&#45;&gt;\\(q1_q1\\) -->\n<g id=\"edge8\" class=\"edge\">\n<title>\\(Iq0_Fq2\\)&#45;&gt;\\(q1_q1\\)</title>\n<path fill=\"none\" stroke=\"#000000\" d=\"M360.9573,-63.2391C350.6454,-65.9469 340.0677,-69.2987 330.4844,-73.3956 324.7536,-75.8456 318.9579,-78.8351 313.3523,-82.0503\"/>\n<polygon fill=\"#000000\" stroke=\"#000000\" points=\"311.4941,-79.0836 304.7366,-87.2437 315.1079,-85.0787 311.4941,-79.0836\"/>\n<text text-anchor=\"middle\" x=\"336.4844\" y=\"-77.1956\" font-family=\"Times,serif\" font-size=\"14.00\" fill=\"#000000\">a </text>\n</g>\n<!-- \\(Iq0_Fq2\\)&#45;&gt;\\(Iq0_Iq0\\) -->\n<g id=\"edge2\" class=\"edge\">\n<title>\\(Iq0_Fq2\\)&#45;&gt;\\(Iq0_Iq0\\)</title>\n<path fill=\"none\" stroke=\"#000000\" d=\"M360.5037,-49.018C345.0253,-47.9363 328.0913,-46.9337 312.4844,-46.3956 276.1093,-45.1415 266.9627,-45.0258 230.5917,-46.3956 218.9789,-46.833 206.5659,-47.5772 194.7192,-48.4213\"/>\n<polygon fill=\"#000000\" stroke=\"#000000\" points=\"194.2009,-44.9502 184.4887,-49.1836 194.7211,-51.9308 194.2009,-44.9502\"/>\n<text text-anchor=\"middle\" x=\"271.5381\" y=\"-50.1956\" font-family=\"Times,serif\" font-size=\"14.00\" fill=\"#000000\">b </text>\n</g>\n<!-- \\(Fq2_q1\\)&#45;&gt;\\(Fq2_q1\\) -->\n<g id=\"edge7\" class=\"edge\">\n<title>\\(Fq2_q1\\)&#45;&gt;\\(Fq2_q1\\)</title>\n<path fill=\"none\" stroke=\"#000000\" d=\"M399.9118,-223.7841C401.0599,-235.1536 405.716,-243.5415 413.88,-243.5415 419.3653,-243.5415 423.2669,-239.7551 425.585,-233.8219\"/>\n<polygon fill=\"#000000\" stroke=\"#000000\" points=\"429.063,-234.309 427.8482,-223.7841 422.2344,-232.7693 429.063,-234.309\"/>\n<text text-anchor=\"middle\" x=\"413.88\" y=\"-247.3415\" font-family=\"Times,serif\" font-size=\"14.00\" fill=\"#000000\">a </text>\n</g>\n<!-- \\(Fq2_Fq2\\) -->\n<g id=\"node7\" class=\"node\">\n<title>\\(Fq2_Fq2\\)</title>\n<ellipse fill=\"none\" stroke=\"#000000\" cx=\"571.271\" cy=\"-137.3956\" rx=\"51.9911\" ry=\"51.9911\"/>\n<ellipse fill=\"none\" stroke=\"#000000\" cx=\"571.271\" cy=\"-137.3956\" rx=\"55.9908\" ry=\"55.9908\"/>\n<text text-anchor=\"middle\" x=\"571.271\" y=\"-133.6956\" font-family=\"Times,serif\" font-size=\"14.00\" fill=\"#000000\">(Fq2_Fq2)</text>\n</g>\n<!-- \\(Fq2_q1\\)&#45;&gt;\\(Fq2_Fq2\\) -->\n<g id=\"edge13\" class=\"edge\">\n<title>\\(Fq2_q1\\)&#45;&gt;\\(Fq2_Fq2\\)</title>\n<path fill=\"none\" stroke=\"#000000\" d=\"M462.8168,-163.5805C476.6742,-160.2348 491.9752,-156.5406 506.6075,-153.0078\"/>\n<polygon fill=\"#000000\" stroke=\"#000000\" points=\"507.7054,-156.3434 516.6047,-150.5941 506.0625,-149.5389 507.7054,-156.3434\"/>\n<text text-anchor=\"middle\" x=\"491.2757\" y=\"-162.1956\" font-family=\"Times,serif\" font-size=\"14.00\" fill=\"#000000\">b </text>\n</g>\n<!-- \\(Fq2_Fq2\\)&#45;&gt;\\(Fq2_Iq0\\) -->\n<g id=\"edge4\" class=\"edge\">\n<title>\\(Fq2_Fq2\\)&#45;&gt;\\(Fq2_Iq0\\)</title>\n<path fill=\"none\" stroke=\"#000000\" d=\"M625.4361,-153.2262C638.9598,-157.1787 653.5573,-161.4451 667.3975,-165.4901\"/>\n<polygon fill=\"#000000\" stroke=\"#000000\" points=\"666.7349,-168.9428 677.3152,-168.3887 668.6986,-162.2239 666.7349,-168.9428\"/>\n<text text-anchor=\"middle\" x=\"651.2664\" y=\"-166.1956\" font-family=\"Times,serif\" font-size=\"14.00\" fill=\"#000000\">b </text>\n</g>\n<!-- \\(Fq2_Fq2\\)&#45;&gt;\\(Fq2_q1\\) -->\n<g id=\"edge3\" class=\"edge\">\n<title>\\(Fq2_Fq2\\)&#45;&gt;\\(Fq2_q1\\)</title>\n<path fill=\"none\" stroke=\"#000000\" d=\"M515.2747,-134.2825C505.1826,-134.7829 494.836,-136.0065 485.2757,-138.3956 478.8147,-140.0102 472.2825,-142.3078 465.93,-144.9778\"/>\n<polygon fill=\"#000000\" stroke=\"#000000\" points=\"464.4471,-141.8071 456.7808,-149.1199 467.3342,-148.184 464.4471,-141.8071\"/>\n<text text-anchor=\"middle\" x=\"491.2757\" y=\"-142.1956\" font-family=\"Times,serif\" font-size=\"14.00\" fill=\"#000000\">a </text>\n</g>\n</g>\n</svg>\n"
          },
          "metadata": {},
          "execution_count": 9
        }
      ]
    },
    {
      "cell_type": "code",
      "metadata": {
        "colab": {
          "base_uri": "https://localhost:8080/",
          "height": 391
        },
        "id": "JIzpFFbbG3sv",
        "outputId": "d7a13532-9b99-41b6-a28a-7abbf786fa04"
      },
      "source": [
        "dotObj_dfa_w_bh(DFA1UDFA2, STATENAME_MAXSIZE = 40)"
      ],
      "execution_count": 10,
      "outputs": [
        {
          "output_type": "execute_result",
          "data": {
            "text/plain": [
              "<graphviz.dot.Digraph at 0x7f6d2f60d250>"
            ],
            "image/svg+xml": "<?xml version=\"1.0\" encoding=\"UTF-8\" standalone=\"no\"?>\n<!DOCTYPE svg PUBLIC \"-//W3C//DTD SVG 1.1//EN\"\n \"http://www.w3.org/Graphics/SVG/1.1/DTD/svg11.dtd\">\n<!-- Generated by graphviz version 2.40.1 (20161225.0304)\n -->\n<!-- Title: %3 Pages: 1 -->\n<svg width=\"790pt\" height=\"278pt\"\n viewBox=\"0.00 0.00 790.06 277.79\" xmlns=\"http://www.w3.org/2000/svg\" xmlns:xlink=\"http://www.w3.org/1999/xlink\">\n<g id=\"graph0\" class=\"graph\" transform=\"scale(1 1) rotate(0) translate(4 273.7912)\">\n<title>%3</title>\n<polygon fill=\"#ffffff\" stroke=\"transparent\" points=\"-4,4 -4,-273.7912 786.0577,-273.7912 786.0577,4 -4,4\"/>\n<!-- EMPTY -->\n<g id=\"node1\" class=\"node\">\n<title>EMPTY</title>\n</g>\n<!-- \\(Iq0_Iq0\\) -->\n<g id=\"node3\" class=\"node\">\n<title>\\(Iq0_Iq0\\)</title>\n<ellipse fill=\"none\" stroke=\"#000000\" cx=\"137.7958\" cy=\"-53.3956\" rx=\"46.5926\" ry=\"46.5926\"/>\n<text text-anchor=\"middle\" x=\"137.7958\" y=\"-49.6956\" font-family=\"Times,serif\" font-size=\"14.00\" fill=\"#000000\">(Iq0_Iq0)</text>\n</g>\n<!-- EMPTY&#45;&gt;\\(Iq0_Iq0\\) -->\n<g id=\"edge1\" class=\"edge\">\n<title>EMPTY&#45;&gt;\\(Iq0_Iq0\\)</title>\n<path fill=\"none\" stroke=\"#000000\" d=\"M54.1037,-53.3956C62.1958,-53.3956 71.389,-53.3956 80.6474,-53.3956\"/>\n<polygon fill=\"#000000\" stroke=\"#000000\" points=\"80.6704,-56.8957 90.6704,-53.3956 80.6703,-49.8957 80.6704,-56.8957\"/>\n</g>\n<!-- \\(q1_q1\\) -->\n<g id=\"node2\" class=\"node\">\n<title>\\(q1_q1\\)</title>\n<ellipse fill=\"none\" stroke=\"#000000\" cx=\"271.5381\" cy=\"-111.3956\" rx=\"40.8928\" ry=\"40.8928\"/>\n<text text-anchor=\"middle\" x=\"271.5381\" y=\"-107.6956\" font-family=\"Times,serif\" font-size=\"14.00\" fill=\"#000000\">(q1_q1)</text>\n</g>\n<!-- \\(Iq0_Fq2\\) -->\n<g id=\"node5\" class=\"node\">\n<title>\\(Iq0_Fq2\\)</title>\n<ellipse fill=\"none\" stroke=\"#000000\" cx=\"413.88\" cy=\"-53.3956\" rx=\"49.2992\" ry=\"49.2992\"/>\n<ellipse fill=\"none\" stroke=\"#000000\" cx=\"413.88\" cy=\"-53.3956\" rx=\"53.2914\" ry=\"53.2914\"/>\n<text text-anchor=\"middle\" x=\"413.88\" y=\"-49.6956\" font-family=\"Times,serif\" font-size=\"14.00\" fill=\"#000000\">(Iq0_Fq2)</text>\n</g>\n<!-- \\(q1_q1\\)&#45;&gt;\\(Iq0_Fq2\\) -->\n<g id=\"edge11\" class=\"edge\">\n<title>\\(q1_q1\\)&#45;&gt;\\(Iq0_Fq2\\)</title>\n<path fill=\"none\" stroke=\"#000000\" d=\"M310.9285,-99.7264C321.2986,-96.3561 332.4027,-92.4768 342.4844,-88.3956 347.2408,-86.4702 352.1212,-84.366 356.9893,-82.1755\"/>\n<polygon fill=\"#000000\" stroke=\"#000000\" points=\"358.6853,-85.2476 366.3001,-77.881 355.7535,-78.8912 358.6853,-85.2476\"/>\n<text text-anchor=\"middle\" x=\"336.4844\" y=\"-97.1956\" font-family=\"Times,serif\" font-size=\"14.00\" fill=\"#000000\">b </text>\n</g>\n<!-- \\(Fq2_q1\\) -->\n<g id=\"node6\" class=\"node\">\n<title>\\(Fq2_q1\\)</title>\n<ellipse fill=\"none\" stroke=\"#000000\" cx=\"413.88\" cy=\"-175.3956\" rx=\"46.2806\" ry=\"46.2806\"/>\n<ellipse fill=\"none\" stroke=\"#000000\" cx=\"413.88\" cy=\"-175.3956\" rx=\"50.2922\" ry=\"50.2922\"/>\n<text text-anchor=\"middle\" x=\"413.88\" y=\"-171.6956\" font-family=\"Times,serif\" font-size=\"14.00\" fill=\"#000000\">(Fq2_q1)</text>\n</g>\n<!-- \\(q1_q1\\)&#45;&gt;\\(Fq2_q1\\) -->\n<g id=\"edge12\" class=\"edge\">\n<title>\\(q1_q1\\)&#45;&gt;\\(Fq2_q1\\)</title>\n<path fill=\"none\" stroke=\"#000000\" d=\"M308.9367,-128.2109C324.2267,-135.0855 342.2239,-143.1775 358.9555,-150.7004\"/>\n<polygon fill=\"#000000\" stroke=\"#000000\" points=\"357.5396,-153.9012 368.0954,-154.8099 360.4102,-147.5169 357.5396,-153.9012\"/>\n<text text-anchor=\"middle\" x=\"336.4844\" y=\"-146.1956\" font-family=\"Times,serif\" font-size=\"14.00\" fill=\"#000000\">a </text>\n</g>\n<!-- \\(Iq0_Iq0\\)&#45;&gt;\\(q1_q1\\) -->\n<g id=\"edge10\" class=\"edge\">\n<title>\\(Iq0_Iq0\\)&#45;&gt;\\(q1_q1\\)</title>\n<path fill=\"none\" stroke=\"#000000\" d=\"M180.8489,-72.0664C194.7467,-78.0935 210.2233,-84.8053 224.4003,-90.9534\"/>\n<polygon fill=\"#000000\" stroke=\"#000000\" points=\"223.405,-94.3367 233.972,-95.1044 226.1901,-87.9146 223.405,-94.3367\"/>\n<text text-anchor=\"middle\" x=\"207.5917\" y=\"-88.1956\" font-family=\"Times,serif\" font-size=\"14.00\" fill=\"#000000\">a </text>\n</g>\n<!-- \\(Iq0_Iq0\\)&#45;&gt;\\(Iq0_Iq0\\) -->\n<g id=\"edge9\" class=\"edge\">\n<title>\\(Iq0_Iq0\\)&#45;&gt;\\(Iq0_Iq0\\)</title>\n<path fill=\"none\" stroke=\"#000000\" d=\"M125.9833,-98.8128C126.8583,-109.9232 130.7958,-118.1915 137.7958,-118.1915 142.3896,-118.1915 145.6644,-114.6306 147.6204,-109.0425\"/>\n<polygon fill=\"#000000\" stroke=\"#000000\" points=\"151.1363,-109.2969 149.6083,-98.8128 144.2649,-107.9615 151.1363,-109.2969\"/>\n<text text-anchor=\"middle\" x=\"137.7958\" y=\"-121.9915\" font-family=\"Times,serif\" font-size=\"14.00\" fill=\"#000000\">b </text>\n</g>\n<!-- \\(Fq2_Iq0\\) -->\n<g id=\"node4\" class=\"node\">\n<title>\\(Fq2_Iq0\\)</title>\n<ellipse fill=\"none\" stroke=\"#000000\" cx=\"728.6621\" cy=\"-183.3956\" rx=\"49.2992\" ry=\"49.2992\"/>\n<ellipse fill=\"none\" stroke=\"#000000\" cx=\"728.6621\" cy=\"-183.3956\" rx=\"53.2914\" ry=\"53.2914\"/>\n<text text-anchor=\"middle\" x=\"728.6621\" y=\"-179.6956\" font-family=\"Times,serif\" font-size=\"14.00\" fill=\"#000000\">(Fq2_Iq0)</text>\n</g>\n<!-- \\(Fq2_Iq0\\)&#45;&gt;\\(Fq2_Iq0\\) -->\n<g id=\"edge5\" class=\"edge\">\n<title>\\(Fq2_Iq0\\)&#45;&gt;\\(Fq2_Iq0\\)</title>\n<path fill=\"none\" stroke=\"#000000\" d=\"M714.7956,-235.0591C716.0985,-246.4761 720.7206,-254.7912 728.6621,-254.7912 733.9977,-254.7912 737.835,-251.0377 740.1738,-245.1116\"/>\n<polygon fill=\"#000000\" stroke=\"#000000\" points=\"743.6556,-245.5938 742.5285,-235.0591 736.84,-243.9973 743.6556,-245.5938\"/>\n<text text-anchor=\"middle\" x=\"728.6621\" y=\"-258.5912\" font-family=\"Times,serif\" font-size=\"14.00\" fill=\"#000000\">b </text>\n</g>\n<!-- \\(Fq2_Iq0\\)&#45;&gt;\\(Fq2_q1\\) -->\n<g id=\"edge6\" class=\"edge\">\n<title>\\(Fq2_Iq0\\)&#45;&gt;\\(Fq2_q1\\)</title>\n<path fill=\"none\" stroke=\"#000000\" d=\"M676.5577,-195.0714C660.8053,-198.0829 643.4053,-200.8966 627.2664,-202.3956 577.7061,-206.999 564.6286,-208.854 515.2757,-202.3956 500.8198,-200.5039 485.4927,-197.1562 471.2519,-193.4477\"/>\n<polygon fill=\"#000000\" stroke=\"#000000\" points=\"472.1574,-190.0669 461.5906,-190.8361 470.3308,-196.8244 472.1574,-190.0669\"/>\n<text text-anchor=\"middle\" x=\"571.271\" y=\"-210.1956\" font-family=\"Times,serif\" font-size=\"14.00\" fill=\"#000000\">a </text>\n</g>\n<!-- \\(Iq0_Fq2\\)&#45;&gt;\\(q1_q1\\) -->\n<g id=\"edge8\" class=\"edge\">\n<title>\\(Iq0_Fq2\\)&#45;&gt;\\(q1_q1\\)</title>\n<path fill=\"none\" stroke=\"#000000\" d=\"M360.9573,-63.2391C350.6454,-65.9469 340.0677,-69.2987 330.4844,-73.3956 324.7536,-75.8456 318.9579,-78.8351 313.3523,-82.0503\"/>\n<polygon fill=\"#000000\" stroke=\"#000000\" points=\"311.4941,-79.0836 304.7366,-87.2437 315.1079,-85.0787 311.4941,-79.0836\"/>\n<text text-anchor=\"middle\" x=\"336.4844\" y=\"-77.1956\" font-family=\"Times,serif\" font-size=\"14.00\" fill=\"#000000\">a </text>\n</g>\n<!-- \\(Iq0_Fq2\\)&#45;&gt;\\(Iq0_Iq0\\) -->\n<g id=\"edge2\" class=\"edge\">\n<title>\\(Iq0_Fq2\\)&#45;&gt;\\(Iq0_Iq0\\)</title>\n<path fill=\"none\" stroke=\"#000000\" d=\"M360.5037,-49.018C345.0253,-47.9363 328.0913,-46.9337 312.4844,-46.3956 276.1093,-45.1415 266.9627,-45.0258 230.5917,-46.3956 218.9789,-46.833 206.5659,-47.5772 194.7192,-48.4213\"/>\n<polygon fill=\"#000000\" stroke=\"#000000\" points=\"194.2009,-44.9502 184.4887,-49.1836 194.7211,-51.9308 194.2009,-44.9502\"/>\n<text text-anchor=\"middle\" x=\"271.5381\" y=\"-50.1956\" font-family=\"Times,serif\" font-size=\"14.00\" fill=\"#000000\">b </text>\n</g>\n<!-- \\(Fq2_q1\\)&#45;&gt;\\(Fq2_q1\\) -->\n<g id=\"edge7\" class=\"edge\">\n<title>\\(Fq2_q1\\)&#45;&gt;\\(Fq2_q1\\)</title>\n<path fill=\"none\" stroke=\"#000000\" d=\"M399.9118,-223.7841C401.0599,-235.1536 405.716,-243.5415 413.88,-243.5415 419.3653,-243.5415 423.2669,-239.7551 425.585,-233.8219\"/>\n<polygon fill=\"#000000\" stroke=\"#000000\" points=\"429.063,-234.309 427.8482,-223.7841 422.2344,-232.7693 429.063,-234.309\"/>\n<text text-anchor=\"middle\" x=\"413.88\" y=\"-247.3415\" font-family=\"Times,serif\" font-size=\"14.00\" fill=\"#000000\">a </text>\n</g>\n<!-- \\(Fq2_Fq2\\) -->\n<g id=\"node7\" class=\"node\">\n<title>\\(Fq2_Fq2\\)</title>\n<ellipse fill=\"none\" stroke=\"#000000\" cx=\"571.271\" cy=\"-137.3956\" rx=\"51.9911\" ry=\"51.9911\"/>\n<ellipse fill=\"none\" stroke=\"#000000\" cx=\"571.271\" cy=\"-137.3956\" rx=\"55.9908\" ry=\"55.9908\"/>\n<text text-anchor=\"middle\" x=\"571.271\" y=\"-133.6956\" font-family=\"Times,serif\" font-size=\"14.00\" fill=\"#000000\">(Fq2_Fq2)</text>\n</g>\n<!-- \\(Fq2_q1\\)&#45;&gt;\\(Fq2_Fq2\\) -->\n<g id=\"edge13\" class=\"edge\">\n<title>\\(Fq2_q1\\)&#45;&gt;\\(Fq2_Fq2\\)</title>\n<path fill=\"none\" stroke=\"#000000\" d=\"M462.8168,-163.5805C476.6742,-160.2348 491.9752,-156.5406 506.6075,-153.0078\"/>\n<polygon fill=\"#000000\" stroke=\"#000000\" points=\"507.7054,-156.3434 516.6047,-150.5941 506.0625,-149.5389 507.7054,-156.3434\"/>\n<text text-anchor=\"middle\" x=\"491.2757\" y=\"-162.1956\" font-family=\"Times,serif\" font-size=\"14.00\" fill=\"#000000\">b </text>\n</g>\n<!-- \\(Fq2_Fq2\\)&#45;&gt;\\(Fq2_Iq0\\) -->\n<g id=\"edge4\" class=\"edge\">\n<title>\\(Fq2_Fq2\\)&#45;&gt;\\(Fq2_Iq0\\)</title>\n<path fill=\"none\" stroke=\"#000000\" d=\"M625.4361,-153.2262C638.9598,-157.1787 653.5573,-161.4451 667.3975,-165.4901\"/>\n<polygon fill=\"#000000\" stroke=\"#000000\" points=\"666.7349,-168.9428 677.3152,-168.3887 668.6986,-162.2239 666.7349,-168.9428\"/>\n<text text-anchor=\"middle\" x=\"651.2664\" y=\"-166.1956\" font-family=\"Times,serif\" font-size=\"14.00\" fill=\"#000000\">b </text>\n</g>\n<!-- \\(Fq2_Fq2\\)&#45;&gt;\\(Fq2_q1\\) -->\n<g id=\"edge3\" class=\"edge\">\n<title>\\(Fq2_Fq2\\)&#45;&gt;\\(Fq2_q1\\)</title>\n<path fill=\"none\" stroke=\"#000000\" d=\"M515.2747,-134.2825C505.1826,-134.7829 494.836,-136.0065 485.2757,-138.3956 478.8147,-140.0102 472.2825,-142.3078 465.93,-144.9778\"/>\n<polygon fill=\"#000000\" stroke=\"#000000\" points=\"464.4471,-141.8071 456.7808,-149.1199 467.3342,-148.184 464.4471,-141.8071\"/>\n<text text-anchor=\"middle\" x=\"491.2757\" y=\"-142.1956\" font-family=\"Times,serif\" font-size=\"14.00\" fill=\"#000000\">a </text>\n</g>\n</g>\n</svg>\n"
          },
          "metadata": {},
          "execution_count": 10
        }
      ]
    }
  ]
}