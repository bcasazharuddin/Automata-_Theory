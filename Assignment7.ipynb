{
  "nbformat": 4,
  "nbformat_minor": 0,
  "metadata": {
    "colab": {
      "name": "Assignment7.ipynb",
      "provenance": [],
      "collapsed_sections": [],
      "authorship_tag": "ABX9TyN36Z/Ve8wU7ViITVdh1OzZ",
      "include_colab_link": true
    },
    "kernelspec": {
      "name": "python3",
      "display_name": "Python 3"
    },
    "language_info": {
      "name": "python"
    }
  },
  "cells": [
    {
      "cell_type": "markdown",
      "metadata": {
        "id": "view-in-github",
        "colab_type": "text"
      },
      "source": [
        "<a href=\"https://colab.research.google.com/github/bcasazharuddin/Automata-_Theory/blob/main/Assignment7.ipynb\" target=\"_parent\"><img src=\"https://colab.research.google.com/assets/colab-badge.svg\" alt=\"Open In Colab\"/></a>"
      ]
    },
    {
      "cell_type": "markdown",
      "metadata": {
        "id": "vAvv5xsKGNGu"
      },
      "source": [
        "# **Assignment :** Illustrate the process of coverting NFA with null edge to a Regular expession."
      ]
    },
    {
      "cell_type": "code",
      "metadata": {
        "colab": {
          "base_uri": "https://localhost:8080/"
        },
        "id": "3f6M67WzEAvZ",
        "outputId": "97fc1def-c90d-4cf8-d895-3644d4aa1676"
      },
      "source": [
        "#~~~~~~~~~~~~~~~~~~~~~~~~~~~~~~~~~~~~~~~~~~~~~~~~~~~~~~~\n",
        "import sys\n",
        "\n",
        "# -- Detect if in Own Install or in Colab\n",
        "try:\n",
        "    import google.colab\n",
        "    OWN_INSTALL = False\n",
        "except:\n",
        "    OWN_INSTALL = True\n",
        "    \n",
        "if OWN_INSTALL:\n",
        "    \n",
        "  #---- Leave these definitions ON if running on laptop\n",
        "  #---- Else turn OFF by putting them between ''' ... '''\n",
        "\n",
        "  sys.path[0:0] = ['../../../../..',  '../../../../../3rdparty',  \n",
        "                   '../../../..',  '../../../../3rdparty',  \n",
        "                   '../../..',     '../../../3rdparty', \n",
        "                   '../..',        '../../3rdparty',\n",
        "                   '..',           '../3rdparty' ]\n",
        "\n",
        "else: # In colab\n",
        "  ! if [ ! -d Jove ]; then git clone https://github.com/ganeshutah/Jove Jove; fi\n",
        "  sys.path.append('./Jove')\n",
        "  sys.path.append('./Jove/jove')\n",
        "\n",
        "# -- common imports --\n",
        "from jove.DotBashers import *\n",
        "from jove.Def_DFA import *\n",
        "from jove.Def_NFA import *\n",
        "from jove.Def_RE2NFA import *\n",
        "from jove.Def_NFA2RE import *\n",
        "from jove.Def_md2mc import *\n",
        "#~~~~~~~~~~~~~~~~~~~~~~~~~~~~~~~~~~~~~~~~~~~~~~~~~~~~~~~\n"
      ],
      "execution_count": null,
      "outputs": [
        {
          "output_type": "stream",
          "name": "stdout",
          "text": [
            "Cloning into 'Jove'...\n",
            "remote: Enumerating objects: 5094, done.\u001b[K\n",
            "remote: Counting objects: 100% (460/460), done.\u001b[K\n",
            "remote: Compressing objects: 100% (321/321), done.\u001b[K\n",
            "remote: Total 5094 (delta 265), reused 308 (delta 124), pack-reused 4634\u001b[K\n",
            "Receiving objects: 100% (5094/5094), 7.64 MiB | 17.66 MiB/s, done.\n",
            "Resolving deltas: 100% (3270/3270), done.\n",
            "You may use any of these help commands:\n",
            "help(ResetStNum)\n",
            "help(NxtStateStr)\n",
            "\n",
            "You may use any of these help commands:\n",
            "help(mkp_dfa)\n",
            "help(mk_dfa)\n",
            "help(totalize_dfa)\n",
            "help(addtosigma_delta)\n",
            "help(step_dfa)\n",
            "help(run_dfa)\n",
            "help(accepts_dfa)\n",
            "help(comp_dfa)\n",
            "help(union_dfa)\n",
            "help(intersect_dfa)\n",
            "help(pruneUnreach)\n",
            "help(iso_dfa)\n",
            "help(langeq_dfa)\n",
            "help(same_status)\n",
            "help(h_langeq_dfa)\n",
            "help(fixptDist)\n",
            "help(min_dfa)\n",
            "help(pairFR)\n",
            "help(state_combos)\n",
            "help(sepFinNonFin)\n",
            "help(bash_eql_classes)\n",
            "help(listminus)\n",
            "help(bash_1)\n",
            "help(mk_rep_eqc)\n",
            "help(F_of)\n",
            "help(rep_of_s)\n",
            "help(q0_of)\n",
            "help(Delta_of)\n",
            "help(mk_state_eqc_name)\n",
            "\n",
            "You may use any of these help commands:\n",
            "help(mk_nfa)\n",
            "help(totalize_nfa)\n",
            "help(step_nfa)\n",
            "help(run_nfa)\n",
            "help(ec_step_nfa)\n",
            "help(Eclosure)\n",
            "help(Echelp)\n",
            "help(accepts_nfa)\n",
            "help(nfa2dfa)\n",
            "help(n2d)\n",
            "help(inSets)\n",
            "help(rev_dfa)\n",
            "help(min_dfa_brz)\n",
            "\n",
            "You may use any of these help commands:\n",
            "help(re2nfa)\n",
            "\n",
            "You may use any of these help commands:\n",
            "help(RE2Str)\n",
            "help(mk_gnfa)\n",
            "help(mk_gnfa_from_D)\n",
            "help(dfa2nfa)\n",
            "help(del_gnfa_states)\n",
            "help(gnfa_w_REStr)\n",
            "help(del_one_gnfa_state)\n",
            "help(Edges_Exist_Via)\n",
            "help(choose_state_to_del)\n",
            "help(form_alt_RE)\n",
            "help(form_concat_RE)\n",
            "help(form_kleene_RE)\n",
            "\n",
            "You may use any of these help commands:\n",
            "help(md2mc)\n",
            ".. and if you want to dig more, then ..\n",
            "help(default_line_attr)\n",
            "help(length_ok_input_items)\n",
            "help(union_line_attr_list_fld)\n",
            "help(extend_rsltdict)\n",
            "help(form_delta)\n",
            "help(get_machine_components)\n",
            "\n"
          ]
        }
      ]
    },
    {
      "cell_type": "code",
      "metadata": {
        "id": "diThk3lKUR3n"
      },
      "source": [
        "NFA = md2mc('''NFA\n",
        "Iq0 :a -> Iq0\n",
        "Iq0 : '' -> q1\n",
        "q1 : a -> q2\n",
        "q2 : b -> q1\n",
        "q1 : '' -> Fq3\n",
        "Fq3 : a -> Fq3\n",
        "Fq3 : b -> Fq3\n",
        "\n",
        "''')  "
      ],
      "execution_count": null,
      "outputs": []
    },
    {
      "cell_type": "code",
      "metadata": {
        "colab": {
          "base_uri": "https://localhost:8080/",
          "height": 279
        },
        "id": "59waLpcEbDDm",
        "outputId": "33cb93ed-6b53-4d27-d807-a20d62c8ea9d"
      },
      "source": [
        "dotObj_nfa(NFA)"
      ],
      "execution_count": null,
      "outputs": [
        {
          "output_type": "execute_result",
          "data": {
            "text/plain": [
              "<graphviz.dot.Digraph at 0x7f85447acd50>"
            ],
            "image/svg+xml": "<?xml version=\"1.0\" encoding=\"UTF-8\" standalone=\"no\"?>\n<!DOCTYPE svg PUBLIC \"-//W3C//DTD SVG 1.1//EN\"\n \"http://www.w3.org/Graphics/SVG/1.1/DTD/svg11.dtd\">\n<!-- Generated by graphviz version 2.40.1 (20161225.0304)\n -->\n<!-- Title: %3 Pages: 1 -->\n<svg width=\"340pt\" height=\"194pt\"\n viewBox=\"0.00 0.00 340.39 193.80\" xmlns=\"http://www.w3.org/2000/svg\" xmlns:xlink=\"http://www.w3.org/1999/xlink\">\n<g id=\"graph0\" class=\"graph\" transform=\"scale(1 1) rotate(0) translate(4 189.7958)\">\n<title>%3</title>\n<polygon fill=\"#ffffff\" stroke=\"transparent\" points=\"-4,4 -4,-189.7958 336.3875,-189.7958 336.3875,4 -4,4\"/>\n<!-- EMPTY -->\n<g id=\"node1\" class=\"node\">\n<title>EMPTY</title>\n</g>\n<!-- Iq0 -->\n<g id=\"node2\" class=\"node\">\n<title>Iq0</title>\n<ellipse fill=\"none\" stroke=\"#000000\" cx=\"114.3979\" cy=\"-126.9977\" rx=\"23.2963\" ry=\"23.2963\"/>\n<text text-anchor=\"middle\" x=\"114.3979\" y=\"-123.2977\" font-family=\"Times,serif\" font-size=\"14.00\" fill=\"#000000\">Iq0</text>\n</g>\n<!-- EMPTY&#45;&gt;Iq0 -->\n<g id=\"edge1\" class=\"edge\">\n<title>EMPTY&#45;&gt;Iq0</title>\n<path fill=\"none\" stroke=\"#000000\" d=\"M54.1742,-126.9977C62.5103,-126.9977 71.7873,-126.9977 80.5137,-126.9977\"/>\n<polygon fill=\"#000000\" stroke=\"#000000\" points=\"80.7846,-130.4978 90.7846,-126.9977 80.7845,-123.4978 80.7846,-130.4978\"/>\n</g>\n<!-- Iq0&#45;&gt;Iq0 -->\n<g id=\"edge2\" class=\"edge\">\n<title>Iq0&#45;&gt;Iq0</title>\n<path fill=\"none\" stroke=\"#000000\" d=\"M107.0151,-149.5664C106.312,-159.6632 108.7729,-168.3956 114.3979,-168.3956 118.0014,-168.3956 120.3064,-164.8118 121.3129,-159.5814\"/>\n<polygon fill=\"#000000\" stroke=\"#000000\" points=\"124.8102,-159.7189 121.7807,-149.5664 117.8178,-159.3922 124.8102,-159.7189\"/>\n<text text-anchor=\"middle\" x=\"114.3979\" y=\"-172.1956\" font-family=\"Times,serif\" font-size=\"14.00\" fill=\"#000000\">a </text>\n</g>\n<!-- q1 -->\n<g id=\"node4\" class=\"node\">\n<title>q1</title>\n<ellipse fill=\"none\" stroke=\"#000000\" cx=\"203.594\" cy=\"-126.9977\" rx=\"20.5982\" ry=\"20.5982\"/>\n<text text-anchor=\"middle\" x=\"203.594\" y=\"-123.2977\" font-family=\"Times,serif\" font-size=\"14.00\" fill=\"#000000\">q1</text>\n</g>\n<!-- Iq0&#45;&gt;q1 -->\n<g id=\"edge3\" class=\"edge\">\n<title>Iq0&#45;&gt;q1</title>\n<path fill=\"none\" stroke=\"#000000\" d=\"M137.8331,-126.9977C148.5031,-126.9977 161.2769,-126.9977 172.7164,-126.9977\"/>\n<polygon fill=\"#000000\" stroke=\"#000000\" points=\"172.7484,-130.4978 182.7483,-126.9977 172.7483,-123.4978 172.7484,-130.4978\"/>\n<text text-anchor=\"middle\" x=\"160.2958\" y=\"-130.7977\" font-family=\"Times,serif\" font-size=\"14.00\" fill=\"#000000\">&#39;&#39; </text>\n</g>\n<!-- q2 -->\n<g id=\"node3\" class=\"node\">\n<title>q2</title>\n<ellipse fill=\"none\" stroke=\"#000000\" cx=\"302.3899\" cy=\"-164.9977\" rx=\"20.5982\" ry=\"20.5982\"/>\n<text text-anchor=\"middle\" x=\"302.3899\" y=\"-161.2977\" font-family=\"Times,serif\" font-size=\"14.00\" fill=\"#000000\">q2</text>\n</g>\n<!-- q2&#45;&gt;q1 -->\n<g id=\"edge5\" class=\"edge\">\n<title>q2&#45;&gt;q1</title>\n<path fill=\"none\" stroke=\"#000000\" d=\"M287.5772,-150.3273C276.4539,-139.7131 261.8978,-126.767 254.3922,-123.9977 248.0827,-121.6697 241.0338,-120.9916 234.2431,-121.1878\"/>\n<polygon fill=\"#000000\" stroke=\"#000000\" points=\"233.579,-117.733 223.9281,-122.1046 234.1987,-124.7055 233.579,-117.733\"/>\n<text text-anchor=\"middle\" x=\"248.3922\" y=\"-127.7977\" font-family=\"Times,serif\" font-size=\"14.00\" fill=\"#000000\">b </text>\n</g>\n<!-- q1&#45;&gt;q2 -->\n<g id=\"edge4\" class=\"edge\">\n<title>q1&#45;&gt;q2</title>\n<path fill=\"none\" stroke=\"#000000\" d=\"M222.8733,-135.1249C229.0837,-137.6954 236.01,-140.5127 242.3922,-142.9977 252.2904,-146.8517 263.1768,-150.9001 272.9278,-154.4584\"/>\n<polygon fill=\"#000000\" stroke=\"#000000\" points=\"271.9951,-157.8431 282.5893,-157.9605 274.3806,-151.2621 271.9951,-157.8431\"/>\n<text text-anchor=\"middle\" x=\"248.3922\" y=\"-150.7977\" font-family=\"Times,serif\" font-size=\"14.00\" fill=\"#000000\">a </text>\n</g>\n<!-- Fq3 -->\n<g id=\"node5\" class=\"node\">\n<title>Fq3</title>\n<ellipse fill=\"none\" stroke=\"#000000\" cx=\"302.3899\" cy=\"-29.9977\" rx=\"25.9957\" ry=\"25.9957\"/>\n<ellipse fill=\"none\" stroke=\"#000000\" cx=\"302.3899\" cy=\"-29.9977\" rx=\"29.9954\" ry=\"29.9954\"/>\n<text text-anchor=\"middle\" x=\"302.3899\" y=\"-26.2977\" font-family=\"Times,serif\" font-size=\"14.00\" fill=\"#000000\">Fq3</text>\n</g>\n<!-- q1&#45;&gt;Fq3 -->\n<g id=\"edge6\" class=\"edge\">\n<title>q1&#45;&gt;Fq3</title>\n<path fill=\"none\" stroke=\"#000000\" d=\"M218.599,-112.2655C233.0521,-98.075 255.3036,-76.2281 273.2444,-58.6133\"/>\n<polygon fill=\"#000000\" stroke=\"#000000\" points=\"275.9506,-60.8613 280.6342,-51.3579 271.0464,-55.8664 275.9506,-60.8613\"/>\n<text text-anchor=\"middle\" x=\"248.3922\" y=\"-90.7977\" font-family=\"Times,serif\" font-size=\"14.00\" fill=\"#000000\">&#39;&#39; </text>\n</g>\n<!-- Fq3&#45;&gt;Fq3 -->\n<g id=\"edge7\" class=\"edge\">\n<title>Fq3&#45;&gt;Fq3</title>\n<path fill=\"none\" stroke=\"#000000\" d=\"M297.5149,-59.9963C297.5149,-69.9958 299.1399,-77.9954 302.3899,-77.9954 304.4211,-77.9954 305.8176,-74.8705 306.5793,-70.0856\"/>\n<polygon fill=\"#000000\" stroke=\"#000000\" points=\"310.0788,-70.2105 307.2649,-59.9963 303.0949,-69.7359 310.0788,-70.2105\"/>\n<text text-anchor=\"middle\" x=\"302.3899\" y=\"-81.7954\" font-family=\"Times,serif\" font-size=\"14.00\" fill=\"#000000\">a </text>\n</g>\n<!-- Fq3&#45;&gt;Fq3 -->\n<g id=\"edge8\" class=\"edge\">\n<title>Fq3&#45;&gt;Fq3</title>\n<path fill=\"none\" stroke=\"#000000\" d=\"M293.4545,-58.8328C291.0325,-77.7175 294.0109,-95.9954 302.3899,-95.9954 309.2632,-95.9954 312.5025,-83.696 312.1077,-68.8515\"/>\n<polygon fill=\"#000000\" stroke=\"#000000\" points=\"315.5933,-68.5298 311.3252,-58.8328 308.6146,-69.075 315.5933,-68.5298\"/>\n<text text-anchor=\"middle\" x=\"302.3899\" y=\"-99.7954\" font-family=\"Times,serif\" font-size=\"14.00\" fill=\"#000000\">b </text>\n</g>\n</g>\n</svg>\n"
          },
          "metadata": {},
          "execution_count": 38
        }
      ]
    },
    {
      "cell_type": "markdown",
      "metadata": {
        "id": "cVOJOv3Db6m7"
      },
      "source": [
        "# Convertion of NFA with null edges into an RE"
      ]
    },
    {
      "cell_type": "code",
      "metadata": {
        "id": "Idxlv4_PchjT"
      },
      "source": [
        "GN1NFA = mk_gnfa(NFA)"
      ],
      "execution_count": null,
      "outputs": []
    },
    {
      "cell_type": "code",
      "metadata": {
        "colab": {
          "base_uri": "https://localhost:8080/",
          "height": 275
        },
        "id": "pqjQNtxbc7B7",
        "outputId": "87dab7de-0242-43e2-e74c-1e99bc802b63"
      },
      "source": [
        "dotObj_gnfa(GN1NFA)"
      ],
      "execution_count": null,
      "outputs": [
        {
          "output_type": "execute_result",
          "data": {
            "text/plain": [
              "<graphviz.dot.Digraph at 0x7f85447a3b90>"
            ],
            "image/svg+xml": "<?xml version=\"1.0\" encoding=\"UTF-8\" standalone=\"no\"?>\n<!DOCTYPE svg PUBLIC \"-//W3C//DTD SVG 1.1//EN\"\n \"http://www.w3.org/Graphics/SVG/1.1/DTD/svg11.dtd\">\n<!-- Generated by graphviz version 2.40.1 (20161225.0304)\n -->\n<!-- Title: %3 Pages: 1 -->\n<svg width=\"576pt\" height=\"191pt\"\n viewBox=\"0.00 0.00 575.97 190.80\" xmlns=\"http://www.w3.org/2000/svg\" xmlns:xlink=\"http://www.w3.org/1999/xlink\">\n<g id=\"graph0\" class=\"graph\" transform=\"scale(1 1) rotate(0) translate(4 186.7958)\">\n<title>%3</title>\n<polygon fill=\"#ffffff\" stroke=\"transparent\" points=\"-4,4 -4,-186.7958 571.9746,-186.7958 571.9746,4 -4,4\"/>\n<!-- EMPTY -->\n<g id=\"node1\" class=\"node\">\n<title>EMPTY</title>\n</g>\n<!-- Real_I -->\n<g id=\"node2\" class=\"node\">\n<title>Real_I</title>\n<ellipse fill=\"none\" stroke=\"#000000\" cx=\"126.0969\" cy=\"-52.7982\" rx=\"35.194\" ry=\"35.194\"/>\n<text text-anchor=\"middle\" x=\"126.0969\" y=\"-49.0982\" font-family=\"Times,serif\" font-size=\"14.00\" fill=\"#000000\">Real_I</text>\n</g>\n<!-- EMPTY&#45;&gt;Real_I -->\n<g id=\"edge1\" class=\"edge\">\n<title>EMPTY&#45;&gt;Real_I</title>\n<path fill=\"none\" stroke=\"#000000\" d=\"M54.0787,-52.7982C62.3227,-52.7982 71.6196,-52.7982 80.7269,-52.7982\"/>\n<polygon fill=\"#000000\" stroke=\"#000000\" points=\"80.8626,-56.2983 90.8626,-52.7982 80.8625,-49.2983 80.8626,-56.2983\"/>\n</g>\n<!-- Iq0 -->\n<g id=\"node3\" class=\"node\">\n<title>Iq0</title>\n<ellipse fill=\"none\" stroke=\"#000000\" cx=\"229.5917\" cy=\"-52.7982\" rx=\"23.2963\" ry=\"23.2963\"/>\n<text text-anchor=\"middle\" x=\"229.5917\" y=\"-49.0982\" font-family=\"Times,serif\" font-size=\"14.00\" fill=\"#000000\">Iq0</text>\n</g>\n<!-- Real_I&#45;&gt;Iq0 -->\n<g id=\"edge9\" class=\"edge\">\n<title>Real_I&#45;&gt;Iq0</title>\n<path fill=\"none\" stroke=\"#000000\" d=\"M161.4245,-52.7982C172.6072,-52.7982 184.9312,-52.7982 195.9895,-52.7982\"/>\n<polygon fill=\"#000000\" stroke=\"#000000\" points=\"196.1253,-56.2983 206.1253,-52.7982 196.1253,-49.2983 196.1253,-56.2983\"/>\n<text text-anchor=\"middle\" x=\"183.6938\" y=\"-56.5982\" font-family=\"Times,serif\" font-size=\"14.00\" fill=\"#000000\">&#39;&#39; </text>\n</g>\n<!-- Iq0&#45;&gt;Iq0 -->\n<g id=\"edge2\" class=\"edge\">\n<title>Iq0&#45;&gt;Iq0</title>\n<path fill=\"none\" stroke=\"#000000\" d=\"M221.5048,-74.9454C220.6226,-85.2195 223.3183,-94.1961 229.5917,-94.1961 233.6106,-94.1961 236.1612,-90.5121 237.2434,-85.163\"/>\n<polygon fill=\"#000000\" stroke=\"#000000\" points=\"240.7498,-85.0853 237.6785,-74.9454 233.7562,-84.7874 240.7498,-85.0853\"/>\n<text text-anchor=\"middle\" x=\"229.5917\" y=\"-97.9961\" font-family=\"Times,serif\" font-size=\"14.00\" fill=\"#000000\">a </text>\n</g>\n<!-- q1 -->\n<g id=\"node5\" class=\"node\">\n<title>q1</title>\n<ellipse fill=\"none\" stroke=\"#000000\" cx=\"318.7878\" cy=\"-52.7982\" rx=\"20.5982\" ry=\"20.5982\"/>\n<text text-anchor=\"middle\" x=\"318.7878\" y=\"-49.0982\" font-family=\"Times,serif\" font-size=\"14.00\" fill=\"#000000\">q1</text>\n</g>\n<!-- Iq0&#45;&gt;q1 -->\n<g id=\"edge3\" class=\"edge\">\n<title>Iq0&#45;&gt;q1</title>\n<path fill=\"none\" stroke=\"#000000\" d=\"M253.0269,-52.7982C263.6969,-52.7982 276.4707,-52.7982 287.9102,-52.7982\"/>\n<polygon fill=\"#000000\" stroke=\"#000000\" points=\"287.9422,-56.2983 297.9421,-52.7982 287.9421,-49.2983 287.9422,-56.2983\"/>\n<text text-anchor=\"middle\" x=\"275.4896\" y=\"-56.5982\" font-family=\"Times,serif\" font-size=\"14.00\" fill=\"#000000\">&#39;&#39; </text>\n</g>\n<!-- Fq3 -->\n<g id=\"node4\" class=\"node\">\n<title>Fq3</title>\n<ellipse fill=\"none\" stroke=\"#000000\" cx=\"413.5836\" cy=\"-90.7982\" rx=\"25.9954\" ry=\"25.9954\"/>\n<text text-anchor=\"middle\" x=\"413.5836\" y=\"-87.0982\" font-family=\"Times,serif\" font-size=\"14.00\" fill=\"#000000\">Fq3</text>\n</g>\n<!-- Fq3&#45;&gt;Fq3 -->\n<g id=\"edge7\" class=\"edge\">\n<title>Fq3&#45;&gt;Fq3</title>\n<path fill=\"none\" stroke=\"#000000\" d=\"M409.1012,-116.5579C408.902,-126.5176 410.3961,-134.7958 413.5836,-134.7958 415.5758,-134.7958 416.9065,-131.5622 417.5758,-126.7053\"/>\n<polygon fill=\"#000000\" stroke=\"#000000\" points=\"421.0793,-126.7152 418.066,-116.5579 414.0874,-126.3773 421.0793,-126.7152\"/>\n<text text-anchor=\"middle\" x=\"413.5836\" y=\"-138.5958\" font-family=\"Times,serif\" font-size=\"14.00\" fill=\"#000000\">a </text>\n</g>\n<!-- Fq3&#45;&gt;Fq3 -->\n<g id=\"edge8\" class=\"edge\">\n<title>Fq3&#45;&gt;Fq3</title>\n<path fill=\"none\" stroke=\"#000000\" d=\"M405.6471,-115.6259C402.8756,-134.138 405.5211,-152.7958 413.5836,-152.7958 420.1344,-152.7958 423.1091,-140.4788 422.5078,-125.9304\"/>\n<polygon fill=\"#000000\" stroke=\"#000000\" points=\"425.9583,-125.2464 421.5201,-115.6259 418.9903,-125.9143 425.9583,-125.2464\"/>\n<text text-anchor=\"middle\" x=\"413.5836\" y=\"-156.5958\" font-family=\"Times,serif\" font-size=\"14.00\" fill=\"#000000\">b </text>\n</g>\n<!-- Real_F -->\n<g id=\"node7\" class=\"node\">\n<title>Real_F</title>\n<ellipse fill=\"none\" stroke=\"#000000\" cx=\"526.278\" cy=\"-90.7982\" rx=\"37.8753\" ry=\"37.8753\"/>\n<ellipse fill=\"none\" stroke=\"#000000\" cx=\"526.278\" cy=\"-90.7982\" rx=\"41.8942\" ry=\"41.8942\"/>\n<text text-anchor=\"middle\" x=\"526.278\" y=\"-87.0982\" font-family=\"Times,serif\" font-size=\"14.00\" fill=\"#000000\">Real_F</text>\n</g>\n<!-- Fq3&#45;&gt;Real_F -->\n<g id=\"edge10\" class=\"edge\">\n<title>Fq3&#45;&gt;Real_F</title>\n<path fill=\"none\" stroke=\"#000000\" d=\"M439.7212,-90.7982C449.9804,-90.7982 462.1365,-90.7982 474.0461,-90.7982\"/>\n<polygon fill=\"#000000\" stroke=\"#000000\" points=\"474.3949,-94.2983 484.3948,-90.7982 474.3948,-87.2983 474.3949,-94.2983\"/>\n<text text-anchor=\"middle\" x=\"462.0813\" y=\"-94.5982\" font-family=\"Times,serif\" font-size=\"14.00\" fill=\"#000000\">&#39;&#39; </text>\n</g>\n<!-- q1&#45;&gt;Fq3 -->\n<g id=\"edge6\" class=\"edge\">\n<title>q1&#45;&gt;Fq3</title>\n<path fill=\"none\" stroke=\"#000000\" d=\"M338.4295,-60.6718C350.4146,-65.4761 366.0554,-71.7459 379.963,-77.321\"/>\n<polygon fill=\"#000000\" stroke=\"#000000\" points=\"378.664,-80.5709 389.2483,-81.0431 381.2686,-74.0735 378.664,-80.5709\"/>\n<text text-anchor=\"middle\" x=\"363.5859\" y=\"-77.5982\" font-family=\"Times,serif\" font-size=\"14.00\" fill=\"#000000\">&#39;&#39; </text>\n</g>\n<!-- q2 -->\n<g id=\"node6\" class=\"node\">\n<title>q2</title>\n<ellipse fill=\"none\" stroke=\"#000000\" cx=\"413.5836\" cy=\"-20.7982\" rx=\"20.5982\" ry=\"20.5982\"/>\n<text text-anchor=\"middle\" x=\"413.5836\" y=\"-17.0982\" font-family=\"Times,serif\" font-size=\"14.00\" fill=\"#000000\">q2</text>\n</g>\n<!-- q1&#45;&gt;q2 -->\n<g id=\"edge4\" class=\"edge\">\n<title>q1&#45;&gt;q2</title>\n<path fill=\"none\" stroke=\"#000000\" d=\"M338.8915,-46.0118C352.0507,-41.5697 369.4676,-35.6903 384.1725,-30.7264\"/>\n<polygon fill=\"#000000\" stroke=\"#000000\" points=\"385.4786,-33.9796 393.8339,-27.465 383.2397,-27.3473 385.4786,-33.9796\"/>\n<text text-anchor=\"middle\" x=\"363.5859\" y=\"-43.5982\" font-family=\"Times,serif\" font-size=\"14.00\" fill=\"#000000\">a </text>\n</g>\n<!-- q2&#45;&gt;q1 -->\n<g id=\"edge5\" class=\"edge\">\n<title>q2&#45;&gt;q1</title>\n<path fill=\"none\" stroke=\"#000000\" d=\"M393.2606,-15.7729C382.3447,-14.035 368.8544,-13.4665 357.5859,-17.7982 350.9866,-20.335 344.8094,-24.5712 339.4091,-29.2369\"/>\n<polygon fill=\"#000000\" stroke=\"#000000\" points=\"336.9024,-26.7911 332.0941,-36.2321 341.7404,-31.8503 336.9024,-26.7911\"/>\n<text text-anchor=\"middle\" x=\"363.5859\" y=\"-21.5982\" font-family=\"Times,serif\" font-size=\"14.00\" fill=\"#000000\">b </text>\n</g>\n</g>\n</svg>\n"
          },
          "metadata": {},
          "execution_count": 42
        }
      ]
    },
    {
      "cell_type": "code",
      "metadata": {
        "colab": {
          "base_uri": "https://localhost:8080/"
        },
        "id": "_s8L4ds9dCIi",
        "outputId": "40e187c9-71e3-4f6c-e248-7b92472ac6c5"
      },
      "source": [
        "help(del_gnfa_states)"
      ],
      "execution_count": null,
      "outputs": [
        {
          "output_type": "stream",
          "name": "stdout",
          "text": [
            "Help on function del_gnfa_states in module jove.Def_NFA2RE:\n",
            "\n",
            "del_gnfa_states(Gin, DelList=[])\n",
            "    Given a GNFA Gin with no unreachable states, \n",
            "    delete all states but f\n",
            "    or Real_I and Real_F.\n",
            "    If DelList is given, follow the state deletion\n",
            "    order mentioned therein; else choose order internally.\n",
            "    \n",
            "    Return a triple (Gfinal, dotObj_List, final_re_str), where\n",
            "      Gfinal       : the final GNFA\n",
            "      dotObj_List  : a list of Dot objects recording the process of\n",
            "                     deleting states and forming intermediate REs\n",
            "      final_re_str : the final RE as a string (ready to be fed to  \n",
            "                     re2nfa for converting back to an NFA)\n",
            "\n"
          ]
        }
      ]
    },
    {
      "cell_type": "code",
      "metadata": {
        "colab": {
          "base_uri": "https://localhost:8080/"
        },
        "id": "yFS5hEWudCIi",
        "outputId": "60850a9b-1f47-4eb2-f051-221dd899bcf4"
      },
      "source": [
        "(Gfinal, DO, REfinalnaf) = del_gnfa_states(GN1NFA)"
      ],
      "execution_count": null,
      "outputs": [
        {
          "output_type": "stream",
          "name": "stdout",
          "text": [
            "**** Eliminating state Iq0 ****\n",
            "**** Eliminating state Fq3 ****\n",
            "**** Eliminating state q1 ****\n",
            "**** Eliminating state q2 ****\n"
          ]
        }
      ]
    },
    {
      "cell_type": "code",
      "metadata": {
        "colab": {
          "base_uri": "https://localhost:8080/",
          "height": 35
        },
        "id": "OiPGsqrTdnvG",
        "outputId": "9de4fd93-bc60-46cf-f93f-499363a7a701"
      },
      "source": [
        "REfinalnaf"
      ],
      "execution_count": null,
      "outputs": [
        {
          "output_type": "execute_result",
          "data": {
            "application/vnd.google.colaboratory.intrinsic+json": {
              "type": "string"
            },
            "text/plain": [
              "'(((((a)* a) (((b a))* (b ((a + b))*))) + ((a)* ((a + b))*)) + ((a)* ((a + b))*))'"
            ]
          },
          "metadata": {},
          "execution_count": 44
        }
      ]
    },
    {
      "cell_type": "code",
      "metadata": {
        "colab": {
          "base_uri": "https://localhost:8080/",
          "height": 210
        },
        "id": "7p7Q81Uwh6w6",
        "outputId": "ebfe65c0-2ce6-4e1a-b52a-671b91d554b8"
      },
      "source": [
        "dotObj_dfa( min_dfa(nfa2dfa(re2nfa(REfinalnaf))))"
      ],
      "execution_count": null,
      "outputs": [
        {
          "output_type": "stream",
          "name": "stderr",
          "text": [
            "Generating LALR tables\n"
          ]
        },
        {
          "output_type": "execute_result",
          "data": {
            "text/plain": [
              "<graphviz.dot.Digraph at 0x7f85486d4750>"
            ],
            "image/svg+xml": "<?xml version=\"1.0\" encoding=\"UTF-8\" standalone=\"no\"?>\n<!DOCTYPE svg PUBLIC \"-//W3C//DTD SVG 1.1//EN\"\n \"http://www.w3.org/Graphics/SVG/1.1/DTD/svg11.dtd\">\n<!-- Generated by graphviz version 2.40.1 (20161225.0304)\n -->\n<!-- Title: %3 Pages: 1 -->\n<svg width=\"154pt\" height=\"129pt\"\n viewBox=\"0.00 0.00 153.80 128.80\" xmlns=\"http://www.w3.org/2000/svg\" xmlns:xlink=\"http://www.w3.org/1999/xlink\">\n<g id=\"graph0\" class=\"graph\" transform=\"scale(1 1) rotate(0) translate(4 124.7958)\">\n<title>%3</title>\n<polygon fill=\"#ffffff\" stroke=\"transparent\" points=\"-4,4 -4,-124.7958 149.7958,-124.7958 149.7958,4 -4,4\"/>\n<!-- EMPTY -->\n<g id=\"node1\" class=\"node\">\n<title>EMPTY</title>\n</g>\n<!-- St1 -->\n<g id=\"node2\" class=\"node\">\n<title>St1</title>\n<ellipse fill=\"none\" stroke=\"#000000\" cx=\"118.3979\" cy=\"-27.3979\" rx=\"23.3111\" ry=\"23.3111\"/>\n<ellipse fill=\"none\" stroke=\"#000000\" cx=\"118.3979\" cy=\"-27.3979\" rx=\"27.2962\" ry=\"27.2962\"/>\n<text text-anchor=\"middle\" x=\"118.3979\" y=\"-23.6979\" font-family=\"Times,serif\" font-size=\"14.00\" fill=\"#000000\">St1</text>\n</g>\n<!-- EMPTY&#45;&gt;St1 -->\n<g id=\"edge1\" class=\"edge\">\n<title>EMPTY&#45;&gt;St1</title>\n<path fill=\"none\" stroke=\"#000000\" d=\"M54.4224,-27.3979C62.7369,-27.3979 72.0177,-27.3979 80.875,-27.3979\"/>\n<polygon fill=\"#000000\" stroke=\"#000000\" points=\"80.9949,-30.898 90.9949,-27.3979 80.9949,-23.898 80.9949,-30.898\"/>\n</g>\n<!-- St1&#45;&gt;St1 -->\n<g id=\"edge2\" class=\"edge\">\n<title>St1&#45;&gt;St1</title>\n<path fill=\"none\" stroke=\"#000000\" d=\"M114.277,-54.8796C114.1883,-64.7492 115.562,-72.7958 118.3979,-72.7958 120.1704,-72.7958 121.3716,-69.6526 122.0017,-64.8857\"/>\n<polygon fill=\"#000000\" stroke=\"#000000\" points=\"125.4979,-65.0469 122.5189,-54.8796 118.5073,-64.6855 125.4979,-65.0469\"/>\n<text text-anchor=\"middle\" x=\"118.3979\" y=\"-76.5958\" font-family=\"Times,serif\" font-size=\"14.00\" fill=\"#000000\">a </text>\n</g>\n<!-- St1&#45;&gt;St1 -->\n<g id=\"edge3\" class=\"edge\">\n<title>St1&#45;&gt;St1</title>\n<path fill=\"none\" stroke=\"#000000\" d=\"M110.9944,-53.777C108.6684,-72.3764 111.1362,-90.7958 118.3979,-90.7958 124.2981,-90.7958 127.0335,-78.6361 126.6043,-64.1\"/>\n<polygon fill=\"#000000\" stroke=\"#000000\" points=\"130.0664,-63.4755 125.8015,-53.777 123.0874,-64.0183 130.0664,-63.4755\"/>\n<text text-anchor=\"middle\" x=\"118.3979\" y=\"-94.5958\" font-family=\"Times,serif\" font-size=\"14.00\" fill=\"#000000\">b </text>\n</g>\n</g>\n</svg>\n"
          },
          "metadata": {},
          "execution_count": 46
        }
      ]
    },
    {
      "cell_type": "code",
      "metadata": {
        "colab": {
          "base_uri": "https://localhost:8080/",
          "height": 210
        },
        "id": "DISPkntDtkzS",
        "outputId": "f8f7b739-7619-4a5b-c0e2-3b5cbbd20742"
      },
      "source": [
        "dotObj_dfa( min_dfa(nfa2dfa(re2nfa('(((((a)* a) (((b a))* (b ((a + b))*))) + ((a)* ((a + b))*)) + ((a)* ((a + b))*))'))))"
      ],
      "execution_count": null,
      "outputs": [
        {
          "output_type": "stream",
          "name": "stderr",
          "text": [
            "Generating LALR tables\n"
          ]
        },
        {
          "output_type": "execute_result",
          "data": {
            "text/plain": [
              "<graphviz.dot.Digraph at 0x7f854476e3d0>"
            ],
            "image/svg+xml": "<?xml version=\"1.0\" encoding=\"UTF-8\" standalone=\"no\"?>\n<!DOCTYPE svg PUBLIC \"-//W3C//DTD SVG 1.1//EN\"\n \"http://www.w3.org/Graphics/SVG/1.1/DTD/svg11.dtd\">\n<!-- Generated by graphviz version 2.40.1 (20161225.0304)\n -->\n<!-- Title: %3 Pages: 1 -->\n<svg width=\"154pt\" height=\"129pt\"\n viewBox=\"0.00 0.00 153.80 128.80\" xmlns=\"http://www.w3.org/2000/svg\" xmlns:xlink=\"http://www.w3.org/1999/xlink\">\n<g id=\"graph0\" class=\"graph\" transform=\"scale(1 1) rotate(0) translate(4 124.7958)\">\n<title>%3</title>\n<polygon fill=\"#ffffff\" stroke=\"transparent\" points=\"-4,4 -4,-124.7958 149.7958,-124.7958 149.7958,4 -4,4\"/>\n<!-- EMPTY -->\n<g id=\"node1\" class=\"node\">\n<title>EMPTY</title>\n</g>\n<!-- St1 -->\n<g id=\"node2\" class=\"node\">\n<title>St1</title>\n<ellipse fill=\"none\" stroke=\"#000000\" cx=\"118.3979\" cy=\"-27.3979\" rx=\"23.3111\" ry=\"23.3111\"/>\n<ellipse fill=\"none\" stroke=\"#000000\" cx=\"118.3979\" cy=\"-27.3979\" rx=\"27.2962\" ry=\"27.2962\"/>\n<text text-anchor=\"middle\" x=\"118.3979\" y=\"-23.6979\" font-family=\"Times,serif\" font-size=\"14.00\" fill=\"#000000\">St1</text>\n</g>\n<!-- EMPTY&#45;&gt;St1 -->\n<g id=\"edge1\" class=\"edge\">\n<title>EMPTY&#45;&gt;St1</title>\n<path fill=\"none\" stroke=\"#000000\" d=\"M54.4224,-27.3979C62.7369,-27.3979 72.0177,-27.3979 80.875,-27.3979\"/>\n<polygon fill=\"#000000\" stroke=\"#000000\" points=\"80.9949,-30.898 90.9949,-27.3979 80.9949,-23.898 80.9949,-30.898\"/>\n</g>\n<!-- St1&#45;&gt;St1 -->\n<g id=\"edge2\" class=\"edge\">\n<title>St1&#45;&gt;St1</title>\n<path fill=\"none\" stroke=\"#000000\" d=\"M114.277,-54.8796C114.1883,-64.7492 115.562,-72.7958 118.3979,-72.7958 120.1704,-72.7958 121.3716,-69.6526 122.0017,-64.8857\"/>\n<polygon fill=\"#000000\" stroke=\"#000000\" points=\"125.4979,-65.0469 122.5189,-54.8796 118.5073,-64.6855 125.4979,-65.0469\"/>\n<text text-anchor=\"middle\" x=\"118.3979\" y=\"-76.5958\" font-family=\"Times,serif\" font-size=\"14.00\" fill=\"#000000\">a </text>\n</g>\n<!-- St1&#45;&gt;St1 -->\n<g id=\"edge3\" class=\"edge\">\n<title>St1&#45;&gt;St1</title>\n<path fill=\"none\" stroke=\"#000000\" d=\"M110.9944,-53.777C108.6684,-72.3764 111.1362,-90.7958 118.3979,-90.7958 124.2981,-90.7958 127.0335,-78.6361 126.6043,-64.1\"/>\n<polygon fill=\"#000000\" stroke=\"#000000\" points=\"130.0664,-63.4755 125.8015,-53.777 123.0874,-64.0183 130.0664,-63.4755\"/>\n<text text-anchor=\"middle\" x=\"118.3979\" y=\"-94.5958\" font-family=\"Times,serif\" font-size=\"14.00\" fill=\"#000000\">b </text>\n</g>\n</g>\n</svg>\n"
          },
          "metadata": {},
          "execution_count": 50
        }
      ]
    }
  ]
}