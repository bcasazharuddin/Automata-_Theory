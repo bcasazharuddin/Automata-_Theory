{
  "nbformat": 4,
  "nbformat_minor": 0,
  "metadata": {
    "kernelspec": {
      "display_name": "Python 3",
      "language": "python",
      "name": "python3"
    },
    "language_info": {
      "codemirror_mode": {
        "name": "ipython",
        "version": 3
      },
      "file_extension": ".py",
      "mimetype": "text/x-python",
      "name": "python",
      "nbconvert_exporter": "python",
      "pygments_lexer": "ipython3",
      "version": "3.7.3"
    },
    "toc": {
      "colors": {
        "hover_highlight": "#DAA520",
        "running_highlight": "#FF0000",
        "selected_highlight": "#FFD700"
      },
      "moveMenuLeft": true,
      "nav_menu": {
        "height": "121px",
        "width": "252px"
      },
      "navigate_menu": true,
      "number_sections": true,
      "sideBar": true,
      "threshold": 4,
      "toc_cell": false,
      "toc_section_display": "block",
      "toc_window_display": false,
      "widenNotebook": false
    },
    "colab": {
      "name": "finalA_1.ipynb",
      "provenance": [],
      "collapsed_sections": [],
      "include_colab_link": true
    },
    "widgets": {
      "application/vnd.jupyter.widget-state+json": {
        "d4fb8a7e8b3f4a55a7f675504f7ed5e1": {
          "model_module": "@jupyter-widgets/controls",
          "model_name": "VBoxModel",
          "model_module_version": "1.5.0",
          "state": {
            "_view_name": "VBoxView",
            "_dom_classes": [],
            "_model_name": "VBoxModel",
            "_view_module": "@jupyter-widgets/controls",
            "_model_module_version": "1.5.0",
            "_view_count": null,
            "_view_module_version": "1.5.0",
            "box_style": "",
            "layout": "IPY_MODEL_9baf3e9e78bb4104b2b3ea5cea8b8d33",
            "_model_module": "@jupyter-widgets/controls",
            "children": [
              "IPY_MODEL_bd00850f2830441b82d039f55ab0d96c",
              "IPY_MODEL_2b54c98545b54576be4f7bfe4d1b13b4",
              "IPY_MODEL_fb9048655f0c4d3ba5b44ecef5209b5f",
              "IPY_MODEL_56df7ef8aa004a45935ee39e05ed8daa"
            ]
          }
        },
        "9baf3e9e78bb4104b2b3ea5cea8b8d33": {
          "model_module": "@jupyter-widgets/base",
          "model_name": "LayoutModel",
          "model_module_version": "1.2.0",
          "state": {
            "_view_name": "LayoutView",
            "grid_template_rows": null,
            "right": null,
            "justify_content": null,
            "_view_module": "@jupyter-widgets/base",
            "overflow": null,
            "_model_module_version": "1.2.0",
            "_view_count": null,
            "flex_flow": null,
            "width": null,
            "min_width": null,
            "border": null,
            "align_items": null,
            "bottom": null,
            "_model_module": "@jupyter-widgets/base",
            "top": null,
            "grid_column": null,
            "overflow_y": null,
            "overflow_x": null,
            "grid_auto_flow": null,
            "grid_area": null,
            "grid_template_columns": null,
            "flex": null,
            "_model_name": "LayoutModel",
            "justify_items": null,
            "grid_row": null,
            "max_height": null,
            "align_content": null,
            "visibility": null,
            "align_self": null,
            "height": null,
            "min_height": null,
            "padding": null,
            "grid_auto_rows": null,
            "grid_gap": null,
            "max_width": null,
            "order": null,
            "_view_module_version": "1.2.0",
            "grid_template_areas": null,
            "object_position": null,
            "object_fit": null,
            "grid_auto_columns": null,
            "margin": null,
            "display": null,
            "left": null
          }
        },
        "bd00850f2830441b82d039f55ab0d96c": {
          "model_module": "@jupyter-widgets/controls",
          "model_name": "HBoxModel",
          "model_module_version": "1.5.0",
          "state": {
            "_view_name": "HBoxView",
            "_dom_classes": [],
            "_model_name": "HBoxModel",
            "_view_module": "@jupyter-widgets/controls",
            "_model_module_version": "1.5.0",
            "_view_count": null,
            "_view_module_version": "1.5.0",
            "box_style": "",
            "layout": "IPY_MODEL_1f446e03e8a242d0b676d2b82604d13f",
            "_model_module": "@jupyter-widgets/controls",
            "children": [
              "IPY_MODEL_97b87e6027374af5a69396be03569f71",
              "IPY_MODEL_7ff2d2e6e48941bb94c97c29fdb18e6b"
            ]
          }
        },
        "2b54c98545b54576be4f7bfe4d1b13b4": {
          "model_module": "@jupyter-widgets/output",
          "model_name": "OutputModel",
          "model_module_version": "1.0.0",
          "state": {
            "_view_name": "OutputView",
            "msg_id": "",
            "_dom_classes": [],
            "_model_name": "OutputModel",
            "outputs": [
              {
                "output_type": "display_data",
                "data": {
                  "text/plain": "<graphviz.files.Source at 0x7f3043391510>",
                  "image/svg+xml": "<?xml version=\"1.0\" encoding=\"UTF-8\" standalone=\"no\"?>\n<!DOCTYPE svg PUBLIC \"-//W3C//DTD SVG 1.1//EN\"\n \"http://www.w3.org/Graphics/SVG/1.1/DTD/svg11.dtd\">\n<!-- Generated by graphviz version 2.40.1 (20161225.0304)\n -->\n<!-- Title: %3 Pages: 1 -->\n<svg width=\"320pt\" height=\"115pt\"\n viewBox=\"0.00 0.00 320.50 114.75\" xmlns=\"http://www.w3.org/2000/svg\" xmlns:xlink=\"http://www.w3.org/1999/xlink\">\n<g id=\"graph0\" class=\"graph\" transform=\"scale(1 1) rotate(0) translate(4 110.748)\">\n<title>%3</title>\n<polygon fill=\"#ffffff\" stroke=\"transparent\" points=\"-4,4 -4,-110.748 316.496,-110.748 316.496,4 -4,4\"/>\n<!-- EMPTY -->\n<g id=\"node1\" class=\"node\">\n<title>EMPTY</title>\n</g>\n<!-- I -->\n<g id=\"node3\" class=\"node\">\n<title>I</title>\n<ellipse fill=\"#66cd00\" stroke=\"#000000\" cx=\"109\" cy=\"-22.748\" rx=\"18\" ry=\"18\"/>\n<text text-anchor=\"middle\" x=\"109\" y=\"-19.048\" font-family=\"Times,serif\" font-size=\"14.00\" fill=\"#ffffff\">I</text>\n</g>\n<!-- EMPTY&#45;&gt;I -->\n<g id=\"edge1\" class=\"edge\">\n<title>EMPTY&#45;&gt;I</title>\n<path fill=\"none\" stroke=\"#000000\" d=\"M54.3048,-22.748C62.6909,-22.748 71.9407,-22.748 80.4103,-22.748\"/>\n<polygon fill=\"#000000\" stroke=\"#000000\" points=\"80.5976,-26.2481 90.5976,-22.748 80.5976,-19.2481 80.5976,-26.2481\"/>\n</g>\n<!-- SO -->\n<g id=\"node2\" class=\"node\">\n<title>SO</title>\n<ellipse fill=\"none\" stroke=\"#000000\" cx=\"197.748\" cy=\"-22.748\" rx=\"22.9987\" ry=\"22.9987\"/>\n<text text-anchor=\"middle\" x=\"197.748\" y=\"-19.048\" font-family=\"Times,serif\" font-size=\"14.00\" fill=\"#000000\">SO</text>\n</g>\n<!-- F -->\n<g id=\"node4\" class=\"node\">\n<title>F</title>\n<ellipse fill=\"#66cd00\" stroke=\"#000000\" cx=\"290.496\" cy=\"-22.748\" rx=\"18\" ry=\"18\"/>\n<ellipse fill=\"none\" stroke=\"#000000\" cx=\"290.496\" cy=\"-22.748\" rx=\"22\" ry=\"22\"/>\n<text text-anchor=\"middle\" x=\"290.496\" y=\"-19.048\" font-family=\"Times,serif\" font-size=\"14.00\" fill=\"#ffffff\">F</text>\n</g>\n<!-- SO&#45;&gt;F -->\n<g id=\"edge5\" class=\"edge\">\n<title>SO&#45;&gt;F</title>\n<path fill=\"none\" stroke=\"#000000\" d=\"M220.6745,-22.748C231.9596,-22.748 245.7589,-22.748 258.1008,-22.748\"/>\n<polygon fill=\"#000000\" stroke=\"#000000\" points=\"258.4719,-26.2481 268.4719,-22.748 258.4719,-19.2481 258.4719,-26.2481\"/>\n<text text-anchor=\"start\" x=\"238.496\" y=\"-26.548\" font-family=\"Times,serif\" font-size=\"14.00\" fill=\"#000000\"> 0</text>\n</g>\n<!-- I&#45;&gt;SO -->\n<g id=\"edge3\" class=\"edge\">\n<title>I&#45;&gt;SO</title>\n<path fill=\"none\" stroke=\"#000000\" d=\"M127.3886,-22.748C138.1775,-22.748 152.1307,-22.748 164.7631,-22.748\"/>\n<polygon fill=\"#000000\" stroke=\"#000000\" points=\"164.9653,-26.2481 174.9652,-22.748 164.9652,-19.2481 164.9653,-26.2481\"/>\n<text text-anchor=\"start\" x=\"145\" y=\"-26.548\" font-family=\"Times,serif\" font-size=\"14.00\" fill=\"#000000\"> 1</text>\n</g>\n<!-- I&#45;&gt;I -->\n<g id=\"edge2\" class=\"edge\">\n<title>I&#45;&gt;I</title>\n<path fill=\"none\" stroke=\"#000000\" d=\"M105.7643,-40.5297C105.2144,-50.0629 106.293,-58.748 109,-58.748 110.6496,-58.748 111.6945,-55.5229 112.1347,-50.8461\"/>\n<polygon fill=\"#000000\" stroke=\"#000000\" points=\"115.6375,-50.5636 112.2357,-40.5297 108.6379,-50.4949 115.6375,-50.5636\"/>\n<text text-anchor=\"start\" x=\"103\" y=\"-62.548\" font-family=\"Times,serif\" font-size=\"14.00\" fill=\"#000000\"> 0</text>\n</g>\n<!-- I&#45;&gt;I -->\n<g id=\"edge4\" class=\"edge\">\n<title>I&#45;&gt;I</title>\n<path fill=\"none\" stroke=\"#000000\" d=\"M103.6841,-40.1683C100.6538,-57.5389 102.4258,-76.748 109,-76.748 114.2902,-76.748 116.4708,-64.3097 115.5419,-50.4\"/>\n<polygon fill=\"#000000\" stroke=\"#000000\" points=\"118.9808,-49.6808 114.3159,-40.1683 112.0305,-50.5137 118.9808,-49.6808\"/>\n<text text-anchor=\"start\" x=\"103\" y=\"-80.548\" font-family=\"Times,serif\" font-size=\"14.00\" fill=\"#000000\"> 1</text>\n</g>\n</g>\n</svg>\n"
                },
                "metadata": {}
              }
            ],
            "_view_module": "@jupyter-widgets/output",
            "_model_module_version": "1.0.0",
            "_view_count": null,
            "_view_module_version": "1.0.0",
            "layout": "IPY_MODEL_c00f6e4c969045c5ba3ff425d5e9e43d",
            "_model_module": "@jupyter-widgets/output"
          }
        },
        "fb9048655f0c4d3ba5b44ecef5209b5f": {
          "model_module": "@jupyter-widgets/output",
          "model_name": "OutputModel",
          "model_module_version": "1.0.0",
          "state": {
            "_view_name": "OutputView",
            "msg_id": "",
            "_dom_classes": [],
            "_model_name": "OutputModel",
            "outputs": [
              {
                "output_type": "display_data",
                "data": {
                  "text/plain": "<graphviz.files.Source at 0x7f3043391810>",
                  "image/svg+xml": "<?xml version=\"1.0\" encoding=\"UTF-8\" standalone=\"no\"?>\n<!DOCTYPE svg PUBLIC \"-//W3C//DTD SVG 1.1//EN\"\n \"http://www.w3.org/Graphics/SVG/1.1/DTD/svg11.dtd\">\n<!-- Generated by graphviz version 2.40.1 (20161225.0304)\n -->\n<!-- Title: %3 Pages: 1 -->\n<svg width=\"98pt\" height=\"47pt\"\n viewBox=\"0.00 0.00 98.00 47.00\" xmlns=\"http://www.w3.org/2000/svg\" xmlns:xlink=\"http://www.w3.org/1999/xlink\">\n<g id=\"graph0\" class=\"graph\" transform=\"scale(1 1) rotate(0) translate(4 43)\">\n<title>%3</title>\n<polygon fill=\"#ffffff\" stroke=\"transparent\" points=\"-4,4 -4,-43 94,-43 94,4 -4,4\"/>\n<!-- feed -->\n<g id=\"node1\" class=\"node\">\n<title>feed</title>\n<polygon fill=\"none\" stroke=\"#000000\" points=\"8,-3.5 8,-34.5 39,-34.5 39,-3.5 8,-3.5\"/>\n<text text-anchor=\"start\" x=\"17\" y=\"-15.9\" font-family=\"Times,serif\" font-size=\"12.00\" fill=\"#000000\">10</text>\n<polygon fill=\"none\" stroke=\"#000000\" points=\"39,-3.5 39,-34.5 64,-34.5 64,-3.5 39,-3.5\"/>\n<text text-anchor=\"start\" x=\"48\" y=\"-15.9\" font-family=\"Times,serif\" font-size=\"12.00\" fill=\"#000000\"> &#160;</text>\n<polygon fill=\"none\" stroke=\"#000000\" points=\"64,-3.5 64,-34.5 82,-34.5 82,-3.5 64,-3.5\"/>\n</g>\n</g>\n</svg>\n"
                },
                "metadata": {}
              }
            ],
            "_view_module": "@jupyter-widgets/output",
            "_model_module_version": "1.0.0",
            "_view_count": null,
            "_view_module_version": "1.0.0",
            "layout": "IPY_MODEL_487d8f5819974a3eb18a4374d0b3ee10",
            "_model_module": "@jupyter-widgets/output"
          }
        },
        "56df7ef8aa004a45935ee39e05ed8daa": {
          "model_module": "@jupyter-widgets/controls",
          "model_name": "HBoxModel",
          "model_module_version": "1.5.0",
          "state": {
            "_view_name": "HBoxView",
            "_dom_classes": [],
            "_model_name": "HBoxModel",
            "_view_module": "@jupyter-widgets/controls",
            "_model_module_version": "1.5.0",
            "_view_count": null,
            "_view_module_version": "1.5.0",
            "box_style": "",
            "layout": "IPY_MODEL_6bd09fb85ccb4201b39a1fc440fd9215",
            "_model_module": "@jupyter-widgets/controls",
            "children": [
              "IPY_MODEL_3c2d356ad791474c840064e58c699ca4",
              "IPY_MODEL_3d47d6b8ce594b78b10ee7acf30aa269",
              "IPY_MODEL_cbd60d026bd9432281aa9d4201c8f85e",
              "IPY_MODEL_c998abe944d043b4aecd3dc2a0b44ba3"
            ]
          }
        },
        "1f446e03e8a242d0b676d2b82604d13f": {
          "model_module": "@jupyter-widgets/base",
          "model_name": "LayoutModel",
          "model_module_version": "1.2.0",
          "state": {
            "_view_name": "LayoutView",
            "grid_template_rows": null,
            "right": null,
            "justify_content": null,
            "_view_module": "@jupyter-widgets/base",
            "overflow": null,
            "_model_module_version": "1.2.0",
            "_view_count": null,
            "flex_flow": null,
            "width": null,
            "min_width": null,
            "border": null,
            "align_items": null,
            "bottom": null,
            "_model_module": "@jupyter-widgets/base",
            "top": null,
            "grid_column": null,
            "overflow_y": null,
            "overflow_x": null,
            "grid_auto_flow": null,
            "grid_area": null,
            "grid_template_columns": null,
            "flex": null,
            "_model_name": "LayoutModel",
            "justify_items": null,
            "grid_row": null,
            "max_height": null,
            "align_content": null,
            "visibility": null,
            "align_self": null,
            "height": null,
            "min_height": null,
            "padding": null,
            "grid_auto_rows": null,
            "grid_gap": null,
            "max_width": null,
            "order": null,
            "_view_module_version": "1.2.0",
            "grid_template_areas": null,
            "object_position": null,
            "object_fit": null,
            "grid_auto_columns": null,
            "margin": null,
            "display": null,
            "left": null
          }
        },
        "97b87e6027374af5a69396be03569f71": {
          "model_module": "@jupyter-widgets/controls",
          "model_name": "TextModel",
          "model_module_version": "1.5.0",
          "state": {
            "_view_name": "TextView",
            "style": "IPY_MODEL_3635a22ce2f3437ab5528d7e1ee3308c",
            "_dom_classes": [],
            "description": "Input:",
            "_model_name": "TextModel",
            "placeholder": "Sigma: {0,1}",
            "_view_module": "@jupyter-widgets/controls",
            "_model_module_version": "1.5.0",
            "value": "10",
            "_view_count": null,
            "disabled": true,
            "_view_module_version": "1.5.0",
            "continuous_update": true,
            "description_tooltip": null,
            "_model_module": "@jupyter-widgets/controls",
            "layout": "IPY_MODEL_fa08026d232c4f6a88c3acf03f6f12ba"
          }
        },
        "7ff2d2e6e48941bb94c97c29fdb18e6b": {
          "model_module": "@jupyter-widgets/controls",
          "model_name": "ButtonModel",
          "model_module_version": "1.5.0",
          "state": {
            "_view_name": "ButtonView",
            "style": "IPY_MODEL_9d0a9580095b4a1d90fb97e78dd9077f",
            "_dom_classes": [],
            "description": "Change Input",
            "_model_name": "ButtonModel",
            "button_style": "primary",
            "_view_module": "@jupyter-widgets/controls",
            "_model_module_version": "1.5.0",
            "tooltip": "",
            "_view_count": null,
            "disabled": false,
            "_view_module_version": "1.5.0",
            "layout": "IPY_MODEL_241fd7f0547248b3adaf918eac8d3b34",
            "_model_module": "@jupyter-widgets/controls",
            "icon": ""
          }
        },
        "6bd09fb85ccb4201b39a1fc440fd9215": {
          "model_module": "@jupyter-widgets/base",
          "model_name": "LayoutModel",
          "model_module_version": "1.2.0",
          "state": {
            "_view_name": "LayoutView",
            "grid_template_rows": null,
            "right": null,
            "justify_content": null,
            "_view_module": "@jupyter-widgets/base",
            "overflow": null,
            "_model_module_version": "1.2.0",
            "_view_count": null,
            "flex_flow": null,
            "width": null,
            "min_width": null,
            "border": null,
            "align_items": null,
            "bottom": null,
            "_model_module": "@jupyter-widgets/base",
            "top": null,
            "grid_column": null,
            "overflow_y": null,
            "overflow_x": null,
            "grid_auto_flow": null,
            "grid_area": null,
            "grid_template_columns": null,
            "flex": null,
            "_model_name": "LayoutModel",
            "justify_items": null,
            "grid_row": null,
            "max_height": null,
            "align_content": null,
            "visibility": null,
            "align_self": null,
            "height": null,
            "min_height": null,
            "padding": null,
            "grid_auto_rows": null,
            "grid_gap": null,
            "max_width": null,
            "order": null,
            "_view_module_version": "1.2.0",
            "grid_template_areas": null,
            "object_position": null,
            "object_fit": null,
            "grid_auto_columns": null,
            "margin": null,
            "display": null,
            "left": null
          }
        },
        "3c2d356ad791474c840064e58c699ca4": {
          "model_module": "@jupyter-widgets/controls",
          "model_name": "PlayModel",
          "model_module_version": "1.5.0",
          "state": {
            "_view_name": "PlayView",
            "style": "IPY_MODEL_196e17c127a3474280fd03e27bc9a832",
            "interval": 950,
            "_dom_classes": [],
            "description": "Press play",
            "_model_name": "PlayModel",
            "max": 6,
            "_view_module": "@jupyter-widgets/controls",
            "_model_module_version": "1.5.0",
            "value": 6,
            "_view_count": null,
            "disabled": false,
            "_repeat": false,
            "_view_module_version": "1.5.0",
            "show_repeat": true,
            "min": 0,
            "_playing": false,
            "step": 1,
            "description_tooltip": null,
            "_model_module": "@jupyter-widgets/controls",
            "layout": "IPY_MODEL_afe0967f6fb142fca34934fb7b6aec2d"
          }
        },
        "3d47d6b8ce594b78b10ee7acf30aa269": {
          "model_module": "@jupyter-widgets/controls",
          "model_name": "ButtonModel",
          "model_module_version": "1.5.0",
          "state": {
            "_view_name": "ButtonView",
            "style": "IPY_MODEL_57842228733a42efb824e18f28370e49",
            "_dom_classes": [],
            "description": "",
            "_model_name": "ButtonModel",
            "button_style": "",
            "_view_module": "@jupyter-widgets/controls",
            "_model_module_version": "1.5.0",
            "tooltip": "",
            "_view_count": null,
            "disabled": false,
            "_view_module_version": "1.5.0",
            "layout": "IPY_MODEL_981c5ec34c2f44bcbf4f1f3c81f0a660",
            "_model_module": "@jupyter-widgets/controls",
            "icon": "step-backward"
          }
        },
        "cbd60d026bd9432281aa9d4201c8f85e": {
          "model_module": "@jupyter-widgets/controls",
          "model_name": "ButtonModel",
          "model_module_version": "1.5.0",
          "state": {
            "_view_name": "ButtonView",
            "style": "IPY_MODEL_79f2eec1ebfb49dbbe8911e13efc6286",
            "_dom_classes": [],
            "description": "",
            "_model_name": "ButtonModel",
            "button_style": "",
            "_view_module": "@jupyter-widgets/controls",
            "_model_module_version": "1.5.0",
            "tooltip": "",
            "_view_count": null,
            "disabled": true,
            "_view_module_version": "1.5.0",
            "layout": "IPY_MODEL_149d62355e2c490d93c0f97886b8ddf7",
            "_model_module": "@jupyter-widgets/controls",
            "icon": "step-forward"
          }
        },
        "c998abe944d043b4aecd3dc2a0b44ba3": {
          "model_module": "@jupyter-widgets/controls",
          "model_name": "IntSliderModel",
          "model_module_version": "1.5.0",
          "state": {
            "_view_name": "IntSliderView",
            "style": "IPY_MODEL_501dc1b817934f11b355f6cbe0a71ff2",
            "_dom_classes": [],
            "description": "Speed:",
            "step": 1,
            "_model_name": "IntSliderModel",
            "orientation": "horizontal",
            "max": 10,
            "_view_module": "@jupyter-widgets/controls",
            "_model_module_version": "1.5.0",
            "value": 1,
            "_view_count": null,
            "disabled": false,
            "_view_module_version": "1.5.0",
            "min": 1,
            "continuous_update": false,
            "readout_format": "d",
            "description_tooltip": null,
            "readout": true,
            "_model_module": "@jupyter-widgets/controls",
            "layout": "IPY_MODEL_b6cff759eaa8457497ea93f4685919cf"
          }
        },
        "3635a22ce2f3437ab5528d7e1ee3308c": {
          "model_module": "@jupyter-widgets/controls",
          "model_name": "DescriptionStyleModel",
          "model_module_version": "1.5.0",
          "state": {
            "_view_name": "StyleView",
            "_model_name": "DescriptionStyleModel",
            "description_width": "",
            "_view_module": "@jupyter-widgets/base",
            "_model_module_version": "1.5.0",
            "_view_count": null,
            "_view_module_version": "1.2.0",
            "_model_module": "@jupyter-widgets/controls"
          }
        },
        "fa08026d232c4f6a88c3acf03f6f12ba": {
          "model_module": "@jupyter-widgets/base",
          "model_name": "LayoutModel",
          "model_module_version": "1.2.0",
          "state": {
            "_view_name": "LayoutView",
            "grid_template_rows": null,
            "right": null,
            "justify_content": null,
            "_view_module": "@jupyter-widgets/base",
            "overflow": null,
            "_model_module_version": "1.2.0",
            "_view_count": null,
            "flex_flow": null,
            "width": "500px",
            "min_width": null,
            "border": null,
            "align_items": null,
            "bottom": null,
            "_model_module": "@jupyter-widgets/base",
            "top": null,
            "grid_column": null,
            "overflow_y": null,
            "overflow_x": null,
            "grid_auto_flow": null,
            "grid_area": null,
            "grid_template_columns": null,
            "flex": null,
            "_model_name": "LayoutModel",
            "justify_items": null,
            "grid_row": null,
            "max_height": null,
            "align_content": null,
            "visibility": null,
            "align_self": null,
            "height": null,
            "min_height": null,
            "padding": null,
            "grid_auto_rows": null,
            "grid_gap": null,
            "max_width": null,
            "order": null,
            "_view_module_version": "1.2.0",
            "grid_template_areas": null,
            "object_position": null,
            "object_fit": null,
            "grid_auto_columns": null,
            "margin": null,
            "display": null,
            "left": null
          }
        },
        "9d0a9580095b4a1d90fb97e78dd9077f": {
          "model_module": "@jupyter-widgets/controls",
          "model_name": "ButtonStyleModel",
          "model_module_version": "1.5.0",
          "state": {
            "_view_name": "StyleView",
            "_model_name": "ButtonStyleModel",
            "_view_module": "@jupyter-widgets/base",
            "_model_module_version": "1.5.0",
            "_view_count": null,
            "button_color": null,
            "font_weight": "",
            "_view_module_version": "1.2.0",
            "_model_module": "@jupyter-widgets/controls"
          }
        },
        "241fd7f0547248b3adaf918eac8d3b34": {
          "model_module": "@jupyter-widgets/base",
          "model_name": "LayoutModel",
          "model_module_version": "1.2.0",
          "state": {
            "_view_name": "LayoutView",
            "grid_template_rows": null,
            "right": null,
            "justify_content": null,
            "_view_module": "@jupyter-widgets/base",
            "overflow": null,
            "_model_module_version": "1.2.0",
            "_view_count": null,
            "flex_flow": null,
            "width": null,
            "min_width": null,
            "border": null,
            "align_items": null,
            "bottom": null,
            "_model_module": "@jupyter-widgets/base",
            "top": null,
            "grid_column": null,
            "overflow_y": null,
            "overflow_x": null,
            "grid_auto_flow": null,
            "grid_area": null,
            "grid_template_columns": null,
            "flex": null,
            "_model_name": "LayoutModel",
            "justify_items": null,
            "grid_row": null,
            "max_height": null,
            "align_content": null,
            "visibility": null,
            "align_self": null,
            "height": null,
            "min_height": null,
            "padding": null,
            "grid_auto_rows": null,
            "grid_gap": null,
            "max_width": null,
            "order": null,
            "_view_module_version": "1.2.0",
            "grid_template_areas": null,
            "object_position": null,
            "object_fit": null,
            "grid_auto_columns": null,
            "margin": null,
            "display": null,
            "left": null
          }
        },
        "196e17c127a3474280fd03e27bc9a832": {
          "model_module": "@jupyter-widgets/controls",
          "model_name": "DescriptionStyleModel",
          "model_module_version": "1.5.0",
          "state": {
            "_view_name": "StyleView",
            "_model_name": "DescriptionStyleModel",
            "description_width": "",
            "_view_module": "@jupyter-widgets/base",
            "_model_module_version": "1.5.0",
            "_view_count": null,
            "_view_module_version": "1.2.0",
            "_model_module": "@jupyter-widgets/controls"
          }
        },
        "afe0967f6fb142fca34934fb7b6aec2d": {
          "model_module": "@jupyter-widgets/base",
          "model_name": "LayoutModel",
          "model_module_version": "1.2.0",
          "state": {
            "_view_name": "LayoutView",
            "grid_template_rows": null,
            "right": null,
            "justify_content": null,
            "_view_module": "@jupyter-widgets/base",
            "overflow": null,
            "_model_module_version": "1.2.0",
            "_view_count": null,
            "flex_flow": null,
            "width": null,
            "min_width": null,
            "border": null,
            "align_items": null,
            "bottom": null,
            "_model_module": "@jupyter-widgets/base",
            "top": null,
            "grid_column": null,
            "overflow_y": null,
            "overflow_x": null,
            "grid_auto_flow": null,
            "grid_area": null,
            "grid_template_columns": null,
            "flex": null,
            "_model_name": "LayoutModel",
            "justify_items": null,
            "grid_row": null,
            "max_height": null,
            "align_content": null,
            "visibility": null,
            "align_self": null,
            "height": null,
            "min_height": null,
            "padding": null,
            "grid_auto_rows": null,
            "grid_gap": null,
            "max_width": null,
            "order": null,
            "_view_module_version": "1.2.0",
            "grid_template_areas": null,
            "object_position": null,
            "object_fit": null,
            "grid_auto_columns": null,
            "margin": null,
            "display": null,
            "left": null
          }
        },
        "57842228733a42efb824e18f28370e49": {
          "model_module": "@jupyter-widgets/controls",
          "model_name": "ButtonStyleModel",
          "model_module_version": "1.5.0",
          "state": {
            "_view_name": "StyleView",
            "_model_name": "ButtonStyleModel",
            "_view_module": "@jupyter-widgets/base",
            "_model_module_version": "1.5.0",
            "_view_count": null,
            "button_color": null,
            "font_weight": "",
            "_view_module_version": "1.2.0",
            "_model_module": "@jupyter-widgets/controls"
          }
        },
        "981c5ec34c2f44bcbf4f1f3c81f0a660": {
          "model_module": "@jupyter-widgets/base",
          "model_name": "LayoutModel",
          "model_module_version": "1.2.0",
          "state": {
            "_view_name": "LayoutView",
            "grid_template_rows": null,
            "right": null,
            "justify_content": null,
            "_view_module": "@jupyter-widgets/base",
            "overflow": null,
            "_model_module_version": "1.2.0",
            "_view_count": null,
            "flex_flow": null,
            "width": "40px",
            "min_width": null,
            "border": null,
            "align_items": null,
            "bottom": null,
            "_model_module": "@jupyter-widgets/base",
            "top": null,
            "grid_column": null,
            "overflow_y": null,
            "overflow_x": null,
            "grid_auto_flow": null,
            "grid_area": null,
            "grid_template_columns": null,
            "flex": null,
            "_model_name": "LayoutModel",
            "justify_items": null,
            "grid_row": null,
            "max_height": null,
            "align_content": null,
            "visibility": null,
            "align_self": null,
            "height": null,
            "min_height": null,
            "padding": null,
            "grid_auto_rows": null,
            "grid_gap": null,
            "max_width": null,
            "order": null,
            "_view_module_version": "1.2.0",
            "grid_template_areas": null,
            "object_position": null,
            "object_fit": null,
            "grid_auto_columns": null,
            "margin": null,
            "display": null,
            "left": null
          }
        },
        "79f2eec1ebfb49dbbe8911e13efc6286": {
          "model_module": "@jupyter-widgets/controls",
          "model_name": "ButtonStyleModel",
          "model_module_version": "1.5.0",
          "state": {
            "_view_name": "StyleView",
            "_model_name": "ButtonStyleModel",
            "_view_module": "@jupyter-widgets/base",
            "_model_module_version": "1.5.0",
            "_view_count": null,
            "button_color": null,
            "font_weight": "",
            "_view_module_version": "1.2.0",
            "_model_module": "@jupyter-widgets/controls"
          }
        },
        "149d62355e2c490d93c0f97886b8ddf7": {
          "model_module": "@jupyter-widgets/base",
          "model_name": "LayoutModel",
          "model_module_version": "1.2.0",
          "state": {
            "_view_name": "LayoutView",
            "grid_template_rows": null,
            "right": null,
            "justify_content": null,
            "_view_module": "@jupyter-widgets/base",
            "overflow": null,
            "_model_module_version": "1.2.0",
            "_view_count": null,
            "flex_flow": null,
            "width": "40px",
            "min_width": null,
            "border": null,
            "align_items": null,
            "bottom": null,
            "_model_module": "@jupyter-widgets/base",
            "top": null,
            "grid_column": null,
            "overflow_y": null,
            "overflow_x": null,
            "grid_auto_flow": null,
            "grid_area": null,
            "grid_template_columns": null,
            "flex": null,
            "_model_name": "LayoutModel",
            "justify_items": null,
            "grid_row": null,
            "max_height": null,
            "align_content": null,
            "visibility": null,
            "align_self": null,
            "height": null,
            "min_height": null,
            "padding": null,
            "grid_auto_rows": null,
            "grid_gap": null,
            "max_width": null,
            "order": null,
            "_view_module_version": "1.2.0",
            "grid_template_areas": null,
            "object_position": null,
            "object_fit": null,
            "grid_auto_columns": null,
            "margin": null,
            "display": null,
            "left": null
          }
        },
        "501dc1b817934f11b355f6cbe0a71ff2": {
          "model_module": "@jupyter-widgets/controls",
          "model_name": "SliderStyleModel",
          "model_module_version": "1.5.0",
          "state": {
            "_view_name": "StyleView",
            "handle_color": null,
            "_model_name": "SliderStyleModel",
            "description_width": "",
            "_view_module": "@jupyter-widgets/base",
            "_model_module_version": "1.5.0",
            "_view_count": null,
            "_view_module_version": "1.2.0",
            "_model_module": "@jupyter-widgets/controls"
          }
        },
        "b6cff759eaa8457497ea93f4685919cf": {
          "model_module": "@jupyter-widgets/base",
          "model_name": "LayoutModel",
          "model_module_version": "1.2.0",
          "state": {
            "_view_name": "LayoutView",
            "grid_template_rows": null,
            "right": null,
            "justify_content": null,
            "_view_module": "@jupyter-widgets/base",
            "overflow": null,
            "_model_module_version": "1.2.0",
            "_view_count": null,
            "flex_flow": null,
            "width": null,
            "min_width": null,
            "border": null,
            "align_items": null,
            "bottom": null,
            "_model_module": "@jupyter-widgets/base",
            "top": null,
            "grid_column": null,
            "overflow_y": null,
            "overflow_x": null,
            "grid_auto_flow": null,
            "grid_area": null,
            "grid_template_columns": null,
            "flex": null,
            "_model_name": "LayoutModel",
            "justify_items": null,
            "grid_row": null,
            "max_height": null,
            "align_content": null,
            "visibility": null,
            "align_self": null,
            "height": null,
            "min_height": null,
            "padding": null,
            "grid_auto_rows": null,
            "grid_gap": null,
            "max_width": null,
            "order": null,
            "_view_module_version": "1.2.0",
            "grid_template_areas": null,
            "object_position": null,
            "object_fit": null,
            "grid_auto_columns": null,
            "margin": null,
            "display": null,
            "left": null
          }
        },
        "c00f6e4c969045c5ba3ff425d5e9e43d": {
          "model_module": "@jupyter-widgets/base",
          "model_name": "LayoutModel",
          "model_module_version": "1.2.0",
          "state": {
            "_view_name": "LayoutView",
            "grid_template_rows": null,
            "right": null,
            "justify_content": null,
            "_view_module": "@jupyter-widgets/base",
            "overflow": null,
            "_model_module_version": "1.2.0",
            "_view_count": null,
            "flex_flow": null,
            "width": null,
            "min_width": null,
            "border": null,
            "align_items": null,
            "bottom": null,
            "_model_module": "@jupyter-widgets/base",
            "top": null,
            "grid_column": null,
            "overflow_y": null,
            "overflow_x": null,
            "grid_auto_flow": null,
            "grid_area": null,
            "grid_template_columns": null,
            "flex": null,
            "_model_name": "LayoutModel",
            "justify_items": null,
            "grid_row": null,
            "max_height": null,
            "align_content": null,
            "visibility": null,
            "align_self": null,
            "height": null,
            "min_height": null,
            "padding": null,
            "grid_auto_rows": null,
            "grid_gap": null,
            "max_width": null,
            "order": null,
            "_view_module_version": "1.2.0",
            "grid_template_areas": null,
            "object_position": null,
            "object_fit": null,
            "grid_auto_columns": null,
            "margin": null,
            "display": null,
            "left": null
          }
        },
        "487d8f5819974a3eb18a4374d0b3ee10": {
          "model_module": "@jupyter-widgets/base",
          "model_name": "LayoutModel",
          "model_module_version": "1.2.0",
          "state": {
            "_view_name": "LayoutView",
            "grid_template_rows": null,
            "right": null,
            "justify_content": null,
            "_view_module": "@jupyter-widgets/base",
            "overflow": null,
            "_model_module_version": "1.2.0",
            "_view_count": null,
            "flex_flow": null,
            "width": null,
            "min_width": null,
            "border": null,
            "align_items": null,
            "bottom": null,
            "_model_module": "@jupyter-widgets/base",
            "top": null,
            "grid_column": null,
            "overflow_y": null,
            "overflow_x": null,
            "grid_auto_flow": null,
            "grid_area": null,
            "grid_template_columns": null,
            "flex": null,
            "_model_name": "LayoutModel",
            "justify_items": null,
            "grid_row": null,
            "max_height": null,
            "align_content": null,
            "visibility": null,
            "align_self": null,
            "height": null,
            "min_height": null,
            "padding": null,
            "grid_auto_rows": null,
            "grid_gap": null,
            "max_width": null,
            "order": null,
            "_view_module_version": "1.2.0",
            "grid_template_areas": null,
            "object_position": null,
            "object_fit": null,
            "grid_auto_columns": null,
            "margin": null,
            "display": null,
            "left": null
          }
        }
      }
    }
  },
  "cells": [
    {
      "cell_type": "markdown",
      "metadata": {
        "id": "view-in-github",
        "colab_type": "text"
      },
      "source": [
        "<a href=\"https://colab.research.google.com/github/bcasazharuddin/Automata-_Theory/blob/main/finalA_1.ipynb\" target=\"_parent\"><img src=\"https://colab.research.google.com/assets/colab-badge.svg\" alt=\"Open In Colab\"/></a>"
      ]
    },
    {
      "cell_type": "markdown",
      "metadata": {
        "id": "e5sd6FjQz1Uk"
      },
      "source": [
        "#       ****** Final Assignment *******"
      ]
    },
    {
      "cell_type": "code",
      "metadata": {
        "run_control": {
          "frozen": false,
          "read_only": false
        },
        "scrolled": true,
        "id": "vwcAwEFM72Xs",
        "colab": {
          "base_uri": "https://localhost:8080/"
        },
        "outputId": "958cab92-f051-434c-a5e1-365ba67aa7d8"
      },
      "source": [
        "#~~~~~~~~~~~~~~~~~~~~~~~~~~~~~~~~~~~~~~~~~~~~~~~~~~~~~~~\n",
        "import sys\n",
        "\n",
        "# -- Detect if in Own Install or in Colab\n",
        "try:\n",
        "    import google.colab\n",
        "    OWN_INSTALL = False\n",
        "except:\n",
        "    OWN_INSTALL = True\n",
        "    \n",
        "if OWN_INSTALL:\n",
        "    \n",
        "  #---- Leave these definitions ON if running on laptop\n",
        "  #---- Else turn OFF by putting them between ''' ... '''\n",
        "\n",
        "  sys.path[0:0] = ['../../../../..',  '../../../../../3rdparty',  \n",
        "                   '../../../..',  '../../../../3rdparty',  \n",
        "                   '../../..',     '../../../3rdparty', \n",
        "                   '../..',        '../../3rdparty',\n",
        "                   '..',           '../3rdparty' ]\n",
        "\n",
        "else: # In colab\n",
        "  ! if [ ! -d Jove ]; then git clone https://github.com/ganeshutah/Jove Jove; fi\n",
        "  sys.path.append('./Jove')\n",
        "  sys.path.append('./Jove/jove')\n",
        "\n",
        "# -- common imports --\n",
        "from jove.DotBashers import *\n",
        "from jove.Def_md2mc  import *\n",
        "from jove.Def_NFA    import *\n",
        "from jove.Def_DFA    import *\n",
        "from jove.AnimateNFA import *\n",
        "#~~~~~~~~~~~~~~~~~~~~~~~~~~~~~~~~~~~~~~~~~~~~~~~~~~~~~~~"
      ],
      "execution_count": null,
      "outputs": [
        {
          "output_type": "stream",
          "name": "stdout",
          "text": [
            "Cloning into 'Jove'...\n",
            "remote: Enumerating objects: 5112, done.\u001b[K\n",
            "remote: Counting objects: 100% (478/478), done.\u001b[K\n",
            "remote: Compressing objects: 100% (339/339), done.\u001b[K\n",
            "remote: Total 5112 (delta 272), reused 317 (delta 124), pack-reused 4634\u001b[K\n",
            "Receiving objects: 100% (5112/5112), 7.64 MiB | 20.54 MiB/s, done.\n",
            "Resolving deltas: 100% (3277/3277), done.\n",
            "You may use any of these help commands:\n",
            "help(ResetStNum)\n",
            "help(NxtStateStr)\n",
            "\n",
            "You may use any of these help commands:\n",
            "help(md2mc)\n",
            ".. and if you want to dig more, then ..\n",
            "help(default_line_attr)\n",
            "help(length_ok_input_items)\n",
            "help(union_line_attr_list_fld)\n",
            "help(extend_rsltdict)\n",
            "help(form_delta)\n",
            "help(get_machine_components)\n",
            "\n",
            "You may use any of these help commands:\n",
            "help(mkp_dfa)\n",
            "help(mk_dfa)\n",
            "help(totalize_dfa)\n",
            "help(addtosigma_delta)\n",
            "help(step_dfa)\n",
            "help(run_dfa)\n",
            "help(accepts_dfa)\n",
            "help(comp_dfa)\n",
            "help(union_dfa)\n",
            "help(intersect_dfa)\n",
            "help(pruneUnreach)\n",
            "help(iso_dfa)\n",
            "help(langeq_dfa)\n",
            "help(same_status)\n",
            "help(h_langeq_dfa)\n",
            "help(fixptDist)\n",
            "help(min_dfa)\n",
            "help(pairFR)\n",
            "help(state_combos)\n",
            "help(sepFinNonFin)\n",
            "help(bash_eql_classes)\n",
            "help(listminus)\n",
            "help(bash_1)\n",
            "help(mk_rep_eqc)\n",
            "help(F_of)\n",
            "help(rep_of_s)\n",
            "help(q0_of)\n",
            "help(Delta_of)\n",
            "help(mk_state_eqc_name)\n",
            "\n",
            "You may use any of these help commands:\n",
            "help(mk_nfa)\n",
            "help(totalize_nfa)\n",
            "help(step_nfa)\n",
            "help(run_nfa)\n",
            "help(ec_step_nfa)\n",
            "help(Eclosure)\n",
            "help(Echelp)\n",
            "help(accepts_nfa)\n",
            "help(nfa2dfa)\n",
            "help(n2d)\n",
            "help(inSets)\n",
            "help(rev_dfa)\n",
            "help(min_dfa_brz)\n",
            "\n",
            " \"help(AnimateNFA)\" gives you info on how to use animations with NFA \n"
          ]
        }
      ]
    },
    {
      "cell_type": "markdown",
      "metadata": {
        "id": "X4GvlAbJ72Xu"
      },
      "source": [
        "# Problem 1: Design an NFA for $\\{0,1\\}^* 1 0$ (\"Ends 10\")\n",
        "\n",
        "## It will be a 3-state NFA, and name the states as I, S0, and F\n",
        "\n",
        "### Document each line of your code with a short comment\n"
      ]
    },
    {
      "cell_type": "code",
      "metadata": {
        "id": "YsXPfYCG72Xv",
        "colab": {
          "base_uri": "https://localhost:8080/"
        },
        "outputId": "c0426000-512d-4c23-b3bf-fa92d76f5d13"
      },
      "source": [
        "# SOLUTION\n",
        "\n",
        "nfaEnds10 = md2mc('''\n",
        "NFA \n",
        " I : 0 -> I\n",
        " I : 1 -> I\n",
        " I : 1 -> SO\n",
        " SO : 0-> F\n",
        " \n",
        "''')\n"
      ],
      "execution_count": null,
      "outputs": [
        {
          "output_type": "stream",
          "name": "stderr",
          "text": [
            "Generating LALR tables\n"
          ]
        }
      ]
    },
    {
      "cell_type": "code",
      "metadata": {
        "colab": {
          "base_uri": "https://localhost:8080/",
          "height": 174
        },
        "id": "YilWyec03WxX",
        "outputId": "d2e92745-2966-493c-8067-a35108ee50fa"
      },
      "source": [
        "dotObj_nfa(nfaEnds10)"
      ],
      "execution_count": null,
      "outputs": [
        {
          "output_type": "execute_result",
          "data": {
            "text/plain": [
              "<graphviz.dot.Digraph at 0x7f3042f2de50>"
            ],
            "image/svg+xml": "<?xml version=\"1.0\" encoding=\"UTF-8\" standalone=\"no\"?>\n<!DOCTYPE svg PUBLIC \"-//W3C//DTD SVG 1.1//EN\"\n \"http://www.w3.org/Graphics/SVG/1.1/DTD/svg11.dtd\">\n<!-- Generated by graphviz version 2.40.1 (20161225.0304)\n -->\n<!-- Title: %3 Pages: 1 -->\n<svg width=\"320pt\" height=\"115pt\"\n viewBox=\"0.00 0.00 320.50 114.75\" xmlns=\"http://www.w3.org/2000/svg\" xmlns:xlink=\"http://www.w3.org/1999/xlink\">\n<g id=\"graph0\" class=\"graph\" transform=\"scale(1 1) rotate(0) translate(4 110.748)\">\n<title>%3</title>\n<polygon fill=\"#ffffff\" stroke=\"transparent\" points=\"-4,4 -4,-110.748 316.496,-110.748 316.496,4 -4,4\"/>\n<!-- EMPTY -->\n<g id=\"node1\" class=\"node\">\n<title>EMPTY</title>\n</g>\n<!-- I -->\n<g id=\"node3\" class=\"node\">\n<title>I</title>\n<ellipse fill=\"none\" stroke=\"#000000\" cx=\"109\" cy=\"-22.748\" rx=\"18\" ry=\"18\"/>\n<text text-anchor=\"middle\" x=\"109\" y=\"-19.048\" font-family=\"Times,serif\" font-size=\"14.00\" fill=\"#000000\">I</text>\n</g>\n<!-- EMPTY&#45;&gt;I -->\n<g id=\"edge1\" class=\"edge\">\n<title>EMPTY&#45;&gt;I</title>\n<path fill=\"none\" stroke=\"#000000\" d=\"M54.3048,-22.748C62.6909,-22.748 71.9407,-22.748 80.4103,-22.748\"/>\n<polygon fill=\"#000000\" stroke=\"#000000\" points=\"80.5976,-26.2481 90.5976,-22.748 80.5976,-19.2481 80.5976,-26.2481\"/>\n</g>\n<!-- SO -->\n<g id=\"node2\" class=\"node\">\n<title>SO</title>\n<ellipse fill=\"none\" stroke=\"#000000\" cx=\"197.748\" cy=\"-22.748\" rx=\"22.9987\" ry=\"22.9987\"/>\n<text text-anchor=\"middle\" x=\"197.748\" y=\"-19.048\" font-family=\"Times,serif\" font-size=\"14.00\" fill=\"#000000\">SO</text>\n</g>\n<!-- F -->\n<g id=\"node4\" class=\"node\">\n<title>F</title>\n<ellipse fill=\"none\" stroke=\"#000000\" cx=\"290.496\" cy=\"-22.748\" rx=\"18\" ry=\"18\"/>\n<ellipse fill=\"none\" stroke=\"#000000\" cx=\"290.496\" cy=\"-22.748\" rx=\"22\" ry=\"22\"/>\n<text text-anchor=\"middle\" x=\"290.496\" y=\"-19.048\" font-family=\"Times,serif\" font-size=\"14.00\" fill=\"#000000\">F</text>\n</g>\n<!-- SO&#45;&gt;F -->\n<g id=\"edge5\" class=\"edge\">\n<title>SO&#45;&gt;F</title>\n<path fill=\"none\" stroke=\"#000000\" d=\"M220.6745,-22.748C231.9596,-22.748 245.7589,-22.748 258.1008,-22.748\"/>\n<polygon fill=\"#000000\" stroke=\"#000000\" points=\"258.4719,-26.2481 268.4719,-22.748 258.4719,-19.2481 258.4719,-26.2481\"/>\n<text text-anchor=\"middle\" x=\"244.496\" y=\"-26.548\" font-family=\"Times,serif\" font-size=\"14.00\" fill=\"#000000\">0 </text>\n</g>\n<!-- I&#45;&gt;SO -->\n<g id=\"edge3\" class=\"edge\">\n<title>I&#45;&gt;SO</title>\n<path fill=\"none\" stroke=\"#000000\" d=\"M127.3886,-22.748C138.1775,-22.748 152.1307,-22.748 164.7631,-22.748\"/>\n<polygon fill=\"#000000\" stroke=\"#000000\" points=\"164.9653,-26.2481 174.9652,-22.748 164.9652,-19.2481 164.9653,-26.2481\"/>\n<text text-anchor=\"middle\" x=\"151\" y=\"-26.548\" font-family=\"Times,serif\" font-size=\"14.00\" fill=\"#000000\">1 </text>\n</g>\n<!-- I&#45;&gt;I -->\n<g id=\"edge2\" class=\"edge\">\n<title>I&#45;&gt;I</title>\n<path fill=\"none\" stroke=\"#000000\" d=\"M105.7643,-40.5297C105.2144,-50.0629 106.293,-58.748 109,-58.748 110.6496,-58.748 111.6945,-55.5229 112.1347,-50.8461\"/>\n<polygon fill=\"#000000\" stroke=\"#000000\" points=\"115.6375,-50.5636 112.2357,-40.5297 108.6379,-50.4949 115.6375,-50.5636\"/>\n<text text-anchor=\"middle\" x=\"109\" y=\"-62.548\" font-family=\"Times,serif\" font-size=\"14.00\" fill=\"#000000\">0 </text>\n</g>\n<!-- I&#45;&gt;I -->\n<g id=\"edge4\" class=\"edge\">\n<title>I&#45;&gt;I</title>\n<path fill=\"none\" stroke=\"#000000\" d=\"M103.6841,-40.1683C100.6538,-57.5389 102.4258,-76.748 109,-76.748 114.2902,-76.748 116.4708,-64.3097 115.5419,-50.4\"/>\n<polygon fill=\"#000000\" stroke=\"#000000\" points=\"118.9808,-49.6808 114.3159,-40.1683 112.0305,-50.5137 118.9808,-49.6808\"/>\n<text text-anchor=\"middle\" x=\"109\" y=\"-80.548\" font-family=\"Times,serif\" font-size=\"14.00\" fill=\"#000000\">1 </text>\n</g>\n</g>\n</svg>\n"
          },
          "metadata": {},
          "execution_count": 4
        }
      ]
    },
    {
      "cell_type": "markdown",
      "metadata": {
        "id": "TXD_r3Fx72Xy"
      },
      "source": [
        "# Problem 2: Execute the cell below and follow the bulleted instructions\n",
        "\n",
        "* When the animation pane comes up, type in 10010 and Use Animate to illustate.\n"
      ]
    },
    {
      "cell_type": "code",
      "metadata": {
        "scrolled": false,
        "id": "uylFlj3H72Xz",
        "colab": {
          "base_uri": "https://localhost:8080/",
          "height": 305,
          "referenced_widgets": [
            "d4fb8a7e8b3f4a55a7f675504f7ed5e1",
            "9baf3e9e78bb4104b2b3ea5cea8b8d33",
            "bd00850f2830441b82d039f55ab0d96c",
            "2b54c98545b54576be4f7bfe4d1b13b4",
            "fb9048655f0c4d3ba5b44ecef5209b5f",
            "56df7ef8aa004a45935ee39e05ed8daa",
            "1f446e03e8a242d0b676d2b82604d13f",
            "97b87e6027374af5a69396be03569f71",
            "7ff2d2e6e48941bb94c97c29fdb18e6b",
            "6bd09fb85ccb4201b39a1fc440fd9215",
            "3c2d356ad791474c840064e58c699ca4",
            "3d47d6b8ce594b78b10ee7acf30aa269",
            "cbd60d026bd9432281aa9d4201c8f85e",
            "c998abe944d043b4aecd3dc2a0b44ba3",
            "3635a22ce2f3437ab5528d7e1ee3308c",
            "fa08026d232c4f6a88c3acf03f6f12ba",
            "9d0a9580095b4a1d90fb97e78dd9077f",
            "241fd7f0547248b3adaf918eac8d3b34",
            "196e17c127a3474280fd03e27bc9a832",
            "afe0967f6fb142fca34934fb7b6aec2d",
            "57842228733a42efb824e18f28370e49",
            "981c5ec34c2f44bcbf4f1f3c81f0a660",
            "79f2eec1ebfb49dbbe8911e13efc6286",
            "149d62355e2c490d93c0f97886b8ddf7",
            "501dc1b817934f11b355f6cbe0a71ff2",
            "b6cff759eaa8457497ea93f4685919cf",
            "c00f6e4c969045c5ba3ff425d5e9e43d",
            "487d8f5819974a3eb18a4374d0b3ee10"
          ]
        },
        "outputId": "424e0dee-7865-480a-d921-325ebe8b693c"
      },
      "source": [
        "AnimateNFA(nfaEnds10, FuseEdges=False)\n",
        "display(HTML('<link rel=\\\"stylesheet\\\" href=\\\"//stackpath.bootstrapcdn.com/font-awesome/4.7.0/css/font-awesome.min.css\\\"/>'))"
      ],
      "execution_count": null,
      "outputs": [
        {
          "output_type": "display_data",
          "data": {
            "application/vnd.jupyter.widget-view+json": {
              "model_id": "d4fb8a7e8b3f4a55a7f675504f7ed5e1",
              "version_minor": 0,
              "version_major": 2
            },
            "text/plain": [
              "VBox(children=(HBox(children=(Text(value='', description='Input:', layout=Layout(width='500px'), placeholder='…"
            ]
          },
          "metadata": {}
        },
        {
          "output_type": "display_data",
          "data": {
            "text/html": [
              "<link rel=\"stylesheet\" href=\"//stackpath.bootstrapcdn.com/font-awesome/4.7.0/css/font-awesome.min.css\"/>"
            ],
            "text/plain": [
              "<IPython.core.display.HTML object>"
            ]
          },
          "metadata": {}
        }
      ]
    },
    {
      "cell_type": "markdown",
      "metadata": {
        "id": "-FzyWvdp72X1"
      },
      "source": [
        "# Problem 3: Convert the NFA to a DFA (using an appropriate Jove Statement)"
      ]
    },
    {
      "cell_type": "code",
      "metadata": {
        "id": "4MYDq0EfmcEG"
      },
      "source": [
        "dfa = nfa2dfa(nfaEnds10, STATENAME_MAXSIZE = 40)"
      ],
      "execution_count": null,
      "outputs": []
    },
    {
      "cell_type": "code",
      "metadata": {
        "colab": {
          "base_uri": "https://localhost:8080/",
          "height": 205
        },
        "id": "ZwviLQ0Qmpfw",
        "outputId": "bbf33f3f-b8d6-44ef-b043-8c9ac64a2b03"
      },
      "source": [
        "dotObj_dfa(dfa, STATENAME_MAXSIZE = 40)"
      ],
      "execution_count": null,
      "outputs": [
        {
          "output_type": "execute_result",
          "data": {
            "text/plain": [
              "<graphviz.dot.Digraph at 0x7f30433e9c10>"
            ],
            "image/svg+xml": "<?xml version=\"1.0\" encoding=\"UTF-8\" standalone=\"no\"?>\n<!DOCTYPE svg PUBLIC \"-//W3C//DTD SVG 1.1//EN\"\n \"http://www.w3.org/Graphics/SVG/1.1/DTD/svg11.dtd\">\n<!-- Generated by graphviz version 2.40.1 (20161225.0304)\n -->\n<!-- Title: %3 Pages: 1 -->\n<svg width=\"348pt\" height=\"138pt\"\n viewBox=\"0.00 0.00 348.19 137.55\" xmlns=\"http://www.w3.org/2000/svg\" xmlns:xlink=\"http://www.w3.org/1999/xlink\">\n<g id=\"graph0\" class=\"graph\" transform=\"scale(1 1) rotate(0) translate(4 133.5473)\">\n<title>%3</title>\n<polygon fill=\"#ffffff\" stroke=\"transparent\" points=\"-4,4 -4,-133.5473 344.1903,-133.5473 344.1903,4 -4,4\"/>\n<!-- EMPTY -->\n<g id=\"node1\" class=\"node\">\n<title>EMPTY</title>\n</g>\n<!-- I -->\n<g id=\"node2\" class=\"node\">\n<title>I</title>\n<ellipse fill=\"none\" stroke=\"#000000\" cx=\"109\" cy=\"-18\" rx=\"18\" ry=\"18\"/>\n<text text-anchor=\"middle\" x=\"109\" y=\"-14.3\" font-family=\"Times,serif\" font-size=\"14.00\" fill=\"#000000\">I</text>\n</g>\n<!-- EMPTY&#45;&gt;I -->\n<g id=\"edge1\" class=\"edge\">\n<title>EMPTY&#45;&gt;I</title>\n<path fill=\"none\" stroke=\"#000000\" d=\"M54.3048,-18C62.6909,-18 71.9407,-18 80.4103,-18\"/>\n<polygon fill=\"#000000\" stroke=\"#000000\" points=\"80.5976,-21.5001 90.5976,-18 80.5976,-14.5001 80.5976,-21.5001\"/>\n</g>\n<!-- I&#45;&gt;I -->\n<g id=\"edge3\" class=\"edge\">\n<title>I&#45;&gt;I</title>\n<path fill=\"none\" stroke=\"#000000\" d=\"M102.6208,-35.0373C101.3189,-44.8579 103.4453,-54 109,-54 112.4717,-54 114.6042,-50.4289 115.3975,-45.3529\"/>\n<polygon fill=\"#000000\" stroke=\"#000000\" points=\"118.8971,-45.031 115.3792,-35.0373 111.8971,-45.0435 118.8971,-45.031\"/>\n<text text-anchor=\"middle\" x=\"109\" y=\"-57.8\" font-family=\"Times,serif\" font-size=\"14.00\" fill=\"#000000\">0 </text>\n</g>\n<!-- I_SO -->\n<g id=\"node3\" class=\"node\">\n<title>I_SO</title>\n<ellipse fill=\"none\" stroke=\"#000000\" cx=\"205.5473\" cy=\"-66\" rx=\"30.5947\" ry=\"30.5947\"/>\n<text text-anchor=\"middle\" x=\"205.5473\" y=\"-62.3\" font-family=\"Times,serif\" font-size=\"14.00\" fill=\"#000000\">I_SO</text>\n</g>\n<!-- I&#45;&gt;I_SO -->\n<g id=\"edge2\" class=\"edge\">\n<title>I&#45;&gt;I_SO</title>\n<path fill=\"none\" stroke=\"#000000\" d=\"M125.3779,-26.1425C137.3181,-32.0788 153.9704,-40.3578 169.0062,-47.833\"/>\n<polygon fill=\"#000000\" stroke=\"#000000\" points=\"167.5901,-51.0377 178.1027,-52.3555 170.7064,-44.7696 167.5901,-51.0377\"/>\n<text text-anchor=\"middle\" x=\"151\" y=\"-44.8\" font-family=\"Times,serif\" font-size=\"14.00\" fill=\"#000000\">1 </text>\n</g>\n<!-- I_SO&#45;&gt;I_SO -->\n<g id=\"edge4\" class=\"edge\">\n<title>I_SO&#45;&gt;I_SO</title>\n<path fill=\"none\" stroke=\"#000000\" d=\"M195.4445,-94.9071C195.1133,-105.6797 198.4809,-114.5473 205.5473,-114.5473 210.1846,-114.5473 213.229,-110.7284 214.6804,-105.0582\"/>\n<polygon fill=\"#000000\" stroke=\"#000000\" points=\"218.1832,-105.1946 215.65,-94.9071 211.215,-104.5289 218.1832,-105.1946\"/>\n<text text-anchor=\"middle\" x=\"205.5473\" y=\"-118.3473\" font-family=\"Times,serif\" font-size=\"14.00\" fill=\"#000000\">1 </text>\n</g>\n<!-- F_I -->\n<g id=\"node4\" class=\"node\">\n<title>F_I</title>\n<ellipse fill=\"none\" stroke=\"#000000\" cx=\"312.1424\" cy=\"-35\" rx=\"24.089\" ry=\"24.089\"/>\n<ellipse fill=\"none\" stroke=\"#000000\" cx=\"312.1424\" cy=\"-35\" rx=\"28.0958\" ry=\"28.0958\"/>\n<text text-anchor=\"middle\" x=\"312.1424\" y=\"-31.3\" font-family=\"Times,serif\" font-size=\"14.00\" fill=\"#000000\">F_I</text>\n</g>\n<!-- I_SO&#45;&gt;F_I -->\n<g id=\"edge5\" class=\"edge\">\n<title>I_SO&#45;&gt;F_I</title>\n<path fill=\"none\" stroke=\"#000000\" d=\"M235.5665,-59.1386C245.3515,-56.749 256.2322,-53.9284 266.0946,-51 269.2587,-50.0605 272.5275,-49.0359 275.7956,-47.974\"/>\n<polygon fill=\"#000000\" stroke=\"#000000\" points=\"277.1232,-51.2204 285.4925,-44.7238 274.8986,-44.5833 277.1232,-51.2204\"/>\n<text text-anchor=\"middle\" x=\"260.0946\" y=\"-58.8\" font-family=\"Times,serif\" font-size=\"14.00\" fill=\"#000000\">0 </text>\n</g>\n<!-- F_I&#45;&gt;I -->\n<g id=\"edge7\" class=\"edge\">\n<title>F_I&#45;&gt;I</title>\n<path fill=\"none\" stroke=\"#000000\" d=\"M285.8699,-24.5225C271.4343,-19.3263 253.0618,-13.6138 236.0946,-11 202.2686,-5.7891 162.8539,-9.4452 136.993,-13.1468\"/>\n<polygon fill=\"#000000\" stroke=\"#000000\" points=\"136.1495,-9.7351 126.7954,-14.7102 137.2104,-16.6543 136.1495,-9.7351\"/>\n<text text-anchor=\"middle\" x=\"205.5473\" y=\"-14.8\" font-family=\"Times,serif\" font-size=\"14.00\" fill=\"#000000\">0 </text>\n</g>\n<!-- F_I&#45;&gt;I_SO -->\n<g id=\"edge6\" class=\"edge\">\n<title>F_I&#45;&gt;I_SO</title>\n<path fill=\"none\" stroke=\"#000000\" d=\"M284.4682,-29.6347C274.6812,-28.7589 263.7186,-28.9651 254.0946,-32 248.3108,-33.8239 242.617,-36.6101 237.2783,-39.8189\"/>\n<polygon fill=\"#000000\" stroke=\"#000000\" points=\"235.0761,-37.0795 228.6757,-45.5226 238.9443,-42.9137 235.0761,-37.0795\"/>\n<text text-anchor=\"middle\" x=\"260.0946\" y=\"-35.8\" font-family=\"Times,serif\" font-size=\"14.00\" fill=\"#000000\">1 </text>\n</g>\n</g>\n</svg>\n"
          },
          "metadata": {},
          "execution_count": 7
        }
      ]
    },
    {
      "cell_type": "code",
      "metadata": {
        "colab": {
          "base_uri": "https://localhost:8080/",
          "height": 205
        },
        "id": "zzHjqDZ4m0a-",
        "outputId": "54b750c0-095b-45c6-b5c7-4a8a92c91f6a"
      },
      "source": [
        "dotObj_dfa_w_bh(dfa, STATENAME_MAXSIZE = 40)"
      ],
      "execution_count": null,
      "outputs": [
        {
          "output_type": "execute_result",
          "data": {
            "text/plain": [
              "<graphviz.dot.Digraph at 0x7f30433f97d0>"
            ],
            "image/svg+xml": "<?xml version=\"1.0\" encoding=\"UTF-8\" standalone=\"no\"?>\n<!DOCTYPE svg PUBLIC \"-//W3C//DTD SVG 1.1//EN\"\n \"http://www.w3.org/Graphics/SVG/1.1/DTD/svg11.dtd\">\n<!-- Generated by graphviz version 2.40.1 (20161225.0304)\n -->\n<!-- Title: %3 Pages: 1 -->\n<svg width=\"348pt\" height=\"138pt\"\n viewBox=\"0.00 0.00 348.19 137.55\" xmlns=\"http://www.w3.org/2000/svg\" xmlns:xlink=\"http://www.w3.org/1999/xlink\">\n<g id=\"graph0\" class=\"graph\" transform=\"scale(1 1) rotate(0) translate(4 133.5473)\">\n<title>%3</title>\n<polygon fill=\"#ffffff\" stroke=\"transparent\" points=\"-4,4 -4,-133.5473 344.1903,-133.5473 344.1903,4 -4,4\"/>\n<!-- EMPTY -->\n<g id=\"node1\" class=\"node\">\n<title>EMPTY</title>\n</g>\n<!-- I -->\n<g id=\"node2\" class=\"node\">\n<title>I</title>\n<ellipse fill=\"none\" stroke=\"#000000\" cx=\"109\" cy=\"-18\" rx=\"18\" ry=\"18\"/>\n<text text-anchor=\"middle\" x=\"109\" y=\"-14.3\" font-family=\"Times,serif\" font-size=\"14.00\" fill=\"#000000\">I</text>\n</g>\n<!-- EMPTY&#45;&gt;I -->\n<g id=\"edge1\" class=\"edge\">\n<title>EMPTY&#45;&gt;I</title>\n<path fill=\"none\" stroke=\"#000000\" d=\"M54.3048,-18C62.6909,-18 71.9407,-18 80.4103,-18\"/>\n<polygon fill=\"#000000\" stroke=\"#000000\" points=\"80.5976,-21.5001 90.5976,-18 80.5976,-14.5001 80.5976,-21.5001\"/>\n</g>\n<!-- I&#45;&gt;I -->\n<g id=\"edge3\" class=\"edge\">\n<title>I&#45;&gt;I</title>\n<path fill=\"none\" stroke=\"#000000\" d=\"M102.6208,-35.0373C101.3189,-44.8579 103.4453,-54 109,-54 112.4717,-54 114.6042,-50.4289 115.3975,-45.3529\"/>\n<polygon fill=\"#000000\" stroke=\"#000000\" points=\"118.8971,-45.031 115.3792,-35.0373 111.8971,-45.0435 118.8971,-45.031\"/>\n<text text-anchor=\"middle\" x=\"109\" y=\"-57.8\" font-family=\"Times,serif\" font-size=\"14.00\" fill=\"#000000\">0 </text>\n</g>\n<!-- I_SO -->\n<g id=\"node3\" class=\"node\">\n<title>I_SO</title>\n<ellipse fill=\"none\" stroke=\"#000000\" cx=\"205.5473\" cy=\"-66\" rx=\"30.5947\" ry=\"30.5947\"/>\n<text text-anchor=\"middle\" x=\"205.5473\" y=\"-62.3\" font-family=\"Times,serif\" font-size=\"14.00\" fill=\"#000000\">I_SO</text>\n</g>\n<!-- I&#45;&gt;I_SO -->\n<g id=\"edge2\" class=\"edge\">\n<title>I&#45;&gt;I_SO</title>\n<path fill=\"none\" stroke=\"#000000\" d=\"M125.3779,-26.1425C137.3181,-32.0788 153.9704,-40.3578 169.0062,-47.833\"/>\n<polygon fill=\"#000000\" stroke=\"#000000\" points=\"167.5901,-51.0377 178.1027,-52.3555 170.7064,-44.7696 167.5901,-51.0377\"/>\n<text text-anchor=\"middle\" x=\"151\" y=\"-44.8\" font-family=\"Times,serif\" font-size=\"14.00\" fill=\"#000000\">1 </text>\n</g>\n<!-- I_SO&#45;&gt;I_SO -->\n<g id=\"edge4\" class=\"edge\">\n<title>I_SO&#45;&gt;I_SO</title>\n<path fill=\"none\" stroke=\"#000000\" d=\"M195.4445,-94.9071C195.1133,-105.6797 198.4809,-114.5473 205.5473,-114.5473 210.1846,-114.5473 213.229,-110.7284 214.6804,-105.0582\"/>\n<polygon fill=\"#000000\" stroke=\"#000000\" points=\"218.1832,-105.1946 215.65,-94.9071 211.215,-104.5289 218.1832,-105.1946\"/>\n<text text-anchor=\"middle\" x=\"205.5473\" y=\"-118.3473\" font-family=\"Times,serif\" font-size=\"14.00\" fill=\"#000000\">1 </text>\n</g>\n<!-- F_I -->\n<g id=\"node4\" class=\"node\">\n<title>F_I</title>\n<ellipse fill=\"none\" stroke=\"#000000\" cx=\"312.1424\" cy=\"-35\" rx=\"24.089\" ry=\"24.089\"/>\n<ellipse fill=\"none\" stroke=\"#000000\" cx=\"312.1424\" cy=\"-35\" rx=\"28.0958\" ry=\"28.0958\"/>\n<text text-anchor=\"middle\" x=\"312.1424\" y=\"-31.3\" font-family=\"Times,serif\" font-size=\"14.00\" fill=\"#000000\">F_I</text>\n</g>\n<!-- I_SO&#45;&gt;F_I -->\n<g id=\"edge5\" class=\"edge\">\n<title>I_SO&#45;&gt;F_I</title>\n<path fill=\"none\" stroke=\"#000000\" d=\"M235.5665,-59.1386C245.3515,-56.749 256.2322,-53.9284 266.0946,-51 269.2587,-50.0605 272.5275,-49.0359 275.7956,-47.974\"/>\n<polygon fill=\"#000000\" stroke=\"#000000\" points=\"277.1232,-51.2204 285.4925,-44.7238 274.8986,-44.5833 277.1232,-51.2204\"/>\n<text text-anchor=\"middle\" x=\"260.0946\" y=\"-58.8\" font-family=\"Times,serif\" font-size=\"14.00\" fill=\"#000000\">0 </text>\n</g>\n<!-- F_I&#45;&gt;I -->\n<g id=\"edge7\" class=\"edge\">\n<title>F_I&#45;&gt;I</title>\n<path fill=\"none\" stroke=\"#000000\" d=\"M285.8699,-24.5225C271.4343,-19.3263 253.0618,-13.6138 236.0946,-11 202.2686,-5.7891 162.8539,-9.4452 136.993,-13.1468\"/>\n<polygon fill=\"#000000\" stroke=\"#000000\" points=\"136.1495,-9.7351 126.7954,-14.7102 137.2104,-16.6543 136.1495,-9.7351\"/>\n<text text-anchor=\"middle\" x=\"205.5473\" y=\"-14.8\" font-family=\"Times,serif\" font-size=\"14.00\" fill=\"#000000\">0 </text>\n</g>\n<!-- F_I&#45;&gt;I_SO -->\n<g id=\"edge6\" class=\"edge\">\n<title>F_I&#45;&gt;I_SO</title>\n<path fill=\"none\" stroke=\"#000000\" d=\"M284.4682,-29.6347C274.6812,-28.7589 263.7186,-28.9651 254.0946,-32 248.3108,-33.8239 242.617,-36.6101 237.2783,-39.8189\"/>\n<polygon fill=\"#000000\" stroke=\"#000000\" points=\"235.0761,-37.0795 228.6757,-45.5226 238.9443,-42.9137 235.0761,-37.0795\"/>\n<text text-anchor=\"middle\" x=\"260.0946\" y=\"-35.8\" font-family=\"Times,serif\" font-size=\"14.00\" fill=\"#000000\">1 </text>\n</g>\n</g>\n</svg>\n"
          },
          "metadata": {},
          "execution_count": 8
        }
      ]
    },
    {
      "cell_type": "code",
      "metadata": {
        "colab": {
          "base_uri": "https://localhost:8080/",
          "height": 191
        },
        "id": "81TDvaZfnKck",
        "outputId": "a4ec0f78-82f2-499e-b0f9-ea1c6d388254"
      },
      "source": [
        "dotObj_dfa(dfa, STATENAME_MAXSIZE = 10)"
      ],
      "execution_count": null,
      "outputs": [
        {
          "output_type": "execute_result",
          "data": {
            "text/plain": [
              "<graphviz.dot.Digraph at 0x7f30434017d0>"
            ],
            "image/svg+xml": "<?xml version=\"1.0\" encoding=\"UTF-8\" standalone=\"no\"?>\n<!DOCTYPE svg PUBLIC \"-//W3C//DTD SVG 1.1//EN\"\n \"http://www.w3.org/Graphics/SVG/1.1/DTD/svg11.dtd\">\n<!-- Generated by graphviz version 2.40.1 (20161225.0304)\n -->\n<!-- Title: %3 Pages: 1 -->\n<svg width=\"343pt\" height=\"128pt\"\n viewBox=\"0.00 0.00 343.39 127.80\" xmlns=\"http://www.w3.org/2000/svg\" xmlns:xlink=\"http://www.w3.org/1999/xlink\">\n<g id=\"graph0\" class=\"graph\" transform=\"scale(1 1) rotate(0) translate(4 123.7958)\">\n<title>%3</title>\n<polygon fill=\"#ffffff\" stroke=\"transparent\" points=\"-4,4 -4,-123.7958 339.3875,-123.7958 339.3875,4 -4,4\"/>\n<!-- EMPTY -->\n<g id=\"node1\" class=\"node\">\n<title>EMPTY</title>\n</g>\n<!-- St2 -->\n<g id=\"node2\" class=\"node\">\n<title>St2</title>\n<ellipse fill=\"none\" stroke=\"#000000\" cx=\"114.3979\" cy=\"-23.3979\" rx=\"23.2963\" ry=\"23.2963\"/>\n<text text-anchor=\"middle\" x=\"114.3979\" y=\"-19.6979\" font-family=\"Times,serif\" font-size=\"14.00\" fill=\"#000000\">St2</text>\n</g>\n<!-- EMPTY&#45;&gt;St2 -->\n<g id=\"edge1\" class=\"edge\">\n<title>EMPTY&#45;&gt;St2</title>\n<path fill=\"none\" stroke=\"#000000\" d=\"M54.1742,-23.3979C62.5103,-23.3979 71.7873,-23.3979 80.5137,-23.3979\"/>\n<polygon fill=\"#000000\" stroke=\"#000000\" points=\"80.7846,-26.898 90.7846,-23.3979 80.7845,-19.898 80.7846,-26.898\"/>\n</g>\n<!-- St2&#45;&gt;St2 -->\n<g id=\"edge3\" class=\"edge\">\n<title>St2&#45;&gt;St2</title>\n<path fill=\"none\" stroke=\"#000000\" d=\"M107.0151,-45.9667C106.312,-56.0635 108.7729,-64.7958 114.3979,-64.7958 118.0014,-64.7958 120.3064,-61.2121 121.3129,-55.9817\"/>\n<polygon fill=\"#000000\" stroke=\"#000000\" points=\"124.8102,-56.1191 121.7807,-45.9667 117.8178,-55.7924 124.8102,-56.1191\"/>\n<text text-anchor=\"middle\" x=\"114.3979\" y=\"-68.5958\" font-family=\"Times,serif\" font-size=\"14.00\" fill=\"#000000\">0 </text>\n</g>\n<!-- St1 -->\n<g id=\"node3\" class=\"node\">\n<title>St1</title>\n<ellipse fill=\"none\" stroke=\"#000000\" cx=\"209.1938\" cy=\"-63.3979\" rx=\"23.2963\" ry=\"23.2963\"/>\n<text text-anchor=\"middle\" x=\"209.1938\" y=\"-59.6979\" font-family=\"Times,serif\" font-size=\"14.00\" fill=\"#000000\">St1</text>\n</g>\n<!-- St2&#45;&gt;St1 -->\n<g id=\"edge2\" class=\"edge\">\n<title>St2&#45;&gt;St1</title>\n<path fill=\"none\" stroke=\"#000000\" d=\"M136.3843,-32.6753C148.7077,-37.8752 164.2849,-44.4482 177.8657,-50.1787\"/>\n<polygon fill=\"#000000\" stroke=\"#000000\" points=\"176.7526,-53.5078 187.3267,-54.1709 179.474,-47.0585 176.7526,-53.5078\"/>\n<text text-anchor=\"middle\" x=\"161.7958\" y=\"-49.1979\" font-family=\"Times,serif\" font-size=\"14.00\" fill=\"#000000\">1 </text>\n</g>\n<!-- St1&#45;&gt;St1 -->\n<g id=\"edge4\" class=\"edge\">\n<title>St1&#45;&gt;St1</title>\n<path fill=\"none\" stroke=\"#000000\" d=\"M200.7393,-85.5452C199.817,-95.8192 202.6352,-104.7958 209.1938,-104.7958 213.3954,-104.7958 216.0619,-101.1118 217.1933,-95.7628\"/>\n<polygon fill=\"#000000\" stroke=\"#000000\" points=\"220.6999,-95.691 217.6482,-85.5452 213.7068,-95.3796 220.6999,-95.691\"/>\n<text text-anchor=\"middle\" x=\"209.1938\" y=\"-108.5958\" font-family=\"Times,serif\" font-size=\"14.00\" fill=\"#000000\">1 </text>\n</g>\n<!-- St0 -->\n<g id=\"node4\" class=\"node\">\n<title>St0</title>\n<ellipse fill=\"none\" stroke=\"#000000\" cx=\"307.9896\" cy=\"-40.3979\" rx=\"23.3111\" ry=\"23.3111\"/>\n<ellipse fill=\"none\" stroke=\"#000000\" cx=\"307.9896\" cy=\"-40.3979\" rx=\"27.2962\" ry=\"27.2962\"/>\n<text text-anchor=\"middle\" x=\"307.9896\" y=\"-36.6979\" font-family=\"Times,serif\" font-size=\"14.00\" fill=\"#000000\">St0</text>\n</g>\n<!-- St1&#45;&gt;St0 -->\n<g id=\"edge5\" class=\"edge\">\n<title>St1&#45;&gt;St0</title>\n<path fill=\"none\" stroke=\"#000000\" d=\"M232.5156,-61.4077C241.9366,-60.3278 252.8615,-58.7234 262.5917,-56.3979 265.9444,-55.5966 269.3954,-54.6381 272.8259,-53.5939\"/>\n<polygon fill=\"#000000\" stroke=\"#000000\" points=\"273.9236,-56.9174 282.341,-50.4834 271.7485,-50.2639 273.9236,-56.9174\"/>\n<text text-anchor=\"middle\" x=\"256.5917\" y=\"-62.1979\" font-family=\"Times,serif\" font-size=\"14.00\" fill=\"#000000\">0 </text>\n</g>\n<!-- St0&#45;&gt;St2 -->\n<g id=\"edge7\" class=\"edge\">\n<title>St0&#45;&gt;St2</title>\n<path fill=\"none\" stroke=\"#000000\" d=\"M282.295,-30.0464C267.9335,-24.8171 249.5596,-19.0333 232.5917,-16.3979 204.1047,-11.9734 171.3572,-14.4976 147.5671,-17.6849\"/>\n<polygon fill=\"#000000\" stroke=\"#000000\" points=\"147.0319,-14.2258 137.6368,-19.1231 148.0352,-21.1535 147.0319,-14.2258\"/>\n<text text-anchor=\"middle\" x=\"209.1938\" y=\"-20.1979\" font-family=\"Times,serif\" font-size=\"14.00\" fill=\"#000000\">0 </text>\n</g>\n<!-- St0&#45;&gt;St1 -->\n<g id=\"edge6\" class=\"edge\">\n<title>St0&#45;&gt;St1</title>\n<path fill=\"none\" stroke=\"#000000\" d=\"M280.9958,-35.363C271.2535,-34.4876 260.2764,-34.6089 250.5917,-37.3979 245.8462,-38.7646 241.1191,-40.8532 236.6474,-43.265\"/>\n<polygon fill=\"#000000\" stroke=\"#000000\" points=\"234.6566,-40.3783 227.903,-48.5416 238.2732,-46.3717 234.6566,-40.3783\"/>\n<text text-anchor=\"middle\" x=\"256.5917\" y=\"-41.1979\" font-family=\"Times,serif\" font-size=\"14.00\" fill=\"#000000\">1 </text>\n</g>\n</g>\n</svg>\n"
          },
          "metadata": {},
          "execution_count": 9
        }
      ]
    }
  ]
}