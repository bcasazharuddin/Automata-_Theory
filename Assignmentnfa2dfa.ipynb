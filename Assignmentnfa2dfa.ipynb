{
  "nbformat": 4,
  "nbformat_minor": 0,
  "metadata": {
    "colab": {
      "name": "Assignmentnfa2dfa.ipynb",
      "provenance": [],
      "authorship_tag": "ABX9TyN6lmLPbNES5D6dABgUIYXd",
      "include_colab_link": true
    },
    "kernelspec": {
      "name": "python3",
      "display_name": "Python 3"
    },
    "language_info": {
      "name": "python"
    }
  },
  "cells": [
    {
      "cell_type": "markdown",
      "metadata": {
        "id": "view-in-github",
        "colab_type": "text"
      },
      "source": [
        "<a href=\"https://colab.research.google.com/github/bcasazharuddin/Automata-_Theory/blob/main/Assignmentnfa2dfa.ipynb\" target=\"_parent\"><img src=\"https://colab.research.google.com/assets/colab-badge.svg\" alt=\"Open In Colab\"/></a>"
      ]
    },
    {
      "cell_type": "markdown",
      "metadata": {
        "id": "UIZHRtWv_AwH"
      },
      "source": [
        "## Assignment : NFA with null edge to DFA "
      ]
    },
    {
      "cell_type": "code",
      "metadata": {
        "run_control": {
          "frozen": false,
          "read_only": false
        },
        "id": "St2RNfBddCIE",
        "colab": {
          "base_uri": "https://localhost:8080/"
        },
        "outputId": "41ba6a56-69bf-4925-efc5-bb04ec6919fe"
      },
      "source": [
        "#~~~~~~~~~~~~~~~~~~~~~~~~~~~~~~~~~~~~~~~~~~~~~~~~~~~~~~~\n",
        "import sys\n",
        "\n",
        "# -- Detect if in Own Install or in Colab\n",
        "try:\n",
        "    import google.colab\n",
        "    OWN_INSTALL = False\n",
        "except:\n",
        "    OWN_INSTALL = True\n",
        "    \n",
        "if OWN_INSTALL:\n",
        "    \n",
        "  #---- Leave these definitions ON if running on laptop\n",
        "  #---- Else turn OFF by putting them between ''' ... '''\n",
        "\n",
        "  sys.path[0:0] = ['../../../../..',  '../../../../../3rdparty',  \n",
        "                   '../../../..',  '../../../../3rdparty',  \n",
        "                   '../../..',     '../../../3rdparty', \n",
        "                   '../..',        '../../3rdparty',\n",
        "                   '..',           '../3rdparty' ]\n",
        "\n",
        "else: # In colab\n",
        "  ! if [ ! -d Jove ]; then git clone https://github.com/ganeshutah/Jove Jove; fi\n",
        "  sys.path.append('./Jove')\n",
        "  sys.path.append('./Jove/jove')\n",
        "\n",
        "# -- common imports --\n",
        "from jove.DotBashers import *\n",
        "from jove.Def_DFA import *\n",
        "from jove.Def_NFA import *\n",
        "from jove.Def_RE2NFA import *\n",
        "from jove.Def_NFA2RE import *\n",
        "from jove.Def_md2mc import *\n",
        "#~~~~~~~~~~~~~~~~~~~~~~~~~~~~~~~~~~~~~~~~~~~~~~~~~~~~~~~"
      ],
      "execution_count": 1,
      "outputs": [
        {
          "output_type": "stream",
          "name": "stdout",
          "text": [
            "Cloning into 'Jove'...\n",
            "remote: Enumerating objects: 4863, done.\u001b[K\n",
            "remote: Counting objects: 100% (229/229), done.\u001b[K\n",
            "remote: Compressing objects: 100% (159/159), done.\u001b[K\n",
            "remote: Total 4863 (delta 137), reused 151 (delta 65), pack-reused 4634\u001b[K\n",
            "Receiving objects: 100% (4863/4863), 7.55 MiB | 6.34 MiB/s, done.\n",
            "Resolving deltas: 100% (3142/3142), done.\n",
            "You may use any of these help commands:\n",
            "help(ResetStNum)\n",
            "help(NxtStateStr)\n",
            "\n",
            "You may use any of these help commands:\n",
            "help(mkp_dfa)\n",
            "help(mk_dfa)\n",
            "help(totalize_dfa)\n",
            "help(addtosigma_delta)\n",
            "help(step_dfa)\n",
            "help(run_dfa)\n",
            "help(accepts_dfa)\n",
            "help(comp_dfa)\n",
            "help(union_dfa)\n",
            "help(intersect_dfa)\n",
            "help(pruneUnreach)\n",
            "help(iso_dfa)\n",
            "help(langeq_dfa)\n",
            "help(same_status)\n",
            "help(h_langeq_dfa)\n",
            "help(fixptDist)\n",
            "help(min_dfa)\n",
            "help(pairFR)\n",
            "help(state_combos)\n",
            "help(sepFinNonFin)\n",
            "help(bash_eql_classes)\n",
            "help(listminus)\n",
            "help(bash_1)\n",
            "help(mk_rep_eqc)\n",
            "help(F_of)\n",
            "help(rep_of_s)\n",
            "help(q0_of)\n",
            "help(Delta_of)\n",
            "help(mk_state_eqc_name)\n",
            "\n",
            "You may use any of these help commands:\n",
            "help(mk_nfa)\n",
            "help(totalize_nfa)\n",
            "help(step_nfa)\n",
            "help(run_nfa)\n",
            "help(ec_step_nfa)\n",
            "help(Eclosure)\n",
            "help(Echelp)\n",
            "help(accepts_nfa)\n",
            "help(nfa2dfa)\n",
            "help(n2d)\n",
            "help(inSets)\n",
            "help(rev_dfa)\n",
            "help(min_dfa_brz)\n",
            "\n",
            "You may use any of these help commands:\n",
            "help(re2nfa)\n",
            "\n",
            "You may use any of these help commands:\n",
            "help(RE2Str)\n",
            "help(mk_gnfa)\n",
            "help(mk_gnfa_from_D)\n",
            "help(dfa2nfa)\n",
            "help(del_gnfa_states)\n",
            "help(gnfa_w_REStr)\n",
            "help(del_one_gnfa_state)\n",
            "help(Edges_Exist_Via)\n",
            "help(choose_state_to_del)\n",
            "help(form_alt_RE)\n",
            "help(form_concat_RE)\n",
            "help(form_kleene_RE)\n",
            "\n",
            "You may use any of these help commands:\n",
            "help(md2mc)\n",
            ".. and if you want to dig more, then ..\n",
            "help(default_line_attr)\n",
            "help(length_ok_input_items)\n",
            "help(union_line_attr_list_fld)\n",
            "help(extend_rsltdict)\n",
            "help(form_delta)\n",
            "help(get_machine_components)\n",
            "\n"
          ]
        }
      ]
    },
    {
      "cell_type": "markdown",
      "metadata": {
        "id": "2kXHcIc5_Xmw"
      },
      "source": [
        "## Draw  ε  - NFA"
      ]
    },
    {
      "cell_type": "code",
      "metadata": {
        "id": "9bbp-74OdCIL"
      },
      "source": [
        "nfa = md2mc('''\n",
        "NFA\n",
        "\n",
        "Iq0 : ''  -> q1\n",
        "\n",
        "Iq0 : ''  -> q7\n",
        "\n",
        "q1  : ''  -> q2\n",
        "\n",
        "q1  : ''  -> q4\n",
        "\n",
        "q2  :  a  -> q3\n",
        "\n",
        "q4  :  b  -> q5\n",
        "\n",
        "q3  : ''  -> q6\n",
        "\n",
        "q5  :  ''  -> q6\n",
        "\n",
        "q6  :  ''  -> q7\n",
        "\n",
        "q6  :  ''  -> q1\n",
        "\n",
        "q7  :  a  -> Fq8\n",
        "\n",
        "\n",
        "''')"
      ],
      "execution_count": 25,
      "outputs": []
    },
    {
      "cell_type": "code",
      "metadata": {
        "colab": {
          "base_uri": "https://localhost:8080/",
          "height": 274
        },
        "id": "b8peA9ALdCIM",
        "outputId": "03123732-3d92-4db1-abbf-07cc43af5d65"
      },
      "source": [
        "dotObj_nfa(nfa)"
      ],
      "execution_count": 26,
      "outputs": [
        {
          "output_type": "execute_result",
          "data": {
            "text/plain": [
              "<graphviz.dot.Digraph at 0x7f1c419c1910>"
            ],
            "image/svg+xml": "<?xml version=\"1.0\" encoding=\"UTF-8\" standalone=\"no\"?>\n<!DOCTYPE svg PUBLIC \"-//W3C//DTD SVG 1.1//EN\"\n \"http://www.w3.org/Graphics/SVG/1.1/DTD/svg11.dtd\">\n<!-- Generated by graphviz version 2.40.1 (20161225.0304)\n -->\n<!-- Title: %3 Pages: 1 -->\n<svg width=\"688pt\" height=\"190pt\"\n viewBox=\"0.00 0.00 687.77 189.80\" xmlns=\"http://www.w3.org/2000/svg\" xmlns:xlink=\"http://www.w3.org/1999/xlink\">\n<g id=\"graph0\" class=\"graph\" transform=\"scale(1 1) rotate(0) translate(4 185.7958)\">\n<title>%3</title>\n<polygon fill=\"#ffffff\" stroke=\"transparent\" points=\"-4,4 -4,-185.7958 683.7728,-185.7958 683.7728,4 -4,4\"/>\n<!-- EMPTY -->\n<g id=\"node1\" class=\"node\">\n<title>EMPTY</title>\n</g>\n<!-- Iq0 -->\n<g id=\"node3\" class=\"node\">\n<title>Iq0</title>\n<ellipse fill=\"none\" stroke=\"#000000\" cx=\"114.3979\" cy=\"-29.9977\" rx=\"23.2963\" ry=\"23.2963\"/>\n<text text-anchor=\"middle\" x=\"114.3979\" y=\"-26.2977\" font-family=\"Times,serif\" font-size=\"14.00\" fill=\"#000000\">Iq0</text>\n</g>\n<!-- EMPTY&#45;&gt;Iq0 -->\n<g id=\"edge1\" class=\"edge\">\n<title>EMPTY&#45;&gt;Iq0</title>\n<path fill=\"none\" stroke=\"#000000\" d=\"M54.1742,-29.9977C62.5103,-29.9977 71.7873,-29.9977 80.5137,-29.9977\"/>\n<polygon fill=\"#000000\" stroke=\"#000000\" points=\"80.7846,-33.4978 90.7846,-29.9977 80.7845,-26.4978 80.7846,-33.4978\"/>\n</g>\n<!-- q1 -->\n<g id=\"node2\" class=\"node\">\n<title>q1</title>\n<ellipse fill=\"none\" stroke=\"#000000\" cx=\"203.594\" cy=\"-77.9977\" rx=\"20.5982\" ry=\"20.5982\"/>\n<text text-anchor=\"middle\" x=\"203.594\" y=\"-74.2977\" font-family=\"Times,serif\" font-size=\"14.00\" fill=\"#000000\">q1</text>\n</g>\n<!-- q4 -->\n<g id=\"node4\" class=\"node\">\n<title>q4</title>\n<ellipse fill=\"none\" stroke=\"#000000\" cx=\"290.1903\" cy=\"-160.9977\" rx=\"20.5982\" ry=\"20.5982\"/>\n<text text-anchor=\"middle\" x=\"290.1903\" y=\"-157.2977\" font-family=\"Times,serif\" font-size=\"14.00\" fill=\"#000000\">q4</text>\n</g>\n<!-- q1&#45;&gt;q4 -->\n<g id=\"edge4\" class=\"edge\">\n<title>q1&#45;&gt;q4</title>\n<path fill=\"none\" stroke=\"#000000\" d=\"M218.6779,-92.4552C232.1303,-105.3489 252.0185,-124.4111 267.4086,-139.1621\"/>\n<polygon fill=\"#000000\" stroke=\"#000000\" points=\"265.3474,-142.0346 274.9887,-146.4274 270.1911,-136.981 265.3474,-142.0346\"/>\n<text text-anchor=\"middle\" x=\"246.8922\" y=\"-124.7977\" font-family=\"Times,serif\" font-size=\"14.00\" fill=\"#000000\">&#39;&#39; </text>\n</g>\n<!-- q2 -->\n<g id=\"node5\" class=\"node\">\n<title>q2</title>\n<ellipse fill=\"none\" stroke=\"#000000\" cx=\"290.1903\" cy=\"-100.9977\" rx=\"20.5982\" ry=\"20.5982\"/>\n<text text-anchor=\"middle\" x=\"290.1903\" y=\"-97.2977\" font-family=\"Times,serif\" font-size=\"14.00\" fill=\"#000000\">q2</text>\n</g>\n<!-- q1&#45;&gt;q2 -->\n<g id=\"edge5\" class=\"edge\">\n<title>q1&#45;&gt;q2</title>\n<path fill=\"none\" stroke=\"#000000\" d=\"M224.1161,-83.4484C234.7928,-86.2841 248.0523,-89.8058 259.8851,-92.9486\"/>\n<polygon fill=\"#000000\" stroke=\"#000000\" points=\"259.2521,-96.4018 269.8155,-95.5861 261.0491,-89.6363 259.2521,-96.4018\"/>\n<text text-anchor=\"middle\" x=\"246.8922\" y=\"-93.7977\" font-family=\"Times,serif\" font-size=\"14.00\" fill=\"#000000\">&#39;&#39; </text>\n</g>\n<!-- Iq0&#45;&gt;q1 -->\n<g id=\"edge2\" class=\"edge\">\n<title>Iq0&#45;&gt;q1</title>\n<path fill=\"none\" stroke=\"#000000\" d=\"M135.0855,-41.1305C147.2607,-47.6825 162.8113,-56.0509 176.0186,-63.1582\"/>\n<polygon fill=\"#000000\" stroke=\"#000000\" points=\"174.6751,-66.4098 185.1396,-68.0666 177.9923,-60.2457 174.6751,-66.4098\"/>\n<text text-anchor=\"middle\" x=\"160.2958\" y=\"-60.7977\" font-family=\"Times,serif\" font-size=\"14.00\" fill=\"#000000\">&#39;&#39; </text>\n</g>\n<!-- q7 -->\n<g id=\"node7\" class=\"node\">\n<title>q7</title>\n<ellipse fill=\"none\" stroke=\"#000000\" cx=\"552.9792\" cy=\"-29.9977\" rx=\"20.5982\" ry=\"20.5982\"/>\n<text text-anchor=\"middle\" x=\"552.9792\" y=\"-26.2977\" font-family=\"Times,serif\" font-size=\"14.00\" fill=\"#000000\">q7</text>\n</g>\n<!-- Iq0&#45;&gt;q7 -->\n<g id=\"edge3\" class=\"edge\">\n<title>Iq0&#45;&gt;q7</title>\n<path fill=\"none\" stroke=\"#000000\" d=\"M136.9279,-23.6741C154.8429,-19.2018 180.6244,-13.9977 203.594,-13.9977 203.594,-13.9977 203.594,-13.9977 466.3829,-13.9977 485.3204,-13.9977 506.2055,-17.7436 522.7199,-21.6104\"/>\n<polygon fill=\"#000000\" stroke=\"#000000\" points=\"522.3281,-25.1192 532.8767,-24.1307 524.014,-18.3253 522.3281,-25.1192\"/>\n<text text-anchor=\"middle\" x=\"334.9885\" y=\"-17.7977\" font-family=\"Times,serif\" font-size=\"14.00\" fill=\"#000000\">&#39;&#39; </text>\n</g>\n<!-- q5 -->\n<g id=\"node6\" class=\"node\">\n<title>q5</title>\n<ellipse fill=\"none\" stroke=\"#000000\" cx=\"379.7866\" cy=\"-160.9977\" rx=\"20.5982\" ry=\"20.5982\"/>\n<text text-anchor=\"middle\" x=\"379.7866\" y=\"-157.2977\" font-family=\"Times,serif\" font-size=\"14.00\" fill=\"#000000\">q5</text>\n</g>\n<!-- q4&#45;&gt;q5 -->\n<g id=\"edge7\" class=\"edge\">\n<title>q4&#45;&gt;q5</title>\n<path fill=\"none\" stroke=\"#000000\" d=\"M311.4234,-160.9977C322.4699,-160.9977 336.1888,-160.9977 348.4315,-160.9977\"/>\n<polygon fill=\"#000000\" stroke=\"#000000\" points=\"348.706,-164.4978 358.706,-160.9977 348.7059,-157.4978 348.706,-164.4978\"/>\n<text text-anchor=\"middle\" x=\"334.9885\" y=\"-164.7977\" font-family=\"Times,serif\" font-size=\"14.00\" fill=\"#000000\">b </text>\n</g>\n<!-- q3 -->\n<g id=\"node8\" class=\"node\">\n<title>q3</title>\n<ellipse fill=\"none\" stroke=\"#000000\" cx=\"379.7866\" cy=\"-100.9977\" rx=\"20.5982\" ry=\"20.5982\"/>\n<text text-anchor=\"middle\" x=\"379.7866\" y=\"-97.2977\" font-family=\"Times,serif\" font-size=\"14.00\" fill=\"#000000\">q3</text>\n</g>\n<!-- q2&#45;&gt;q3 -->\n<g id=\"edge6\" class=\"edge\">\n<title>q2&#45;&gt;q3</title>\n<path fill=\"none\" stroke=\"#000000\" d=\"M311.4234,-100.9977C322.4699,-100.9977 336.1888,-100.9977 348.4315,-100.9977\"/>\n<polygon fill=\"#000000\" stroke=\"#000000\" points=\"348.706,-104.4978 358.706,-100.9977 348.7059,-97.4978 348.706,-104.4978\"/>\n<text text-anchor=\"middle\" x=\"334.9885\" y=\"-104.7977\" font-family=\"Times,serif\" font-size=\"14.00\" fill=\"#000000\">a </text>\n</g>\n<!-- q6 -->\n<g id=\"node9\" class=\"node\">\n<title>q6</title>\n<ellipse fill=\"none\" stroke=\"#000000\" cx=\"466.3829\" cy=\"-73.9977\" rx=\"20.5982\" ry=\"20.5982\"/>\n<text text-anchor=\"middle\" x=\"466.3829\" y=\"-70.2977\" font-family=\"Times,serif\" font-size=\"14.00\" fill=\"#000000\">q6</text>\n</g>\n<!-- q5&#45;&gt;q6 -->\n<g id=\"edge9\" class=\"edge\">\n<title>q5&#45;&gt;q6</title>\n<path fill=\"none\" stroke=\"#000000\" d=\"M394.4765,-146.2393C408.1612,-132.4909 428.7469,-111.8091 444.3904,-96.0928\"/>\n<polygon fill=\"#000000\" stroke=\"#000000\" points=\"447.047,-98.3851 451.621,-88.8285 442.0857,-93.4469 447.047,-98.3851\"/>\n<text text-anchor=\"middle\" x=\"423.0848\" y=\"-123.7977\" font-family=\"Times,serif\" font-size=\"14.00\" fill=\"#000000\">&#39;&#39; </text>\n</g>\n<!-- Fq8 -->\n<g id=\"node10\" class=\"node\">\n<title>Fq8</title>\n<ellipse fill=\"none\" stroke=\"#000000\" cx=\"649.7751\" cy=\"-29.9977\" rx=\"25.9957\" ry=\"25.9957\"/>\n<ellipse fill=\"none\" stroke=\"#000000\" cx=\"649.7751\" cy=\"-29.9977\" rx=\"29.9954\" ry=\"29.9954\"/>\n<text text-anchor=\"middle\" x=\"649.7751\" y=\"-26.2977\" font-family=\"Times,serif\" font-size=\"14.00\" fill=\"#000000\">Fq8</text>\n</g>\n<!-- q7&#45;&gt;Fq8 -->\n<g id=\"edge12\" class=\"edge\">\n<title>q7&#45;&gt;Fq8</title>\n<path fill=\"none\" stroke=\"#000000\" d=\"M573.9825,-29.9977C584.4079,-29.9977 597.3622,-29.9977 609.5948,-29.9977\"/>\n<polygon fill=\"#000000\" stroke=\"#000000\" points=\"609.6293,-33.4978 619.6292,-29.9977 609.6292,-26.4978 609.6293,-33.4978\"/>\n<text text-anchor=\"middle\" x=\"596.7774\" y=\"-33.7977\" font-family=\"Times,serif\" font-size=\"14.00\" fill=\"#000000\">a </text>\n</g>\n<!-- q3&#45;&gt;q6 -->\n<g id=\"edge8\" class=\"edge\">\n<title>q3&#45;&gt;q6</title>\n<path fill=\"none\" stroke=\"#000000\" d=\"M399.8712,-94.7355C410.8008,-91.3277 424.5321,-87.0464 436.6761,-83.26\"/>\n<polygon fill=\"#000000\" stroke=\"#000000\" points=\"437.9024,-86.544 446.4073,-80.2259 435.8187,-79.8612 437.9024,-86.544\"/>\n<text text-anchor=\"middle\" x=\"423.0848\" y=\"-91.7977\" font-family=\"Times,serif\" font-size=\"14.00\" fill=\"#000000\">&#39;&#39; </text>\n</g>\n<!-- q6&#45;&gt;q1 -->\n<g id=\"edge10\" class=\"edge\">\n<title>q6&#45;&gt;q1</title>\n<path fill=\"none\" stroke=\"#000000\" d=\"M445.3742,-72.7386C409.3387,-70.7891 333.4342,-67.6007 269.3922,-70.9977 257.9169,-71.6064 245.3633,-72.8082 234.326,-74.0466\"/>\n<polygon fill=\"#000000\" stroke=\"#000000\" points=\"233.8157,-70.5824 224.2932,-75.227 234.6338,-77.5345 233.8157,-70.5824\"/>\n<text text-anchor=\"middle\" x=\"334.9885\" y=\"-72.7977\" font-family=\"Times,serif\" font-size=\"14.00\" fill=\"#000000\">&#39;&#39; </text>\n</g>\n<!-- q6&#45;&gt;q7 -->\n<g id=\"edge11\" class=\"edge\">\n<title>q6&#45;&gt;q7</title>\n<path fill=\"none\" stroke=\"#000000\" d=\"M485.173,-64.4503C496.8612,-58.5115 512.1021,-50.7675 525.1733,-44.126\"/>\n<polygon fill=\"#000000\" stroke=\"#000000\" points=\"526.8961,-47.1766 534.2258,-39.5264 523.7251,-40.936 526.8961,-47.1766\"/>\n<text text-anchor=\"middle\" x=\"509.6811\" y=\"-57.7977\" font-family=\"Times,serif\" font-size=\"14.00\" fill=\"#000000\">&#39;&#39; </text>\n</g>\n</g>\n</svg>\n"
          },
          "metadata": {},
          "execution_count": 26
        }
      ]
    },
    {
      "cell_type": "code",
      "metadata": {
        "colab": {
          "base_uri": "https://localhost:8080/"
        },
        "id": "T8n3G8y1dCIN",
        "outputId": "74ee6245-7b39-4a5e-c748-5b9ec7959a04"
      },
      "source": [
        "nfa"
      ],
      "execution_count": 27,
      "outputs": [
        {
          "output_type": "execute_result",
          "data": {
            "text/plain": [
              "{'Delta': {('Iq0', ''): {'q1', 'q7'},\n",
              "  ('q1', ''): {'q2', 'q4'},\n",
              "  ('q2', 'a'): {'q3'},\n",
              "  ('q3', ''): {'q6'},\n",
              "  ('q4', 'b'): {'q5'},\n",
              "  ('q5', ''): {'q6'},\n",
              "  ('q6', ''): {'q1', 'q7'},\n",
              "  ('q7', 'a'): {'Fq8'}},\n",
              " 'F': {'Fq8'},\n",
              " 'Q': {'Fq8', 'Iq0', 'q1', 'q2', 'q3', 'q4', 'q5', 'q6', 'q7'},\n",
              " 'Q0': {'Iq0'},\n",
              " 'Sigma': {'a', 'b'}}"
            ]
          },
          "metadata": {},
          "execution_count": 27
        }
      ]
    },
    {
      "cell_type": "markdown",
      "metadata": {
        "id": "h54i-P-vGRZW"
      },
      "source": [
        "# Compute NFA to DFA"
      ]
    },
    {
      "cell_type": "code",
      "metadata": {
        "id": "mhRMhmLDdCIS"
      },
      "source": [
        "dfa = nfa2dfa(nfa, STATENAME_MAXSIZE = 40)"
      ],
      "execution_count": 28,
      "outputs": []
    },
    {
      "cell_type": "code",
      "metadata": {
        "colab": {
          "base_uri": "https://localhost:8080/",
          "height": 191
        },
        "id": "7esyDnN7dCIT",
        "outputId": "7d879eee-c96c-4415-a0bb-0b2e519fce77"
      },
      "source": [
        "dotObj_dfa(dfa, STATENAME_MAXSIZE = 40)"
      ],
      "execution_count": 29,
      "outputs": [
        {
          "output_type": "execute_result",
          "data": {
            "text/plain": [
              "<graphviz.dot.Digraph at 0x7f1c41ba3710>"
            ],
            "image/svg+xml": "<?xml version=\"1.0\" encoding=\"UTF-8\" standalone=\"no\"?>\n<!DOCTYPE svg PUBLIC \"-//W3C//DTD SVG 1.1//EN\"\n \"http://www.w3.org/Graphics/SVG/1.1/DTD/svg11.dtd\">\n<!-- Generated by graphviz version 2.40.1 (20161225.0304)\n -->\n<!-- Title: %3 Pages: 1 -->\n<svg width=\"343pt\" height=\"128pt\"\n viewBox=\"0.00 0.00 343.39 127.80\" xmlns=\"http://www.w3.org/2000/svg\" xmlns:xlink=\"http://www.w3.org/1999/xlink\">\n<g id=\"graph0\" class=\"graph\" transform=\"scale(1 1) rotate(0) translate(4 123.7958)\">\n<title>%3</title>\n<polygon fill=\"#ffffff\" stroke=\"transparent\" points=\"-4,4 -4,-123.7958 339.3875,-123.7958 339.3875,4 -4,4\"/>\n<!-- EMPTY -->\n<g id=\"node1\" class=\"node\">\n<title>EMPTY</title>\n</g>\n<!-- St1 -->\n<g id=\"node3\" class=\"node\">\n<title>St1</title>\n<ellipse fill=\"none\" stroke=\"#000000\" cx=\"114.3979\" cy=\"-23.3979\" rx=\"23.2963\" ry=\"23.2963\"/>\n<text text-anchor=\"middle\" x=\"114.3979\" y=\"-19.6979\" font-family=\"Times,serif\" font-size=\"14.00\" fill=\"#000000\">St1</text>\n</g>\n<!-- EMPTY&#45;&gt;St1 -->\n<g id=\"edge1\" class=\"edge\">\n<title>EMPTY&#45;&gt;St1</title>\n<path fill=\"none\" stroke=\"#000000\" d=\"M54.1742,-23.3979C62.5103,-23.3979 71.7873,-23.3979 80.5137,-23.3979\"/>\n<polygon fill=\"#000000\" stroke=\"#000000\" points=\"80.7846,-26.898 90.7846,-23.3979 80.7845,-19.898 80.7846,-26.898\"/>\n</g>\n<!-- St2 -->\n<g id=\"node2\" class=\"node\">\n<title>St2</title>\n<ellipse fill=\"none\" stroke=\"#000000\" cx=\"209.1938\" cy=\"-63.3979\" rx=\"23.2963\" ry=\"23.2963\"/>\n<text text-anchor=\"middle\" x=\"209.1938\" y=\"-59.6979\" font-family=\"Times,serif\" font-size=\"14.00\" fill=\"#000000\">St2</text>\n</g>\n<!-- St2&#45;&gt;St2 -->\n<g id=\"edge4\" class=\"edge\">\n<title>St2&#45;&gt;St2</title>\n<path fill=\"none\" stroke=\"#000000\" d=\"M200.7393,-85.5452C199.817,-95.8192 202.6352,-104.7958 209.1938,-104.7958 213.3954,-104.7958 216.0619,-101.1118 217.1933,-95.7628\"/>\n<polygon fill=\"#000000\" stroke=\"#000000\" points=\"220.6999,-95.691 217.6482,-85.5452 213.7068,-95.3796 220.6999,-95.691\"/>\n<text text-anchor=\"middle\" x=\"209.1938\" y=\"-108.5958\" font-family=\"Times,serif\" font-size=\"14.00\" fill=\"#000000\">b </text>\n</g>\n<!-- St0 -->\n<g id=\"node4\" class=\"node\">\n<title>St0</title>\n<ellipse fill=\"none\" stroke=\"#000000\" cx=\"307.9896\" cy=\"-40.3979\" rx=\"23.3111\" ry=\"23.3111\"/>\n<ellipse fill=\"none\" stroke=\"#000000\" cx=\"307.9896\" cy=\"-40.3979\" rx=\"27.2962\" ry=\"27.2962\"/>\n<text text-anchor=\"middle\" x=\"307.9896\" y=\"-36.6979\" font-family=\"Times,serif\" font-size=\"14.00\" fill=\"#000000\">St0</text>\n</g>\n<!-- St2&#45;&gt;St0 -->\n<g id=\"edge5\" class=\"edge\">\n<title>St2&#45;&gt;St0</title>\n<path fill=\"none\" stroke=\"#000000\" d=\"M232.5156,-61.4077C241.9366,-60.3278 252.8615,-58.7234 262.5917,-56.3979 265.9444,-55.5966 269.3954,-54.6381 272.8259,-53.5939\"/>\n<polygon fill=\"#000000\" stroke=\"#000000\" points=\"273.9236,-56.9174 282.341,-50.4834 271.7485,-50.2639 273.9236,-56.9174\"/>\n<text text-anchor=\"middle\" x=\"256.5917\" y=\"-62.1979\" font-family=\"Times,serif\" font-size=\"14.00\" fill=\"#000000\">a </text>\n</g>\n<!-- St1&#45;&gt;St2 -->\n<g id=\"edge2\" class=\"edge\">\n<title>St1&#45;&gt;St2</title>\n<path fill=\"none\" stroke=\"#000000\" d=\"M136.3843,-32.6753C148.7077,-37.8752 164.2849,-44.4482 177.8657,-50.1787\"/>\n<polygon fill=\"#000000\" stroke=\"#000000\" points=\"176.7526,-53.5078 187.3267,-54.1709 179.474,-47.0585 176.7526,-53.5078\"/>\n<text text-anchor=\"middle\" x=\"161.7958\" y=\"-49.1979\" font-family=\"Times,serif\" font-size=\"14.00\" fill=\"#000000\">b </text>\n</g>\n<!-- St1&#45;&gt;St0 -->\n<g id=\"edge3\" class=\"edge\">\n<title>St1&#45;&gt;St0</title>\n<path fill=\"none\" stroke=\"#000000\" d=\"M137.6368,-19.1231C161.5719,-15.3968 199.8891,-11.3187 232.5917,-16.3979 245.9804,-18.4774 260.2446,-22.5172 272.7221,-26.698\"/>\n<polygon fill=\"#000000\" stroke=\"#000000\" points=\"271.7001,-30.0484 282.295,-30.0464 274.0114,-23.4409 271.7001,-30.0484\"/>\n<text text-anchor=\"middle\" x=\"209.1938\" y=\"-20.1979\" font-family=\"Times,serif\" font-size=\"14.00\" fill=\"#000000\">a </text>\n</g>\n<!-- St0&#45;&gt;St2 -->\n<g id=\"edge6\" class=\"edge\">\n<title>St0&#45;&gt;St2</title>\n<path fill=\"none\" stroke=\"#000000\" d=\"M280.9958,-35.363C271.2535,-34.4876 260.2764,-34.6089 250.5917,-37.3979 245.8462,-38.7646 241.1191,-40.8532 236.6474,-43.265\"/>\n<polygon fill=\"#000000\" stroke=\"#000000\" points=\"234.6566,-40.3783 227.903,-48.5416 238.2732,-46.3717 234.6566,-40.3783\"/>\n<text text-anchor=\"middle\" x=\"256.5917\" y=\"-41.1979\" font-family=\"Times,serif\" font-size=\"14.00\" fill=\"#000000\">b </text>\n</g>\n<!-- St0&#45;&gt;St0 -->\n<g id=\"edge7\" class=\"edge\">\n<title>St0&#45;&gt;St0</title>\n<path fill=\"none\" stroke=\"#000000\" d=\"M298.6718,-66.523C298.1454,-77.0011 301.2513,-85.7958 307.9896,-85.7958 312.3063,-85.7958 315.1323,-82.1865 316.4676,-76.8374\"/>\n<polygon fill=\"#000000\" stroke=\"#000000\" points=\"319.9842,-76.7741 317.3074,-66.523 313.0073,-76.206 319.9842,-76.7741\"/>\n<text text-anchor=\"middle\" x=\"307.9896\" y=\"-89.5958\" font-family=\"Times,serif\" font-size=\"14.00\" fill=\"#000000\">a </text>\n</g>\n</g>\n</svg>\n"
          },
          "metadata": {},
          "execution_count": 29
        }
      ]
    },
    {
      "cell_type": "code",
      "metadata": {
        "colab": {
          "base_uri": "https://localhost:8080/",
          "height": 191
        },
        "id": "Gy7Lgt8cdCIU",
        "outputId": "a67d1f1c-3425-4e95-dd15-c92c238e19fd"
      },
      "source": [
        "dotObj_dfa_w_bh(dfa, STATENAME_MAXSIZE = 40)"
      ],
      "execution_count": 30,
      "outputs": [
        {
          "output_type": "execute_result",
          "data": {
            "text/plain": [
              "<graphviz.dot.Digraph at 0x7f1c41ba3e50>"
            ],
            "image/svg+xml": "<?xml version=\"1.0\" encoding=\"UTF-8\" standalone=\"no\"?>\n<!DOCTYPE svg PUBLIC \"-//W3C//DTD SVG 1.1//EN\"\n \"http://www.w3.org/Graphics/SVG/1.1/DTD/svg11.dtd\">\n<!-- Generated by graphviz version 2.40.1 (20161225.0304)\n -->\n<!-- Title: %3 Pages: 1 -->\n<svg width=\"343pt\" height=\"128pt\"\n viewBox=\"0.00 0.00 343.39 127.80\" xmlns=\"http://www.w3.org/2000/svg\" xmlns:xlink=\"http://www.w3.org/1999/xlink\">\n<g id=\"graph0\" class=\"graph\" transform=\"scale(1 1) rotate(0) translate(4 123.7958)\">\n<title>%3</title>\n<polygon fill=\"#ffffff\" stroke=\"transparent\" points=\"-4,4 -4,-123.7958 339.3875,-123.7958 339.3875,4 -4,4\"/>\n<!-- EMPTY -->\n<g id=\"node1\" class=\"node\">\n<title>EMPTY</title>\n</g>\n<!-- St1 -->\n<g id=\"node3\" class=\"node\">\n<title>St1</title>\n<ellipse fill=\"none\" stroke=\"#000000\" cx=\"114.3979\" cy=\"-23.3979\" rx=\"23.2963\" ry=\"23.2963\"/>\n<text text-anchor=\"middle\" x=\"114.3979\" y=\"-19.6979\" font-family=\"Times,serif\" font-size=\"14.00\" fill=\"#000000\">St1</text>\n</g>\n<!-- EMPTY&#45;&gt;St1 -->\n<g id=\"edge1\" class=\"edge\">\n<title>EMPTY&#45;&gt;St1</title>\n<path fill=\"none\" stroke=\"#000000\" d=\"M54.1742,-23.3979C62.5103,-23.3979 71.7873,-23.3979 80.5137,-23.3979\"/>\n<polygon fill=\"#000000\" stroke=\"#000000\" points=\"80.7846,-26.898 90.7846,-23.3979 80.7845,-19.898 80.7846,-26.898\"/>\n</g>\n<!-- St2 -->\n<g id=\"node2\" class=\"node\">\n<title>St2</title>\n<ellipse fill=\"none\" stroke=\"#000000\" cx=\"209.1938\" cy=\"-63.3979\" rx=\"23.2963\" ry=\"23.2963\"/>\n<text text-anchor=\"middle\" x=\"209.1938\" y=\"-59.6979\" font-family=\"Times,serif\" font-size=\"14.00\" fill=\"#000000\">St2</text>\n</g>\n<!-- St2&#45;&gt;St2 -->\n<g id=\"edge4\" class=\"edge\">\n<title>St2&#45;&gt;St2</title>\n<path fill=\"none\" stroke=\"#000000\" d=\"M200.7393,-85.5452C199.817,-95.8192 202.6352,-104.7958 209.1938,-104.7958 213.3954,-104.7958 216.0619,-101.1118 217.1933,-95.7628\"/>\n<polygon fill=\"#000000\" stroke=\"#000000\" points=\"220.6999,-95.691 217.6482,-85.5452 213.7068,-95.3796 220.6999,-95.691\"/>\n<text text-anchor=\"middle\" x=\"209.1938\" y=\"-108.5958\" font-family=\"Times,serif\" font-size=\"14.00\" fill=\"#000000\">b </text>\n</g>\n<!-- St0 -->\n<g id=\"node4\" class=\"node\">\n<title>St0</title>\n<ellipse fill=\"none\" stroke=\"#000000\" cx=\"307.9896\" cy=\"-40.3979\" rx=\"23.3111\" ry=\"23.3111\"/>\n<ellipse fill=\"none\" stroke=\"#000000\" cx=\"307.9896\" cy=\"-40.3979\" rx=\"27.2962\" ry=\"27.2962\"/>\n<text text-anchor=\"middle\" x=\"307.9896\" y=\"-36.6979\" font-family=\"Times,serif\" font-size=\"14.00\" fill=\"#000000\">St0</text>\n</g>\n<!-- St2&#45;&gt;St0 -->\n<g id=\"edge5\" class=\"edge\">\n<title>St2&#45;&gt;St0</title>\n<path fill=\"none\" stroke=\"#000000\" d=\"M232.5156,-61.4077C241.9366,-60.3278 252.8615,-58.7234 262.5917,-56.3979 265.9444,-55.5966 269.3954,-54.6381 272.8259,-53.5939\"/>\n<polygon fill=\"#000000\" stroke=\"#000000\" points=\"273.9236,-56.9174 282.341,-50.4834 271.7485,-50.2639 273.9236,-56.9174\"/>\n<text text-anchor=\"middle\" x=\"256.5917\" y=\"-62.1979\" font-family=\"Times,serif\" font-size=\"14.00\" fill=\"#000000\">a </text>\n</g>\n<!-- St1&#45;&gt;St2 -->\n<g id=\"edge2\" class=\"edge\">\n<title>St1&#45;&gt;St2</title>\n<path fill=\"none\" stroke=\"#000000\" d=\"M136.3843,-32.6753C148.7077,-37.8752 164.2849,-44.4482 177.8657,-50.1787\"/>\n<polygon fill=\"#000000\" stroke=\"#000000\" points=\"176.7526,-53.5078 187.3267,-54.1709 179.474,-47.0585 176.7526,-53.5078\"/>\n<text text-anchor=\"middle\" x=\"161.7958\" y=\"-49.1979\" font-family=\"Times,serif\" font-size=\"14.00\" fill=\"#000000\">b </text>\n</g>\n<!-- St1&#45;&gt;St0 -->\n<g id=\"edge3\" class=\"edge\">\n<title>St1&#45;&gt;St0</title>\n<path fill=\"none\" stroke=\"#000000\" d=\"M137.6368,-19.1231C161.5719,-15.3968 199.8891,-11.3187 232.5917,-16.3979 245.9804,-18.4774 260.2446,-22.5172 272.7221,-26.698\"/>\n<polygon fill=\"#000000\" stroke=\"#000000\" points=\"271.7001,-30.0484 282.295,-30.0464 274.0114,-23.4409 271.7001,-30.0484\"/>\n<text text-anchor=\"middle\" x=\"209.1938\" y=\"-20.1979\" font-family=\"Times,serif\" font-size=\"14.00\" fill=\"#000000\">a </text>\n</g>\n<!-- St0&#45;&gt;St2 -->\n<g id=\"edge6\" class=\"edge\">\n<title>St0&#45;&gt;St2</title>\n<path fill=\"none\" stroke=\"#000000\" d=\"M280.9958,-35.363C271.2535,-34.4876 260.2764,-34.6089 250.5917,-37.3979 245.8462,-38.7646 241.1191,-40.8532 236.6474,-43.265\"/>\n<polygon fill=\"#000000\" stroke=\"#000000\" points=\"234.6566,-40.3783 227.903,-48.5416 238.2732,-46.3717 234.6566,-40.3783\"/>\n<text text-anchor=\"middle\" x=\"256.5917\" y=\"-41.1979\" font-family=\"Times,serif\" font-size=\"14.00\" fill=\"#000000\">b </text>\n</g>\n<!-- St0&#45;&gt;St0 -->\n<g id=\"edge7\" class=\"edge\">\n<title>St0&#45;&gt;St0</title>\n<path fill=\"none\" stroke=\"#000000\" d=\"M298.6718,-66.523C298.1454,-77.0011 301.2513,-85.7958 307.9896,-85.7958 312.3063,-85.7958 315.1323,-82.1865 316.4676,-76.8374\"/>\n<polygon fill=\"#000000\" stroke=\"#000000\" points=\"319.9842,-76.7741 317.3074,-66.523 313.0073,-76.206 319.9842,-76.7741\"/>\n<text text-anchor=\"middle\" x=\"307.9896\" y=\"-89.5958\" font-family=\"Times,serif\" font-size=\"14.00\" fill=\"#000000\">a </text>\n</g>\n</g>\n</svg>\n"
          },
          "metadata": {},
          "execution_count": 30
        }
      ]
    },
    {
      "cell_type": "code",
      "metadata": {
        "colab": {
          "base_uri": "https://localhost:8080/",
          "height": 191
        },
        "id": "MfctI9lXdCIV",
        "outputId": "2193fed1-c446-4199-f350-d3d8a8fe250c"
      },
      "source": [
        "dotObj_dfa(dfa, STATENAME_MAXSIZE = 10)"
      ],
      "execution_count": 31,
      "outputs": [
        {
          "output_type": "execute_result",
          "data": {
            "text/plain": [
              "<graphviz.dot.Digraph at 0x7f1c419d16d0>"
            ],
            "image/svg+xml": "<?xml version=\"1.0\" encoding=\"UTF-8\" standalone=\"no\"?>\n<!DOCTYPE svg PUBLIC \"-//W3C//DTD SVG 1.1//EN\"\n \"http://www.w3.org/Graphics/SVG/1.1/DTD/svg11.dtd\">\n<!-- Generated by graphviz version 2.40.1 (20161225.0304)\n -->\n<!-- Title: %3 Pages: 1 -->\n<svg width=\"343pt\" height=\"128pt\"\n viewBox=\"0.00 0.00 343.39 127.80\" xmlns=\"http://www.w3.org/2000/svg\" xmlns:xlink=\"http://www.w3.org/1999/xlink\">\n<g id=\"graph0\" class=\"graph\" transform=\"scale(1 1) rotate(0) translate(4 123.7958)\">\n<title>%3</title>\n<polygon fill=\"#ffffff\" stroke=\"transparent\" points=\"-4,4 -4,-123.7958 339.3875,-123.7958 339.3875,4 -4,4\"/>\n<!-- EMPTY -->\n<g id=\"node1\" class=\"node\">\n<title>EMPTY</title>\n</g>\n<!-- St1 -->\n<g id=\"node3\" class=\"node\">\n<title>St1</title>\n<ellipse fill=\"none\" stroke=\"#000000\" cx=\"114.3979\" cy=\"-23.3979\" rx=\"23.2963\" ry=\"23.2963\"/>\n<text text-anchor=\"middle\" x=\"114.3979\" y=\"-19.6979\" font-family=\"Times,serif\" font-size=\"14.00\" fill=\"#000000\">St1</text>\n</g>\n<!-- EMPTY&#45;&gt;St1 -->\n<g id=\"edge1\" class=\"edge\">\n<title>EMPTY&#45;&gt;St1</title>\n<path fill=\"none\" stroke=\"#000000\" d=\"M54.1742,-23.3979C62.5103,-23.3979 71.7873,-23.3979 80.5137,-23.3979\"/>\n<polygon fill=\"#000000\" stroke=\"#000000\" points=\"80.7846,-26.898 90.7846,-23.3979 80.7845,-19.898 80.7846,-26.898\"/>\n</g>\n<!-- St2 -->\n<g id=\"node2\" class=\"node\">\n<title>St2</title>\n<ellipse fill=\"none\" stroke=\"#000000\" cx=\"209.1938\" cy=\"-63.3979\" rx=\"23.2963\" ry=\"23.2963\"/>\n<text text-anchor=\"middle\" x=\"209.1938\" y=\"-59.6979\" font-family=\"Times,serif\" font-size=\"14.00\" fill=\"#000000\">St2</text>\n</g>\n<!-- St2&#45;&gt;St2 -->\n<g id=\"edge4\" class=\"edge\">\n<title>St2&#45;&gt;St2</title>\n<path fill=\"none\" stroke=\"#000000\" d=\"M200.7393,-85.5452C199.817,-95.8192 202.6352,-104.7958 209.1938,-104.7958 213.3954,-104.7958 216.0619,-101.1118 217.1933,-95.7628\"/>\n<polygon fill=\"#000000\" stroke=\"#000000\" points=\"220.6999,-95.691 217.6482,-85.5452 213.7068,-95.3796 220.6999,-95.691\"/>\n<text text-anchor=\"middle\" x=\"209.1938\" y=\"-108.5958\" font-family=\"Times,serif\" font-size=\"14.00\" fill=\"#000000\">b </text>\n</g>\n<!-- St0 -->\n<g id=\"node4\" class=\"node\">\n<title>St0</title>\n<ellipse fill=\"none\" stroke=\"#000000\" cx=\"307.9896\" cy=\"-40.3979\" rx=\"23.3111\" ry=\"23.3111\"/>\n<ellipse fill=\"none\" stroke=\"#000000\" cx=\"307.9896\" cy=\"-40.3979\" rx=\"27.2962\" ry=\"27.2962\"/>\n<text text-anchor=\"middle\" x=\"307.9896\" y=\"-36.6979\" font-family=\"Times,serif\" font-size=\"14.00\" fill=\"#000000\">St0</text>\n</g>\n<!-- St2&#45;&gt;St0 -->\n<g id=\"edge5\" class=\"edge\">\n<title>St2&#45;&gt;St0</title>\n<path fill=\"none\" stroke=\"#000000\" d=\"M232.5156,-61.4077C241.9366,-60.3278 252.8615,-58.7234 262.5917,-56.3979 265.9444,-55.5966 269.3954,-54.6381 272.8259,-53.5939\"/>\n<polygon fill=\"#000000\" stroke=\"#000000\" points=\"273.9236,-56.9174 282.341,-50.4834 271.7485,-50.2639 273.9236,-56.9174\"/>\n<text text-anchor=\"middle\" x=\"256.5917\" y=\"-62.1979\" font-family=\"Times,serif\" font-size=\"14.00\" fill=\"#000000\">a </text>\n</g>\n<!-- St1&#45;&gt;St2 -->\n<g id=\"edge2\" class=\"edge\">\n<title>St1&#45;&gt;St2</title>\n<path fill=\"none\" stroke=\"#000000\" d=\"M136.3843,-32.6753C148.7077,-37.8752 164.2849,-44.4482 177.8657,-50.1787\"/>\n<polygon fill=\"#000000\" stroke=\"#000000\" points=\"176.7526,-53.5078 187.3267,-54.1709 179.474,-47.0585 176.7526,-53.5078\"/>\n<text text-anchor=\"middle\" x=\"161.7958\" y=\"-49.1979\" font-family=\"Times,serif\" font-size=\"14.00\" fill=\"#000000\">b </text>\n</g>\n<!-- St1&#45;&gt;St0 -->\n<g id=\"edge3\" class=\"edge\">\n<title>St1&#45;&gt;St0</title>\n<path fill=\"none\" stroke=\"#000000\" d=\"M137.6368,-19.1231C161.5719,-15.3968 199.8891,-11.3187 232.5917,-16.3979 245.9804,-18.4774 260.2446,-22.5172 272.7221,-26.698\"/>\n<polygon fill=\"#000000\" stroke=\"#000000\" points=\"271.7001,-30.0484 282.295,-30.0464 274.0114,-23.4409 271.7001,-30.0484\"/>\n<text text-anchor=\"middle\" x=\"209.1938\" y=\"-20.1979\" font-family=\"Times,serif\" font-size=\"14.00\" fill=\"#000000\">a </text>\n</g>\n<!-- St0&#45;&gt;St2 -->\n<g id=\"edge6\" class=\"edge\">\n<title>St0&#45;&gt;St2</title>\n<path fill=\"none\" stroke=\"#000000\" d=\"M280.9958,-35.363C271.2535,-34.4876 260.2764,-34.6089 250.5917,-37.3979 245.8462,-38.7646 241.1191,-40.8532 236.6474,-43.265\"/>\n<polygon fill=\"#000000\" stroke=\"#000000\" points=\"234.6566,-40.3783 227.903,-48.5416 238.2732,-46.3717 234.6566,-40.3783\"/>\n<text text-anchor=\"middle\" x=\"256.5917\" y=\"-41.1979\" font-family=\"Times,serif\" font-size=\"14.00\" fill=\"#000000\">b </text>\n</g>\n<!-- St0&#45;&gt;St0 -->\n<g id=\"edge7\" class=\"edge\">\n<title>St0&#45;&gt;St0</title>\n<path fill=\"none\" stroke=\"#000000\" d=\"M298.6718,-66.523C298.1454,-77.0011 301.2513,-85.7958 307.9896,-85.7958 312.3063,-85.7958 315.1323,-82.1865 316.4676,-76.8374\"/>\n<polygon fill=\"#000000\" stroke=\"#000000\" points=\"319.9842,-76.7741 317.3074,-66.523 313.0073,-76.206 319.9842,-76.7741\"/>\n<text text-anchor=\"middle\" x=\"307.9896\" y=\"-89.5958\" font-family=\"Times,serif\" font-size=\"14.00\" fill=\"#000000\">a </text>\n</g>\n</g>\n</svg>\n"
          },
          "metadata": {},
          "execution_count": 31
        }
      ]
    }
  ]
}