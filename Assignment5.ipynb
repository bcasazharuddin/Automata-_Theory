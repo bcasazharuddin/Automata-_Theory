{
  "nbformat": 4,
  "nbformat_minor": 0,
  "metadata": {
    "colab": {
      "name": "AssginmentFA.ipynb",
      "provenance": [],
      "authorship_tag": "ABX9TyPy6LSC/j1cWhYqeE9rEyXI",
      "include_colab_link": true
    },
    "kernelspec": {
      "name": "python3",
      "display_name": "Python 3"
    },
    "language_info": {
      "name": "python"
    }
  },
  "cells": [
    {
      "cell_type": "markdown",
      "metadata": {
        "id": "view-in-github",
        "colab_type": "text"
      },
      "source": [
        "<a href=\"https://colab.research.google.com/github/bcasazharuddin/Automata-_Theory/blob/main/Assginment5.ipynb\" target=\"_parent\"><img src=\"https://colab.research.google.com/assets/colab-badge.svg\" alt=\"Open In Colab\"/></a>"
      ]
    },
    {
      "cell_type": "markdown",
      "metadata": {
        "id": "NEnECz9cB7ya"
      },
      "source": [
        "## **Assignment : Concept of FA to RE**"
      ]
    },
    {
      "cell_type": "code",
      "metadata": {
        "run_control": {
          "frozen": false,
          "read_only": false
        },
        "colab": {
          "base_uri": "https://localhost:8080/"
        },
        "id": "cP_5e1VeTro8",
        "outputId": "7cb24212-aa19-4295-cf75-d45bc6558e97"
      },
      "source": [
        "#~~~~~~~~~~~~~~~~~~~~~~~~~~~~~~~~~~~~~~~~~~~~~~~~~~~~~~~\n",
        "import sys\n",
        "\n",
        "# -- Detect if in Own Install or in Colab\n",
        "try:\n",
        "    import google.colab\n",
        "    OWN_INSTALL = False\n",
        "except:\n",
        "    OWN_INSTALL = True\n",
        "    \n",
        "if OWN_INSTALL:\n",
        "    \n",
        "  #---- Leave these definitions ON if running on laptop\n",
        "  #---- Else turn OFF by putting them between ''' ... '''\n",
        "\n",
        "  sys.path[0:0] = ['../../../../..',  '../../../../../3rdparty',  \n",
        "                   '../../../..',  '../../../../3rdparty',  \n",
        "                   '../../..',     '../../../3rdparty', \n",
        "                   '../..',        '../../3rdparty',\n",
        "                   '..',           '../3rdparty' ]\n",
        "\n",
        "else: # In colab\n",
        "  ! if [ ! -d Jove ]; then git clone https://github.com/ganeshutah/Jove Jove; fi\n",
        "  sys.path.append('./Jove')\n",
        "  sys.path.append('./Jove/jove')\n",
        "\n",
        "# -- common imports --\n",
        "from jove.DotBashers import *\n",
        "from jove.Def_DFA import *\n",
        "from jove.Def_NFA import *\n",
        "from jove.Def_RE2NFA import *\n",
        "from jove.Def_NFA2RE import *\n",
        "from jove.Def_md2mc import *\n",
        "#~~~~~~~~~~~~~~~~~~~~~~~~~~~~~~~~~~~~~~~~~~~~~~~~~~~~~~~"
      ],
      "execution_count": null,
      "outputs": [
        {
          "output_type": "stream",
          "name": "stdout",
          "text": [
            "Cloning into 'Jove'...\n",
            "remote: Enumerating objects: 4833, done.\u001b[K\n",
            "remote: Counting objects: 100% (199/199), done.\u001b[K\n",
            "remote: Compressing objects: 100% (140/140), done.\u001b[K\n",
            "remote: Total 4833 (delta 116), reused 131 (delta 54), pack-reused 4634\u001b[K\n",
            "Receiving objects: 100% (4833/4833), 7.54 MiB | 14.12 MiB/s, done.\n",
            "Resolving deltas: 100% (3121/3121), done.\n",
            "You may use any of these help commands:\n",
            "help(ResetStNum)\n",
            "help(NxtStateStr)\n",
            "\n",
            "You may use any of these help commands:\n",
            "help(mkp_dfa)\n",
            "help(mk_dfa)\n",
            "help(totalize_dfa)\n",
            "help(addtosigma_delta)\n",
            "help(step_dfa)\n",
            "help(run_dfa)\n",
            "help(accepts_dfa)\n",
            "help(comp_dfa)\n",
            "help(union_dfa)\n",
            "help(intersect_dfa)\n",
            "help(pruneUnreach)\n",
            "help(iso_dfa)\n",
            "help(langeq_dfa)\n",
            "help(same_status)\n",
            "help(h_langeq_dfa)\n",
            "help(fixptDist)\n",
            "help(min_dfa)\n",
            "help(pairFR)\n",
            "help(state_combos)\n",
            "help(sepFinNonFin)\n",
            "help(bash_eql_classes)\n",
            "help(listminus)\n",
            "help(bash_1)\n",
            "help(mk_rep_eqc)\n",
            "help(F_of)\n",
            "help(rep_of_s)\n",
            "help(q0_of)\n",
            "help(Delta_of)\n",
            "help(mk_state_eqc_name)\n",
            "\n",
            "You may use any of these help commands:\n",
            "help(mk_nfa)\n",
            "help(totalize_nfa)\n",
            "help(step_nfa)\n",
            "help(run_nfa)\n",
            "help(ec_step_nfa)\n",
            "help(Eclosure)\n",
            "help(Echelp)\n",
            "help(accepts_nfa)\n",
            "help(nfa2dfa)\n",
            "help(n2d)\n",
            "help(inSets)\n",
            "help(rev_dfa)\n",
            "help(min_dfa_brz)\n",
            "\n",
            "You may use any of these help commands:\n",
            "help(re2nfa)\n",
            "\n",
            "You may use any of these help commands:\n",
            "help(RE2Str)\n",
            "help(mk_gnfa)\n",
            "help(mk_gnfa_from_D)\n",
            "help(dfa2nfa)\n",
            "help(del_gnfa_states)\n",
            "help(gnfa_w_REStr)\n",
            "help(del_one_gnfa_state)\n",
            "help(Edges_Exist_Via)\n",
            "help(choose_state_to_del)\n",
            "help(form_alt_RE)\n",
            "help(form_concat_RE)\n",
            "help(form_kleene_RE)\n",
            "\n",
            "You may use any of these help commands:\n",
            "help(md2mc)\n",
            ".. and if you want to dig more, then ..\n",
            "help(default_line_attr)\n",
            "help(length_ok_input_items)\n",
            "help(union_line_attr_list_fld)\n",
            "help(extend_rsltdict)\n",
            "help(form_delta)\n",
            "help(get_machine_components)\n",
            "\n"
          ]
        }
      ]
    },
    {
      "cell_type": "markdown",
      "metadata": {
        "id": "Zj8-nLMy9m1k"
      },
      "source": [
        "**Example 1**"
      ]
    },
    {
      "cell_type": "code",
      "metadata": {
        "colab": {
          "base_uri": "https://localhost:8080/",
          "height": 143
        },
        "id": "t8DvkXji9vbQ",
        "outputId": "e78c7ef9-90c0-429e-a1d6-a8972d5681a1"
      },
      "source": [
        "REG1 = \"ab*c\"\n",
        "MINFA1 = min_dfa(nfa2dfa(re2nfa(REG1)))\n",
        "dotObj_dfa(MINFA1)\n"
      ],
      "execution_count": null,
      "outputs": [
        {
          "output_type": "execute_result",
          "data": {
            "text/plain": [
              "<graphviz.dot.Digraph at 0x7f46f7fe13d0>"
            ],
            "image/svg+xml": "<?xml version=\"1.0\" encoding=\"UTF-8\" standalone=\"no\"?>\n<!DOCTYPE svg PUBLIC \"-//W3C//DTD SVG 1.1//EN\"\n \"http://www.w3.org/Graphics/SVG/1.1/DTD/svg11.dtd\">\n<!-- Generated by graphviz version 2.40.1 (20161225.0304)\n -->\n<!-- Title: %3 Pages: 1 -->\n<svg width=\"339pt\" height=\"92pt\"\n viewBox=\"0.00 0.00 339.39 91.80\" xmlns=\"http://www.w3.org/2000/svg\" xmlns:xlink=\"http://www.w3.org/1999/xlink\">\n<g id=\"graph0\" class=\"graph\" transform=\"scale(1 1) rotate(0) translate(4 87.7958)\">\n<title>%3</title>\n<polygon fill=\"#ffffff\" stroke=\"transparent\" points=\"-4,4 -4,-87.7958 335.3875,-87.7958 335.3875,4 -4,4\"/>\n<!-- EMPTY -->\n<g id=\"node1\" class=\"node\">\n<title>EMPTY</title>\n</g>\n<!-- St1 -->\n<g id=\"node3\" class=\"node\">\n<title>St1</title>\n<ellipse fill=\"none\" stroke=\"#000000\" cx=\"114.3979\" cy=\"-27.3979\" rx=\"23.2963\" ry=\"23.2963\"/>\n<text text-anchor=\"middle\" x=\"114.3979\" y=\"-23.6979\" font-family=\"Times,serif\" font-size=\"14.00\" fill=\"#000000\">St1</text>\n</g>\n<!-- EMPTY&#45;&gt;St1 -->\n<g id=\"edge1\" class=\"edge\">\n<title>EMPTY&#45;&gt;St1</title>\n<path fill=\"none\" stroke=\"#000000\" d=\"M54.1742,-27.3979C62.5103,-27.3979 71.7873,-27.3979 80.5137,-27.3979\"/>\n<polygon fill=\"#000000\" stroke=\"#000000\" points=\"80.7846,-30.898 90.7846,-27.3979 80.7845,-23.898 80.7846,-30.898\"/>\n</g>\n<!-- St2 -->\n<g id=\"node2\" class=\"node\">\n<title>St2</title>\n<ellipse fill=\"none\" stroke=\"#000000\" cx=\"207.1938\" cy=\"-27.3979\" rx=\"23.2963\" ry=\"23.2963\"/>\n<text text-anchor=\"middle\" x=\"207.1938\" y=\"-23.6979\" font-family=\"Times,serif\" font-size=\"14.00\" fill=\"#000000\">St2</text>\n</g>\n<!-- St2&#45;&gt;St2 -->\n<g id=\"edge4\" class=\"edge\">\n<title>St2&#45;&gt;St2</title>\n<path fill=\"none\" stroke=\"#000000\" d=\"M198.7393,-49.5452C197.817,-59.8192 200.6352,-68.7958 207.1938,-68.7958 211.3954,-68.7958 214.0619,-65.1118 215.1933,-59.7628\"/>\n<polygon fill=\"#000000\" stroke=\"#000000\" points=\"218.6999,-59.691 215.6482,-49.5452 211.7068,-59.3796 218.6999,-59.691\"/>\n<text text-anchor=\"middle\" x=\"207.1938\" y=\"-72.5958\" font-family=\"Times,serif\" font-size=\"14.00\" fill=\"#000000\">b </text>\n</g>\n<!-- St4 -->\n<g id=\"node4\" class=\"node\">\n<title>St4</title>\n<ellipse fill=\"none\" stroke=\"#000000\" cx=\"303.9896\" cy=\"-27.3979\" rx=\"23.3111\" ry=\"23.3111\"/>\n<ellipse fill=\"none\" stroke=\"#000000\" cx=\"303.9896\" cy=\"-27.3979\" rx=\"27.2962\" ry=\"27.2962\"/>\n<text text-anchor=\"middle\" x=\"303.9896\" y=\"-23.6979\" font-family=\"Times,serif\" font-size=\"14.00\" fill=\"#000000\">St4</text>\n</g>\n<!-- St2&#45;&gt;St4 -->\n<g id=\"edge3\" class=\"edge\">\n<title>St2&#45;&gt;St4</title>\n<path fill=\"none\" stroke=\"#000000\" d=\"M230.6253,-27.3979C241.2709,-27.3979 254.1358,-27.3979 266.1003,-27.3979\"/>\n<polygon fill=\"#000000\" stroke=\"#000000\" points=\"266.3045,-30.898 276.3045,-27.3979 266.3044,-23.898 266.3045,-30.898\"/>\n<text text-anchor=\"middle\" x=\"253.5917\" y=\"-31.1979\" font-family=\"Times,serif\" font-size=\"14.00\" fill=\"#000000\">c </text>\n</g>\n<!-- St1&#45;&gt;St2 -->\n<g id=\"edge2\" class=\"edge\">\n<title>St1&#45;&gt;St2</title>\n<path fill=\"none\" stroke=\"#000000\" d=\"M137.8142,-27.3979C148.6943,-27.3979 161.83,-27.3979 173.7315,-27.3979\"/>\n<polygon fill=\"#000000\" stroke=\"#000000\" points=\"173.785,-30.898 183.785,-27.3979 173.7849,-23.898 173.785,-30.898\"/>\n<text text-anchor=\"middle\" x=\"160.7958\" y=\"-31.1979\" font-family=\"Times,serif\" font-size=\"14.00\" fill=\"#000000\">a </text>\n</g>\n</g>\n</svg>\n"
          },
          "metadata": {},
          "execution_count": 11
        }
      ]
    },
    {
      "cell_type": "markdown",
      "metadata": {
        "id": "EsFZGhFA_hi5"
      },
      "source": [
        "**Example 2**"
      ]
    },
    {
      "cell_type": "code",
      "metadata": {
        "colab": {
          "base_uri": "https://localhost:8080/",
          "height": 105
        },
        "id": "hJBBs-N8_5Gz",
        "outputId": "1b545e34-90cb-4b0d-ebe6-fd34c72cc1de"
      },
      "source": [
        "REG2 = \"a(ba)*c\"\n",
        "MINFA2 = min_dfa(nfa2dfa(re2nfa(REG2)))\n",
        "dotObj_dfa(MINFA2)\n"
      ],
      "execution_count": null,
      "outputs": [
        {
          "output_type": "execute_result",
          "data": {
            "text/plain": [
              "<graphviz.dot.Digraph at 0x7f46f7fd79d0>"
            ],
            "image/svg+xml": "<?xml version=\"1.0\" encoding=\"UTF-8\" standalone=\"no\"?>\n<!DOCTYPE svg PUBLIC \"-//W3C//DTD SVG 1.1//EN\"\n \"http://www.w3.org/Graphics/SVG/1.1/DTD/svg11.dtd\">\n<!-- Generated by graphviz version 2.40.1 (20161225.0304)\n -->\n<!-- Title: %3 Pages: 1 -->\n<svg width=\"341pt\" height=\"63pt\"\n viewBox=\"0.00 0.00 341.39 62.80\" xmlns=\"http://www.w3.org/2000/svg\" xmlns:xlink=\"http://www.w3.org/1999/xlink\">\n<g id=\"graph0\" class=\"graph\" transform=\"scale(1 1) rotate(0) translate(4 58.7958)\">\n<title>%3</title>\n<polygon fill=\"#ffffff\" stroke=\"transparent\" points=\"-4,4 -4,-58.7958 337.3875,-58.7958 337.3875,4 -4,4\"/>\n<!-- EMPTY -->\n<g id=\"node1\" class=\"node\">\n<title>EMPTY</title>\n</g>\n<!-- St4 -->\n<g id=\"node3\" class=\"node\">\n<title>St4</title>\n<ellipse fill=\"none\" stroke=\"#000000\" cx=\"114.3979\" cy=\"-27.3979\" rx=\"23.2963\" ry=\"23.2963\"/>\n<text text-anchor=\"middle\" x=\"114.3979\" y=\"-23.6979\" font-family=\"Times,serif\" font-size=\"14.00\" fill=\"#000000\">St4</text>\n</g>\n<!-- EMPTY&#45;&gt;St4 -->\n<g id=\"edge1\" class=\"edge\">\n<title>EMPTY&#45;&gt;St4</title>\n<path fill=\"none\" stroke=\"#000000\" d=\"M54.1742,-27.3979C62.5103,-27.3979 71.7873,-27.3979 80.5137,-27.3979\"/>\n<polygon fill=\"#000000\" stroke=\"#000000\" points=\"80.7846,-30.898 90.7846,-27.3979 80.7845,-23.898 80.7846,-30.898\"/>\n</g>\n<!-- St2 -->\n<g id=\"node2\" class=\"node\">\n<title>St2</title>\n<ellipse fill=\"none\" stroke=\"#000000\" cx=\"209.1938\" cy=\"-27.3979\" rx=\"23.2963\" ry=\"23.2963\"/>\n<text text-anchor=\"middle\" x=\"209.1938\" y=\"-23.6979\" font-family=\"Times,serif\" font-size=\"14.00\" fill=\"#000000\">St2</text>\n</g>\n<!-- St2&#45;&gt;St4 -->\n<g id=\"edge4\" class=\"edge\">\n<title>St2&#45;&gt;St4</title>\n<path fill=\"none\" stroke=\"#000000\" d=\"M189.2611,-14.626C179.3705,-9.7623 167.1392,-5.9192 155.7958,-8.3979 151.9089,-9.2473 147.9507,-10.4967 144.0995,-11.9561\"/>\n<polygon fill=\"#000000\" stroke=\"#000000\" points=\"142.6693,-8.761 134.8481,-15.908 145.4192,-15.1983 142.6693,-8.761\"/>\n<text text-anchor=\"middle\" x=\"161.7958\" y=\"-12.1979\" font-family=\"Times,serif\" font-size=\"14.00\" fill=\"#000000\">b </text>\n</g>\n<!-- St5 -->\n<g id=\"node4\" class=\"node\">\n<title>St5</title>\n<ellipse fill=\"none\" stroke=\"#000000\" cx=\"305.9896\" cy=\"-27.3979\" rx=\"23.3111\" ry=\"23.3111\"/>\n<ellipse fill=\"none\" stroke=\"#000000\" cx=\"305.9896\" cy=\"-27.3979\" rx=\"27.2962\" ry=\"27.2962\"/>\n<text text-anchor=\"middle\" x=\"305.9896\" y=\"-23.6979\" font-family=\"Times,serif\" font-size=\"14.00\" fill=\"#000000\">St5</text>\n</g>\n<!-- St2&#45;&gt;St5 -->\n<g id=\"edge3\" class=\"edge\">\n<title>St2&#45;&gt;St5</title>\n<path fill=\"none\" stroke=\"#000000\" d=\"M232.6253,-27.3979C243.2709,-27.3979 256.1358,-27.3979 268.1003,-27.3979\"/>\n<polygon fill=\"#000000\" stroke=\"#000000\" points=\"268.3045,-30.898 278.3045,-27.3979 268.3044,-23.898 268.3045,-30.898\"/>\n<text text-anchor=\"middle\" x=\"255.5917\" y=\"-31.1979\" font-family=\"Times,serif\" font-size=\"14.00\" fill=\"#000000\">c </text>\n</g>\n<!-- St4&#45;&gt;St2 -->\n<g id=\"edge2\" class=\"edge\">\n<title>St4&#45;&gt;St2</title>\n<path fill=\"none\" stroke=\"#000000\" d=\"M137.8306,-27.3979C149.2245,-27.3979 163.1257,-27.3979 175.6218,-27.3979\"/>\n<polygon fill=\"#000000\" stroke=\"#000000\" points=\"175.7021,-30.898 185.7021,-27.3979 175.7021,-23.898 175.7021,-30.898\"/>\n<text text-anchor=\"middle\" x=\"161.7958\" y=\"-31.1979\" font-family=\"Times,serif\" font-size=\"14.00\" fill=\"#000000\">a </text>\n</g>\n</g>\n</svg>\n"
          },
          "metadata": {},
          "execution_count": 9
        }
      ]
    },
    {
      "cell_type": "markdown",
      "metadata": {
        "id": "wZqfWOGyBTVD"
      },
      "source": [
        "**Example 3**"
      ]
    },
    {
      "cell_type": "code",
      "metadata": {
        "colab": {
          "base_uri": "https://localhost:8080/",
          "height": 143
        },
        "id": "j21zgG9SBk29",
        "outputId": "5916aa9a-04f3-457f-dcb1-603413c1e37a"
      },
      "source": [
        "REG3 = \"a(b+ca)*d\"\n",
        "MINFA3 = min_dfa(nfa2dfa(re2nfa(REG3)))\n",
        "dotObj_dfa(MINFA3)\n"
      ],
      "execution_count": null,
      "outputs": [
        {
          "output_type": "execute_result",
          "data": {
            "text/plain": [
              "<graphviz.dot.Digraph at 0x7f46f7fc1410>"
            ],
            "image/svg+xml": "<?xml version=\"1.0\" encoding=\"UTF-8\" standalone=\"no\"?>\n<!DOCTYPE svg PUBLIC \"-//W3C//DTD SVG 1.1//EN\"\n \"http://www.w3.org/Graphics/SVG/1.1/DTD/svg11.dtd\">\n<!-- Generated by graphviz version 2.40.1 (20161225.0304)\n -->\n<!-- Title: %3 Pages: 1 -->\n<svg width=\"341pt\" height=\"92pt\"\n viewBox=\"0.00 0.00 341.39 91.80\" xmlns=\"http://www.w3.org/2000/svg\" xmlns:xlink=\"http://www.w3.org/1999/xlink\">\n<g id=\"graph0\" class=\"graph\" transform=\"scale(1 1) rotate(0) translate(4 87.7958)\">\n<title>%3</title>\n<polygon fill=\"#ffffff\" stroke=\"transparent\" points=\"-4,4 -4,-87.7958 337.3875,-87.7958 337.3875,4 -4,4\"/>\n<!-- EMPTY -->\n<g id=\"node1\" class=\"node\">\n<title>EMPTY</title>\n</g>\n<!-- St6 -->\n<g id=\"node2\" class=\"node\">\n<title>St6</title>\n<ellipse fill=\"none\" stroke=\"#000000\" cx=\"114.3979\" cy=\"-27.3979\" rx=\"23.2963\" ry=\"23.2963\"/>\n<text text-anchor=\"middle\" x=\"114.3979\" y=\"-23.6979\" font-family=\"Times,serif\" font-size=\"14.00\" fill=\"#000000\">St6</text>\n</g>\n<!-- EMPTY&#45;&gt;St6 -->\n<g id=\"edge1\" class=\"edge\">\n<title>EMPTY&#45;&gt;St6</title>\n<path fill=\"none\" stroke=\"#000000\" d=\"M54.1742,-27.3979C62.5103,-27.3979 71.7873,-27.3979 80.5137,-27.3979\"/>\n<polygon fill=\"#000000\" stroke=\"#000000\" points=\"80.7846,-30.898 90.7846,-27.3979 80.7845,-23.898 80.7846,-30.898\"/>\n</g>\n<!-- St2 -->\n<g id=\"node3\" class=\"node\">\n<title>St2</title>\n<ellipse fill=\"none\" stroke=\"#000000\" cx=\"207.1938\" cy=\"-27.3979\" rx=\"23.2963\" ry=\"23.2963\"/>\n<text text-anchor=\"middle\" x=\"207.1938\" y=\"-23.6979\" font-family=\"Times,serif\" font-size=\"14.00\" fill=\"#000000\">St2</text>\n</g>\n<!-- St6&#45;&gt;St2 -->\n<g id=\"edge2\" class=\"edge\">\n<title>St6&#45;&gt;St2</title>\n<path fill=\"none\" stroke=\"#000000\" d=\"M137.8142,-27.3979C148.6943,-27.3979 161.83,-27.3979 173.7315,-27.3979\"/>\n<polygon fill=\"#000000\" stroke=\"#000000\" points=\"173.785,-30.898 183.785,-27.3979 173.7849,-23.898 173.785,-30.898\"/>\n<text text-anchor=\"middle\" x=\"160.7958\" y=\"-31.1979\" font-family=\"Times,serif\" font-size=\"14.00\" fill=\"#000000\">a </text>\n</g>\n<!-- St2&#45;&gt;St6 -->\n<g id=\"edge4\" class=\"edge\">\n<title>St2&#45;&gt;St6</title>\n<path fill=\"none\" stroke=\"#000000\" d=\"M187.5645,-14.4521C178.1409,-9.7223 166.577,-6.042 155.7958,-8.3979 151.9089,-9.2473 147.9507,-10.4967 144.0995,-11.9561\"/>\n<polygon fill=\"#000000\" stroke=\"#000000\" points=\"142.6693,-8.761 134.8481,-15.908 145.4192,-15.1983 142.6693,-8.761\"/>\n<text text-anchor=\"middle\" x=\"160.7958\" y=\"-12.1979\" font-family=\"Times,serif\" font-size=\"14.00\" fill=\"#000000\">c </text>\n</g>\n<!-- St2&#45;&gt;St2 -->\n<g id=\"edge5\" class=\"edge\">\n<title>St2&#45;&gt;St2</title>\n<path fill=\"none\" stroke=\"#000000\" d=\"M198.7393,-49.5452C197.817,-59.8192 200.6352,-68.7958 207.1938,-68.7958 211.3954,-68.7958 214.0619,-65.1118 215.1933,-59.7628\"/>\n<polygon fill=\"#000000\" stroke=\"#000000\" points=\"218.6999,-59.691 215.6482,-49.5452 211.7068,-59.3796 218.6999,-59.691\"/>\n<text text-anchor=\"middle\" x=\"207.1938\" y=\"-72.5958\" font-family=\"Times,serif\" font-size=\"14.00\" fill=\"#000000\">b </text>\n</g>\n<!-- St5 -->\n<g id=\"node4\" class=\"node\">\n<title>St5</title>\n<ellipse fill=\"none\" stroke=\"#000000\" cx=\"305.9896\" cy=\"-27.3979\" rx=\"23.3111\" ry=\"23.3111\"/>\n<ellipse fill=\"none\" stroke=\"#000000\" cx=\"305.9896\" cy=\"-27.3979\" rx=\"27.2962\" ry=\"27.2962\"/>\n<text text-anchor=\"middle\" x=\"305.9896\" y=\"-23.6979\" font-family=\"Times,serif\" font-size=\"14.00\" fill=\"#000000\">St5</text>\n</g>\n<!-- St2&#45;&gt;St5 -->\n<g id=\"edge3\" class=\"edge\">\n<title>St2&#45;&gt;St5</title>\n<path fill=\"none\" stroke=\"#000000\" d=\"M230.607,-27.3979C241.8409,-27.3979 255.5813,-27.3979 268.2395,-27.3979\"/>\n<polygon fill=\"#000000\" stroke=\"#000000\" points=\"268.5392,-30.898 278.5392,-27.3979 268.5392,-23.898 268.5392,-30.898\"/>\n<text text-anchor=\"middle\" x=\"254.5917\" y=\"-31.1979\" font-family=\"Times,serif\" font-size=\"14.00\" fill=\"#000000\">d </text>\n</g>\n</g>\n</svg>\n"
          },
          "metadata": {},
          "execution_count": 10
        }
      ]
    }
  ]
}
